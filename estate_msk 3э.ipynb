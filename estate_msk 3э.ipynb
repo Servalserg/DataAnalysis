{
  "nbformat": 4,
  "nbformat_minor": 0,
  "metadata": {
    "colab": {
      "provenance": []
    },
    "kernelspec": {
      "name": "python3",
      "display_name": "Python 3"
    },
    "language_info": {
      "name": "python"
    }
  },
  "cells": [
    {
      "cell_type": "markdown",
      "source": [
        "# Исследовательский вопрос + данные"
      ],
      "metadata": {
        "id": "qcELvQIfwQ-r"
      }
    },
    {
      "cell_type": "markdown",
      "source": [
        "Исходный набор данных был взят с ресурса [kaggle](https://www.kaggle.com/c/sberbank-russian-housing-market)\n",
        "\n",
        "Данные содержат информацию о стоимости недвижимости в России, а также различных факторах, которые характеризуют эту недвижимость.\n",
        "\n",
        "Всего строк: 996     \n",
        "Всего столбцов: 9\n",
        "\n",
        "Описание столбцов:\n",
        "- id — идентификатор объекта (не участвует в анализе),\n",
        "- timestamp — временная метка (для анализа времени преобразуем в формат даты и времени, чтобы извлечь год, месяц или тренды),\n",
        "- price_sq_m — цена за квадратный метр (числовая, непрерывная переменная),\n",
        "- material_monolit — бинарный признак, указывающий, построено ли здание из монолита (1) или нет (0) (бинарная, категориальная, номинальная переменная),\n",
        "- green_zone_part — доля зеленой зоны в окружающем районе (числовая, непрерывная переменная),\n",
        "- industrial_part — доля промышленных зон (числовая, непрерывная переменная),\n",
        "- ttk_km — расстояние до ТТК (в километрах) (числовая, непрерывная переменная),\n",
        "- trc_count — количество торгово-развлекательных центров поблизости (числовая, дискретная переменная)."
      ],
      "metadata": {
        "id": "-TFsRIRTyEP6"
      }
    },
    {
      "cell_type": "markdown",
      "source": [
        "Исходя из представленный данных сформулируем исследовательский вопрос: *Как различные факторы (доля зеленой зоны, промышленных зон, расстояние до ТТК и количество ТРЦ) влияют на цену за квадратный метр?*"
      ],
      "metadata": {
        "id": "aqCxONkH3Lwv"
      }
    },
    {
      "cell_type": "code",
      "source": [
        "import pandas as pd\n",
        "\n",
        "df = pd.read_csv('data.csv')\n",
        "df.head()"
      ],
      "metadata": {
        "colab": {
          "base_uri": "https://localhost:8080/",
          "height": 226
        },
        "id": "pWxBU6-37tKZ",
        "outputId": "b71ad69a-240c-49f2-dd8f-7f756e726cfb"
      },
      "execution_count": 1,
      "outputs": [
        {
          "output_type": "execute_result",
          "data": {
            "text/plain": [
              "     id  timestamp     price_sq_m  material_monolit  green_zone_part  \\\n",
              "0  8285   6/1/2013  150980.392157                 0         0.083810   \n",
              "1  8394   6/7/2013  200000.000000                 0         0.169625   \n",
              "2  8560  6/18/2013  204225.352113                 0         0.297166   \n",
              "3  8642  6/24/2013  181818.181818                 0         0.069671   \n",
              "4  8814   7/1/2013  196153.846154                 0         0.070662   \n",
              "\n",
              "   industrial_part     ttk_km  trc_count  \n",
              "0         0.371149  12.755092         15  \n",
              "1         0.019509   1.800854         39  \n",
              "2         0.000000   6.828563         24  \n",
              "3         0.130618   6.006677         33  \n",
              "4         0.035145   8.955545         23  "
            ],
            "text/html": [
              "\n",
              "  <div id=\"df-4e0dcc2a-317b-48e8-a515-f8d23d340d7b\" class=\"colab-df-container\">\n",
              "    <div>\n",
              "<style scoped>\n",
              "    .dataframe tbody tr th:only-of-type {\n",
              "        vertical-align: middle;\n",
              "    }\n",
              "\n",
              "    .dataframe tbody tr th {\n",
              "        vertical-align: top;\n",
              "    }\n",
              "\n",
              "    .dataframe thead th {\n",
              "        text-align: right;\n",
              "    }\n",
              "</style>\n",
              "<table border=\"1\" class=\"dataframe\">\n",
              "  <thead>\n",
              "    <tr style=\"text-align: right;\">\n",
              "      <th></th>\n",
              "      <th>id</th>\n",
              "      <th>timestamp</th>\n",
              "      <th>price_sq_m</th>\n",
              "      <th>material_monolit</th>\n",
              "      <th>green_zone_part</th>\n",
              "      <th>industrial_part</th>\n",
              "      <th>ttk_km</th>\n",
              "      <th>trc_count</th>\n",
              "    </tr>\n",
              "  </thead>\n",
              "  <tbody>\n",
              "    <tr>\n",
              "      <th>0</th>\n",
              "      <td>8285</td>\n",
              "      <td>6/1/2013</td>\n",
              "      <td>150980.392157</td>\n",
              "      <td>0</td>\n",
              "      <td>0.083810</td>\n",
              "      <td>0.371149</td>\n",
              "      <td>12.755092</td>\n",
              "      <td>15</td>\n",
              "    </tr>\n",
              "    <tr>\n",
              "      <th>1</th>\n",
              "      <td>8394</td>\n",
              "      <td>6/7/2013</td>\n",
              "      <td>200000.000000</td>\n",
              "      <td>0</td>\n",
              "      <td>0.169625</td>\n",
              "      <td>0.019509</td>\n",
              "      <td>1.800854</td>\n",
              "      <td>39</td>\n",
              "    </tr>\n",
              "    <tr>\n",
              "      <th>2</th>\n",
              "      <td>8560</td>\n",
              "      <td>6/18/2013</td>\n",
              "      <td>204225.352113</td>\n",
              "      <td>0</td>\n",
              "      <td>0.297166</td>\n",
              "      <td>0.000000</td>\n",
              "      <td>6.828563</td>\n",
              "      <td>24</td>\n",
              "    </tr>\n",
              "    <tr>\n",
              "      <th>3</th>\n",
              "      <td>8642</td>\n",
              "      <td>6/24/2013</td>\n",
              "      <td>181818.181818</td>\n",
              "      <td>0</td>\n",
              "      <td>0.069671</td>\n",
              "      <td>0.130618</td>\n",
              "      <td>6.006677</td>\n",
              "      <td>33</td>\n",
              "    </tr>\n",
              "    <tr>\n",
              "      <th>4</th>\n",
              "      <td>8814</td>\n",
              "      <td>7/1/2013</td>\n",
              "      <td>196153.846154</td>\n",
              "      <td>0</td>\n",
              "      <td>0.070662</td>\n",
              "      <td>0.035145</td>\n",
              "      <td>8.955545</td>\n",
              "      <td>23</td>\n",
              "    </tr>\n",
              "  </tbody>\n",
              "</table>\n",
              "</div>\n",
              "    <div class=\"colab-df-buttons\">\n",
              "\n",
              "  <div class=\"colab-df-container\">\n",
              "    <button class=\"colab-df-convert\" onclick=\"convertToInteractive('df-4e0dcc2a-317b-48e8-a515-f8d23d340d7b')\"\n",
              "            title=\"Convert this dataframe to an interactive table.\"\n",
              "            style=\"display:none;\">\n",
              "\n",
              "  <svg xmlns=\"http://www.w3.org/2000/svg\" height=\"24px\" viewBox=\"0 -960 960 960\">\n",
              "    <path d=\"M120-120v-720h720v720H120Zm60-500h600v-160H180v160Zm220 220h160v-160H400v160Zm0 220h160v-160H400v160ZM180-400h160v-160H180v160Zm440 0h160v-160H620v160ZM180-180h160v-160H180v160Zm440 0h160v-160H620v160Z\"/>\n",
              "  </svg>\n",
              "    </button>\n",
              "\n",
              "  <style>\n",
              "    .colab-df-container {\n",
              "      display:flex;\n",
              "      gap: 12px;\n",
              "    }\n",
              "\n",
              "    .colab-df-convert {\n",
              "      background-color: #E8F0FE;\n",
              "      border: none;\n",
              "      border-radius: 50%;\n",
              "      cursor: pointer;\n",
              "      display: none;\n",
              "      fill: #1967D2;\n",
              "      height: 32px;\n",
              "      padding: 0 0 0 0;\n",
              "      width: 32px;\n",
              "    }\n",
              "\n",
              "    .colab-df-convert:hover {\n",
              "      background-color: #E2EBFA;\n",
              "      box-shadow: 0px 1px 2px rgba(60, 64, 67, 0.3), 0px 1px 3px 1px rgba(60, 64, 67, 0.15);\n",
              "      fill: #174EA6;\n",
              "    }\n",
              "\n",
              "    .colab-df-buttons div {\n",
              "      margin-bottom: 4px;\n",
              "    }\n",
              "\n",
              "    [theme=dark] .colab-df-convert {\n",
              "      background-color: #3B4455;\n",
              "      fill: #D2E3FC;\n",
              "    }\n",
              "\n",
              "    [theme=dark] .colab-df-convert:hover {\n",
              "      background-color: #434B5C;\n",
              "      box-shadow: 0px 1px 3px 1px rgba(0, 0, 0, 0.15);\n",
              "      filter: drop-shadow(0px 1px 2px rgba(0, 0, 0, 0.3));\n",
              "      fill: #FFFFFF;\n",
              "    }\n",
              "  </style>\n",
              "\n",
              "    <script>\n",
              "      const buttonEl =\n",
              "        document.querySelector('#df-4e0dcc2a-317b-48e8-a515-f8d23d340d7b button.colab-df-convert');\n",
              "      buttonEl.style.display =\n",
              "        google.colab.kernel.accessAllowed ? 'block' : 'none';\n",
              "\n",
              "      async function convertToInteractive(key) {\n",
              "        const element = document.querySelector('#df-4e0dcc2a-317b-48e8-a515-f8d23d340d7b');\n",
              "        const dataTable =\n",
              "          await google.colab.kernel.invokeFunction('convertToInteractive',\n",
              "                                                    [key], {});\n",
              "        if (!dataTable) return;\n",
              "\n",
              "        const docLinkHtml = 'Like what you see? Visit the ' +\n",
              "          '<a target=\"_blank\" href=https://colab.research.google.com/notebooks/data_table.ipynb>data table notebook</a>'\n",
              "          + ' to learn more about interactive tables.';\n",
              "        element.innerHTML = '';\n",
              "        dataTable['output_type'] = 'display_data';\n",
              "        await google.colab.output.renderOutput(dataTable, element);\n",
              "        const docLink = document.createElement('div');\n",
              "        docLink.innerHTML = docLinkHtml;\n",
              "        element.appendChild(docLink);\n",
              "      }\n",
              "    </script>\n",
              "  </div>\n",
              "\n",
              "\n",
              "<div id=\"df-2481ae8d-3de7-4a9b-9886-0f1e3a4f7dec\">\n",
              "  <button class=\"colab-df-quickchart\" onclick=\"quickchart('df-2481ae8d-3de7-4a9b-9886-0f1e3a4f7dec')\"\n",
              "            title=\"Suggest charts\"\n",
              "            style=\"display:none;\">\n",
              "\n",
              "<svg xmlns=\"http://www.w3.org/2000/svg\" height=\"24px\"viewBox=\"0 0 24 24\"\n",
              "     width=\"24px\">\n",
              "    <g>\n",
              "        <path d=\"M19 3H5c-1.1 0-2 .9-2 2v14c0 1.1.9 2 2 2h14c1.1 0 2-.9 2-2V5c0-1.1-.9-2-2-2zM9 17H7v-7h2v7zm4 0h-2V7h2v10zm4 0h-2v-4h2v4z\"/>\n",
              "    </g>\n",
              "</svg>\n",
              "  </button>\n",
              "\n",
              "<style>\n",
              "  .colab-df-quickchart {\n",
              "      --bg-color: #E8F0FE;\n",
              "      --fill-color: #1967D2;\n",
              "      --hover-bg-color: #E2EBFA;\n",
              "      --hover-fill-color: #174EA6;\n",
              "      --disabled-fill-color: #AAA;\n",
              "      --disabled-bg-color: #DDD;\n",
              "  }\n",
              "\n",
              "  [theme=dark] .colab-df-quickchart {\n",
              "      --bg-color: #3B4455;\n",
              "      --fill-color: #D2E3FC;\n",
              "      --hover-bg-color: #434B5C;\n",
              "      --hover-fill-color: #FFFFFF;\n",
              "      --disabled-bg-color: #3B4455;\n",
              "      --disabled-fill-color: #666;\n",
              "  }\n",
              "\n",
              "  .colab-df-quickchart {\n",
              "    background-color: var(--bg-color);\n",
              "    border: none;\n",
              "    border-radius: 50%;\n",
              "    cursor: pointer;\n",
              "    display: none;\n",
              "    fill: var(--fill-color);\n",
              "    height: 32px;\n",
              "    padding: 0;\n",
              "    width: 32px;\n",
              "  }\n",
              "\n",
              "  .colab-df-quickchart:hover {\n",
              "    background-color: var(--hover-bg-color);\n",
              "    box-shadow: 0 1px 2px rgba(60, 64, 67, 0.3), 0 1px 3px 1px rgba(60, 64, 67, 0.15);\n",
              "    fill: var(--button-hover-fill-color);\n",
              "  }\n",
              "\n",
              "  .colab-df-quickchart-complete:disabled,\n",
              "  .colab-df-quickchart-complete:disabled:hover {\n",
              "    background-color: var(--disabled-bg-color);\n",
              "    fill: var(--disabled-fill-color);\n",
              "    box-shadow: none;\n",
              "  }\n",
              "\n",
              "  .colab-df-spinner {\n",
              "    border: 2px solid var(--fill-color);\n",
              "    border-color: transparent;\n",
              "    border-bottom-color: var(--fill-color);\n",
              "    animation:\n",
              "      spin 1s steps(1) infinite;\n",
              "  }\n",
              "\n",
              "  @keyframes spin {\n",
              "    0% {\n",
              "      border-color: transparent;\n",
              "      border-bottom-color: var(--fill-color);\n",
              "      border-left-color: var(--fill-color);\n",
              "    }\n",
              "    20% {\n",
              "      border-color: transparent;\n",
              "      border-left-color: var(--fill-color);\n",
              "      border-top-color: var(--fill-color);\n",
              "    }\n",
              "    30% {\n",
              "      border-color: transparent;\n",
              "      border-left-color: var(--fill-color);\n",
              "      border-top-color: var(--fill-color);\n",
              "      border-right-color: var(--fill-color);\n",
              "    }\n",
              "    40% {\n",
              "      border-color: transparent;\n",
              "      border-right-color: var(--fill-color);\n",
              "      border-top-color: var(--fill-color);\n",
              "    }\n",
              "    60% {\n",
              "      border-color: transparent;\n",
              "      border-right-color: var(--fill-color);\n",
              "    }\n",
              "    80% {\n",
              "      border-color: transparent;\n",
              "      border-right-color: var(--fill-color);\n",
              "      border-bottom-color: var(--fill-color);\n",
              "    }\n",
              "    90% {\n",
              "      border-color: transparent;\n",
              "      border-bottom-color: var(--fill-color);\n",
              "    }\n",
              "  }\n",
              "</style>\n",
              "\n",
              "  <script>\n",
              "    async function quickchart(key) {\n",
              "      const quickchartButtonEl =\n",
              "        document.querySelector('#' + key + ' button');\n",
              "      quickchartButtonEl.disabled = true;  // To prevent multiple clicks.\n",
              "      quickchartButtonEl.classList.add('colab-df-spinner');\n",
              "      try {\n",
              "        const charts = await google.colab.kernel.invokeFunction(\n",
              "            'suggestCharts', [key], {});\n",
              "      } catch (error) {\n",
              "        console.error('Error during call to suggestCharts:', error);\n",
              "      }\n",
              "      quickchartButtonEl.classList.remove('colab-df-spinner');\n",
              "      quickchartButtonEl.classList.add('colab-df-quickchart-complete');\n",
              "    }\n",
              "    (() => {\n",
              "      let quickchartButtonEl =\n",
              "        document.querySelector('#df-2481ae8d-3de7-4a9b-9886-0f1e3a4f7dec button');\n",
              "      quickchartButtonEl.style.display =\n",
              "        google.colab.kernel.accessAllowed ? 'block' : 'none';\n",
              "    })();\n",
              "  </script>\n",
              "</div>\n",
              "\n",
              "    </div>\n",
              "  </div>\n"
            ],
            "application/vnd.google.colaboratory.intrinsic+json": {
              "type": "dataframe",
              "variable_name": "df",
              "summary": "{\n  \"name\": \"df\",\n  \"rows\": 996,\n  \"fields\": [\n    {\n      \"column\": \"id\",\n      \"properties\": {\n        \"dtype\": \"number\",\n        \"std\": 6073,\n        \"min\": 8285,\n        \"max\": 30462,\n        \"num_unique_values\": 996,\n        \"samples\": [\n          27372,\n          30024,\n          11958\n        ],\n        \"semantic_type\": \"\",\n        \"description\": \"\"\n      }\n    },\n    {\n      \"column\": \"timestamp\",\n      \"properties\": {\n        \"dtype\": \"object\",\n        \"num_unique_values\": 440,\n        \"samples\": [\n          \"9/2/2014\",\n          \"12/9/2013\",\n          \"12/29/2014\"\n        ],\n        \"semantic_type\": \"\",\n        \"description\": \"\"\n      }\n    },\n    {\n      \"column\": \"price_sq_m\",\n      \"properties\": {\n        \"dtype\": \"number\",\n        \"std\": 47098.97948282824,\n        \"min\": 46163.6363636364,\n        \"max\": 435483.870967742,\n        \"num_unique_values\": 829,\n        \"samples\": [\n          179104.47761194,\n          144067.79661017,\n          139726.02739726\n        ],\n        \"semantic_type\": \"\",\n        \"description\": \"\"\n      }\n    },\n    {\n      \"column\": \"material_monolit\",\n      \"properties\": {\n        \"dtype\": \"number\",\n        \"std\": 0,\n        \"min\": 0,\n        \"max\": 1,\n        \"num_unique_values\": 2,\n        \"samples\": [\n          1,\n          0\n        ],\n        \"semantic_type\": \"\",\n        \"description\": \"\"\n      }\n    },\n    {\n      \"column\": \"green_zone_part\",\n      \"properties\": {\n        \"dtype\": \"number\",\n        \"std\": 0.08377933243290389,\n        \"min\": 0.058543047,\n        \"max\": 0.331075802,\n        \"num_unique_values\": 9,\n        \"samples\": [\n          0.331075802,\n          0.169625419\n        ],\n        \"semantic_type\": \"\",\n        \"description\": \"\"\n      }\n    },\n    {\n      \"column\": \"industrial_part\",\n      \"properties\": {\n        \"dtype\": \"number\",\n        \"std\": 0.15099484664509738,\n        \"min\": 0.0,\n        \"max\": 0.371148999,\n        \"num_unique_values\": 9,\n        \"samples\": [\n          0.000991,\n          0.019508796\n        ],\n        \"semantic_type\": \"\",\n        \"description\": \"\"\n      }\n    },\n    {\n      \"column\": \"ttk_km\",\n      \"properties\": {\n        \"dtype\": \"number\",\n        \"std\": 3.7444190306635616,\n        \"min\": 0.110483486,\n        \"max\": 16.28523864,\n        \"num_unique_values\": 572,\n        \"samples\": [\n          4.188863692,\n          7.369948943\n        ],\n        \"semantic_type\": \"\",\n        \"description\": \"\"\n      }\n    },\n    {\n      \"column\": \"trc_count\",\n      \"properties\": {\n        \"dtype\": \"number\",\n        \"std\": 12,\n        \"min\": 7,\n        \"max\": 78,\n        \"num_unique_values\": 56,\n        \"samples\": [\n          15,\n          27\n        ],\n        \"semantic_type\": \"\",\n        \"description\": \"\"\n      }\n    }\n  ]\n}"
            }
          },
          "metadata": {},
          "execution_count": 1
        }
      ]
    },
    {
      "cell_type": "markdown",
      "source": [
        "# Обработка пропусков и выбросов"
      ],
      "metadata": {
        "id": "wOF0twi67a2u"
      }
    },
    {
      "cell_type": "markdown",
      "source": [
        "Преобразуем timestamp в формат даты и времени для корректного дальнейшего анализа и удобства изучения года, месяца и дня в случае необходимости"
      ],
      "metadata": {
        "id": "kWI7ULXm7ezm"
      }
    },
    {
      "cell_type": "code",
      "execution_count": 2,
      "metadata": {
        "id": "M7fllzcbv3--"
      },
      "outputs": [],
      "source": [
        "df['timestamp'] = pd.to_datetime(df['timestamp'])"
      ]
    },
    {
      "cell_type": "code",
      "source": [
        "df.head()"
      ],
      "metadata": {
        "colab": {
          "base_uri": "https://localhost:8080/",
          "height": 226
        },
        "id": "69hh4Ao88H2s",
        "outputId": "64b1f092-fdce-4734-80d4-705afb20167b"
      },
      "execution_count": 3,
      "outputs": [
        {
          "output_type": "execute_result",
          "data": {
            "text/plain": [
              "     id  timestamp     price_sq_m  material_monolit  green_zone_part  \\\n",
              "0  8285 2013-06-01  150980.392157                 0         0.083810   \n",
              "1  8394 2013-06-07  200000.000000                 0         0.169625   \n",
              "2  8560 2013-06-18  204225.352113                 0         0.297166   \n",
              "3  8642 2013-06-24  181818.181818                 0         0.069671   \n",
              "4  8814 2013-07-01  196153.846154                 0         0.070662   \n",
              "\n",
              "   industrial_part     ttk_km  trc_count  \n",
              "0         0.371149  12.755092         15  \n",
              "1         0.019509   1.800854         39  \n",
              "2         0.000000   6.828563         24  \n",
              "3         0.130618   6.006677         33  \n",
              "4         0.035145   8.955545         23  "
            ],
            "text/html": [
              "\n",
              "  <div id=\"df-206820dc-8419-4408-b453-e98fb9efd0f8\" class=\"colab-df-container\">\n",
              "    <div>\n",
              "<style scoped>\n",
              "    .dataframe tbody tr th:only-of-type {\n",
              "        vertical-align: middle;\n",
              "    }\n",
              "\n",
              "    .dataframe tbody tr th {\n",
              "        vertical-align: top;\n",
              "    }\n",
              "\n",
              "    .dataframe thead th {\n",
              "        text-align: right;\n",
              "    }\n",
              "</style>\n",
              "<table border=\"1\" class=\"dataframe\">\n",
              "  <thead>\n",
              "    <tr style=\"text-align: right;\">\n",
              "      <th></th>\n",
              "      <th>id</th>\n",
              "      <th>timestamp</th>\n",
              "      <th>price_sq_m</th>\n",
              "      <th>material_monolit</th>\n",
              "      <th>green_zone_part</th>\n",
              "      <th>industrial_part</th>\n",
              "      <th>ttk_km</th>\n",
              "      <th>trc_count</th>\n",
              "    </tr>\n",
              "  </thead>\n",
              "  <tbody>\n",
              "    <tr>\n",
              "      <th>0</th>\n",
              "      <td>8285</td>\n",
              "      <td>2013-06-01</td>\n",
              "      <td>150980.392157</td>\n",
              "      <td>0</td>\n",
              "      <td>0.083810</td>\n",
              "      <td>0.371149</td>\n",
              "      <td>12.755092</td>\n",
              "      <td>15</td>\n",
              "    </tr>\n",
              "    <tr>\n",
              "      <th>1</th>\n",
              "      <td>8394</td>\n",
              "      <td>2013-06-07</td>\n",
              "      <td>200000.000000</td>\n",
              "      <td>0</td>\n",
              "      <td>0.169625</td>\n",
              "      <td>0.019509</td>\n",
              "      <td>1.800854</td>\n",
              "      <td>39</td>\n",
              "    </tr>\n",
              "    <tr>\n",
              "      <th>2</th>\n",
              "      <td>8560</td>\n",
              "      <td>2013-06-18</td>\n",
              "      <td>204225.352113</td>\n",
              "      <td>0</td>\n",
              "      <td>0.297166</td>\n",
              "      <td>0.000000</td>\n",
              "      <td>6.828563</td>\n",
              "      <td>24</td>\n",
              "    </tr>\n",
              "    <tr>\n",
              "      <th>3</th>\n",
              "      <td>8642</td>\n",
              "      <td>2013-06-24</td>\n",
              "      <td>181818.181818</td>\n",
              "      <td>0</td>\n",
              "      <td>0.069671</td>\n",
              "      <td>0.130618</td>\n",
              "      <td>6.006677</td>\n",
              "      <td>33</td>\n",
              "    </tr>\n",
              "    <tr>\n",
              "      <th>4</th>\n",
              "      <td>8814</td>\n",
              "      <td>2013-07-01</td>\n",
              "      <td>196153.846154</td>\n",
              "      <td>0</td>\n",
              "      <td>0.070662</td>\n",
              "      <td>0.035145</td>\n",
              "      <td>8.955545</td>\n",
              "      <td>23</td>\n",
              "    </tr>\n",
              "  </tbody>\n",
              "</table>\n",
              "</div>\n",
              "    <div class=\"colab-df-buttons\">\n",
              "\n",
              "  <div class=\"colab-df-container\">\n",
              "    <button class=\"colab-df-convert\" onclick=\"convertToInteractive('df-206820dc-8419-4408-b453-e98fb9efd0f8')\"\n",
              "            title=\"Convert this dataframe to an interactive table.\"\n",
              "            style=\"display:none;\">\n",
              "\n",
              "  <svg xmlns=\"http://www.w3.org/2000/svg\" height=\"24px\" viewBox=\"0 -960 960 960\">\n",
              "    <path d=\"M120-120v-720h720v720H120Zm60-500h600v-160H180v160Zm220 220h160v-160H400v160Zm0 220h160v-160H400v160ZM180-400h160v-160H180v160Zm440 0h160v-160H620v160ZM180-180h160v-160H180v160Zm440 0h160v-160H620v160Z\"/>\n",
              "  </svg>\n",
              "    </button>\n",
              "\n",
              "  <style>\n",
              "    .colab-df-container {\n",
              "      display:flex;\n",
              "      gap: 12px;\n",
              "    }\n",
              "\n",
              "    .colab-df-convert {\n",
              "      background-color: #E8F0FE;\n",
              "      border: none;\n",
              "      border-radius: 50%;\n",
              "      cursor: pointer;\n",
              "      display: none;\n",
              "      fill: #1967D2;\n",
              "      height: 32px;\n",
              "      padding: 0 0 0 0;\n",
              "      width: 32px;\n",
              "    }\n",
              "\n",
              "    .colab-df-convert:hover {\n",
              "      background-color: #E2EBFA;\n",
              "      box-shadow: 0px 1px 2px rgba(60, 64, 67, 0.3), 0px 1px 3px 1px rgba(60, 64, 67, 0.15);\n",
              "      fill: #174EA6;\n",
              "    }\n",
              "\n",
              "    .colab-df-buttons div {\n",
              "      margin-bottom: 4px;\n",
              "    }\n",
              "\n",
              "    [theme=dark] .colab-df-convert {\n",
              "      background-color: #3B4455;\n",
              "      fill: #D2E3FC;\n",
              "    }\n",
              "\n",
              "    [theme=dark] .colab-df-convert:hover {\n",
              "      background-color: #434B5C;\n",
              "      box-shadow: 0px 1px 3px 1px rgba(0, 0, 0, 0.15);\n",
              "      filter: drop-shadow(0px 1px 2px rgba(0, 0, 0, 0.3));\n",
              "      fill: #FFFFFF;\n",
              "    }\n",
              "  </style>\n",
              "\n",
              "    <script>\n",
              "      const buttonEl =\n",
              "        document.querySelector('#df-206820dc-8419-4408-b453-e98fb9efd0f8 button.colab-df-convert');\n",
              "      buttonEl.style.display =\n",
              "        google.colab.kernel.accessAllowed ? 'block' : 'none';\n",
              "\n",
              "      async function convertToInteractive(key) {\n",
              "        const element = document.querySelector('#df-206820dc-8419-4408-b453-e98fb9efd0f8');\n",
              "        const dataTable =\n",
              "          await google.colab.kernel.invokeFunction('convertToInteractive',\n",
              "                                                    [key], {});\n",
              "        if (!dataTable) return;\n",
              "\n",
              "        const docLinkHtml = 'Like what you see? Visit the ' +\n",
              "          '<a target=\"_blank\" href=https://colab.research.google.com/notebooks/data_table.ipynb>data table notebook</a>'\n",
              "          + ' to learn more about interactive tables.';\n",
              "        element.innerHTML = '';\n",
              "        dataTable['output_type'] = 'display_data';\n",
              "        await google.colab.output.renderOutput(dataTable, element);\n",
              "        const docLink = document.createElement('div');\n",
              "        docLink.innerHTML = docLinkHtml;\n",
              "        element.appendChild(docLink);\n",
              "      }\n",
              "    </script>\n",
              "  </div>\n",
              "\n",
              "\n",
              "<div id=\"df-e6d9a755-7bcd-4e00-b28f-cd84ae3b5744\">\n",
              "  <button class=\"colab-df-quickchart\" onclick=\"quickchart('df-e6d9a755-7bcd-4e00-b28f-cd84ae3b5744')\"\n",
              "            title=\"Suggest charts\"\n",
              "            style=\"display:none;\">\n",
              "\n",
              "<svg xmlns=\"http://www.w3.org/2000/svg\" height=\"24px\"viewBox=\"0 0 24 24\"\n",
              "     width=\"24px\">\n",
              "    <g>\n",
              "        <path d=\"M19 3H5c-1.1 0-2 .9-2 2v14c0 1.1.9 2 2 2h14c1.1 0 2-.9 2-2V5c0-1.1-.9-2-2-2zM9 17H7v-7h2v7zm4 0h-2V7h2v10zm4 0h-2v-4h2v4z\"/>\n",
              "    </g>\n",
              "</svg>\n",
              "  </button>\n",
              "\n",
              "<style>\n",
              "  .colab-df-quickchart {\n",
              "      --bg-color: #E8F0FE;\n",
              "      --fill-color: #1967D2;\n",
              "      --hover-bg-color: #E2EBFA;\n",
              "      --hover-fill-color: #174EA6;\n",
              "      --disabled-fill-color: #AAA;\n",
              "      --disabled-bg-color: #DDD;\n",
              "  }\n",
              "\n",
              "  [theme=dark] .colab-df-quickchart {\n",
              "      --bg-color: #3B4455;\n",
              "      --fill-color: #D2E3FC;\n",
              "      --hover-bg-color: #434B5C;\n",
              "      --hover-fill-color: #FFFFFF;\n",
              "      --disabled-bg-color: #3B4455;\n",
              "      --disabled-fill-color: #666;\n",
              "  }\n",
              "\n",
              "  .colab-df-quickchart {\n",
              "    background-color: var(--bg-color);\n",
              "    border: none;\n",
              "    border-radius: 50%;\n",
              "    cursor: pointer;\n",
              "    display: none;\n",
              "    fill: var(--fill-color);\n",
              "    height: 32px;\n",
              "    padding: 0;\n",
              "    width: 32px;\n",
              "  }\n",
              "\n",
              "  .colab-df-quickchart:hover {\n",
              "    background-color: var(--hover-bg-color);\n",
              "    box-shadow: 0 1px 2px rgba(60, 64, 67, 0.3), 0 1px 3px 1px rgba(60, 64, 67, 0.15);\n",
              "    fill: var(--button-hover-fill-color);\n",
              "  }\n",
              "\n",
              "  .colab-df-quickchart-complete:disabled,\n",
              "  .colab-df-quickchart-complete:disabled:hover {\n",
              "    background-color: var(--disabled-bg-color);\n",
              "    fill: var(--disabled-fill-color);\n",
              "    box-shadow: none;\n",
              "  }\n",
              "\n",
              "  .colab-df-spinner {\n",
              "    border: 2px solid var(--fill-color);\n",
              "    border-color: transparent;\n",
              "    border-bottom-color: var(--fill-color);\n",
              "    animation:\n",
              "      spin 1s steps(1) infinite;\n",
              "  }\n",
              "\n",
              "  @keyframes spin {\n",
              "    0% {\n",
              "      border-color: transparent;\n",
              "      border-bottom-color: var(--fill-color);\n",
              "      border-left-color: var(--fill-color);\n",
              "    }\n",
              "    20% {\n",
              "      border-color: transparent;\n",
              "      border-left-color: var(--fill-color);\n",
              "      border-top-color: var(--fill-color);\n",
              "    }\n",
              "    30% {\n",
              "      border-color: transparent;\n",
              "      border-left-color: var(--fill-color);\n",
              "      border-top-color: var(--fill-color);\n",
              "      border-right-color: var(--fill-color);\n",
              "    }\n",
              "    40% {\n",
              "      border-color: transparent;\n",
              "      border-right-color: var(--fill-color);\n",
              "      border-top-color: var(--fill-color);\n",
              "    }\n",
              "    60% {\n",
              "      border-color: transparent;\n",
              "      border-right-color: var(--fill-color);\n",
              "    }\n",
              "    80% {\n",
              "      border-color: transparent;\n",
              "      border-right-color: var(--fill-color);\n",
              "      border-bottom-color: var(--fill-color);\n",
              "    }\n",
              "    90% {\n",
              "      border-color: transparent;\n",
              "      border-bottom-color: var(--fill-color);\n",
              "    }\n",
              "  }\n",
              "</style>\n",
              "\n",
              "  <script>\n",
              "    async function quickchart(key) {\n",
              "      const quickchartButtonEl =\n",
              "        document.querySelector('#' + key + ' button');\n",
              "      quickchartButtonEl.disabled = true;  // To prevent multiple clicks.\n",
              "      quickchartButtonEl.classList.add('colab-df-spinner');\n",
              "      try {\n",
              "        const charts = await google.colab.kernel.invokeFunction(\n",
              "            'suggestCharts', [key], {});\n",
              "      } catch (error) {\n",
              "        console.error('Error during call to suggestCharts:', error);\n",
              "      }\n",
              "      quickchartButtonEl.classList.remove('colab-df-spinner');\n",
              "      quickchartButtonEl.classList.add('colab-df-quickchart-complete');\n",
              "    }\n",
              "    (() => {\n",
              "      let quickchartButtonEl =\n",
              "        document.querySelector('#df-e6d9a755-7bcd-4e00-b28f-cd84ae3b5744 button');\n",
              "      quickchartButtonEl.style.display =\n",
              "        google.colab.kernel.accessAllowed ? 'block' : 'none';\n",
              "    })();\n",
              "  </script>\n",
              "</div>\n",
              "\n",
              "    </div>\n",
              "  </div>\n"
            ],
            "application/vnd.google.colaboratory.intrinsic+json": {
              "type": "dataframe",
              "variable_name": "df",
              "summary": "{\n  \"name\": \"df\",\n  \"rows\": 996,\n  \"fields\": [\n    {\n      \"column\": \"id\",\n      \"properties\": {\n        \"dtype\": \"number\",\n        \"std\": 6073,\n        \"min\": 8285,\n        \"max\": 30462,\n        \"num_unique_values\": 996,\n        \"samples\": [\n          27372,\n          30024,\n          11958\n        ],\n        \"semantic_type\": \"\",\n        \"description\": \"\"\n      }\n    },\n    {\n      \"column\": \"timestamp\",\n      \"properties\": {\n        \"dtype\": \"date\",\n        \"min\": \"2013-06-01 00:00:00\",\n        \"max\": \"2015-06-29 00:00:00\",\n        \"num_unique_values\": 440,\n        \"samples\": [\n          \"2014-09-02 00:00:00\",\n          \"2013-12-09 00:00:00\",\n          \"2014-12-29 00:00:00\"\n        ],\n        \"semantic_type\": \"\",\n        \"description\": \"\"\n      }\n    },\n    {\n      \"column\": \"price_sq_m\",\n      \"properties\": {\n        \"dtype\": \"number\",\n        \"std\": 47098.97948282824,\n        \"min\": 46163.6363636364,\n        \"max\": 435483.870967742,\n        \"num_unique_values\": 829,\n        \"samples\": [\n          179104.47761194,\n          144067.79661017,\n          139726.02739726\n        ],\n        \"semantic_type\": \"\",\n        \"description\": \"\"\n      }\n    },\n    {\n      \"column\": \"material_monolit\",\n      \"properties\": {\n        \"dtype\": \"number\",\n        \"std\": 0,\n        \"min\": 0,\n        \"max\": 1,\n        \"num_unique_values\": 2,\n        \"samples\": [\n          1,\n          0\n        ],\n        \"semantic_type\": \"\",\n        \"description\": \"\"\n      }\n    },\n    {\n      \"column\": \"green_zone_part\",\n      \"properties\": {\n        \"dtype\": \"number\",\n        \"std\": 0.08377933243290389,\n        \"min\": 0.058543047,\n        \"max\": 0.331075802,\n        \"num_unique_values\": 9,\n        \"samples\": [\n          0.331075802,\n          0.169625419\n        ],\n        \"semantic_type\": \"\",\n        \"description\": \"\"\n      }\n    },\n    {\n      \"column\": \"industrial_part\",\n      \"properties\": {\n        \"dtype\": \"number\",\n        \"std\": 0.15099484664509738,\n        \"min\": 0.0,\n        \"max\": 0.371148999,\n        \"num_unique_values\": 9,\n        \"samples\": [\n          0.000991,\n          0.019508796\n        ],\n        \"semantic_type\": \"\",\n        \"description\": \"\"\n      }\n    },\n    {\n      \"column\": \"ttk_km\",\n      \"properties\": {\n        \"dtype\": \"number\",\n        \"std\": 3.7444190306635616,\n        \"min\": 0.110483486,\n        \"max\": 16.28523864,\n        \"num_unique_values\": 572,\n        \"samples\": [\n          4.188863692,\n          7.369948943\n        ],\n        \"semantic_type\": \"\",\n        \"description\": \"\"\n      }\n    },\n    {\n      \"column\": \"trc_count\",\n      \"properties\": {\n        \"dtype\": \"number\",\n        \"std\": 12,\n        \"min\": 7,\n        \"max\": 78,\n        \"num_unique_values\": 56,\n        \"samples\": [\n          15,\n          27\n        ],\n        \"semantic_type\": \"\",\n        \"description\": \"\"\n      }\n    }\n  ]\n}"
            }
          },
          "metadata": {},
          "execution_count": 3
        }
      ]
    },
    {
      "cell_type": "markdown",
      "source": [
        "Посмотрим на количество пропусков в данных"
      ],
      "metadata": {
        "id": "3ZCc4tSx8Q2Z"
      }
    },
    {
      "cell_type": "code",
      "source": [
        "for i in df.columns:\n",
        "  print(f'В столбце {i} - {df[i].isna().sum()} пропусков')"
      ],
      "metadata": {
        "colab": {
          "base_uri": "https://localhost:8080/"
        },
        "id": "RLbvLb648I38",
        "outputId": "0092d25d-eb68-44c2-cc2e-20c2c5ff0c36"
      },
      "execution_count": 4,
      "outputs": [
        {
          "output_type": "stream",
          "name": "stdout",
          "text": [
            "В столбце id - 0 пропусков\n",
            "В столбце timestamp - 0 пропусков\n",
            "В столбце price_sq_m - 0 пропусков\n",
            "В столбце material_monolit - 0 пропусков\n",
            "В столбце green_zone_part - 0 пропусков\n",
            "В столбце industrial_part - 0 пропусков\n",
            "В столбце ttk_km - 0 пропусков\n",
            "В столбце trc_count - 0 пропусков\n"
          ]
        }
      ]
    },
    {
      "cell_type": "markdown",
      "source": [
        "Наблюдаем, что в исходном наборе данных отсутствуют пропуски    \n",
        "Если бы пропуски в данных присутствовали, то их дальнейшая обработка зависела бы от их количества. Если пропусков мало (менее 5%), то их можно просто удалить, так как их исключение не внесет большой вклад в изменение основных описательных статистик (`df[df['column_name'].notna()`). Если пропусков много, то будем их заменять на среднее / медиану в заивисмости от их распределения (`df['column_name'].fillna(df['column_name'].mean(), inplace=True)`)"
      ],
      "metadata": {
        "id": "BkDr3JaM8fQl"
      }
    },
    {
      "cell_type": "markdown",
      "source": [
        "Построим боксплоты для тех признаков, по которым логично искать выбросы, а именно:\n",
        "- price_sq_m\n",
        "- green_zone_part\n",
        "- industrial_part\n",
        "- ttk_km\n",
        "- trc_count"
      ],
      "metadata": {
        "id": "kx6CN0Eq8jLw"
      }
    },
    {
      "cell_type": "code",
      "source": [
        "df['price_sq_m'].plot(kind='box')"
      ],
      "metadata": {
        "colab": {
          "base_uri": "https://localhost:8080/",
          "height": 469
        },
        "id": "wEsrzHcm8eU2",
        "outputId": "38ce6050-7786-4995-ef80-adeb1a35e391"
      },
      "execution_count": 5,
      "outputs": [
        {
          "output_type": "execute_result",
          "data": {
            "text/plain": [
              "<Axes: >"
            ]
          },
          "metadata": {},
          "execution_count": 5
        },
        {
          "output_type": "display_data",
          "data": {
            "text/plain": [
              "<Figure size 640x480 with 1 Axes>"
            ],
            "image/png": "[encoded data removed]"
          },
          "metadata": {}
        }
      ]
    },
    {
      "cell_type": "code",
      "source": [
        "df['green_zone_part'].plot(kind='box')"
      ],
      "metadata": {
        "colab": {
          "base_uri": "https://localhost:8080/",
          "height": 468
        },
        "id": "aD7llrfm-Sbw",
        "outputId": "dd87d34f-7c41-4ccc-a317-5c0cc4a916d5"
      },
      "execution_count": 6,
      "outputs": [
        {
          "output_type": "execute_result",
          "data": {
            "text/plain": [
              "<Axes: >"
            ]
          },
          "metadata": {},
          "execution_count": 6
        },
        {
          "output_type": "display_data",
          "data": {
            "text/plain": [
              "<Figure size 640x480 with 1 Axes>"
            ],
            "image/png": "[encoded data removed]"
          },
          "metadata": {}
        }
      ]
    },
    {
      "cell_type": "code",
      "source": [
        "df['industrial_part'].plot(kind='box')"
      ],
      "metadata": {
        "colab": {
          "base_uri": "https://localhost:8080/",
          "height": 468
        },
        "id": "d_lpdCDN-amf",
        "outputId": "a97f376a-4b1b-43a7-b242-2038f29f46d1"
      },
      "execution_count": 7,
      "outputs": [
        {
          "output_type": "execute_result",
          "data": {
            "text/plain": [
              "<Axes: >"
            ]
          },
          "metadata": {},
          "execution_count": 7
        },
        {
          "output_type": "display_data",
          "data": {
            "text/plain": [
              "<Figure size 640x480 with 1 Axes>"
            ],
            "image/png": "[encoded data removed]"
          },
          "metadata": {}
        }
      ]
    },
    {
      "cell_type": "code",
      "source": [
        "df['ttk_km'].plot(kind='box')"
      ],
      "metadata": {
        "colab": {
          "base_uri": "https://localhost:8080/",
          "height": 468
        },
        "id": "uAShO_Vz-eSL",
        "outputId": "e70a651a-905d-4509-9b14-849045db4dca"
      },
      "execution_count": 8,
      "outputs": [
        {
          "output_type": "execute_result",
          "data": {
            "text/plain": [
              "<Axes: >"
            ]
          },
          "metadata": {},
          "execution_count": 8
        },
        {
          "output_type": "display_data",
          "data": {
            "text/plain": [
              "<Figure size 640x480 with 1 Axes>"
            ],
            "image/png": "[encoded data removed]"
          },
          "metadata": {}
        }
      ]
    },
    {
      "cell_type": "code",
      "source": [
        "df['trc_count'].plot(kind='box')"
      ],
      "metadata": {
        "colab": {
          "base_uri": "https://localhost:8080/",
          "height": 468
        },
        "id": "LFhiCbH6-eBd",
        "outputId": "837ec7df-4f66-484f-d23f-b11771bea5ea"
      },
      "execution_count": 9,
      "outputs": [
        {
          "output_type": "execute_result",
          "data": {
            "text/plain": [
              "<Axes: >"
            ]
          },
          "metadata": {},
          "execution_count": 9
        },
        {
          "output_type": "display_data",
          "data": {
            "text/plain": [
              "<Figure size 640x480 with 1 Axes>"
            ],
            "image/png": "[encoded data removed]"
          },
          "metadata": {}
        }
      ]
    },
    {
      "cell_type": "markdown",
      "source": [
        "Наблюдаем, что выбросы есть в переменных: price_sq_m, green_zone_part, trc_count\n",
        "\n",
        "Вычислим их количество при помощи IQR"
      ],
      "metadata": {
        "id": "8WlrOsGh-o58"
      }
    },
    {
      "cell_type": "code",
      "source": [
        "q1 = df['price_sq_m'].quantile(0.25)\n",
        "q3 = df['price_sq_m'].quantile(0.75)\n",
        "\n",
        "iqr = q3 - q1\n",
        "\n",
        "df[(df['price_sq_m'] > q3 + 1.5*iqr) | (df['price_sq_m'] < q1 - 1.5*iqr)].shape[0]"
      ],
      "metadata": {
        "colab": {
          "base_uri": "https://localhost:8080/"
        },
        "id": "7rVlHBu--lSk",
        "outputId": "bf20859b-696b-4b12-cde6-a485f5d21a33"
      },
      "execution_count": 10,
      "outputs": [
        {
          "output_type": "execute_result",
          "data": {
            "text/plain": [
              "6"
            ]
          },
          "metadata": {},
          "execution_count": 10
        }
      ]
    },
    {
      "cell_type": "code",
      "source": [
        "q1 = df['green_zone_part'].quantile(0.25)\n",
        "q3 = df['green_zone_part'].quantile(0.75)\n",
        "\n",
        "iqr = q3 - q1\n",
        "\n",
        "df[(df['green_zone_part'] > q3 + 1.5*iqr) | (df['green_zone_part'] < q1 - 1.5*iqr)].shape[0]"
      ],
      "metadata": {
        "colab": {
          "base_uri": "https://localhost:8080/"
        },
        "id": "1M4ReWRg_IYP",
        "outputId": "90218cf3-7bed-4fc5-def6-ecd981e484d0"
      },
      "execution_count": 11,
      "outputs": [
        {
          "output_type": "execute_result",
          "data": {
            "text/plain": [
              "78"
            ]
          },
          "metadata": {},
          "execution_count": 11
        }
      ]
    },
    {
      "cell_type": "code",
      "source": [
        "q1 = df['trc_count'].quantile(0.25)\n",
        "q3 = df['trc_count'].quantile(0.75)\n",
        "\n",
        "iqr = q3 - q1\n",
        "\n",
        "df[(df['trc_count'] > q3 + 1.5*iqr) | (df['trc_count'] < q1 - 1.5*iqr)].shape[0]"
      ],
      "metadata": {
        "colab": {
          "base_uri": "https://localhost:8080/"
        },
        "id": "zSWT1iLY_P9r",
        "outputId": "a65d111f-6cbf-47fb-d101-4a048e309f7c"
      },
      "execution_count": 12,
      "outputs": [
        {
          "output_type": "execute_result",
          "data": {
            "text/plain": [
              "12"
            ]
          },
          "metadata": {},
          "execution_count": 12
        }
      ]
    },
    {
      "cell_type": "markdown",
      "source": [
        "Удалим все выбросы в данных"
      ],
      "metadata": {
        "id": "_2LUJpy3_S_W"
      }
    },
    {
      "cell_type": "code",
      "source": [
        "q1 = df['price_sq_m'].quantile(0.25)\n",
        "q3 = df['price_sq_m'].quantile(0.75)\n",
        "\n",
        "iqr = q3 - q1\n",
        "\n",
        "df = df[(df['price_sq_m'] <= q3 + 1.5*iqr) & (df['price_sq_m'] >= q1 - 1.5*iqr)]"
      ],
      "metadata": {
        "id": "y4Z5vj1G_NHH"
      },
      "execution_count": 13,
      "outputs": []
    },
    {
      "cell_type": "code",
      "source": [
        "q1 = df['green_zone_part'].quantile(0.25)\n",
        "q3 = df['green_zone_part'].quantile(0.75)\n",
        "\n",
        "iqr = q3 - q1\n",
        "\n",
        "df = df[(df['green_zone_part'] <= q3 + 1.5*iqr) & (df['green_zone_part'] >= q1 - 1.5*iqr)]"
      ],
      "metadata": {
        "id": "qNFAtL1B_s9h"
      },
      "execution_count": 14,
      "outputs": []
    },
    {
      "cell_type": "code",
      "source": [
        "q1 = df['trc_count'].quantile(0.25)\n",
        "q3 = df['trc_count'].quantile(0.75)\n",
        "\n",
        "iqr = q3 - q1\n",
        "\n",
        "df = df[(df['trc_count'] <= q3 + 1.5*iqr) & (df['trc_count'] >= q1 - 1.5*iqr)]"
      ],
      "metadata": {
        "id": "d1ka-O41_yk5"
      },
      "execution_count": 15,
      "outputs": []
    },
    {
      "cell_type": "markdown",
      "source": [
        "Убедимся, что выбросы пропали"
      ],
      "metadata": {
        "id": "mITt_WGX_6R1"
      }
    },
    {
      "cell_type": "code",
      "source": [
        "for i in ['price_sq_m', 'green_zone_part', 'trc_count']:\n",
        "  q1 = df[i].quantile(0.25)\n",
        "  q3 = df[i].quantile(0.75)\n",
        "\n",
        "  iqr = q3 - q1\n",
        "\n",
        "  print(f'Столбец: {i}. Пропусков: {df[(df[i] > q3 + 1.5*iqr) | (df[i] < q1 - 1.5*iqr)].shape[0]}')"
      ],
      "metadata": {
        "colab": {
          "base_uri": "https://localhost:8080/"
        },
        "id": "mfx6_WFY_3wL",
        "outputId": "7ea04fe6-e57d-408d-bd50-84c6e645a272"
      },
      "execution_count": 16,
      "outputs": [
        {
          "output_type": "stream",
          "name": "stdout",
          "text": [
            "Столбец: price_sq_m. Пропусков: 0\n",
            "Столбец: green_zone_part. Пропусков: 0\n",
            "Столбец: trc_count. Пропусков: 0\n"
          ]
        }
      ]
    },
    {
      "cell_type": "markdown",
      "source": [
        "# Описательные статистики"
      ],
      "metadata": {
        "id": "ixXkfPkLAamZ"
      }
    },
    {
      "cell_type": "markdown",
      "source": [
        "Перед рассчетом статистик разделим дату на год, месяц, день для вычисления мод в соответствующих категориях (по месяцу и году)"
      ],
      "metadata": {
        "id": "d0_mUDiKAetH"
      }
    },
    {
      "cell_type": "code",
      "source": [
        "df['year'] = df['timestamp'].dt.year\n",
        "df['month'] = df['timestamp'].dt.month\n",
        "df['day'] = df['timestamp'].dt.day\n",
        "df.head()"
      ],
      "metadata": {
        "colab": {
          "base_uri": "https://localhost:8080/",
          "height": 226
        },
        "id": "WGjq5e9oARDF",
        "outputId": "354cb8c5-cdb9-40dc-9fe2-9f1787571f09"
      },
      "execution_count": 17,
      "outputs": [
        {
          "output_type": "execute_result",
          "data": {
            "text/plain": [
              "     id  timestamp     price_sq_m  material_monolit  green_zone_part  \\\n",
              "0  8285 2013-06-01  150980.392157                 0         0.083810   \n",
              "1  8394 2013-06-07  200000.000000                 0         0.169625   \n",
              "2  8560 2013-06-18  204225.352113                 0         0.297166   \n",
              "3  8642 2013-06-24  181818.181818                 0         0.069671   \n",
              "4  8814 2013-07-01  196153.846154                 0         0.070662   \n",
              "\n",
              "   industrial_part     ttk_km  trc_count  year  month  day  \n",
              "0         0.371149  12.755092         15  2013      6    1  \n",
              "1         0.019509   1.800854         39  2013      6    7  \n",
              "2         0.000000   6.828563         24  2013      6   18  \n",
              "3         0.130618   6.006677         33  2013      6   24  \n",
              "4         0.035145   8.955545         23  2013      7    1  "
            ],
            "text/html": [
              "\n",
              "  <div id=\"df-cc81871d-1a6e-4a8e-b3ae-06caf77dc228\" class=\"colab-df-container\">\n",
              "    <div>\n",
              "<style scoped>\n",
              "    .dataframe tbody tr th:only-of-type {\n",
              "        vertical-align: middle;\n",
              "    }\n",
              "\n",
              "    .dataframe tbody tr th {\n",
              "        vertical-align: top;\n",
              "    }\n",
              "\n",
              "    .dataframe thead th {\n",
              "        text-align: right;\n",
              "    }\n",
              "</style>\n",
              "<table border=\"1\" class=\"dataframe\">\n",
              "  <thead>\n",
              "    <tr style=\"text-align: right;\">\n",
              "      <th></th>\n",
              "      <th>id</th>\n",
              "      <th>timestamp</th>\n",
              "      <th>price_sq_m</th>\n",
              "      <th>material_monolit</th>\n",
              "      <th>green_zone_part</th>\n",
              "      <th>industrial_part</th>\n",
              "      <th>ttk_km</th>\n",
              "      <th>trc_count</th>\n",
              "      <th>year</th>\n",
              "      <th>month</th>\n",
              "      <th>day</th>\n",
              "    </tr>\n",
              "  </thead>\n",
              "  <tbody>\n",
              "    <tr>\n",
              "      <th>0</th>\n",
              "      <td>8285</td>\n",
              "      <td>2013-06-01</td>\n",
              "      <td>150980.392157</td>\n",
              "      <td>0</td>\n",
              "      <td>0.083810</td>\n",
              "      <td>0.371149</td>\n",
              "      <td>12.755092</td>\n",
              "      <td>15</td>\n",
              "      <td>2013</td>\n",
              "      <td>6</td>\n",
              "      <td>1</td>\n",
              "    </tr>\n",
              "    <tr>\n",
              "      <th>1</th>\n",
              "      <td>8394</td>\n",
              "      <td>2013-06-07</td>\n",
              "      <td>200000.000000</td>\n",
              "      <td>0</td>\n",
              "      <td>0.169625</td>\n",
              "      <td>0.019509</td>\n",
              "      <td>1.800854</td>\n",
              "      <td>39</td>\n",
              "      <td>2013</td>\n",
              "      <td>6</td>\n",
              "      <td>7</td>\n",
              "    </tr>\n",
              "    <tr>\n",
              "      <th>2</th>\n",
              "      <td>8560</td>\n",
              "      <td>2013-06-18</td>\n",
              "      <td>204225.352113</td>\n",
              "      <td>0</td>\n",
              "      <td>0.297166</td>\n",
              "      <td>0.000000</td>\n",
              "      <td>6.828563</td>\n",
              "      <td>24</td>\n",
              "      <td>2013</td>\n",
              "      <td>6</td>\n",
              "      <td>18</td>\n",
              "    </tr>\n",
              "    <tr>\n",
              "      <th>3</th>\n",
              "      <td>8642</td>\n",
              "      <td>2013-06-24</td>\n",
              "      <td>181818.181818</td>\n",
              "      <td>0</td>\n",
              "      <td>0.069671</td>\n",
              "      <td>0.130618</td>\n",
              "      <td>6.006677</td>\n",
              "      <td>33</td>\n",
              "      <td>2013</td>\n",
              "      <td>6</td>\n",
              "      <td>24</td>\n",
              "    </tr>\n",
              "    <tr>\n",
              "      <th>4</th>\n",
              "      <td>8814</td>\n",
              "      <td>2013-07-01</td>\n",
              "      <td>196153.846154</td>\n",
              "      <td>0</td>\n",
              "      <td>0.070662</td>\n",
              "      <td>0.035145</td>\n",
              "      <td>8.955545</td>\n",
              "      <td>23</td>\n",
              "      <td>2013</td>\n",
              "      <td>7</td>\n",
              "      <td>1</td>\n",
              "    </tr>\n",
              "  </tbody>\n",
              "</table>\n",
              "</div>\n",
              "    <div class=\"colab-df-buttons\">\n",
              "\n",
              "  <div class=\"colab-df-container\">\n",
              "    <button class=\"colab-df-convert\" onclick=\"convertToInteractive('df-cc81871d-1a6e-4a8e-b3ae-06caf77dc228')\"\n",
              "            title=\"Convert this dataframe to an interactive table.\"\n",
              "            style=\"display:none;\">\n",
              "\n",
              "  <svg xmlns=\"http://www.w3.org/2000/svg\" height=\"24px\" viewBox=\"0 -960 960 960\">\n",
              "    <path d=\"M120-120v-720h720v720H120Zm60-500h600v-160H180v160Zm220 220h160v-160H400v160Zm0 220h160v-160H400v160ZM180-400h160v-160H180v160Zm440 0h160v-160H620v160ZM180-180h160v-160H180v160Zm440 0h160v-160H620v160Z\"/>\n",
              "  </svg>\n",
              "    </button>\n",
              "\n",
              "  <style>\n",
              "    .colab-df-container {\n",
              "      display:flex;\n",
              "      gap: 12px;\n",
              "    }\n",
              "\n",
              "    .colab-df-convert {\n",
              "      background-color: #E8F0FE;\n",
              "      border: none;\n",
              "      border-radius: 50%;\n",
              "      cursor: pointer;\n",
              "      display: none;\n",
              "      fill: #1967D2;\n",
              "      height: 32px;\n",
              "      padding: 0 0 0 0;\n",
              "      width: 32px;\n",
              "    }\n",
              "\n",
              "    .colab-df-convert:hover {\n",
              "      background-color: #E2EBFA;\n",
              "      box-shadow: 0px 1px 2px rgba(60, 64, 67, 0.3), 0px 1px 3px 1px rgba(60, 64, 67, 0.15);\n",
              "      fill: #174EA6;\n",
              "    }\n",
              "\n",
              "    .colab-df-buttons div {\n",
              "      margin-bottom: 4px;\n",
              "    }\n",
              "\n",
              "    [theme=dark] .colab-df-convert {\n",
              "      background-color: #3B4455;\n",
              "      fill: #D2E3FC;\n",
              "    }\n",
              "\n",
              "    [theme=dark] .colab-df-convert:hover {\n",
              "      background-color: #434B5C;\n",
              "      box-shadow: 0px 1px 3px 1px rgba(0, 0, 0, 0.15);\n",
              "      filter: drop-shadow(0px 1px 2px rgba(0, 0, 0, 0.3));\n",
              "      fill: #FFFFFF;\n",
              "    }\n",
              "  </style>\n",
              "\n",
              "    <script>\n",
              "      const buttonEl =\n",
              "        document.querySelector('#df-cc81871d-1a6e-4a8e-b3ae-06caf77dc228 button.colab-df-convert');\n",
              "      buttonEl.style.display =\n",
              "        google.colab.kernel.accessAllowed ? 'block' : 'none';\n",
              "\n",
              "      async function convertToInteractive(key) {\n",
              "        const element = document.querySelector('#df-cc81871d-1a6e-4a8e-b3ae-06caf77dc228');\n",
              "        const dataTable =\n",
              "          await google.colab.kernel.invokeFunction('convertToInteractive',\n",
              "                                                    [key], {});\n",
              "        if (!dataTable) return;\n",
              "\n",
              "        const docLinkHtml = 'Like what you see? Visit the ' +\n",
              "          '<a target=\"_blank\" href=https://colab.research.google.com/notebooks/data_table.ipynb>data table notebook</a>'\n",
              "          + ' to learn more about interactive tables.';\n",
              "        element.innerHTML = '';\n",
              "        dataTable['output_type'] = 'display_data';\n",
              "        await google.colab.output.renderOutput(dataTable, element);\n",
              "        const docLink = document.createElement('div');\n",
              "        docLink.innerHTML = docLinkHtml;\n",
              "        element.appendChild(docLink);\n",
              "      }\n",
              "    </script>\n",
              "  </div>\n",
              "\n",
              "\n",
              "<div id=\"df-61330926-7b42-4983-ba56-082b0cff2a33\">\n",
              "  <button class=\"colab-df-quickchart\" onclick=\"quickchart('df-61330926-7b42-4983-ba56-082b0cff2a33')\"\n",
              "            title=\"Suggest charts\"\n",
              "            style=\"display:none;\">\n",
              "\n",
              "<svg xmlns=\"http://www.w3.org/2000/svg\" height=\"24px\"viewBox=\"0 0 24 24\"\n",
              "     width=\"24px\">\n",
              "    <g>\n",
              "        <path d=\"M19 3H5c-1.1 0-2 .9-2 2v14c0 1.1.9 2 2 2h14c1.1 0 2-.9 2-2V5c0-1.1-.9-2-2-2zM9 17H7v-7h2v7zm4 0h-2V7h2v10zm4 0h-2v-4h2v4z\"/>\n",
              "    </g>\n",
              "</svg>\n",
              "  </button>\n",
              "\n",
              "<style>\n",
              "  .colab-df-quickchart {\n",
              "      --bg-color: #E8F0FE;\n",
              "      --fill-color: #1967D2;\n",
              "      --hover-bg-color: #E2EBFA;\n",
              "      --hover-fill-color: #174EA6;\n",
              "      --disabled-fill-color: #AAA;\n",
              "      --disabled-bg-color: #DDD;\n",
              "  }\n",
              "\n",
              "  [theme=dark] .colab-df-quickchart {\n",
              "      --bg-color: #3B4455;\n",
              "      --fill-color: #D2E3FC;\n",
              "      --hover-bg-color: #434B5C;\n",
              "      --hover-fill-color: #FFFFFF;\n",
              "      --disabled-bg-color: #3B4455;\n",
              "      --disabled-fill-color: #666;\n",
              "  }\n",
              "\n",
              "  .colab-df-quickchart {\n",
              "    background-color: var(--bg-color);\n",
              "    border: none;\n",
              "    border-radius: 50%;\n",
              "    cursor: pointer;\n",
              "    display: none;\n",
              "    fill: var(--fill-color);\n",
              "    height: 32px;\n",
              "    padding: 0;\n",
              "    width: 32px;\n",
              "  }\n",
              "\n",
              "  .colab-df-quickchart:hover {\n",
              "    background-color: var(--hover-bg-color);\n",
              "    box-shadow: 0 1px 2px rgba(60, 64, 67, 0.3), 0 1px 3px 1px rgba(60, 64, 67, 0.15);\n",
              "    fill: var(--button-hover-fill-color);\n",
              "  }\n",
              "\n",
              "  .colab-df-quickchart-complete:disabled,\n",
              "  .colab-df-quickchart-complete:disabled:hover {\n",
              "    background-color: var(--disabled-bg-color);\n",
              "    fill: var(--disabled-fill-color);\n",
              "    box-shadow: none;\n",
              "  }\n",
              "\n",
              "  .colab-df-spinner {\n",
              "    border: 2px solid var(--fill-color);\n",
              "    border-color: transparent;\n",
              "    border-bottom-color: var(--fill-color);\n",
              "    animation:\n",
              "      spin 1s steps(1) infinite;\n",
              "  }\n",
              "\n",
              "  @keyframes spin {\n",
              "    0% {\n",
              "      border-color: transparent;\n",
              "      border-bottom-color: var(--fill-color);\n",
              "      border-left-color: var(--fill-color);\n",
              "    }\n",
              "    20% {\n",
              "      border-color: transparent;\n",
              "      border-left-color: var(--fill-color);\n",
              "      border-top-color: var(--fill-color);\n",
              "    }\n",
              "    30% {\n",
              "      border-color: transparent;\n",
              "      border-left-color: var(--fill-color);\n",
              "      border-top-color: var(--fill-color);\n",
              "      border-right-color: var(--fill-color);\n",
              "    }\n",
              "    40% {\n",
              "      border-color: transparent;\n",
              "      border-right-color: var(--fill-color);\n",
              "      border-top-color: var(--fill-color);\n",
              "    }\n",
              "    60% {\n",
              "      border-color: transparent;\n",
              "      border-right-color: var(--fill-color);\n",
              "    }\n",
              "    80% {\n",
              "      border-color: transparent;\n",
              "      border-right-color: var(--fill-color);\n",
              "      border-bottom-color: var(--fill-color);\n",
              "    }\n",
              "    90% {\n",
              "      border-color: transparent;\n",
              "      border-bottom-color: var(--fill-color);\n",
              "    }\n",
              "  }\n",
              "</style>\n",
              "\n",
              "  <script>\n",
              "    async function quickchart(key) {\n",
              "      const quickchartButtonEl =\n",
              "        document.querySelector('#' + key + ' button');\n",
              "      quickchartButtonEl.disabled = true;  // To prevent multiple clicks.\n",
              "      quickchartButtonEl.classList.add('colab-df-spinner');\n",
              "      try {\n",
              "        const charts = await google.colab.kernel.invokeFunction(\n",
              "            'suggestCharts', [key], {});\n",
              "      } catch (error) {\n",
              "        console.error('Error during call to suggestCharts:', error);\n",
              "      }\n",
              "      quickchartButtonEl.classList.remove('colab-df-spinner');\n",
              "      quickchartButtonEl.classList.add('colab-df-quickchart-complete');\n",
              "    }\n",
              "    (() => {\n",
              "      let quickchartButtonEl =\n",
              "        document.querySelector('#df-61330926-7b42-4983-ba56-082b0cff2a33 button');\n",
              "      quickchartButtonEl.style.display =\n",
              "        google.colab.kernel.accessAllowed ? 'block' : 'none';\n",
              "    })();\n",
              "  </script>\n",
              "</div>\n",
              "\n",
              "    </div>\n",
              "  </div>\n"
            ],
            "application/vnd.google.colaboratory.intrinsic+json": {
              "type": "dataframe",
              "variable_name": "df",
              "summary": "{\n  \"name\": \"df\",\n  \"rows\": 905,\n  \"fields\": [\n    {\n      \"column\": \"id\",\n      \"properties\": {\n        \"dtype\": \"number\",\n        \"std\": 6077,\n        \"min\": 8285,\n        \"max\": 30462,\n        \"num_unique_values\": 905,\n        \"samples\": [\n          11363,\n          19205,\n          14808\n        ],\n        \"semantic_type\": \"\",\n        \"description\": \"\"\n      }\n    },\n    {\n      \"column\": \"timestamp\",\n      \"properties\": {\n        \"dtype\": \"date\",\n        \"min\": \"2013-06-01 00:00:00\",\n        \"max\": \"2015-06-29 00:00:00\",\n        \"num_unique_values\": 425,\n        \"samples\": [\n          \"2015-06-18 00:00:00\",\n          \"2013-12-05 00:00:00\",\n          \"2014-04-21 00:00:00\"\n        ],\n        \"semantic_type\": \"\",\n        \"description\": \"\"\n      }\n    },\n    {\n      \"column\": \"price_sq_m\",\n      \"properties\": {\n        \"dtype\": \"number\",\n        \"std\": 45169.99283031548,\n        \"min\": 46163.6363636364,\n        \"max\": 285714.285714286,\n        \"num_unique_values\": 755,\n        \"samples\": [\n          264929.203539823,\n          97579.8333333333,\n          215254.237288136\n        ],\n        \"semantic_type\": \"\",\n        \"description\": \"\"\n      }\n    },\n    {\n      \"column\": \"material_monolit\",\n      \"properties\": {\n        \"dtype\": \"number\",\n        \"std\": 0,\n        \"min\": 0,\n        \"max\": 1,\n        \"num_unique_values\": 2,\n        \"samples\": [\n          1,\n          0\n        ],\n        \"semantic_type\": \"\",\n        \"description\": \"\"\n      }\n    },\n    {\n      \"column\": \"green_zone_part\",\n      \"properties\": {\n        \"dtype\": \"number\",\n        \"std\": 0.06402427792724108,\n        \"min\": 0.058543047,\n        \"max\": 0.297166335,\n        \"num_unique_values\": 8,\n        \"samples\": [\n          0.169625419,\n          0.133372781\n        ],\n        \"semantic_type\": \"\",\n        \"description\": \"\"\n      }\n    },\n    {\n      \"column\": \"industrial_part\",\n      \"properties\": {\n        \"dtype\": \"number\",\n        \"std\": 0.15169995665267602,\n        \"min\": 0.0,\n        \"max\": 0.371148999,\n        \"num_unique_values\": 8,\n        \"samples\": [\n          0.019508796,\n          0.309479124\n        ],\n        \"semantic_type\": \"\",\n        \"description\": \"\"\n      }\n    },\n    {\n      \"column\": \"ttk_km\",\n      \"properties\": {\n        \"dtype\": \"number\",\n        \"std\": 3.834470199358094,\n        \"min\": 0.110483486,\n        \"max\": 16.28523864,\n        \"num_unique_values\": 509,\n        \"samples\": [\n          15.97225298,\n          7.560277291\n        ],\n        \"semantic_type\": \"\",\n        \"description\": \"\"\n      }\n    },\n    {\n      \"column\": \"trc_count\",\n      \"properties\": {\n        \"dtype\": \"number\",\n        \"std\": 10,\n        \"min\": 7,\n        \"max\": 64,\n        \"num_unique_values\": 48,\n        \"samples\": [\n          41,\n          47\n        ],\n        \"semantic_type\": \"\",\n        \"description\": \"\"\n      }\n    },\n    {\n      \"column\": \"year\",\n      \"properties\": {\n        \"dtype\": \"int32\",\n        \"num_unique_values\": 3,\n        \"samples\": [\n          2013,\n          2014\n        ],\n        \"semantic_type\": \"\",\n        \"description\": \"\"\n      }\n    },\n    {\n      \"column\": \"month\",\n      \"properties\": {\n        \"dtype\": \"int32\",\n        \"num_unique_values\": 12,\n        \"samples\": [\n          4,\n          3\n        ],\n        \"semantic_type\": \"\",\n        \"description\": \"\"\n      }\n    },\n    {\n      \"column\": \"day\",\n      \"properties\": {\n        \"dtype\": \"int32\",\n        \"num_unique_values\": 31,\n        \"samples\": [\n          5,\n          23\n        ],\n        \"semantic_type\": \"\",\n        \"description\": \"\"\n      }\n    }\n  ]\n}"
            }
          },
          "metadata": {},
          "execution_count": 17
        }
      ]
    },
    {
      "cell_type": "code",
      "source": [
        "print(f'Среднее по price_sq_m:', df['price_sq_m'].mean())\n",
        "print(f'Медиана по price_sq_m:', df['price_sq_m'].median())\n",
        "print(f'Размах по price_sq_m:', df['price_sq_m'].max() - df['price_sq_m'].min())"
      ],
      "metadata": {
        "colab": {
          "base_uri": "https://localhost:8080/"
        },
        "id": "toQ2CngoA1TC",
        "outputId": "d3aee27e-75d3-45fb-d042-bd07076970b2"
      },
      "execution_count": 18,
      "outputs": [
        {
          "output_type": "stream",
          "name": "stdout",
          "text": [
            "Среднее по price_sq_m: 161803.23575207475\n",
            "Медиана по price_sq_m: 160526.315789474\n",
            "Размах по price_sq_m: 239550.64935064956\n"
          ]
        }
      ]
    },
    {
      "cell_type": "markdown",
      "source": [
        "Цены за квадратный метр в данных относительно стабильны, так как среднее и медиана близки друг к другу. Размах показывает широкий разброс цен, что может быть связано с различиями в характеристиках объектов (например, местоположение, тип здания)."
      ],
      "metadata": {
        "id": "yuuMZhEFBf2A"
      }
    },
    {
      "cell_type": "code",
      "source": [
        "print(f'Среднее по green_zone_part:', df['green_zone_part'].mean())\n",
        "print(f'Медиана по green_zone_part:', df['green_zone_part'].median())\n",
        "print(f'Размах по green_zone_part:', df['green_zone_part'].max() - df['green_zone_part'].min())"
      ],
      "metadata": {
        "colab": {
          "base_uri": "https://localhost:8080/"
        },
        "id": "12YczQEnBMcK",
        "outputId": "2f533d89-81cd-42ff-9b6a-a191e33a4113"
      },
      "execution_count": 19,
      "outputs": [
        {
          "output_type": "stream",
          "name": "stdout",
          "text": [
            "Среднее по green_zone_part: 0.11910600385082874\n",
            "Медиана по green_zone_part: 0.083809588\n",
            "Размах по green_zone_part: 0.238623288\n"
          ]
        }
      ]
    },
    {
      "cell_type": "markdown",
      "source": [
        "Распределение доли зеленой зоны, скорее всего, асимметрично, с уклоном в сторону районов с небольшой зеленой зоной, но с отдельными районами с большой долей зеленых территорий. Размах подтверждает разнообразие районов: они варьируются от почти лишенных зелени до достаточно зеленых. Разница между средним и медианой предполагает наличие нескольких \"зелёных\" районов, которые сильно поднимают среднее значение."
      ],
      "metadata": {
        "id": "Ye6Y5EqsB3GQ"
      }
    },
    {
      "cell_type": "code",
      "source": [
        "print(f'Среднее по industrial_part:', df['industrial_part'].mean())\n",
        "print(f'Медиана по industrial_part:', df['industrial_part'].median())\n",
        "print(f'Размах по industrial_part:', df['industrial_part'].max() - df['industrial_part'].min())"
      ],
      "metadata": {
        "colab": {
          "base_uri": "https://localhost:8080/"
        },
        "id": "HJN9h6izBs4C",
        "outputId": "eb85b806-6576-4762-8e4d-74c726295b5c"
      },
      "execution_count": 20,
      "outputs": [
        {
          "output_type": "stream",
          "name": "stdout",
          "text": [
            "Среднее по industrial_part: 0.16045896894364642\n",
            "Медиана по industrial_part: 0.130617806\n",
            "Размах по industrial_part: 0.371148999\n"
          ]
        }
      ]
    },
    {
      "cell_type": "markdown",
      "source": [
        "Распределение асимметрично, с уклоном в сторону меньших значений (большинство районов имеют относительно небольшую долю промышленности, но есть некоторые районы с высокой долей). Большой размах указывает на значительное разнообразие: есть как районы практически без промышленности, так и районы с очень высокой концентрацией"
      ],
      "metadata": {
        "id": "xlxtJO3XCkdw"
      }
    },
    {
      "cell_type": "code",
      "source": [
        "print(f'Среднее по ttk_km:', df['ttk_km'].mean())\n",
        "print(f'Медиана по ttk_km:', df['ttk_km'].median())\n",
        "print(f'Размах по ttk_km:', df['ttk_km'].max() - df['ttk_km'].min())"
      ],
      "metadata": {
        "colab": {
          "base_uri": "https://localhost:8080/"
        },
        "id": "LOuP_rzMCfIl",
        "outputId": "305486cf-8da0-4b0b-aa4c-d583b5c7d0fc"
      },
      "execution_count": 21,
      "outputs": [
        {
          "output_type": "stream",
          "name": "stdout",
          "text": [
            "Среднее по ttk_km: 8.61755450319558\n",
            "Медиана по ttk_km: 7.913335116\n",
            "Размах по ttk_km: 16.174755154\n"
          ]
        }
      ]
    },
    {
      "cell_type": "markdown",
      "source": [
        "Распределение расстояний несимметрично, с уклоном в сторону меньших значений (многие объекты находятся ближе к ТТК). Большой размах подчеркивает разнообразие объектов: включены как центральные, так и периферийные районы. Среднее значение может быть смещено вверх из-за нескольких удаленных объектов, поэтому медиана лучше отражает \"типичное\" расстояние"
      ],
      "metadata": {
        "id": "YkITr6r2C_Dd"
      }
    },
    {
      "cell_type": "code",
      "source": [
        "df['material_monolit'].mode()"
      ],
      "metadata": {
        "colab": {
          "base_uri": "https://localhost:8080/",
          "height": 135
        },
        "id": "qySrYZIABwS5",
        "outputId": "d8461ea7-5524-4499-d109-7ec8d5876abf"
      },
      "execution_count": 22,
      "outputs": [
        {
          "output_type": "execute_result",
          "data": {
            "text/plain": [
              "0    0\n",
              "Name: material_monolit, dtype: int64"
            ],
            "text/html": [
              "<div>\n",
              "<style scoped>\n",
              "    .dataframe tbody tr th:only-of-type {\n",
              "        vertical-align: middle;\n",
              "    }\n",
              "\n",
              "    .dataframe tbody tr th {\n",
              "        vertical-align: top;\n",
              "    }\n",
              "\n",
              "    .dataframe thead th {\n",
              "        text-align: right;\n",
              "    }\n",
              "</style>\n",
              "<table border=\"1\" class=\"dataframe\">\n",
              "  <thead>\n",
              "    <tr style=\"text-align: right;\">\n",
              "      <th></th>\n",
              "      <th>material_monolit</th>\n",
              "    </tr>\n",
              "  </thead>\n",
              "  <tbody>\n",
              "    <tr>\n",
              "      <th>0</th>\n",
              "      <td>0</td>\n",
              "    </tr>\n",
              "  </tbody>\n",
              "</table>\n",
              "</div><br><label><b>dtype:</b> int64</label>"
            ]
          },
          "metadata": {},
          "execution_count": 22
        }
      ]
    },
    {
      "cell_type": "code",
      "source": [
        "df['material_monolit'].value_counts()"
      ],
      "metadata": {
        "colab": {
          "base_uri": "https://localhost:8080/",
          "height": 198
        },
        "id": "ikw3YwoWCY8O",
        "outputId": "6f988259-b74e-4980-e780-ba3d5e983cda"
      },
      "execution_count": 23,
      "outputs": [
        {
          "output_type": "execute_result",
          "data": {
            "text/plain": [
              "material_monolit\n",
              "0    851\n",
              "1     54\n",
              "Name: count, dtype: int64"
            ],
            "text/html": [
              "<div>\n",
              "<style scoped>\n",
              "    .dataframe tbody tr th:only-of-type {\n",
              "        vertical-align: middle;\n",
              "    }\n",
              "\n",
              "    .dataframe tbody tr th {\n",
              "        vertical-align: top;\n",
              "    }\n",
              "\n",
              "    .dataframe thead th {\n",
              "        text-align: right;\n",
              "    }\n",
              "</style>\n",
              "<table border=\"1\" class=\"dataframe\">\n",
              "  <thead>\n",
              "    <tr style=\"text-align: right;\">\n",
              "      <th></th>\n",
              "      <th>count</th>\n",
              "    </tr>\n",
              "    <tr>\n",
              "      <th>material_monolit</th>\n",
              "      <th></th>\n",
              "    </tr>\n",
              "  </thead>\n",
              "  <tbody>\n",
              "    <tr>\n",
              "      <th>0</th>\n",
              "      <td>851</td>\n",
              "    </tr>\n",
              "    <tr>\n",
              "      <th>1</th>\n",
              "      <td>54</td>\n",
              "    </tr>\n",
              "  </tbody>\n",
              "</table>\n",
              "</div><br><label><b>dtype:</b> int64</label>"
            ]
          },
          "metadata": {},
          "execution_count": 23
        }
      ]
    },
    {
      "cell_type": "markdown",
      "source": [
        "Чаще всего встречаются не монолитные дома"
      ],
      "metadata": {
        "id": "pYPTlTgTCSfb"
      }
    },
    {
      "cell_type": "code",
      "source": [
        "print(f'Среднее по trc_count:', df['trc_count'].mean())\n",
        "print(f'Медиана по trc_count:', df['trc_count'].median())\n",
        "print(f'Мода по trc_count:', df['trc_count'].mode()[0])"
      ],
      "metadata": {
        "colab": {
          "base_uri": "https://localhost:8080/"
        },
        "id": "Nb8f6RCvCQRa",
        "outputId": "f9cb6c1d-d996-401e-b2de-7c79bdd2fb47"
      },
      "execution_count": 24,
      "outputs": [
        {
          "output_type": "stream",
          "name": "stdout",
          "text": [
            "Среднее по trc_count: 25.678453038674032\n",
            "Медиана по trc_count: 27.0\n",
            "Мода по trc_count: 15\n"
          ]
        }
      ]
    },
    {
      "cell_type": "code",
      "source": [
        "df['year'].mode()[0]"
      ],
      "metadata": {
        "colab": {
          "base_uri": "https://localhost:8080/"
        },
        "id": "8r9LqzcGDErH",
        "outputId": "4d051e79-327a-4aff-8871-f073883cacfe"
      },
      "execution_count": 25,
      "outputs": [
        {
          "output_type": "execute_result",
          "data": {
            "text/plain": [
              "2014"
            ]
          },
          "metadata": {},
          "execution_count": 25
        }
      ]
    },
    {
      "cell_type": "code",
      "source": [
        "df['year'].value_counts()"
      ],
      "metadata": {
        "colab": {
          "base_uri": "https://localhost:8080/",
          "height": 229
        },
        "id": "ReQ_bJmbDLgT",
        "outputId": "cca6a807-8c31-4071-f92a-9c2b79bb13a8"
      },
      "execution_count": 26,
      "outputs": [
        {
          "output_type": "execute_result",
          "data": {
            "text/plain": [
              "year\n",
              "2014    589\n",
              "2013    165\n",
              "2015    151\n",
              "Name: count, dtype: int64"
            ],
            "text/html": [
              "<div>\n",
              "<style scoped>\n",
              "    .dataframe tbody tr th:only-of-type {\n",
              "        vertical-align: middle;\n",
              "    }\n",
              "\n",
              "    .dataframe tbody tr th {\n",
              "        vertical-align: top;\n",
              "    }\n",
              "\n",
              "    .dataframe thead th {\n",
              "        text-align: right;\n",
              "    }\n",
              "</style>\n",
              "<table border=\"1\" class=\"dataframe\">\n",
              "  <thead>\n",
              "    <tr style=\"text-align: right;\">\n",
              "      <th></th>\n",
              "      <th>count</th>\n",
              "    </tr>\n",
              "    <tr>\n",
              "      <th>year</th>\n",
              "      <th></th>\n",
              "    </tr>\n",
              "  </thead>\n",
              "  <tbody>\n",
              "    <tr>\n",
              "      <th>2014</th>\n",
              "      <td>589</td>\n",
              "    </tr>\n",
              "    <tr>\n",
              "      <th>2013</th>\n",
              "      <td>165</td>\n",
              "    </tr>\n",
              "    <tr>\n",
              "      <th>2015</th>\n",
              "      <td>151</td>\n",
              "    </tr>\n",
              "  </tbody>\n",
              "</table>\n",
              "</div><br><label><b>dtype:</b> int64</label>"
            ]
          },
          "metadata": {},
          "execution_count": 26
        }
      ]
    },
    {
      "cell_type": "code",
      "source": [
        "df['month'].mode()[0]"
      ],
      "metadata": {
        "colab": {
          "base_uri": "https://localhost:8080/"
        },
        "id": "Pekr2GCCC4qN",
        "outputId": "2aa973eb-d95a-416a-ce7c-bb1f0635986e"
      },
      "execution_count": 27,
      "outputs": [
        {
          "output_type": "execute_result",
          "data": {
            "text/plain": [
              "4"
            ]
          },
          "metadata": {},
          "execution_count": 27
        }
      ]
    },
    {
      "cell_type": "code",
      "source": [
        "df['month'].value_counts()"
      ],
      "metadata": {
        "colab": {
          "base_uri": "https://localhost:8080/",
          "height": 512
        },
        "id": "W9xSF88zDOaT",
        "outputId": "2a09d7a8-088d-4c04-e9dd-ee1efeb2454e"
      },
      "execution_count": 28,
      "outputs": [
        {
          "output_type": "execute_result",
          "data": {
            "text/plain": [
              "month\n",
              "4     117\n",
              "12    116\n",
              "11     85\n",
              "5      85\n",
              "2      84\n",
              "6      83\n",
              "3      80\n",
              "10     63\n",
              "1      55\n",
              "9      54\n",
              "8      49\n",
              "7      34\n",
              "Name: count, dtype: int64"
            ],
            "text/html": [
              "<div>\n",
              "<style scoped>\n",
              "    .dataframe tbody tr th:only-of-type {\n",
              "        vertical-align: middle;\n",
              "    }\n",
              "\n",
              "    .dataframe tbody tr th {\n",
              "        vertical-align: top;\n",
              "    }\n",
              "\n",
              "    .dataframe thead th {\n",
              "        text-align: right;\n",
              "    }\n",
              "</style>\n",
              "<table border=\"1\" class=\"dataframe\">\n",
              "  <thead>\n",
              "    <tr style=\"text-align: right;\">\n",
              "      <th></th>\n",
              "      <th>count</th>\n",
              "    </tr>\n",
              "    <tr>\n",
              "      <th>month</th>\n",
              "      <th></th>\n",
              "    </tr>\n",
              "  </thead>\n",
              "  <tbody>\n",
              "    <tr>\n",
              "      <th>4</th>\n",
              "      <td>117</td>\n",
              "    </tr>\n",
              "    <tr>\n",
              "      <th>12</th>\n",
              "      <td>116</td>\n",
              "    </tr>\n",
              "    <tr>\n",
              "      <th>11</th>\n",
              "      <td>85</td>\n",
              "    </tr>\n",
              "    <tr>\n",
              "      <th>5</th>\n",
              "      <td>85</td>\n",
              "    </tr>\n",
              "    <tr>\n",
              "      <th>2</th>\n",
              "      <td>84</td>\n",
              "    </tr>\n",
              "    <tr>\n",
              "      <th>6</th>\n",
              "      <td>83</td>\n",
              "    </tr>\n",
              "    <tr>\n",
              "      <th>3</th>\n",
              "      <td>80</td>\n",
              "    </tr>\n",
              "    <tr>\n",
              "      <th>10</th>\n",
              "      <td>63</td>\n",
              "    </tr>\n",
              "    <tr>\n",
              "      <th>1</th>\n",
              "      <td>55</td>\n",
              "    </tr>\n",
              "    <tr>\n",
              "      <th>9</th>\n",
              "      <td>54</td>\n",
              "    </tr>\n",
              "    <tr>\n",
              "      <th>8</th>\n",
              "      <td>49</td>\n",
              "    </tr>\n",
              "    <tr>\n",
              "      <th>7</th>\n",
              "      <td>34</td>\n",
              "    </tr>\n",
              "  </tbody>\n",
              "</table>\n",
              "</div><br><label><b>dtype:</b> int64</label>"
            ]
          },
          "metadata": {},
          "execution_count": 28
        }
      ]
    },
    {
      "cell_type": "code",
      "source": [
        "df['day'].mode()[0]"
      ],
      "metadata": {
        "colab": {
          "base_uri": "https://localhost:8080/"
        },
        "id": "M79GXpGkDJ_V",
        "outputId": "b7a8a948-c4dd-41ff-a7cf-cba25b750649"
      },
      "execution_count": 29,
      "outputs": [
        {
          "output_type": "execute_result",
          "data": {
            "text/plain": [
              "20"
            ]
          },
          "metadata": {},
          "execution_count": 29
        }
      ]
    },
    {
      "cell_type": "code",
      "source": [
        "df['day'].value_counts()"
      ],
      "metadata": {
        "colab": {
          "base_uri": "https://localhost:8080/",
          "height": 1000
        },
        "id": "bej-uBRfDSnY",
        "outputId": "66661b15-d809-412c-f238-89523e1f5368"
      },
      "execution_count": 30,
      "outputs": [
        {
          "output_type": "execute_result",
          "data": {
            "text/plain": [
              "day\n",
              "20    44\n",
              "27    38\n",
              "18    36\n",
              "11    35\n",
              "25    34\n",
              "28    34\n",
              "23    34\n",
              "6     34\n",
              "17    33\n",
              "5     32\n",
              "24    32\n",
              "14    31\n",
              "22    31\n",
              "26    31\n",
              "30    31\n",
              "21    30\n",
              "9     30\n",
              "15    29\n",
              "2     29\n",
              "12    29\n",
              "4     27\n",
              "29    27\n",
              "8     26\n",
              "7     26\n",
              "16    25\n",
              "13    24\n",
              "10    23\n",
              "3     21\n",
              "19    20\n",
              "1     19\n",
              "31    10\n",
              "Name: count, dtype: int64"
            ],
            "text/html": [
              "<div>\n",
              "<style scoped>\n",
              "    .dataframe tbody tr th:only-of-type {\n",
              "        vertical-align: middle;\n",
              "    }\n",
              "\n",
              "    .dataframe tbody tr th {\n",
              "        vertical-align: top;\n",
              "    }\n",
              "\n",
              "    .dataframe thead th {\n",
              "        text-align: right;\n",
              "    }\n",
              "</style>\n",
              "<table border=\"1\" class=\"dataframe\">\n",
              "  <thead>\n",
              "    <tr style=\"text-align: right;\">\n",
              "      <th></th>\n",
              "      <th>count</th>\n",
              "    </tr>\n",
              "    <tr>\n",
              "      <th>day</th>\n",
              "      <th></th>\n",
              "    </tr>\n",
              "  </thead>\n",
              "  <tbody>\n",
              "    <tr>\n",
              "      <th>20</th>\n",
              "      <td>44</td>\n",
              "    </tr>\n",
              "    <tr>\n",
              "      <th>27</th>\n",
              "      <td>38</td>\n",
              "    </tr>\n",
              "    <tr>\n",
              "      <th>18</th>\n",
              "      <td>36</td>\n",
              "    </tr>\n",
              "    <tr>\n",
              "      <th>11</th>\n",
              "      <td>35</td>\n",
              "    </tr>\n",
              "    <tr>\n",
              "      <th>25</th>\n",
              "      <td>34</td>\n",
              "    </tr>\n",
              "    <tr>\n",
              "      <th>28</th>\n",
              "      <td>34</td>\n",
              "    </tr>\n",
              "    <tr>\n",
              "      <th>23</th>\n",
              "      <td>34</td>\n",
              "    </tr>\n",
              "    <tr>\n",
              "      <th>6</th>\n",
              "      <td>34</td>\n",
              "    </tr>\n",
              "    <tr>\n",
              "      <th>17</th>\n",
              "      <td>33</td>\n",
              "    </tr>\n",
              "    <tr>\n",
              "      <th>5</th>\n",
              "      <td>32</td>\n",
              "    </tr>\n",
              "    <tr>\n",
              "      <th>24</th>\n",
              "      <td>32</td>\n",
              "    </tr>\n",
              "    <tr>\n",
              "      <th>14</th>\n",
              "      <td>31</td>\n",
              "    </tr>\n",
              "    <tr>\n",
              "      <th>22</th>\n",
              "      <td>31</td>\n",
              "    </tr>\n",
              "    <tr>\n",
              "      <th>26</th>\n",
              "      <td>31</td>\n",
              "    </tr>\n",
              "    <tr>\n",
              "      <th>30</th>\n",
              "      <td>31</td>\n",
              "    </tr>\n",
              "    <tr>\n",
              "      <th>21</th>\n",
              "      <td>30</td>\n",
              "    </tr>\n",
              "    <tr>\n",
              "      <th>9</th>\n",
              "      <td>30</td>\n",
              "    </tr>\n",
              "    <tr>\n",
              "      <th>15</th>\n",
              "      <td>29</td>\n",
              "    </tr>\n",
              "    <tr>\n",
              "      <th>2</th>\n",
              "      <td>29</td>\n",
              "    </tr>\n",
              "    <tr>\n",
              "      <th>12</th>\n",
              "      <td>29</td>\n",
              "    </tr>\n",
              "    <tr>\n",
              "      <th>4</th>\n",
              "      <td>27</td>\n",
              "    </tr>\n",
              "    <tr>\n",
              "      <th>29</th>\n",
              "      <td>27</td>\n",
              "    </tr>\n",
              "    <tr>\n",
              "      <th>8</th>\n",
              "      <td>26</td>\n",
              "    </tr>\n",
              "    <tr>\n",
              "      <th>7</th>\n",
              "      <td>26</td>\n",
              "    </tr>\n",
              "    <tr>\n",
              "      <th>16</th>\n",
              "      <td>25</td>\n",
              "    </tr>\n",
              "    <tr>\n",
              "      <th>13</th>\n",
              "      <td>24</td>\n",
              "    </tr>\n",
              "    <tr>\n",
              "      <th>10</th>\n",
              "      <td>23</td>\n",
              "    </tr>\n",
              "    <tr>\n",
              "      <th>3</th>\n",
              "      <td>21</td>\n",
              "    </tr>\n",
              "    <tr>\n",
              "      <th>19</th>\n",
              "      <td>20</td>\n",
              "    </tr>\n",
              "    <tr>\n",
              "      <th>1</th>\n",
              "      <td>19</td>\n",
              "    </tr>\n",
              "    <tr>\n",
              "      <th>31</th>\n",
              "      <td>10</td>\n",
              "    </tr>\n",
              "  </tbody>\n",
              "</table>\n",
              "</div><br><label><b>dtype:</b> int64</label>"
            ]
          },
          "metadata": {},
          "execution_count": 30
        }
      ]
    },
    {
      "cell_type": "markdown",
      "source": [
        "# Линейная регрессия"
      ],
      "metadata": {
        "id": "qgZOTyWg3qnR"
      }
    },
    {
      "cell_type": "markdown",
      "source": [
        "Построим модель линейной регрессии. В качестве целевой переменной будем использовать цену квадратного метра, остальные же параметры будут выступать предикторами"
      ],
      "metadata": {
        "id": "4DsimIU68jQy"
      }
    },
    {
      "cell_type": "code",
      "source": [
        "import statsmodels.api as sm\n",
        "\n",
        "X = sm.add_constant(df[['green_zone_part', 'industrial_part', 'ttk_km', 'trc_count', 'material_monolit']])\n",
        "Y = df['price_sq_m']\n",
        "model = sm.OLS(Y, X).fit()"
      ],
      "metadata": {
        "id": "Ab7ZP66T8D_T"
      },
      "execution_count": 115,
      "outputs": []
    },
    {
      "cell_type": "markdown",
      "source": [
        "Оценим коэффициент детерминации получившейся модели"
      ],
      "metadata": {
        "id": "_ROZpS3m8vL2"
      }
    },
    {
      "cell_type": "code",
      "source": [
        "model.rsquared"
      ],
      "metadata": {
        "colab": {
          "base_uri": "https://localhost:8080/"
        },
        "id": "39ix1CPY8VLN",
        "outputId": "6d629d7e-d136-46fc-9516-8749851aea33"
      },
      "execution_count": 116,
      "outputs": [
        {
          "output_type": "execute_result",
          "data": {
            "text/plain": [
              "0.5516983313913426"
            ]
          },
          "metadata": {},
          "execution_count": 116
        }
      ]
    },
    {
      "cell_type": "markdown",
      "source": [
        "Модель показала, что она способна объяснить 55% данных, это свидетельствует о нормальном качестве модели"
      ],
      "metadata": {
        "id": "aQXF4O4481jb"
      }
    },
    {
      "cell_type": "markdown",
      "source": [
        "оценим показатели MSE и MAE"
      ],
      "metadata": {
        "id": "n8GXV7Sf8AXr"
      }
    },
    {
      "cell_type": "code",
      "source": [
        "import numpy as np\n",
        "\n",
        "y_pred = model.predict(X)\n",
        "y_true = df['price_sq_m']\n",
        "\n",
        "mse = np.mean((y_true - y_pred) ** 2)\n",
        "mae = np.mean(np.abs(y_true - y_pred))\n",
        "\n",
        "print('MSE:', mse)\n",
        "print('MAE:', mae)"
      ],
      "metadata": {
        "colab": {
          "base_uri": "https://localhost:8080/"
        },
        "id": "Cb6y9zgx9Nmq",
        "outputId": "0d06b0eb-0f80-404e-c153-88ae3b9af305"
      },
      "execution_count": 36,
      "outputs": [
        {
          "output_type": "stream",
          "name": "stdout",
          "text": [
            "MSE: 913671861.0499917\n",
            "MAE: 23012.365881795835\n"
          ]
        }
      ]
    },
    {
      "cell_type": "markdown",
      "source": [
        "Средняя абсолютная ошибка велика и составляет 23012, что говорит о необходимости улучшения качества модели"
      ],
      "metadata": {
        "id": "2j348JvLAxQc"
      }
    },
    {
      "cell_type": "markdown",
      "source": [
        "Переобучим модель путём добавления других - менее релевантных признаков"
      ],
      "metadata": {
        "id": "tFlFJIIoGdya"
      }
    },
    {
      "cell_type": "code",
      "source": [
        "df.head()"
      ],
      "metadata": {
        "colab": {
          "base_uri": "https://localhost:8080/",
          "height": 226
        },
        "id": "JQL6TdCOGuis",
        "outputId": "e10bdac7-78a7-4c92-de81-48b113725950"
      },
      "execution_count": 38,
      "outputs": [
        {
          "output_type": "execute_result",
          "data": {
            "text/plain": [
              "     id  timestamp     price_sq_m  material_monolit  green_zone_part  \\\n",
              "0  8285 2013-06-01  150980.392157                 0         0.083810   \n",
              "1  8394 2013-06-07  200000.000000                 0         0.169625   \n",
              "2  8560 2013-06-18  204225.352113                 0         0.297166   \n",
              "3  8642 2013-06-24  181818.181818                 0         0.069671   \n",
              "4  8814 2013-07-01  196153.846154                 0         0.070662   \n",
              "\n",
              "   industrial_part     ttk_km  trc_count  year  month  day  \n",
              "0         0.371149  12.755092         15  2013      6    1  \n",
              "1         0.019509   1.800854         39  2013      6    7  \n",
              "2         0.000000   6.828563         24  2013      6   18  \n",
              "3         0.130618   6.006677         33  2013      6   24  \n",
              "4         0.035145   8.955545         23  2013      7    1  "
            ],
            "text/html": [
              "\n",
              "  <div id=\"df-d98a48c1-375f-4e7f-90ed-44de20901684\" class=\"colab-df-container\">\n",
              "    <div>\n",
              "<style scoped>\n",
              "    .dataframe tbody tr th:only-of-type {\n",
              "        vertical-align: middle;\n",
              "    }\n",
              "\n",
              "    .dataframe tbody tr th {\n",
              "        vertical-align: top;\n",
              "    }\n",
              "\n",
              "    .dataframe thead th {\n",
              "        text-align: right;\n",
              "    }\n",
              "</style>\n",
              "<table border=\"1\" class=\"dataframe\">\n",
              "  <thead>\n",
              "    <tr style=\"text-align: right;\">\n",
              "      <th></th>\n",
              "      <th>id</th>\n",
              "      <th>timestamp</th>\n",
              "      <th>price_sq_m</th>\n",
              "      <th>material_monolit</th>\n",
              "      <th>green_zone_part</th>\n",
              "      <th>industrial_part</th>\n",
              "      <th>ttk_km</th>\n",
              "      <th>trc_count</th>\n",
              "      <th>year</th>\n",
              "      <th>month</th>\n",
              "      <th>day</th>\n",
              "    </tr>\n",
              "  </thead>\n",
              "  <tbody>\n",
              "    <tr>\n",
              "      <th>0</th>\n",
              "      <td>8285</td>\n",
              "      <td>2013-06-01</td>\n",
              "      <td>150980.392157</td>\n",
              "      <td>0</td>\n",
              "      <td>0.083810</td>\n",
              "      <td>0.371149</td>\n",
              "      <td>12.755092</td>\n",
              "      <td>15</td>\n",
              "      <td>2013</td>\n",
              "      <td>6</td>\n",
              "      <td>1</td>\n",
              "    </tr>\n",
              "    <tr>\n",
              "      <th>1</th>\n",
              "      <td>8394</td>\n",
              "      <td>2013-06-07</td>\n",
              "      <td>200000.000000</td>\n",
              "      <td>0</td>\n",
              "      <td>0.169625</td>\n",
              "      <td>0.019509</td>\n",
              "      <td>1.800854</td>\n",
              "      <td>39</td>\n",
              "      <td>2013</td>\n",
              "      <td>6</td>\n",
              "      <td>7</td>\n",
              "    </tr>\n",
              "    <tr>\n",
              "      <th>2</th>\n",
              "      <td>8560</td>\n",
              "      <td>2013-06-18</td>\n",
              "      <td>204225.352113</td>\n",
              "      <td>0</td>\n",
              "      <td>0.297166</td>\n",
              "      <td>0.000000</td>\n",
              "      <td>6.828563</td>\n",
              "      <td>24</td>\n",
              "      <td>2013</td>\n",
              "      <td>6</td>\n",
              "      <td>18</td>\n",
              "    </tr>\n",
              "    <tr>\n",
              "      <th>3</th>\n",
              "      <td>8642</td>\n",
              "      <td>2013-06-24</td>\n",
              "      <td>181818.181818</td>\n",
              "      <td>0</td>\n",
              "      <td>0.069671</td>\n",
              "      <td>0.130618</td>\n",
              "      <td>6.006677</td>\n",
              "      <td>33</td>\n",
              "      <td>2013</td>\n",
              "      <td>6</td>\n",
              "      <td>24</td>\n",
              "    </tr>\n",
              "    <tr>\n",
              "      <th>4</th>\n",
              "      <td>8814</td>\n",
              "      <td>2013-07-01</td>\n",
              "      <td>196153.846154</td>\n",
              "      <td>0</td>\n",
              "      <td>0.070662</td>\n",
              "      <td>0.035145</td>\n",
              "      <td>8.955545</td>\n",
              "      <td>23</td>\n",
              "      <td>2013</td>\n",
              "      <td>7</td>\n",
              "      <td>1</td>\n",
              "    </tr>\n",
              "  </tbody>\n",
              "</table>\n",
              "</div>\n",
              "    <div class=\"colab-df-buttons\">\n",
              "\n",
              "  <div class=\"colab-df-container\">\n",
              "    <button class=\"colab-df-convert\" onclick=\"convertToInteractive('df-d98a48c1-375f-4e7f-90ed-44de20901684')\"\n",
              "            title=\"Convert this dataframe to an interactive table.\"\n",
              "            style=\"display:none;\">\n",
              "\n",
              "  <svg xmlns=\"http://www.w3.org/2000/svg\" height=\"24px\" viewBox=\"0 -960 960 960\">\n",
              "    <path d=\"M120-120v-720h720v720H120Zm60-500h600v-160H180v160Zm220 220h160v-160H400v160Zm0 220h160v-160H400v160ZM180-400h160v-160H180v160Zm440 0h160v-160H620v160ZM180-180h160v-160H180v160Zm440 0h160v-160H620v160Z\"/>\n",
              "  </svg>\n",
              "    </button>\n",
              "\n",
              "  <style>\n",
              "    .colab-df-container {\n",
              "      display:flex;\n",
              "      gap: 12px;\n",
              "    }\n",
              "\n",
              "    .colab-df-convert {\n",
              "      background-color: #E8F0FE;\n",
              "      border: none;\n",
              "      border-radius: 50%;\n",
              "      cursor: pointer;\n",
              "      display: none;\n",
              "      fill: #1967D2;\n",
              "      height: 32px;\n",
              "      padding: 0 0 0 0;\n",
              "      width: 32px;\n",
              "    }\n",
              "\n",
              "    .colab-df-convert:hover {\n",
              "      background-color: #E2EBFA;\n",
              "      box-shadow: 0px 1px 2px rgba(60, 64, 67, 0.3), 0px 1px 3px 1px rgba(60, 64, 67, 0.15);\n",
              "      fill: #174EA6;\n",
              "    }\n",
              "\n",
              "    .colab-df-buttons div {\n",
              "      margin-bottom: 4px;\n",
              "    }\n",
              "\n",
              "    [theme=dark] .colab-df-convert {\n",
              "      background-color: #3B4455;\n",
              "      fill: #D2E3FC;\n",
              "    }\n",
              "\n",
              "    [theme=dark] .colab-df-convert:hover {\n",
              "      background-color: #434B5C;\n",
              "      box-shadow: 0px 1px 3px 1px rgba(0, 0, 0, 0.15);\n",
              "      filter: drop-shadow(0px 1px 2px rgba(0, 0, 0, 0.3));\n",
              "      fill: #FFFFFF;\n",
              "    }\n",
              "  </style>\n",
              "\n",
              "    <script>\n",
              "      const buttonEl =\n",
              "        document.querySelector('#df-d98a48c1-375f-4e7f-90ed-44de20901684 button.colab-df-convert');\n",
              "      buttonEl.style.display =\n",
              "        google.colab.kernel.accessAllowed ? 'block' : 'none';\n",
              "\n",
              "      async function convertToInteractive(key) {\n",
              "        const element = document.querySelector('#df-d98a48c1-375f-4e7f-90ed-44de20901684');\n",
              "        const dataTable =\n",
              "          await google.colab.kernel.invokeFunction('convertToInteractive',\n",
              "                                                    [key], {});\n",
              "        if (!dataTable) return;\n",
              "\n",
              "        const docLinkHtml = 'Like what you see? Visit the ' +\n",
              "          '<a target=\"_blank\" href=https://colab.research.google.com/notebooks/data_table.ipynb>data table notebook</a>'\n",
              "          + ' to learn more about interactive tables.';\n",
              "        element.innerHTML = '';\n",
              "        dataTable['output_type'] = 'display_data';\n",
              "        await google.colab.output.renderOutput(dataTable, element);\n",
              "        const docLink = document.createElement('div');\n",
              "        docLink.innerHTML = docLinkHtml;\n",
              "        element.appendChild(docLink);\n",
              "      }\n",
              "    </script>\n",
              "  </div>\n",
              "\n",
              "\n",
              "<div id=\"df-b39ddd78-70c2-4090-8642-d6ffbaa1bcef\">\n",
              "  <button class=\"colab-df-quickchart\" onclick=\"quickchart('df-b39ddd78-70c2-4090-8642-d6ffbaa1bcef')\"\n",
              "            title=\"Suggest charts\"\n",
              "            style=\"display:none;\">\n",
              "\n",
              "<svg xmlns=\"http://www.w3.org/2000/svg\" height=\"24px\"viewBox=\"0 0 24 24\"\n",
              "     width=\"24px\">\n",
              "    <g>\n",
              "        <path d=\"M19 3H5c-1.1 0-2 .9-2 2v14c0 1.1.9 2 2 2h14c1.1 0 2-.9 2-2V5c0-1.1-.9-2-2-2zM9 17H7v-7h2v7zm4 0h-2V7h2v10zm4 0h-2v-4h2v4z\"/>\n",
              "    </g>\n",
              "</svg>\n",
              "  </button>\n",
              "\n",
              "<style>\n",
              "  .colab-df-quickchart {\n",
              "      --bg-color: #E8F0FE;\n",
              "      --fill-color: #1967D2;\n",
              "      --hover-bg-color: #E2EBFA;\n",
              "      --hover-fill-color: #174EA6;\n",
              "      --disabled-fill-color: #AAA;\n",
              "      --disabled-bg-color: #DDD;\n",
              "  }\n",
              "\n",
              "  [theme=dark] .colab-df-quickchart {\n",
              "      --bg-color: #3B4455;\n",
              "      --fill-color: #D2E3FC;\n",
              "      --hover-bg-color: #434B5C;\n",
              "      --hover-fill-color: #FFFFFF;\n",
              "      --disabled-bg-color: #3B4455;\n",
              "      --disabled-fill-color: #666;\n",
              "  }\n",
              "\n",
              "  .colab-df-quickchart {\n",
              "    background-color: var(--bg-color);\n",
              "    border: none;\n",
              "    border-radius: 50%;\n",
              "    cursor: pointer;\n",
              "    display: none;\n",
              "    fill: var(--fill-color);\n",
              "    height: 32px;\n",
              "    padding: 0;\n",
              "    width: 32px;\n",
              "  }\n",
              "\n",
              "  .colab-df-quickchart:hover {\n",
              "    background-color: var(--hover-bg-color);\n",
              "    box-shadow: 0 1px 2px rgba(60, 64, 67, 0.3), 0 1px 3px 1px rgba(60, 64, 67, 0.15);\n",
              "    fill: var(--button-hover-fill-color);\n",
              "  }\n",
              "\n",
              "  .colab-df-quickchart-complete:disabled,\n",
              "  .colab-df-quickchart-complete:disabled:hover {\n",
              "    background-color: var(--disabled-bg-color);\n",
              "    fill: var(--disabled-fill-color);\n",
              "    box-shadow: none;\n",
              "  }\n",
              "\n",
              "  .colab-df-spinner {\n",
              "    border: 2px solid var(--fill-color);\n",
              "    border-color: transparent;\n",
              "    border-bottom-color: var(--fill-color);\n",
              "    animation:\n",
              "      spin 1s steps(1) infinite;\n",
              "  }\n",
              "\n",
              "  @keyframes spin {\n",
              "    0% {\n",
              "      border-color: transparent;\n",
              "      border-bottom-color: var(--fill-color);\n",
              "      border-left-color: var(--fill-color);\n",
              "    }\n",
              "    20% {\n",
              "      border-color: transparent;\n",
              "      border-left-color: var(--fill-color);\n",
              "      border-top-color: var(--fill-color);\n",
              "    }\n",
              "    30% {\n",
              "      border-color: transparent;\n",
              "      border-left-color: var(--fill-color);\n",
              "      border-top-color: var(--fill-color);\n",
              "      border-right-color: var(--fill-color);\n",
              "    }\n",
              "    40% {\n",
              "      border-color: transparent;\n",
              "      border-right-color: var(--fill-color);\n",
              "      border-top-color: var(--fill-color);\n",
              "    }\n",
              "    60% {\n",
              "      border-color: transparent;\n",
              "      border-right-color: var(--fill-color);\n",
              "    }\n",
              "    80% {\n",
              "      border-color: transparent;\n",
              "      border-right-color: var(--fill-color);\n",
              "      border-bottom-color: var(--fill-color);\n",
              "    }\n",
              "    90% {\n",
              "      border-color: transparent;\n",
              "      border-bottom-color: var(--fill-color);\n",
              "    }\n",
              "  }\n",
              "</style>\n",
              "\n",
              "  <script>\n",
              "    async function quickchart(key) {\n",
              "      const quickchartButtonEl =\n",
              "        document.querySelector('#' + key + ' button');\n",
              "      quickchartButtonEl.disabled = true;  // To prevent multiple clicks.\n",
              "      quickchartButtonEl.classList.add('colab-df-spinner');\n",
              "      try {\n",
              "        const charts = await google.colab.kernel.invokeFunction(\n",
              "            'suggestCharts', [key], {});\n",
              "      } catch (error) {\n",
              "        console.error('Error during call to suggestCharts:', error);\n",
              "      }\n",
              "      quickchartButtonEl.classList.remove('colab-df-spinner');\n",
              "      quickchartButtonEl.classList.add('colab-df-quickchart-complete');\n",
              "    }\n",
              "    (() => {\n",
              "      let quickchartButtonEl =\n",
              "        document.querySelector('#df-b39ddd78-70c2-4090-8642-d6ffbaa1bcef button');\n",
              "      quickchartButtonEl.style.display =\n",
              "        google.colab.kernel.accessAllowed ? 'block' : 'none';\n",
              "    })();\n",
              "  </script>\n",
              "</div>\n",
              "\n",
              "    </div>\n",
              "  </div>\n"
            ],
            "application/vnd.google.colaboratory.intrinsic+json": {
              "type": "dataframe",
              "variable_name": "df",
              "summary": "{\n  \"name\": \"df\",\n  \"rows\": 905,\n  \"fields\": [\n    {\n      \"column\": \"id\",\n      \"properties\": {\n        \"dtype\": \"number\",\n        \"std\": 6077,\n        \"min\": 8285,\n        \"max\": 30462,\n        \"num_unique_values\": 905,\n        \"samples\": [\n          11363,\n          19205,\n          14808\n        ],\n        \"semantic_type\": \"\",\n        \"description\": \"\"\n      }\n    },\n    {\n      \"column\": \"timestamp\",\n      \"properties\": {\n        \"dtype\": \"date\",\n        \"min\": \"2013-06-01 00:00:00\",\n        \"max\": \"2015-06-29 00:00:00\",\n        \"num_unique_values\": 425,\n        \"samples\": [\n          \"2015-06-18 00:00:00\",\n          \"2013-12-05 00:00:00\",\n          \"2014-04-21 00:00:00\"\n        ],\n        \"semantic_type\": \"\",\n        \"description\": \"\"\n      }\n    },\n    {\n      \"column\": \"price_sq_m\",\n      \"properties\": {\n        \"dtype\": \"number\",\n        \"std\": 45169.99283031548,\n        \"min\": 46163.6363636364,\n        \"max\": 285714.285714286,\n        \"num_unique_values\": 755,\n        \"samples\": [\n          264929.203539823,\n          97579.8333333333,\n          215254.237288136\n        ],\n        \"semantic_type\": \"\",\n        \"description\": \"\"\n      }\n    },\n    {\n      \"column\": \"material_monolit\",\n      \"properties\": {\n        \"dtype\": \"number\",\n        \"std\": 0,\n        \"min\": 0,\n        \"max\": 1,\n        \"num_unique_values\": 2,\n        \"samples\": [\n          1,\n          0\n        ],\n        \"semantic_type\": \"\",\n        \"description\": \"\"\n      }\n    },\n    {\n      \"column\": \"green_zone_part\",\n      \"properties\": {\n        \"dtype\": \"number\",\n        \"std\": 0.06402427792724108,\n        \"min\": 0.058543047,\n        \"max\": 0.297166335,\n        \"num_unique_values\": 8,\n        \"samples\": [\n          0.169625419,\n          0.133372781\n        ],\n        \"semantic_type\": \"\",\n        \"description\": \"\"\n      }\n    },\n    {\n      \"column\": \"industrial_part\",\n      \"properties\": {\n        \"dtype\": \"number\",\n        \"std\": 0.15169995665267602,\n        \"min\": 0.0,\n        \"max\": 0.371148999,\n        \"num_unique_values\": 8,\n        \"samples\": [\n          0.019508796,\n          0.309479124\n        ],\n        \"semantic_type\": \"\",\n        \"description\": \"\"\n      }\n    },\n    {\n      \"column\": \"ttk_km\",\n      \"properties\": {\n        \"dtype\": \"number\",\n        \"std\": 3.834470199358094,\n        \"min\": 0.110483486,\n        \"max\": 16.28523864,\n        \"num_unique_values\": 509,\n        \"samples\": [\n          15.97225298,\n          7.560277291\n        ],\n        \"semantic_type\": \"\",\n        \"description\": \"\"\n      }\n    },\n    {\n      \"column\": \"trc_count\",\n      \"properties\": {\n        \"dtype\": \"number\",\n        \"std\": 10,\n        \"min\": 7,\n        \"max\": 64,\n        \"num_unique_values\": 48,\n        \"samples\": [\n          41,\n          47\n        ],\n        \"semantic_type\": \"\",\n        \"description\": \"\"\n      }\n    },\n    {\n      \"column\": \"year\",\n      \"properties\": {\n        \"dtype\": \"int32\",\n        \"num_unique_values\": 3,\n        \"samples\": [\n          2013,\n          2014\n        ],\n        \"semantic_type\": \"\",\n        \"description\": \"\"\n      }\n    },\n    {\n      \"column\": \"month\",\n      \"properties\": {\n        \"dtype\": \"int32\",\n        \"num_unique_values\": 12,\n        \"samples\": [\n          4,\n          3\n        ],\n        \"semantic_type\": \"\",\n        \"description\": \"\"\n      }\n    },\n    {\n      \"column\": \"day\",\n      \"properties\": {\n        \"dtype\": \"int32\",\n        \"num_unique_values\": 31,\n        \"samples\": [\n          5,\n          23\n        ],\n        \"semantic_type\": \"\",\n        \"description\": \"\"\n      }\n    }\n  ]\n}"
            }
          },
          "metadata": {},
          "execution_count": 38
        }
      ]
    },
    {
      "cell_type": "code",
      "source": [
        "X = sm.add_constant(df[['green_zone_part', 'industrial_part', 'ttk_km', 'trc_count', 'material_monolit', 'year', 'month', 'day']])\n",
        "Y = df['price_sq_m']\n",
        "model = sm.OLS(Y, X).fit()"
      ],
      "metadata": {
        "id": "2h6EWIUdGjHh"
      },
      "execution_count": 39,
      "outputs": []
    },
    {
      "cell_type": "code",
      "source": [
        "y_pred = model.predict(X)\n",
        "y_true = df['price_sq_m']\n",
        "\n",
        "mse = np.mean((y_true - y_pred) ** 2)\n",
        "mae = np.mean(np.abs(y_true - y_pred))\n",
        "\n",
        "print('MSE:', mse)\n",
        "print('MAE:', mae)\n",
        "print('R^2:', model.rsquared)"
      ],
      "metadata": {
        "colab": {
          "base_uri": "https://localhost:8080/"
        },
        "id": "l-0pcAuqGmsD",
        "outputId": "b022133d-491a-475e-ec7e-811847bcabf6"
      },
      "execution_count": 40,
      "outputs": [
        {
          "output_type": "stream",
          "name": "stdout",
          "text": [
            "MSE: 907815653.2427537\n",
            "MAE: 22972.81596450447\n",
            "R^2: 0.5545717346815421\n"
          ]
        }
      ]
    },
    {
      "cell_type": "markdown",
      "source": [
        "Обратим внимание на то, что модель показала схожий коэффициент детерминации, но при этом показатели средней абсолютной ошибки и как следствие среднеквадртичной ошибки уменьшились, что свидетельствует об улучшении качества модели"
      ],
      "metadata": {
        "id": "Mast2mA5G85j"
      }
    },
    {
      "cell_type": "markdown",
      "source": [
        "# Логистическая регрессия"
      ],
      "metadata": {
        "id": "DRS-04VR3uNo"
      }
    },
    {
      "cell_type": "code",
      "source": [
        "df['price_sq_m'].mean()"
      ],
      "metadata": {
        "colab": {
          "base_uri": "https://localhost:8080/"
        },
        "id": "8tXQjncmPasW",
        "outputId": "f7813b1e-6ad9-4760-c08e-5a413604457f"
      },
      "execution_count": 93,
      "outputs": [
        {
          "output_type": "execute_result",
          "data": {
            "text/plain": [
              "161803.23575207475"
            ]
          },
          "metadata": {},
          "execution_count": 93
        }
      ]
    },
    {
      "cell_type": "markdown",
      "source": [
        "Разобьем данные на категории по стоимости квадратного метра:\n",
        "- до 161803 - 0я категория (ниже среднего)\n",
        "- выше 161803 - 1я категория (выше среднего)"
      ],
      "metadata": {
        "id": "KdPohfG6IYNN"
      }
    },
    {
      "cell_type": "code",
      "source": [
        "def add_category(x):\n",
        "  if x < 161803:\n",
        "    return 0\n",
        "  else:\n",
        "    return 1\n",
        "\n",
        "df['price_cat'] = df['price_sq_m'].apply(add_category)\n",
        "df['price_cat'].value_counts()"
      ],
      "metadata": {
        "colab": {
          "base_uri": "https://localhost:8080/",
          "height": 198
        },
        "id": "wLdfRsthIdCl",
        "outputId": "d1eba2c0-31d7-4360-a464-15587f595e37"
      },
      "execution_count": 94,
      "outputs": [
        {
          "output_type": "execute_result",
          "data": {
            "text/plain": [
              "price_cat\n",
              "0    464\n",
              "1    441\n",
              "Name: count, dtype: int64"
            ],
            "text/html": [
              "<div>\n",
              "<style scoped>\n",
              "    .dataframe tbody tr th:only-of-type {\n",
              "        vertical-align: middle;\n",
              "    }\n",
              "\n",
              "    .dataframe tbody tr th {\n",
              "        vertical-align: top;\n",
              "    }\n",
              "\n",
              "    .dataframe thead th {\n",
              "        text-align: right;\n",
              "    }\n",
              "</style>\n",
              "<table border=\"1\" class=\"dataframe\">\n",
              "  <thead>\n",
              "    <tr style=\"text-align: right;\">\n",
              "      <th></th>\n",
              "      <th>count</th>\n",
              "    </tr>\n",
              "    <tr>\n",
              "      <th>price_cat</th>\n",
              "      <th></th>\n",
              "    </tr>\n",
              "  </thead>\n",
              "  <tbody>\n",
              "    <tr>\n",
              "      <th>0</th>\n",
              "      <td>464</td>\n",
              "    </tr>\n",
              "    <tr>\n",
              "      <th>1</th>\n",
              "      <td>441</td>\n",
              "    </tr>\n",
              "  </tbody>\n",
              "</table>\n",
              "</div><br><label><b>dtype:</b> int64</label>"
            ]
          },
          "metadata": {},
          "execution_count": 94
        }
      ]
    },
    {
      "cell_type": "markdown",
      "source": [
        "Разделим выборку на тестовую и тренировочную"
      ],
      "metadata": {
        "id": "uPpfl4YVJmnv"
      }
    },
    {
      "cell_type": "code",
      "source": [
        "from sklearn.model_selection import train_test_split\n",
        "from sklearn.linear_model import LogisticRegression\n",
        "from sklearn.metrics import precision_score, confusion_matrix, log_loss, accuracy_score, recall_score, roc_auc_score, roc_curve\n",
        "\n",
        "X = df[['material_monolit', 'green_zone_part', 'industrial_part', 'ttk_km', 'trc_count']]\n",
        "y = df['price_cat']\n",
        "\n",
        "X_train, X_test, y_train, y_test = train_test_split(X, y, test_size=0.2, random_state=42)"
      ],
      "metadata": {
        "id": "La_DzwIGJrab"
      },
      "execution_count": 129,
      "outputs": []
    },
    {
      "cell_type": "markdown",
      "source": [
        "Построим модель линейной регрессии"
      ],
      "metadata": {
        "id": "-UL5YC5PJT4T"
      }
    },
    {
      "cell_type": "code",
      "source": [
        "model = LogisticRegression()\n",
        "model.fit(X_train, y_train)"
      ],
      "metadata": {
        "colab": {
          "base_uri": "https://localhost:8080/",
          "height": 100
        },
        "id": "Seyv68YeJ-yR",
        "outputId": "dc1dc53e-fccb-4c17-83a4-892ec178caa7"
      },
      "execution_count": 130,
      "outputs": [
        {
          "output_type": "execute_result",
          "data": {
            "text/plain": [
              "LogisticRegression()"
            ],
            "text/html": [
              "<style>#sk-container-id-5 {\n",
              "  /* Definition of color scheme common for light and dark mode */\n",
              "  --sklearn-color-text: black;\n",
              "  --sklearn-color-line: gray;\n",
              "  /* Definition of color scheme for unfitted estimators */\n",
              "  --sklearn-color-unfitted-level-0: #fff5e6;\n",
              "  --sklearn-color-unfitted-level-1: #f6e4d2;\n",
              "  --sklearn-color-unfitted-level-2: #ffe0b3;\n",
              "  --sklearn-color-unfitted-level-3: chocolate;\n",
              "  /* Definition of color scheme for fitted estimators */\n",
              "  --sklearn-color-fitted-level-0: #f0f8ff;\n",
              "  --sklearn-color-fitted-level-1: #d4ebff;\n",
              "  --sklearn-color-fitted-level-2: #b3dbfd;\n",
              "  --sklearn-color-fitted-level-3: cornflowerblue;\n",
              "\n",
              "  /* Specific color for light theme */\n",
              "  --sklearn-color-text-on-default-background: var(--sg-text-color, var(--theme-code-foreground, var(--jp-content-font-color1, black)));\n",
              "  --sklearn-color-background: var(--sg-background-color, var(--theme-background, var(--jp-layout-color0, white)));\n",
              "  --sklearn-color-border-box: var(--sg-text-color, var(--theme-code-foreground, var(--jp-content-font-color1, black)));\n",
              "  --sklearn-color-icon: #696969;\n",
              "\n",
              "  @media (prefers-color-scheme: dark) {\n",
              "    /* Redefinition of color scheme for dark theme */\n",
              "    --sklearn-color-text-on-default-background: var(--sg-text-color, var(--theme-code-foreground, var(--jp-content-font-color1, white)));\n",
              "    --sklearn-color-background: var(--sg-background-color, var(--theme-background, var(--jp-layout-color0, #111)));\n",
              "    --sklearn-color-border-box: var(--sg-text-color, var(--theme-code-foreground, var(--jp-content-font-color1, white)));\n",
              "    --sklearn-color-icon: #878787;\n",
              "  }\n",
              "}\n",
              "\n",
              "#sk-container-id-5 {\n",
              "  color: var(--sklearn-color-text);\n",
              "}\n",
              "\n",
              "#sk-container-id-5 pre {\n",
              "  padding: 0;\n",
              "}\n",
              "\n",
              "#sk-container-id-5 input.sk-hidden--visually {\n",
              "  border: 0;\n",
              "  clip: rect(1px 1px 1px 1px);\n",
              "  clip: rect(1px, 1px, 1px, 1px);\n",
              "  height: 1px;\n",
              "  margin: -1px;\n",
              "  overflow: hidden;\n",
              "  padding: 0;\n",
              "  position: absolute;\n",
              "  width: 1px;\n",
              "}\n",
              "\n",
              "#sk-container-id-5 div.sk-dashed-wrapped {\n",
              "  border: 1px dashed var(--sklearn-color-line);\n",
              "  margin: 0 0.4em 0.5em 0.4em;\n",
              "  box-sizing: border-box;\n",
              "  padding-bottom: 0.4em;\n",
              "  background-color: var(--sklearn-color-background);\n",
              "}\n",
              "\n",
              "#sk-container-id-5 div.sk-container {\n",
              "  /* jupyter's `normalize.less` sets `[hidden] { display: none; }`\n",
              "     but bootstrap.min.css set `[hidden] { display: none !important; }`\n",
              "     so we also need the `!important` here to be able to override the\n",
              "     default hidden behavior on the sphinx rendered scikit-learn.org.\n",
              "     See: https://github.com/scikit-learn/scikit-learn/issues/21755 */\n",
              "  display: inline-block !important;\n",
              "  position: relative;\n",
              "}\n",
              "\n",
              "#sk-container-id-5 div.sk-text-repr-fallback {\n",
              "  display: none;\n",
              "}\n",
              "\n",
              "div.sk-parallel-item,\n",
              "div.sk-serial,\n",
              "div.sk-item {\n",
              "  /* draw centered vertical line to link estimators */\n",
              "  background-image: linear-gradient(var(--sklearn-color-text-on-default-background), var(--sklearn-color-text-on-default-background));\n",
              "  background-size: 2px 100%;\n",
              "  background-repeat: no-repeat;\n",
              "  background-position: center center;\n",
              "}\n",
              "\n",
              "/* Parallel-specific style estimator block */\n",
              "\n",
              "#sk-container-id-5 div.sk-parallel-item::after {\n",
              "  content: \"\";\n",
              "  width: 100%;\n",
              "  border-bottom: 2px solid var(--sklearn-color-text-on-default-background);\n",
              "  flex-grow: 1;\n",
              "}\n",
              "\n",
              "#sk-container-id-5 div.sk-parallel {\n",
              "  display: flex;\n",
              "  align-items: stretch;\n",
              "  justify-content: center;\n",
              "  background-color: var(--sklearn-color-background);\n",
              "  position: relative;\n",
              "}\n",
              "\n",
              "#sk-container-id-5 div.sk-parallel-item {\n",
              "  display: flex;\n",
              "  flex-direction: column;\n",
              "}\n",
              "\n",
              "#sk-container-id-5 div.sk-parallel-item:first-child::after {\n",
              "  align-self: flex-end;\n",
              "  width: 50%;\n",
              "}\n",
              "\n",
              "#sk-container-id-5 div.sk-parallel-item:last-child::after {\n",
              "  align-self: flex-start;\n",
              "  width: 50%;\n",
              "}\n",
              "\n",
              "#sk-container-id-5 div.sk-parallel-item:only-child::after {\n",
              "  width: 0;\n",
              "}\n",
              "\n",
              "/* Serial-specific style estimator block */\n",
              "\n",
              "#sk-container-id-5 div.sk-serial {\n",
              "  display: flex;\n",
              "  flex-direction: column;\n",
              "  align-items: center;\n",
              "  background-color: var(--sklearn-color-background);\n",
              "  padding-right: 1em;\n",
              "  padding-left: 1em;\n",
              "}\n",
              "\n",
              "\n",
              "/* Toggleable style: style used for estimator/Pipeline/ColumnTransformer box that is\n",
              "clickable and can be expanded/collapsed.\n",
              "- Pipeline and ColumnTransformer use this feature and define the default style\n",
              "- Estimators will overwrite some part of the style using the `sk-estimator` class\n",
              "*/\n",
              "\n",
              "/* Pipeline and ColumnTransformer style (default) */\n",
              "\n",
              "#sk-container-id-5 div.sk-toggleable {\n",
              "  /* Default theme specific background. It is overwritten whether we have a\n",
              "  specific estimator or a Pipeline/ColumnTransformer */\n",
              "  background-color: var(--sklearn-color-background);\n",
              "}\n",
              "\n",
              "/* Toggleable label */\n",
              "#sk-container-id-5 label.sk-toggleable__label {\n",
              "  cursor: pointer;\n",
              "  display: block;\n",
              "  width: 100%;\n",
              "  margin-bottom: 0;\n",
              "  padding: 0.5em;\n",
              "  box-sizing: border-box;\n",
              "  text-align: center;\n",
              "}\n",
              "\n",
              "#sk-container-id-5 label.sk-toggleable__label-arrow:before {\n",
              "  /* Arrow on the left of the label */\n",
              "  content: \"▸\";\n",
              "  float: left;\n",
              "  margin-right: 0.25em;\n",
              "  color: var(--sklearn-color-icon);\n",
              "}\n",
              "\n",
              "#sk-container-id-5 label.sk-toggleable__label-arrow:hover:before {\n",
              "  color: var(--sklearn-color-text);\n",
              "}\n",
              "\n",
              "/* Toggleable content - dropdown */\n",
              "\n",
              "#sk-container-id-5 div.sk-toggleable__content {\n",
              "  max-height: 0;\n",
              "  max-width: 0;\n",
              "  overflow: hidden;\n",
              "  text-align: left;\n",
              "  /* unfitted */\n",
              "  background-color: var(--sklearn-color-unfitted-level-0);\n",
              "}\n",
              "\n",
              "#sk-container-id-5 div.sk-toggleable__content.fitted {\n",
              "  /* fitted */\n",
              "  background-color: var(--sklearn-color-fitted-level-0);\n",
              "}\n",
              "\n",
              "#sk-container-id-5 div.sk-toggleable__content pre {\n",
              "  margin: 0.2em;\n",
              "  border-radius: 0.25em;\n",
              "  color: var(--sklearn-color-text);\n",
              "  /* unfitted */\n",
              "  background-color: var(--sklearn-color-unfitted-level-0);\n",
              "}\n",
              "\n",
              "#sk-container-id-5 div.sk-toggleable__content.fitted pre {\n",
              "  /* unfitted */\n",
              "  background-color: var(--sklearn-color-fitted-level-0);\n",
              "}\n",
              "\n",
              "#sk-container-id-5 input.sk-toggleable__control:checked~div.sk-toggleable__content {\n",
              "  /* Expand drop-down */\n",
              "  max-height: 200px;\n",
              "  max-width: 100%;\n",
              "  overflow: auto;\n",
              "}\n",
              "\n",
              "#sk-container-id-5 input.sk-toggleable__control:checked~label.sk-toggleable__label-arrow:before {\n",
              "  content: \"▾\";\n",
              "}\n",
              "\n",
              "/* Pipeline/ColumnTransformer-specific style */\n",
              "\n",
              "#sk-container-id-5 div.sk-label input.sk-toggleable__control:checked~label.sk-toggleable__label {\n",
              "  color: var(--sklearn-color-text);\n",
              "  background-color: var(--sklearn-color-unfitted-level-2);\n",
              "}\n",
              "\n",
              "#sk-container-id-5 div.sk-label.fitted input.sk-toggleable__control:checked~label.sk-toggleable__label {\n",
              "  background-color: var(--sklearn-color-fitted-level-2);\n",
              "}\n",
              "\n",
              "/* Estimator-specific style */\n",
              "\n",
              "/* Colorize estimator box */\n",
              "#sk-container-id-5 div.sk-estimator input.sk-toggleable__control:checked~label.sk-toggleable__label {\n",
              "  /* unfitted */\n",
              "  background-color: var(--sklearn-color-unfitted-level-2);\n",
              "}\n",
              "\n",
              "#sk-container-id-5 div.sk-estimator.fitted input.sk-toggleable__control:checked~label.sk-toggleable__label {\n",
              "  /* fitted */\n",
              "  background-color: var(--sklearn-color-fitted-level-2);\n",
              "}\n",
              "\n",
              "#sk-container-id-5 div.sk-label label.sk-toggleable__label,\n",
              "#sk-container-id-5 div.sk-label label {\n",
              "  /* The background is the default theme color */\n",
              "  color: var(--sklearn-color-text-on-default-background);\n",
              "}\n",
              "\n",
              "/* On hover, darken the color of the background */\n",
              "#sk-container-id-5 div.sk-label:hover label.sk-toggleable__label {\n",
              "  color: var(--sklearn-color-text);\n",
              "  background-color: var(--sklearn-color-unfitted-level-2);\n",
              "}\n",
              "\n",
              "/* Label box, darken color on hover, fitted */\n",
              "#sk-container-id-5 div.sk-label.fitted:hover label.sk-toggleable__label.fitted {\n",
              "  color: var(--sklearn-color-text);\n",
              "  background-color: var(--sklearn-color-fitted-level-2);\n",
              "}\n",
              "\n",
              "/* Estimator label */\n",
              "\n",
              "#sk-container-id-5 div.sk-label label {\n",
              "  font-family: monospace;\n",
              "  font-weight: bold;\n",
              "  display: inline-block;\n",
              "  line-height: 1.2em;\n",
              "}\n",
              "\n",
              "#sk-container-id-5 div.sk-label-container {\n",
              "  text-align: center;\n",
              "}\n",
              "\n",
              "/* Estimator-specific */\n",
              "#sk-container-id-5 div.sk-estimator {\n",
              "  font-family: monospace;\n",
              "  border: 1px dotted var(--sklearn-color-border-box);\n",
              "  border-radius: 0.25em;\n",
              "  box-sizing: border-box;\n",
              "  margin-bottom: 0.5em;\n",
              "  /* unfitted */\n",
              "  background-color: var(--sklearn-color-unfitted-level-0);\n",
              "}\n",
              "\n",
              "#sk-container-id-5 div.sk-estimator.fitted {\n",
              "  /* fitted */\n",
              "  background-color: var(--sklearn-color-fitted-level-0);\n",
              "}\n",
              "\n",
              "/* on hover */\n",
              "#sk-container-id-5 div.sk-estimator:hover {\n",
              "  /* unfitted */\n",
              "  background-color: var(--sklearn-color-unfitted-level-2);\n",
              "}\n",
              "\n",
              "#sk-container-id-5 div.sk-estimator.fitted:hover {\n",
              "  /* fitted */\n",
              "  background-color: var(--sklearn-color-fitted-level-2);\n",
              "}\n",
              "\n",
              "/* Specification for estimator info (e.g. \"i\" and \"?\") */\n",
              "\n",
              "/* Common style for \"i\" and \"?\" */\n",
              "\n",
              ".sk-estimator-doc-link,\n",
              "a:link.sk-estimator-doc-link,\n",
              "a:visited.sk-estimator-doc-link {\n",
              "  float: right;\n",
              "  font-size: smaller;\n",
              "  line-height: 1em;\n",
              "  font-family: monospace;\n",
              "  background-color: var(--sklearn-color-background);\n",
              "  border-radius: 1em;\n",
              "  height: 1em;\n",
              "  width: 1em;\n",
              "  text-decoration: none !important;\n",
              "  margin-left: 1ex;\n",
              "  /* unfitted */\n",
              "  border: var(--sklearn-color-unfitted-level-1) 1pt solid;\n",
              "  color: var(--sklearn-color-unfitted-level-1);\n",
              "}\n",
              "\n",
              ".sk-estimator-doc-link.fitted,\n",
              "a:link.sk-estimator-doc-link.fitted,\n",
              "a:visited.sk-estimator-doc-link.fitted {\n",
              "  /* fitted */\n",
              "  border: var(--sklearn-color-fitted-level-1) 1pt solid;\n",
              "  color: var(--sklearn-color-fitted-level-1);\n",
              "}\n",
              "\n",
              "/* On hover */\n",
              "div.sk-estimator:hover .sk-estimator-doc-link:hover,\n",
              ".sk-estimator-doc-link:hover,\n",
              "div.sk-label-container:hover .sk-estimator-doc-link:hover,\n",
              ".sk-estimator-doc-link:hover {\n",
              "  /* unfitted */\n",
              "  background-color: var(--sklearn-color-unfitted-level-3);\n",
              "  color: var(--sklearn-color-background);\n",
              "  text-decoration: none;\n",
              "}\n",
              "\n",
              "div.sk-estimator.fitted:hover .sk-estimator-doc-link.fitted:hover,\n",
              ".sk-estimator-doc-link.fitted:hover,\n",
              "div.sk-label-container:hover .sk-estimator-doc-link.fitted:hover,\n",
              ".sk-estimator-doc-link.fitted:hover {\n",
              "  /* fitted */\n",
              "  background-color: var(--sklearn-color-fitted-level-3);\n",
              "  color: var(--sklearn-color-background);\n",
              "  text-decoration: none;\n",
              "}\n",
              "\n",
              "/* Span, style for the box shown on hovering the info icon */\n",
              ".sk-estimator-doc-link span {\n",
              "  display: none;\n",
              "  z-index: 9999;\n",
              "  position: relative;\n",
              "  font-weight: normal;\n",
              "  right: .2ex;\n",
              "  padding: .5ex;\n",
              "  margin: .5ex;\n",
              "  width: min-content;\n",
              "  min-width: 20ex;\n",
              "  max-width: 50ex;\n",
              "  color: var(--sklearn-color-text);\n",
              "  box-shadow: 2pt 2pt 4pt #999;\n",
              "  /* unfitted */\n",
              "  background: var(--sklearn-color-unfitted-level-0);\n",
              "  border: .5pt solid var(--sklearn-color-unfitted-level-3);\n",
              "}\n",
              "\n",
              ".sk-estimator-doc-link.fitted span {\n",
              "  /* fitted */\n",
              "  background: var(--sklearn-color-fitted-level-0);\n",
              "  border: var(--sklearn-color-fitted-level-3);\n",
              "}\n",
              "\n",
              ".sk-estimator-doc-link:hover span {\n",
              "  display: block;\n",
              "}\n",
              "\n",
              "/* \"?\"-specific style due to the `<a>` HTML tag */\n",
              "\n",
              "#sk-container-id-5 a.estimator_doc_link {\n",
              "  float: right;\n",
              "  font-size: 1rem;\n",
              "  line-height: 1em;\n",
              "  font-family: monospace;\n",
              "  background-color: var(--sklearn-color-background);\n",
              "  border-radius: 1rem;\n",
              "  height: 1rem;\n",
              "  width: 1rem;\n",
              "  text-decoration: none;\n",
              "  /* unfitted */\n",
              "  color: var(--sklearn-color-unfitted-level-1);\n",
              "  border: var(--sklearn-color-unfitted-level-1) 1pt solid;\n",
              "}\n",
              "\n",
              "#sk-container-id-5 a.estimator_doc_link.fitted {\n",
              "  /* fitted */\n",
              "  border: var(--sklearn-color-fitted-level-1) 1pt solid;\n",
              "  color: var(--sklearn-color-fitted-level-1);\n",
              "}\n",
              "\n",
              "/* On hover */\n",
              "#sk-container-id-5 a.estimator_doc_link:hover {\n",
              "  /* unfitted */\n",
              "  background-color: var(--sklearn-color-unfitted-level-3);\n",
              "  color: var(--sklearn-color-background);\n",
              "  text-decoration: none;\n",
              "}\n",
              "\n",
              "#sk-container-id-5 a.estimator_doc_link.fitted:hover {\n",
              "  /* fitted */\n",
              "  background-color: var(--sklearn-color-fitted-level-3);\n",
              "}\n",
              "</style><div id=\"sk-container-id-5\" class=\"sk-top-container\"><div class=\"sk-text-repr-fallback\"><pre>LogisticRegression()</pre><b>In a Jupyter environment, please rerun this cell to show the HTML representation or trust the notebook. <br />On GitHub, the HTML representation is unable to render, please try loading this page with nbviewer.org.</b></div><div class=\"sk-container\" hidden><div class=\"sk-item\"><div class=\"sk-estimator fitted sk-toggleable\"><input class=\"sk-toggleable__control sk-hidden--visually\" id=\"sk-estimator-id-5\" type=\"checkbox\" checked><label for=\"sk-estimator-id-5\" class=\"sk-toggleable__label fitted sk-toggleable__label-arrow fitted\">&nbsp;&nbsp;LogisticRegression<a class=\"sk-estimator-doc-link fitted\" rel=\"noreferrer\" target=\"_blank\" href=\"https://scikit-learn.org/1.5/modules/generated/sklearn.linear_model.LogisticRegression.html\">?<span>Documentation for LogisticRegression</span></a><span class=\"sk-estimator-doc-link fitted\">i<span>Fitted</span></span></label><div class=\"sk-toggleable__content fitted\"><pre>LogisticRegression()</pre></div> </div></div></div></div>"
            ]
          },
          "metadata": {},
          "execution_count": 130
        }
      ]
    },
    {
      "cell_type": "markdown",
      "source": [
        "Оценим метрики качества модели"
      ],
      "metadata": {
        "id": "nbS2QLC5KIFz"
      }
    },
    {
      "cell_type": "code",
      "source": [
        "y_pred = model.predict(X_test)"
      ],
      "metadata": {
        "id": "VzR9fMdPKD9O"
      },
      "execution_count": 131,
      "outputs": []
    },
    {
      "cell_type": "code",
      "source": [
        "y_pred1 = model.predict_proba(X_test)"
      ],
      "metadata": {
        "id": "II3eLj8qMBiF"
      },
      "execution_count": 132,
      "outputs": []
    },
    {
      "cell_type": "code",
      "source": [
        "model.classes_"
      ],
      "metadata": {
        "colab": {
          "base_uri": "https://localhost:8080/"
        },
        "id": "6_z0WCOmLyHy",
        "outputId": "af03f442-a24e-4a42-d2e3-6ee01d622fda"
      },
      "execution_count": 133,
      "outputs": [
        {
          "output_type": "execute_result",
          "data": {
            "text/plain": [
              "array([0, 1])"
            ]
          },
          "metadata": {},
          "execution_count": 133
        }
      ]
    },
    {
      "cell_type": "code",
      "source": [
        "log_loss(y_test, y_pred1)"
      ],
      "metadata": {
        "colab": {
          "base_uri": "https://localhost:8080/"
        },
        "id": "SBV3FjZjLMip",
        "outputId": "a0f8130d-8820-4198-d32f-caf5dcbd12ea"
      },
      "execution_count": 134,
      "outputs": [
        {
          "output_type": "execute_result",
          "data": {
            "text/plain": [
              "0.4975148049024358"
            ]
          },
          "metadata": {},
          "execution_count": 134
        }
      ]
    },
    {
      "cell_type": "markdown",
      "source": [
        "Низкое значение logloss говорит о том, что модель хорошо оценивает вероятности и достаточно точна в своих предсказаниях"
      ],
      "metadata": {
        "id": "1ZhI_FrdO52Q"
      }
    },
    {
      "cell_type": "code",
      "source": [
        "confusion_matrix(y_test, y_pred)"
      ],
      "metadata": {
        "colab": {
          "base_uri": "https://localhost:8080/"
        },
        "id": "OHvz4NDKMOBW",
        "outputId": "e81eabba-cb8d-4cf2-bcae-d492ffdd087b"
      },
      "execution_count": 101,
      "outputs": [
        {
          "output_type": "execute_result",
          "data": {
            "text/plain": [
              "array([[68, 23],\n",
              "       [13, 77]])"
            ]
          },
          "metadata": {},
          "execution_count": 101
        }
      ]
    },
    {
      "cell_type": "markdown",
      "source": [
        "Модель более склонна к ложным срабатываниям на классе \"ниже среднего\" для цены за квадратный метр (23 ошибки)"
      ],
      "metadata": {
        "id": "VeGrvZD3PHXs"
      }
    },
    {
      "cell_type": "code",
      "source": [
        "accuracy_score(y_test, y_pred)"
      ],
      "metadata": {
        "colab": {
          "base_uri": "https://localhost:8080/"
        },
        "id": "q11GdLkZMZCy",
        "outputId": "d58ae50a-67ff-4ff4-8bf5-00b57b71897c"
      },
      "execution_count": 102,
      "outputs": [
        {
          "output_type": "execute_result",
          "data": {
            "text/plain": [
              "0.8011049723756906"
            ]
          },
          "metadata": {},
          "execution_count": 102
        }
      ]
    },
    {
      "cell_type": "markdown",
      "source": [
        "Модель правильно классифицировала 80.1% всех объектов, что является хорошим результатом"
      ],
      "metadata": {
        "id": "ijus5fg8PRnc"
      }
    },
    {
      "cell_type": "code",
      "source": [
        "precision_score(y_test, y_pred)"
      ],
      "metadata": {
        "colab": {
          "base_uri": "https://localhost:8080/"
        },
        "id": "93qpuinHMlSz",
        "outputId": "010df869-419b-4355-94a1-abc8d4ac5114"
      },
      "execution_count": 103,
      "outputs": [
        {
          "output_type": "execute_result",
          "data": {
            "text/plain": [
              "0.77"
            ]
          },
          "metadata": {},
          "execution_count": 103
        }
      ]
    },
    {
      "cell_type": "markdown",
      "source": [
        "Из всех объектов, предсказанных как \"выше среднего\", 77% действительно являются таковыми"
      ],
      "metadata": {
        "id": "DbquKr4SPWwG"
      }
    },
    {
      "cell_type": "code",
      "source": [
        "recall_score(y_test, y_pred)"
      ],
      "metadata": {
        "colab": {
          "base_uri": "https://localhost:8080/"
        },
        "id": "SOy2RHADNiij",
        "outputId": "8ee91eca-a111-48fa-c7a6-af1ca43e6ee8"
      },
      "execution_count": 89,
      "outputs": [
        {
          "output_type": "execute_result",
          "data": {
            "text/plain": [
              "0.8253968253968254"
            ]
          },
          "metadata": {},
          "execution_count": 89
        }
      ]
    },
    {
      "cell_type": "markdown",
      "source": [
        "Модель находит 82.5% всех объектов, чья цена за квадратный метр выше среднего"
      ],
      "metadata": {
        "id": "oXIpgi6vP48U"
      }
    },
    {
      "cell_type": "code",
      "source": [
        "roc_auc_score(y_test, y_pred1[:, 1])"
      ],
      "metadata": {
        "colab": {
          "base_uri": "https://localhost:8080/"
        },
        "id": "P5b9gSNNNtAN",
        "outputId": "a0615aba-8c92-497f-d93b-e23110d2c875"
      },
      "execution_count": 92,
      "outputs": [
        {
          "output_type": "execute_result",
          "data": {
            "text/plain": [
              "0.8751008878127522"
            ]
          },
          "metadata": {},
          "execution_count": 92
        }
      ]
    },
    {
      "cell_type": "markdown",
      "source": [
        "У модели высокая способность разделять по стоимости квадратного метра (выше / ниже среднего) здания на основе вероятностей"
      ],
      "metadata": {
        "id": "S-C2sjIDQBDx"
      }
    },
    {
      "cell_type": "markdown",
      "source": [
        "Модель демонстрирует хороший баланс между метриками:\n",
        "\n",
        "- Высокие Accuracy и Recall говорят о том, что модель эффективно распознает оба класса\n",
        "- Precision немного ниже из-за наличием ложных срабатываний\n",
        "- ROC AUC подчеркивает, что модель хорошо предсказывает вероятности для классов."
      ],
      "metadata": {
        "id": "HXDnemu6QH2U"
      }
    },
    {
      "cell_type": "markdown",
      "source": [
        "# Базовая визуализация"
      ],
      "metadata": {
        "id": "3IszGx5J3y0N"
      }
    },
    {
      "cell_type": "code",
      "source": [
        "import seaborn as sns\n",
        "from matplotlib import pyplot as plt\n",
        "\n",
        "sns.heatmap(\n",
        "    df[['price_sq_m', 'green_zone_part', 'industrial_part', 'ttk_km', 'trc_count']].corr(),\n",
        "    annot=True, cmap='RdYlGn', vmin=-1, vmax=1\n",
        ")\n",
        "plt.title('Тепловая карта корреляций признаков между собой')\n",
        "plt.show()"
      ],
      "metadata": {
        "colab": {
          "base_uri": "https://localhost:8080/",
          "height": 574
        },
        "id": "PFn6kxWESTfe",
        "outputId": "48019fc9-1c3b-4f44-b3eb-4ab559ab4055"
      },
      "execution_count": 118,
      "outputs": [
        {
          "output_type": "display_data",
          "data": {
            "text/plain": [
              "<Figure size 640x480 with 2 Axes>"
            ],
            "image/png": "[encoded data removed]"
          },
          "metadata": {}
        }
      ]
    },
    {
      "cell_type": "code",
      "source": [
        "fig, ax = plt.subplots(figsize=(10, 7))\n",
        "ax.scatter(\n",
        "    df['price_sq_m'], df['ttk_km'],\n",
        "    c=df['green_zone_part'], s=df['industrial_part']*100,\n",
        "    alpha=0.7\n",
        "    )\n",
        "ax.set_title('Зависимость числа зданий от удаленности от ттк, зазеленённости территории и индустриализации района')\n",
        "ax.set_xlabel('Стоимость квадратного метра')\n",
        "ax.set_ylabel('Удалённость от ТТК (км)')\n",
        "plt.show()"
      ],
      "metadata": {
        "colab": {
          "base_uri": "https://localhost:8080/",
          "height": 661
        },
        "id": "YSVc6hawTo1Q",
        "outputId": "aa76834a-b006-440d-9f1e-6916c2ead755"
      },
      "execution_count": 127,
      "outputs": [
        {
          "output_type": "display_data",
          "data": {
            "text/plain": [
              "<Figure size 1000x700 with 1 Axes>"
            ],
            "image/png": "[encoded data removed]"
          },
          "metadata": {}
        }
      ]
    },
    {
      "cell_type": "code",
      "source": [
        "fig, ax = plt.subplots(figsize = (10, 5))\n",
        "\n",
        "ax.plot([0, 1], [0, 1], 'k--', label='Cлучайный классификатор', alpha = 0.5)\n",
        "fpr, tpr, thresholds = roc_curve(y_test, y_pred1[:, 1], pos_label=1)\n",
        "ax.plot(fpr, tpr, label = 'ROC')\n",
        "ax.fill_between(fpr, 0, tpr, alpha=0.2, label = f'AUC={round(roc_auc_score(y_test, y_pred1[:, 1]), 2)}')\n",
        "ax.set_xlabel('FPR')\n",
        "ax.set_ylabel('TPR')\n",
        "ax.set_title(f'Модель линейной регрессии')\n",
        "ax.legend(loc = 4)\n",
        "\n",
        "plt.show()"
      ],
      "metadata": {
        "colab": {
          "base_uri": "https://localhost:8080/",
          "height": 507
        },
        "id": "hClm69QIWRtZ",
        "outputId": "44e60322-4062-499e-948b-0771cbf3c36b"
      },
      "execution_count": 137,
      "outputs": [
        {
          "output_type": "display_data",
          "data": {
            "text/plain": [
              "<Figure size 1000x500 with 1 Axes>"
            ],
            "image/png": "[encoded data removed]"
          },
          "metadata": {}
        }
      ]
    },
    {
      "cell_type": "markdown",
      "source": [
        "# Продвинутая визуализация"
      ],
      "metadata": {
        "id": "sqtsKUaa31rB"
      }
    },
    {
      "cell_type": "code",
      "source": [
        "mean_price = df.groupby('year')['price_sq_m'].mean()\n",
        "trace = go.Bar(\n",
        "    x=mean_price.index, y=mean_price\n",
        ")\n",
        "layout = go.Layout(\n",
        "    title='Распределение средней цены за квадратный метр от года',\n",
        "    xaxis_title='Год',\n",
        "    yaxis_title='Средняя цена за квадратный метр'\n",
        "  )\n",
        "fig = go.Figure(data=trace, layout=layout)\n",
        "fig"
      ],
      "metadata": {
        "colab": {
          "base_uri": "https://localhost:8080/",
          "height": 562
        },
        "id": "seL7TUCR0evV",
        "outputId": "1867debd-f7a7-4bb5-c945-d3bb79c4d049"
      },
      "execution_count": 158,
      "outputs": [
        {
          "output_type": "display_data",
          "data": {
            "text/html": [
              "<html>\n",
              "<head><meta charset=\"utf-8\" /></head>\n",
              "<body>\n",
              "    <div>            <script src=\"https://cdnjs.cloudflare.com/ajax/libs/mathjax/2.7.5/MathJax.js?config=TeX-AMS-MML_SVG\"></script><script type=\"text/javascript\">if (window.MathJax && window.MathJax.Hub && window.MathJax.Hub.Config) {window.MathJax.Hub.Config({SVG: {font: \"STIX-Web\"}});}</script>                <script type=\"text/javascript\">window.PlotlyConfig = {MathJaxConfig: 'local'};</script>\n",
              "        <script charset=\"utf-8\" src=\"https://cdn.plot.ly/plotly-2.35.2.min.js\"></script>                <div id=\"d772d0a4-fb48-4503-b420-09a97bf389c3\" class=\"plotly-graph-div\" style=\"height:525px; width:100%;\"></div>            <script type=\"text/javascript\">                                    window.PLOTLYENV=window.PLOTLYENV || {};                                    if (document.getElementById(\"d772d0a4-fb48-4503-b420-09a97bf389c3\")) {                    Plotly.newPlot(                        \"d772d0a4-fb48-4503-b420-09a97bf389c3\",                        [{\"x\":[2013,2014,2015],\"y\":[163205.85082901877,161389.62764762857,161883.92241315462],\"type\":\"bar\"}],                        {\"title\":{\"text\":\"Распределение средней цены за квадратный метр от года\"},\"xaxis\":{\"title\":{\"text\":\"Год\"}},\"yaxis\":{\"title\":{\"text\":\"Средняя цена за квадратный метр\"}},\"template\":{\"data\":{\"histogram2dcontour\":[{\"type\":\"histogram2dcontour\",\"colorbar\":{\"outlinewidth\":0,\"ticks\":\"\"},\"colorscale\":[[0.0,\"#0d0887\"],[0.1111111111111111,\"#46039f\"],[0.2222222222222222,\"#7201a8\"],[0.3333333333333333,\"#9c179e\"],[0.4444444444444444,\"#bd3786\"],[0.5555555555555556,\"#d8576b\"],[0.6666666666666666,\"#ed7953\"],[0.7777777777777778,\"#fb9f3a\"],[0.8888888888888888,\"#fdca26\"],[1.0,\"#f0f921\"]]}],\"choropleth\":[{\"type\":\"choropleth\",\"colorbar\":{\"outlinewidth\":0,\"ticks\":\"\"}}],\"histogram2d\":[{\"type\":\"histogram2d\",\"colorbar\":{\"outlinewidth\":0,\"ticks\":\"\"},\"colorscale\":[[0.0,\"#0d0887\"],[0.1111111111111111,\"#46039f\"],[0.2222222222222222,\"#7201a8\"],[0.3333333333333333,\"#9c179e\"],[0.4444444444444444,\"#bd3786\"],[0.5555555555555556,\"#d8576b\"],[0.6666666666666666,\"#ed7953\"],[0.7777777777777778,\"#fb9f3a\"],[0.8888888888888888,\"#fdca26\"],[1.0,\"#f0f921\"]]}],\"heatmap\":[{\"type\":\"heatmap\",\"colorbar\":{\"outlinewidth\":0,\"ticks\":\"\"},\"colorscale\":[[0.0,\"#0d0887\"],[0.1111111111111111,\"#46039f\"],[0.2222222222222222,\"#7201a8\"],[0.3333333333333333,\"#9c179e\"],[0.4444444444444444,\"#bd3786\"],[0.5555555555555556,\"#d8576b\"],[0.6666666666666666,\"#ed7953\"],[0.7777777777777778,\"#fb9f3a\"],[0.8888888888888888,\"#fdca26\"],[1.0,\"#f0f921\"]]}],\"heatmapgl\":[{\"type\":\"heatmapgl\",\"colorbar\":{\"outlinewidth\":0,\"ticks\":\"\"},\"colorscale\":[[0.0,\"#0d0887\"],[0.1111111111111111,\"#46039f\"],[0.2222222222222222,\"#7201a8\"],[0.3333333333333333,\"#9c179e\"],[0.4444444444444444,\"#bd3786\"],[0.5555555555555556,\"#d8576b\"],[0.6666666666666666,\"#ed7953\"],[0.7777777777777778,\"#fb9f3a\"],[0.8888888888888888,\"#fdca26\"],[1.0,\"#f0f921\"]]}],\"contourcarpet\":[{\"type\":\"contourcarpet\",\"colorbar\":{\"outlinewidth\":0,\"ticks\":\"\"}}],\"contour\":[{\"type\":\"contour\",\"colorbar\":{\"outlinewidth\":0,\"ticks\":\"\"},\"colorscale\":[[0.0,\"#0d0887\"],[0.1111111111111111,\"#46039f\"],[0.2222222222222222,\"#7201a8\"],[0.3333333333333333,\"#9c179e\"],[0.4444444444444444,\"#bd3786\"],[0.5555555555555556,\"#d8576b\"],[0.6666666666666666,\"#ed7953\"],[0.7777777777777778,\"#fb9f3a\"],[0.8888888888888888,\"#fdca26\"],[1.0,\"#f0f921\"]]}],\"surface\":[{\"type\":\"surface\",\"colorbar\":{\"outlinewidth\":0,\"ticks\":\"\"},\"colorscale\":[[0.0,\"#0d0887\"],[0.1111111111111111,\"#46039f\"],[0.2222222222222222,\"#7201a8\"],[0.3333333333333333,\"#9c179e\"],[0.4444444444444444,\"#bd3786\"],[0.5555555555555556,\"#d8576b\"],[0.6666666666666666,\"#ed7953\"],[0.7777777777777778,\"#fb9f3a\"],[0.8888888888888888,\"#fdca26\"],[1.0,\"#f0f921\"]]}],\"mesh3d\":[{\"type\":\"mesh3d\",\"colorbar\":{\"outlinewidth\":0,\"ticks\":\"\"}}],\"scatter\":[{\"fillpattern\":{\"fillmode\":\"overlay\",\"size\":10,\"solidity\":0.2},\"type\":\"scatter\"}],\"parcoords\":[{\"type\":\"parcoords\",\"line\":{\"colorbar\":{\"outlinewidth\":0,\"ticks\":\"\"}}}],\"scatterpolargl\":[{\"type\":\"scatterpolargl\",\"marker\":{\"colorbar\":{\"outlinewidth\":0,\"ticks\":\"\"}}}],\"bar\":[{\"error_x\":{\"color\":\"#2a3f5f\"},\"error_y\":{\"color\":\"#2a3f5f\"},\"marker\":{\"line\":{\"color\":\"#E5ECF6\",\"width\":0.5},\"pattern\":{\"fillmode\":\"overlay\",\"size\":10,\"solidity\":0.2}},\"type\":\"bar\"}],\"scattergeo\":[{\"type\":\"scattergeo\",\"marker\":{\"colorbar\":{\"outlinewidth\":0,\"ticks\":\"\"}}}],\"scatterpolar\":[{\"type\":\"scatterpolar\",\"marker\":{\"colorbar\":{\"outlinewidth\":0,\"ticks\":\"\"}}}],\"histogram\":[{\"marker\":{\"pattern\":{\"fillmode\":\"overlay\",\"size\":10,\"solidity\":0.2}},\"type\":\"histogram\"}],\"scattergl\":[{\"type\":\"scattergl\",\"marker\":{\"colorbar\":{\"outlinewidth\":0,\"ticks\":\"\"}}}],\"scatter3d\":[{\"type\":\"scatter3d\",\"line\":{\"colorbar\":{\"outlinewidth\":0,\"ticks\":\"\"}},\"marker\":{\"colorbar\":{\"outlinewidth\":0,\"ticks\":\"\"}}}],\"scattermapbox\":[{\"type\":\"scattermapbox\",\"marker\":{\"colorbar\":{\"outlinewidth\":0,\"ticks\":\"\"}}}],\"scatterternary\":[{\"type\":\"scatterternary\",\"marker\":{\"colorbar\":{\"outlinewidth\":0,\"ticks\":\"\"}}}],\"scattercarpet\":[{\"type\":\"scattercarpet\",\"marker\":{\"colorbar\":{\"outlinewidth\":0,\"ticks\":\"\"}}}],\"carpet\":[{\"aaxis\":{\"endlinecolor\":\"#2a3f5f\",\"gridcolor\":\"white\",\"linecolor\":\"white\",\"minorgridcolor\":\"white\",\"startlinecolor\":\"#2a3f5f\"},\"baxis\":{\"endlinecolor\":\"#2a3f5f\",\"gridcolor\":\"white\",\"linecolor\":\"white\",\"minorgridcolor\":\"white\",\"startlinecolor\":\"#2a3f5f\"},\"type\":\"carpet\"}],\"table\":[{\"cells\":{\"fill\":{\"color\":\"#EBF0F8\"},\"line\":{\"color\":\"white\"}},\"header\":{\"fill\":{\"color\":\"#C8D4E3\"},\"line\":{\"color\":\"white\"}},\"type\":\"table\"}],\"barpolar\":[{\"marker\":{\"line\":{\"color\":\"#E5ECF6\",\"width\":0.5},\"pattern\":{\"fillmode\":\"overlay\",\"size\":10,\"solidity\":0.2}},\"type\":\"barpolar\"}],\"pie\":[{\"automargin\":true,\"type\":\"pie\"}]},\"layout\":{\"autotypenumbers\":\"strict\",\"colorway\":[\"#636efa\",\"#EF553B\",\"#00cc96\",\"#ab63fa\",\"#FFA15A\",\"#19d3f3\",\"#FF6692\",\"#B6E880\",\"#FF97FF\",\"#FECB52\"],\"font\":{\"color\":\"#2a3f5f\"},\"hovermode\":\"closest\",\"hoverlabel\":{\"align\":\"left\"},\"paper_bgcolor\":\"white\",\"plot_bgcolor\":\"#E5ECF6\",\"polar\":{\"bgcolor\":\"#E5ECF6\",\"angularaxis\":{\"gridcolor\":\"white\",\"linecolor\":\"white\",\"ticks\":\"\"},\"radialaxis\":{\"gridcolor\":\"white\",\"linecolor\":\"white\",\"ticks\":\"\"}},\"ternary\":{\"bgcolor\":\"#E5ECF6\",\"aaxis\":{\"gridcolor\":\"white\",\"linecolor\":\"white\",\"ticks\":\"\"},\"baxis\":{\"gridcolor\":\"white\",\"linecolor\":\"white\",\"ticks\":\"\"},\"caxis\":{\"gridcolor\":\"white\",\"linecolor\":\"white\",\"ticks\":\"\"}},\"coloraxis\":{\"colorbar\":{\"outlinewidth\":0,\"ticks\":\"\"}},\"colorscale\":{\"sequential\":[[0.0,\"#0d0887\"],[0.1111111111111111,\"#46039f\"],[0.2222222222222222,\"#7201a8\"],[0.3333333333333333,\"#9c179e\"],[0.4444444444444444,\"#bd3786\"],[0.5555555555555556,\"#d8576b\"],[0.6666666666666666,\"#ed7953\"],[0.7777777777777778,\"#fb9f3a\"],[0.8888888888888888,\"#fdca26\"],[1.0,\"#f0f921\"]],\"sequentialminus\":[[0.0,\"#0d0887\"],[0.1111111111111111,\"#46039f\"],[0.2222222222222222,\"#7201a8\"],[0.3333333333333333,\"#9c179e\"],[0.4444444444444444,\"#bd3786\"],[0.5555555555555556,\"#d8576b\"],[0.6666666666666666,\"#ed7953\"],[0.7777777777777778,\"#fb9f3a\"],[0.8888888888888888,\"#fdca26\"],[1.0,\"#f0f921\"]],\"diverging\":[[0,\"#8e0152\"],[0.1,\"#c51b7d\"],[0.2,\"#de77ae\"],[0.3,\"#f1b6da\"],[0.4,\"#fde0ef\"],[0.5,\"#f7f7f7\"],[0.6,\"#e6f5d0\"],[0.7,\"#b8e186\"],[0.8,\"#7fbc41\"],[0.9,\"#4d9221\"],[1,\"#276419\"]]},\"xaxis\":{\"gridcolor\":\"white\",\"linecolor\":\"white\",\"ticks\":\"\",\"title\":{\"standoff\":15},\"zerolinecolor\":\"white\",\"automargin\":true,\"zerolinewidth\":2},\"yaxis\":{\"gridcolor\":\"white\",\"linecolor\":\"white\",\"ticks\":\"\",\"title\":{\"standoff\":15},\"zerolinecolor\":\"white\",\"automargin\":true,\"zerolinewidth\":2},\"scene\":{\"xaxis\":{\"backgroundcolor\":\"#E5ECF6\",\"gridcolor\":\"white\",\"linecolor\":\"white\",\"showbackground\":true,\"ticks\":\"\",\"zerolinecolor\":\"white\",\"gridwidth\":2},\"yaxis\":{\"backgroundcolor\":\"#E5ECF6\",\"gridcolor\":\"white\",\"linecolor\":\"white\",\"showbackground\":true,\"ticks\":\"\",\"zerolinecolor\":\"white\",\"gridwidth\":2},\"zaxis\":{\"backgroundcolor\":\"#E5ECF6\",\"gridcolor\":\"white\",\"linecolor\":\"white\",\"showbackground\":true,\"ticks\":\"\",\"zerolinecolor\":\"white\",\"gridwidth\":2}},\"shapedefaults\":{\"line\":{\"color\":\"#2a3f5f\"}},\"annotationdefaults\":{\"arrowcolor\":\"#2a3f5f\",\"arrowhead\":0,\"arrowwidth\":1},\"geo\":{\"bgcolor\":\"white\",\"landcolor\":\"#E5ECF6\",\"subunitcolor\":\"white\",\"showland\":true,\"showlakes\":true,\"lakecolor\":\"white\"},\"title\":{\"x\":0.05},\"mapbox\":{\"style\":\"light\"}}}},                        {\"responsive\": true}                    ).then(function(){\n",
              "                            \n",
              "var gd = document.getElementById('d772d0a4-fb48-4503-b420-09a97bf389c3');\n",
              "var x = new MutationObserver(function (mutations, observer) {{\n",
              "        var display = window.getComputedStyle(gd).display;\n",
              "        if (!display || display === 'none') {{\n",
              "            console.log([gd, 'removed!']);\n",
              "            Plotly.purge(gd);\n",
              "            observer.disconnect();\n",
              "        }}\n",
              "}});\n",
              "\n",
              "// Listen for the removal of the full notebook cells\n",
              "var notebookContainer = gd.closest('#notebook-container');\n",
              "if (notebookContainer) {{\n",
              "    x.observe(notebookContainer, {childList: true});\n",
              "}}\n",
              "\n",
              "// Listen for the clearing of the current output cell\n",
              "var outputEl = gd.closest('.output');\n",
              "if (outputEl) {{\n",
              "    x.observe(outputEl, {childList: true});\n",
              "}}\n",
              "\n",
              "                        })                };                            </script>        </div>\n",
              "</body>\n",
              "</html>"
            ]
          },
          "metadata": {}
        }
      ]
    },
    {
      "cell_type": "code",
      "source": [
        "import plotly.graph_objects as go\n",
        "\n",
        "trace0 = go.Scatter(\n",
        "    x=df[df['material_monolit'] == 0]['ttk_km'],\n",
        "    y=df[df['material_monolit'] == 0]['price_sq_m'],\n",
        "    mode='markers',\n",
        "    name='Не монолит'\n",
        ")\n",
        "trace1 = go.Scatter(\n",
        "    x=df[df['material_monolit'] == 1]['ttk_km'],\n",
        "    y=df[df['material_monolit'] == 1]['price_sq_m'],\n",
        "    mode='markers',\n",
        "    name='Монолит'\n",
        ")\n",
        "layout = go.Layout(\n",
        "    title='Распределение цены за квадратный метр от удаленности от ТТК среди монолитных и не монолитных домов',\n",
        "    xaxis_title='Расстояние от ТТК (км)',\n",
        "    yaxis_title='Цена за квадратный метр'\n",
        "    )\n",
        "fig = go.Figure(data=[trace0, trace1], layout=layout)\n",
        "fig"
      ],
      "metadata": {
        "colab": {
          "base_uri": "https://localhost:8080/",
          "height": 562
        },
        "id": "DGoouZdF3tT7",
        "outputId": "d911d85c-07cc-4bb8-b1ce-e1637f7b0914"
      },
      "execution_count": 172,
      "outputs": [
        {
          "output_type": "display_data",
          "data": {
            "text/html": [
              "<html>\n",
              "<head><meta charset=\"utf-8\" /></head>\n",
              "<body>\n",
              "    <div>            <script src=\"https://cdnjs.cloudflare.com/ajax/libs/mathjax/2.7.5/MathJax.js?config=TeX-AMS-MML_SVG\"></script><script type=\"text/javascript\">if (window.MathJax && window.MathJax.Hub && window.MathJax.Hub.Config) {window.MathJax.Hub.Config({SVG: {font: \"STIX-Web\"}});}</script>                <script type=\"text/javascript\">window.PlotlyConfig = {MathJaxConfig: 'local'};</script>\n",
              "        <script charset=\"utf-8\" src=\"https://cdn.plot.ly/plotly-2.35.2.min.js\"></script>                <div id=\"e14ef796-f45b-427b-a03d-99762a782f5a\" class=\"plotly-graph-div\" style=\"height:525px; width:100%;\"></div>            <script type=\"text/javascript\">                                    window.PLOTLYENV=window.PLOTLYENV || {};                                    if (document.getElementById(\"e14ef796-f45b-427b-a03d-99762a782f5a\")) {                    Plotly.newPlot(                        \"e14ef796-f45b-427b-a03d-99762a782f5a\",                        [{\"mode\":\"markers\",\"name\":\"Не монолит\",\"x\":[12.75509186,1.80085356,6.828562624,6.006676769,8.955545043,7.259686273,8.921792263,5.720875677,7.69690768,11.22848159,8.681830509,15.01827723,12.13484997,7.535063791,0.956949879,14.79303403,4.844004735,12.37418025,4.76304239,12.71586221,15.71568412,5.042811469,12.53227255,7.69690768,11.41013722,12.6055929,9.825659541,1.045146113,8.024270474,16.28523864,4.857984875,7.374381974,6.935044366,14.631503,12.18526699,7.910572905,8.63247155,4.709308586,7.171472518,6.335110391,7.69690768,12.19876562,12.4226634,13.19587598,3.759125033,7.957367957,6.583466571,4.683903087,1.842771518,7.583216978,9.098259725,12.4226634,8.056846193,6.397490417,11.51522709,1.392683182,9.625238462,7.21856072,7.521241126,5.312046323,8.693427517,8.7504248,0.804315255,7.620542923,4.870810941,15.49395385,7.369948943,6.565661756,7.145251555,11.99526534,11.22848159,4.985571764,15.49395385,15.55210985,9.537234197,7.971365077,9.625592216,5.266349228,15.82323544,6.343764814,11.38249774,15.97225298,5.496998655,5.485983907,7.968353861,6.948325015,7.372574671,7.131757638,7.702870235,0.820754809,6.10440877,3.662458577,0.557775492,15.65334034,15.42997878,1.25027792,6.44666631,3.342798691,4.796017687,6.810398073,4.889675891,14.79303403,12.4226634,6.154473769,1.475277033,6.753705005,13.0287749,8.454981832,14.198621,16.18206195,12.0132408,7.259919475,8.31973407,6.010414424,12.4058684,7.993044592,9.045166111,7.764621462,8.955545043,6.941005324,6.48695381,7.231331108,7.379864223,15.35400673,6.154473769,7.883206624,6.154473769,6.154473769,1.508487413,7.982183305,6.154473769,9.197727599,4.83047934,11.99526534,15.63336544,13.32601103,7.673622428,15.63336544,8.009093042,3.792005768,7.361599119,15.34224003,6.154473769,16.03001731,9.44309323,5.381208214,7.385160604,0.110483486,15.01297058,12.28532836,7.859823299,11.41013722,6.154473769,12.34307139,5.997223353,8.437609413,5.115276595,5.445536376,15.49395385,5.21786657,0.932237924,8.02458667,7.27091791,11.41013722,9.315843211,15.62460506,6.035625615,5.468580111,6.154473769,7.889070323,6.48695381,11.28453528,15.62460506,7.525104818,15.9681008,6.154473769,12.17137516,7.859823299,11.22848159,15.62460506,4.924894681,15.63336544,1.392683182,7.133850338,5.445536376,6.154473769,15.01827723,4.141989898,7.909311706,7.11080269,6.628104378,16.19941188,9.625592216,7.28522545,16.05010608,6.154473769,6.154473769,7.319460286,13.0771056,7.968353861,6.564695874,15.4939505,12.17137516,8.213257943,6.524656096,1.642786607,6.033860065,16.03001731,15.65722217,7.824093584,7.665054189,15.7828433,8.345842543,6.154473769,15.56432479,11.75040938,8.045943035,6.154473769,3.726225908,6.828562624,12.59762003,7.131757638,7.659779851,15.4939505,0.518167516,7.717085981,11.22848159,6.154473769,15.40315297,14.1742066,8.751416012,6.154473769,8.957202583,12.6055929,15.62460506,4.926846155,7.666224777,12.21383392,13.1579499,6.154473769,11.79273625,7.971365077,8.39007493,11.22848159,7.615372107,12.21383392,16.19941188,11.22848159,8.010201314,7.652660693,15.62460506,8.041532275,12.21383392,7.76529025,12.75509186,15.41071546,16.10211589,16.26852529,6.794335225,11.84106506,5.886557839,6.810398073,12.21383392,6.154473769,12.21383392,12.96927829,6.013762019,12.21383392,12.21383392,12.21383392,13.54667187,6.154473769,15.49360439,9.582706465,12.21383392,12.21383392,5.266349228,13.0287749,12.6055929,12.21383392,1.842771518,7.760019169,12.21383392,4.711308333,12.21383392,6.154473769,7.950914368,6.035625615,15.37423326,8.150944596,12.21383392,12.21383392,12.21383392,3.438806272,7.406068196,12.21383392,8.00041997,0.932237924,15.84409193,0.311307815,5.142207101,12.21383392,11.41013722,7.11080269,12.21383392,7.652660693,12.21383392,12.21383392,12.77253713,7.966311075,6.154473769,15.49395385,8.893146023,7.835703496,12.21383392,12.21383392,15.81565594,9.487880635,8.649855295,8.389921604,12.21383392,9.381137785,4.877465748,14.34686273,15.55847175,8.893146023,12.21383392,9.241843729,1.433294231,6.154473769,12.21383392,5.468580111,12.21383392,8.593443792,12.21383392,12.61630765,15.36165773,12.21383392,6.154473769,12.21383392,12.21383392,0.92941425,12.25049194,0.820754809,7.374381974,6.069918014,7.76670048,0.375749318,5.266349228,4.813462485,5.381208214,12.21383392,12.21383392,0.466070959,7.660835671,12.21383392,15.48369303,8.536873914,16.19941188,7.482074011,12.21383392,1.416578399,6.589063013,3.489349645,10.4012047,2.820693135,7.698728419,12.21383392,7.342813735,13.54667187,11.94407278,7.84971161,6.723172345,6.739375013,5.011800889,7.949026807,12.22352138,12.21383392,8.286874635,7.686183292,16.05010608,7.347838608,8.324556755,7.74691532,12.21383392,9.447809528,11.75040938,12.21383392,12.21383392,12.21383392,12.21383392,4.683903087,6.214909823,2.016443567,12.21383392,12.21383392,12.21383392,12.21383392,6.154473769,11.94719098,12.21383392,8.542714016,7.270806613,12.21383392,6.948325015,4.141989898,7.860028548,15.63336544,7.379864223,6.035625615,12.21383392,0.305479103,0.589073107,11.22848159,7.548441298,7.348526304,14.79303403,6.154473769,7.118438942,11.91657884,8.279377508,6.739375013,1.392683182,11.41013722,7.665054189,12.21383392,12.21383392,5.720875677,1.133245768,12.6055929,11.55512931,9.625238462,12.21383392,12.21383392,9.474968575,12.21383392,6.402155445,5.755842851,6.209425176,7.809134614,12.21383392,12.21383392,9.314930893,2.820693135,8.723532746,16.27988909,15.4939505,15.76222852,6.154473769,5.381208214,12.21383392,7.185447768,12.21383392,14.79303403,7.992471329,0.92941425,8.681830509,15.81565594,3.191768139,2.169614848,7.926073969,9.314930893,12.21383392,6.154473769,12.21383392,4.876481525,13.11689216,12.6055929,11.37830669,1.110084361,7.560277291,7.918771698,2.016443567,12.21383392,2.276903966,4.996830213,8.553429655,6.09673828,7.11080269,3.456929988,7.682205484,5.403596879,7.698728419,6.985684689,12.21383392,6.980486544,8.03525132,5.381208214,10.8364474,6.377432247,7.185447768,15.62460506,12.21383392,8.154889945,6.154473769,15.49395385,5.485983907,6.25970457,7.017418182,6.711791454,14.31018897,7.666224777,8.970154641,4.985571764,7.102665284,7.616027095,15.56432479,4.372431339,7.224195307,10.14641162,8.471251053,4.857984875,7.28522545,7.606303308,4.015570776,7.694609772,12.21383392,9.582706465,7.546227941,6.035625615,9.625238462,6.154473769,6.890390696,7.13084987,7.379164259,7.76529025,2.590268434,8.4801566,6.565661756,7.47502084,7.688487584,7.262471105,0.382970758,8.25721618,8.489533224,6.417898179,8.035841381,8.21508627,1.80085356,6.154473769,4.195798397,5.445536376,7.369948943,14.1742066,7.920041546,4.123256754,2.169614848,12.21383392,16.05010608,0.808179258,6.154473769,1.416916517,7.686576626,7.824093584,0.67431856,7.913335116,1.043393161,8.231639358,6.154473769,6.668419382,6.687381669,5.21786657,7.876114618,15.4939505,7.970241321,9.625238462,12.17515804,12.21383392,8.162793288,15.88333445,12.21383392,3.411965845,9.007223178,5.793314213,9.625238462,1.157392678,8.723945516,14.79303403,11.32327492,7.976897184,12.21383392,5.042811469,2.991453512,5.381208214,9.082348275,12.21383392,5.755842851,4.870810941,12.21383392,11.95429072,2.743785034,7.610203513,7.171472518,2.016443567,12.33870612,12.53227255,16.20676125,4.709308586,6.144236956,9.625238462,12.21383392,6.473685317,8.957202583,3.726225908,12.21383392,5.312046323,12.21383392,4.276034205,9.472029027,7.304998932,12.21383392,4.04404091,4.66349667,12.21383392,5.381208214,5.885973152,15.56432479,12.39060745,4.133144155,7.885869915,7.717085981,4.83047934,9.352829266,9.625238462,7.385160604,0.926143637,12.21383392,4.709308586,4.889675891,7.686576626,6.600983459,15.49360439,11.85916249,1.870733573,6.58925192,0.804315255,11.99526534,8.081364405,9.625238462,6.642778699,11.85811177,6.736122832,6.154473769,12.21383392,8.585340461,7.171472518,9.625238462,9.096148566,8.171456812,8.244213683,7.174104844,9.625238462,6.890267969,7.245916285,15.84409193,16.18206195,12.21383392,1.642786607,12.21383392,13.45710449,8.330363033,12.88418876,7.195976091,12.21383392,5.779966716,6.154473769,9.625238462,8.39602016,6.011396813,12.21383392,5.381208214,9.06204835,8.835285566,12.21383392,8.489533224,8.244271256,7.506243236,3.456929988,8.893146023,9.007223178,2.920507751,15.63336544,6.033860065,6.661875257,7.82623748,15.38704468,12.21383392,12.6531925,6.881040681,7.456904533,8.835285566,6.634921921,7.224195307,6.487170361,3.793109457,8.231639358,7.596427469,1.219621712,15.97323541,5.312046323,12.21383392,4.072861957,1.572572701,14.93939229,12.21383392,7.682205484,9.472029027,7.357557881,9.625592216,14.5255244,9.625238462,6.154473769,4.072861957,12.17515804,11.41013722,4.876481525,8.208270889,6.154473769,12.21383392,9.625238462,11.87131346,8.205229471,6.565661756,7.185447768,12.57077429,6.473614086,7.865754018,12.21383392,6.377432247,7.698728419,7.374381974,8.286874635,3.726225908,5.912238997,5.707329758,5.266349228,6.035625615,14.48179325,13.54667187,6.484776201,7.64992391,8.21508627,7.76670048,4.857984875,9.625238462,2.169614848,0.771708066,14.23547125,7.119912552,7.885869915,7.702824434,11.22848159,0.364728443,4.206099294,7.793476956,8.835285566,7.949026807,7.174104844,5.793314213,8.522378319,12.25049194,8.035098028,12.21383392,7.885869915,6.695076664,7.479911743,12.21383392,6.154473769,5.755842851,4.272133025,15.63336544,12.21383392,4.876481525,4.817237569,11.85916249,8.242082249,12.21383392,12.21383392,12.00149925,15.92492528,10.00126577,7.680350731,8.026467586,8.70296754,5.158423175,13.30132289,12.21383392,7.323310536,5.381208214,8.471251053,4.644122877,12.21383392,12.53227255,4.858598283,4.801643367,12.47389484,8.949474412,14.79303403,13.30132289,5.08191814,6.219004939,7.872473572,4.072861957,12.21383392,12.21383392,9.471465129,13.30132289,5.034388981,12.21383392,12.21383392,13.30132289,12.21383392,12.21383392,7.793476956,12.21383392,10.00126577,12.21383392,11.22848159,11.22848159,8.166506866,7.017418182,6.484776201,10.00126577,1.003488187,8.324400003,0.718253469,12.21383392,6.55245246,6.154473769,12.21383392,7.606303308,4.072861957,12.21383392,6.154473769,12.21383392,7.548441298,7.489354093,12.21383392,9.825659541,15.13001875,6.377432247,5.004019769,9.625238462,15.33113948,12.21383392,12.21383392,12.21383392,9.625238462,12.21383392,12.21383392,5.925895983],\"y\":[150980.392156863,200000.0,204225.352112676,181818.181818182,196153.846153846,196969.696969697,158139.534883721,169047.619047619,184210.526315789,152702.702702703,152173.913043478,126923.076923077,125000.0,151136.363636364,226923.076923077,138888.888888889,164383.561643836,141509.433962264,166101.694915254,117045.454545455,123333.333333333,184375.0,140000.0,160344.827586207,168918.918918919,122972.972972973,194736.842105263,209090.909090909,189726.02739726,132407.407407407,194444.444444444,177027.027027027,132075.471698113,137804.878048781,145945.945945946,231666.666666667,103448.275862069,215254.237288136,185714.285714286,134426.666666667,180921.052631579,155263.157894737,186486.486486486,143103.448275862,93333.3333333333,188888.888888889,150000.0,161538.461538462,187179.487179487,88203.05,136842.105263158,162162.162162162,157384.615384615,195353.421052632,146666.666666667,215789.473684211,84826.0,128947.368421053,138297.872340426,206666.666666667,135294.117647059,148780.487804878,202702.702702703,223684.210526316,151111.111111111,161428.571428571,195238.095238095,195945.945945946,207500.0,142105.263157895,127358.490566038,155000.0,93108.1081081081,138157.894736842,136666.666666667,222222.222222222,176666.666666667,178125.0,134210.526315789,178787.878787879,146385.542168675,137837.837837838,183333.333333333,152631.578947368,179032.258064516,195679.012345679,162500.0,185294.117647059,205263.157894737,210909.090909091,206185.567010309,155637.72,266666.666666667,144358.974358974,124528.301886792,217142.857142857,164383.561643836,178461.538461538,160606.060606061,144901.639344262,158064.516129032,129629.62962963,158730.158730159,166051.648351648,212500.0,162222.222222222,154054.054054054,168181.818181818,123529.411764706,112837.837837838,156756.756756757,195111.111111111,158181.818181818,197058.823529412,135365.853658537,202020.202020202,155172.413793103,222222.222222222,203125.0,169230.769230769,138043.47826087,228000.0,197368.421052632,140000.0,159367.76119403,153658.536585366,176115.384615385,167434.2,205479.452054795,185365.853658537,167434.2,152500.0,170754.716981132,121794.871794872,113049.176470588,119000.0,222368.421052632,132130.476190476,175000.0,260377.358490566,219607.843137255,125438.596491228,150201.388888889,154716.981132075,121818.181818182,153731.343283582,178048.780487805,183653.846153846,131578.947368421,149206.349206349,169230.769230769,150000.0,163418.181818182,155263.157894737,234210.526315789,148888.888888889,218493.150684932,133333.333333333,154716.981132075,200000.0,238805.970149254,155000.0,216216.216216216,178431.37254902,148571.428571429,142307.692307692,173747.727272727,200000.0,168504.0,160465.11627907,109375.0,223809.523809524,158860.759493671,205263.157894737,152631.578947368,162245.066666667,143902.43902439,177500.0,166666.666666667,142857.142857143,189473.684210526,133280.428571429,201351.351351351,212987.012987013,164444.444444444,168043.75,133750.0,233333.333333333,204819.277108434,194594.594594595,137096.774193548,139516.129032258,140425.531914894,153846.153846154,157894.736842105,176045.138888889,168877.333333333,255405.405405405,125000.0,179032.258064516,178333.333333333,132258.064516129,147500.0,130741.379310345,105822.64,185294.117647059,213409.090909091,137037.037037037,153947.368421053,216216.216216216,138000.0,156603.773584906,170588.235294118,162773.333333333,136585.365853659,115254.237288136,200000.0,162834.545454545,225000.0,178313.253012048,144318.181818182,182352.941176471,203703.703703704,134146.341463415,131707.317073171,211320.754716981,128048.780487805,167510.6,133962.264150943,141176.470588235,170175.438596491,177448.732394366,130985.915492958,155263.157894737,130120.481927711,156060.606060606,176315.789473684,88219.5873015873,124074.074074074,163284.112149533,85869.5652173913,177702.702702703,174137.931034483,135849.056603774,163157.894736842,88702.9836065574,133962.264150943,121710.526315789,151587.301587302,181272.727272727,147368.421052632,222077.922077922,87119.5737704918,197727.272727273,163513.513513514,155555.555555556,135526.315789474,157894.736842105,156329.113924051,142307.692307692,156097.56097561,153571.428571429,82176.3896103896,172946.666666667,88440.4262295082,150000.0,162962.962962963,88879.7049180328,89351.0,82354.0,125396.825396825,172946.666666667,145714.285714286,139726.02739726,79066.3780487805,80972.0,174000.0,154054.054054054,207894.736842105,77300.0,208181.818181818,158490.566037736,87555.8196721312,164473.684210526,81703.0,161743.076923077,191250.0,150740.0,134939.759036145,216216.216216216,90701.0,87927.0,81763.1948051948,177922.077922078,165860.869565217,92695.8852459016,160000.0,229508.196721311,125000.0,253521.126760563,197777.777777778,85682.974025974,140740.740740741,200000.0,92783.737704918,160975.609756098,90398.5081967213,97845.25,134210.526315789,153846.153846154,178033.333333333,154716.981132075,118461.538461538,139534.88372093,90824.0158730159,85292.0,148113.20754717,148780.487804878,133333.333333333,162790.697674419,93149.3606557377,142000.0,201351.351351351,118644.06779661,138888.888888889,156410.256410256,84450.253164557,161764.705882353,255405.405405405,171610.526315789,89929.5409836066,223529.411764706,84584.7831325301,168750.0,88740.873015873,119565.217391304,138750.0,92556.5245901639,161741.862745098,91302.5081967213,86972.1392405063,251923.076923077,128947.368421053,257333.333333333,220270.27027027,194210.526315789,197368.421052632,200000.0,214814.814814815,148333.333333333,134090.909090909,88440.4262295082,87108.1807228916,180474.418604651,194736.842105263,92962.6393442623,130769.230769231,150000.0,132258.064516129,184210.526315789,92328.5967741936,214285.714285714,197674.418604651,225000.0,161842.105263158,220338.983050847,202702.702702703,100903.196078431,205405.405405405,151136.363636364,160526.315789474,148484.848484848,171428.571428571,209322.033898305,166356.164383562,207894.736842105,150000.0,91094.7301587302,162500.0,242105.263157895,129333.333333333,152307.692307692,227884.615384615,216216.216216216,99420.2884615385,129069.76744186,154545.454545455,86368.1012658228,86797.1898734177,86365.0886075949,83717.4050632911,215625.0,246153.846153846,240740.740740741,100412.980769231,99608.6666666667,86194.6582278481,92065.0,173964.0,141414.141414141,92697.9016393443,146551.724137931,141613.636363636,98625.7307692308,211392.405063291,250000.0,184375.0,93534.6774193548,218750.0,181705.263157895,101408.039215686,214814.814814815,242727.272727273,147500.0,200000.0,254716.981132075,132467.532467532,207475.227272727,191463.414634146,168421.052631579,144186.046511628,232500.0,220370.37037037,166666.666666667,142553.191489362,100416.480769231,86540.7215189873,169230.769230769,127687.212389381,94339.6226415094,144318.181818182,107890.875,93393.9841269841,93209.2380952381,150632.911392405,94657.131147541,97402.5974025974,137777.777777778,184523.80952381,158045.977011494,91911.3492063492,84964.7951807229,175000.0,160000.0,119780.21978022,152631.578947368,142622.950819672,113750.0,180495.753424658,195614.035087719,91437.5873015873,157812.5,92211.1639344262,130000.0,144067.79661017,251923.076923077,163636.363636364,141176.470588235,210256.41025641,228571.428571429,173134.328358209,166037.735849057,94968.7580645161,171880.909090909,91884.984375,224561.403508772,130612.244897959,143589.743589744,139772.727272727,255357.142857143,144444.444444444,162500.0,71428.5714285714,93271.296875,212121.212121212,226000.0,170731.707317073,227500.0,197297.297297297,223684.210526316,162857.142857143,212962.962962963,274509.803921569,216666.666666667,86158.8214285714,131395.348837209,183606.557377049,132203.389830508,123333.333333333,142105.263157895,127083.333333333,135714.285714286,86418.9036144578,167500.0,178738.636363636,151851.851851852,185937.5,183720.930232558,192105.263157895,157777.777777778,138461.538461538,164062.5,170588.235294118,164444.444444444,194736.842105263,177631.578947368,136507.936507937,160000.0,197368.421052632,116666.666666667,157746.478873239,225000.0,193518.518518519,214285.714285714,225641.025641026,184347.826086957,93690.234375,168000.0,194736.842105263,166955.283018868,105793.051282051,172593.220338983,153061.224489796,162222.222222222,194117.647058824,204347.826086957,218571.428571429,169736.842105263,197222.222222222,178048.780487805,229245.283018868,239622.641509434,206666.666666667,226436.781609195,177027.027027027,151428.571428571,173333.333333333,158536.585365854,196774.193548387,167283.733333333,182142.857142857,175757.575757576,212500.0,159210.526315789,133720.930232558,173076.923076923,179861.111111111,93775.765625,164705.882352941,228571.428571429,167305.866666667,217948.717948718,160526.315789474,209589.04109589,264197.368421053,170238.095238095,207236.842105263,168421.052631579,207475.227272727,214473.684210526,136363.636363636,202631.578947368,157575.757575758,141509.433962264,159482.75862069,100150.358974359,155844.155844156,86891.0833333333,150000.0,132031.25,95575.515625,202631.578947368,172222.222222222,168750.0,98495.4358974359,278750.0,148979.591836735,138888.888888889,130681.818181818,150500.0,93858.0158730159,169491.525423729,244871.794871795,181578.947368421,152777.777777778,89209.1265822785,156779.661016949,97579.8333333333,95802.2131147541,160526.315789474,202380.952380952,225490.196078431,143103.448275862,201886.79245283,150000.0,114285.714285714,145370.37037037,235245.901639344,182876.712328767,119268.647058824,86082.2151898734,169491.525423729,165000.0,266153.846153846,92801.84375,194915.254237288,92797.578125,170212.765957447,50761.2444444444,190322.580645161,93391.0634920635,122641.509433962,179104.47761194,109079.419354839,187500.0,165277.777777778,140487.804878049,153409.090909091,143939.393939394,256578.947368421,243396.226415094,182432.432432432,138461.538461538,116749.529411765,171951.219512195,250000.0,94292.796875,230000.0,209090.909090909,192105.263157895,151388.888888889,100517.161764706,131203.007518797,235576.923076923,135714.285714286,206250.0,154098.360655738,107142.857142857,120318.085106383,186111.111111111,138461.538461538,201388.888888889,171337.333333333,115305.173076923,122413.793103448,144444.444444444,103184.205128205,172727.272727273,184615.384615385,257500.0,250000.0,120401.469387755,169811.320754717,173584.905660377,141509.433962264,135135.135135135,87188.1904761905,191666.666666667,133756.7,141250.0,155056.179775281,160526.315789474,233333.333333333,94352.6935483871,190681.818181818,201250.0,126218.212389381,168571.428571429,169333.333333333,125113.45,175757.575757576,184615.384615385,75540.5405405406,100104.892857143,200000.0,156818.181818182,271028.037383178,250000.0,177631.578947368,159782.608695652,250000.0,142031.953488372,176271.186440678,205714.285714286,224074.074074074,138983.050847458,118798.538461538,165789.473684211,135416.666666667,185000.0,108108.108108108,241891.891891892,227027.027027027,170000.0,243636.363636364,165789.473684211,189510.638297872,251470.588235294,124590.163934426,210526.315789474,138125.175,160000.0,221052.631578947,157500.0,134319.35,187671.232876712,46222.7537313433,247169.811320755,164444.444444444,132926.829268293,118379.301369863,196004.545454545,86551.724137931,155263.157894737,172549.019607843,235294.117647059,156363.636363636,240180.681818182,104673.774193548,116696.240506329,173684.210526316,168750.0,197297.297297297,166666.666666667,144736.842105263,190000.0,202272.727272727,106005.888888889,182894.736842105,200000.0,205263.157894737,151162.790697674,266666.666666667,156250.0,180000.0,168750.0,196004.545454545,144318.181818182,179487.17948718,180645.161290323,188235.294117647,158536.585365854,228947.368421053,237037.037037037,135165.673913044,218181.818181818,206779.661016949,138666.666666667,171052.631578947,239726.02739726,207692.307692308,146226.41509434,279411.764705882,180952.380952381,193421.052631579,95890.4109589041,172058.823529412,210526.315789474,156818.181818182,147692.307692308,160526.315789474,177924.528301887,103131.612903226,230985.915492958,217741.935483871,182432.432432432,95664.8192771084,200363.636363636,161904.761904762,255263.157894737,99000.8961038961,118694.671875,219298.245614035,247368.421052632,161971.830985916,155813.953488372,122495.803278689,103005.903225806,126470.588235294,152631.578947368,151072.0,153225.806451613,124615.384615385,216666.666666667,190277.777777778,133894.736842105,110735.961538462,218918.918918919,151428.571428571,168674.698795181,227272.727272727,100945.790322581,142203.389830508,211864.406779661,230188.679245283,160526.315789474,128888.888888889,145333.333333333,115921.052631579,169317.27027027,175000.0,132467.532467532,232456.140350877,104038.258064516,104191.229508197,176470.588235294,111088.607594937,207894.736842105,100285.171875,97265.2682926829,123327.868852459,122837.524590164,96496.6329113924,241083.333333333,106079.901639344,149607.037037037,105424.225806452,135135.135135135,129629.62962963,146511.627906977,250000.0,165625.0,154718.666666667,228378.378378378,151298.701298701,233333.333333333,103436.163934426,210526.315789474,213985.890410959,127883.096153846,226973.684210526,97948.275862069,104925.721311475,181503.271028037,112025.615384615,221052.631578947,168421.052631579,98780.890625,147000.0,155263.157894737,175471.698113208,213157.894736842,144157.236842105,148113.20754717,99583.1875,104745.126984127,100285.171875,100383.873239437,95790.1898734177,99583.1875,178947.368421053],\"type\":\"scatter\"},{\"mode\":\"markers\",\"name\":\"Монолит\",\"x\":[8.270963228,3.861552271,12.6055929,7.21856072,6.439412566,1.827734252,6.035625615,6.804285745,4.66349667,6.154473769,6.035625615,6.154473769,6.154473769,6.154473769,9.729141828,6.118916969,1.827734252,3.759125033,1.303955949,6.154473769,15.49360439,1.133245768,3.761919232,7.948037676,3.792005768,7.21856072,3.761919232,7.623267455,8.703836745,12.21383392,4.912127151,3.454707348,12.21383392,5.312046323,3.931447085,6.118916969,12.6055929,6.035625615,3.496785637,6.118916969,3.65442902,8.03355071,6.035625615,6.407681647,8.703836745,4.188863692,6.154473769,12.21383392,9.625238462,3.978784999,10.00126577,6.154473769,10.00126577,12.21383392],\"y\":[180851.063829787,118822.033898305,67435.8974358974,128205.128205128,195522.388059701,46163.6363636364,168637.5,54842.1052631579,193037.833333333,159332.727272727,163178.181818182,165307.352941176,159721.333333333,161066.666666667,203947.368421053,174635.205479452,46163.6363636364,285714.285714286,126984.126984127,172720.0,94000.0,264929.203539823,253947.368421053,70715.9090909091,196078.431372549,175153.50877193,234545.454545455,232142.857142857,211290.322580645,90539.2222222222,230952.380952381,186034.931506849,101219.269230769,228000.0,249295.774647887,171350.46728972,166666.666666667,178435.135135135,181441.391304348,180421.962616822,274155.76,264102.564102564,171817.954545455,93189.4736842105,250943.396226415,148483.333333333,173052.054794521,101612.09375,121570.211267606,172669.230769231,147000.0,172107.102040816,150657.0,113311.62745098],\"type\":\"scatter\"}],                        {\"title\":{\"text\":\"Распределение цены за квадратный метр от удаленности от ТТК среди монолитных и не монолитных домов\"},\"xaxis\":{\"title\":{\"text\":\"Расстояние от ТТК (км)\"}},\"yaxis\":{\"title\":{\"text\":\"Цена за квадратный метр\"}},\"template\":{\"data\":{\"histogram2dcontour\":[{\"type\":\"histogram2dcontour\",\"colorbar\":{\"outlinewidth\":0,\"ticks\":\"\"},\"colorscale\":[[0.0,\"#0d0887\"],[0.1111111111111111,\"#46039f\"],[0.2222222222222222,\"#7201a8\"],[0.3333333333333333,\"#9c179e\"],[0.4444444444444444,\"#bd3786\"],[0.5555555555555556,\"#d8576b\"],[0.6666666666666666,\"#ed7953\"],[0.7777777777777778,\"#fb9f3a\"],[0.8888888888888888,\"#fdca26\"],[1.0,\"#f0f921\"]]}],\"choropleth\":[{\"type\":\"choropleth\",\"colorbar\":{\"outlinewidth\":0,\"ticks\":\"\"}}],\"histogram2d\":[{\"type\":\"histogram2d\",\"colorbar\":{\"outlinewidth\":0,\"ticks\":\"\"},\"colorscale\":[[0.0,\"#0d0887\"],[0.1111111111111111,\"#46039f\"],[0.2222222222222222,\"#7201a8\"],[0.3333333333333333,\"#9c179e\"],[0.4444444444444444,\"#bd3786\"],[0.5555555555555556,\"#d8576b\"],[0.6666666666666666,\"#ed7953\"],[0.7777777777777778,\"#fb9f3a\"],[0.8888888888888888,\"#fdca26\"],[1.0,\"#f0f921\"]]}],\"heatmap\":[{\"type\":\"heatmap\",\"colorbar\":{\"outlinewidth\":0,\"ticks\":\"\"},\"colorscale\":[[0.0,\"#0d0887\"],[0.1111111111111111,\"#46039f\"],[0.2222222222222222,\"#7201a8\"],[0.3333333333333333,\"#9c179e\"],[0.4444444444444444,\"#bd3786\"],[0.5555555555555556,\"#d8576b\"],[0.6666666666666666,\"#ed7953\"],[0.7777777777777778,\"#fb9f3a\"],[0.8888888888888888,\"#fdca26\"],[1.0,\"#f0f921\"]]}],\"heatmapgl\":[{\"type\":\"heatmapgl\",\"colorbar\":{\"outlinewidth\":0,\"ticks\":\"\"},\"colorscale\":[[0.0,\"#0d0887\"],[0.1111111111111111,\"#46039f\"],[0.2222222222222222,\"#7201a8\"],[0.3333333333333333,\"#9c179e\"],[0.4444444444444444,\"#bd3786\"],[0.5555555555555556,\"#d8576b\"],[0.6666666666666666,\"#ed7953\"],[0.7777777777777778,\"#fb9f3a\"],[0.8888888888888888,\"#fdca26\"],[1.0,\"#f0f921\"]]}],\"contourcarpet\":[{\"type\":\"contourcarpet\",\"colorbar\":{\"outlinewidth\":0,\"ticks\":\"\"}}],\"contour\":[{\"type\":\"contour\",\"colorbar\":{\"outlinewidth\":0,\"ticks\":\"\"},\"colorscale\":[[0.0,\"#0d0887\"],[0.1111111111111111,\"#46039f\"],[0.2222222222222222,\"#7201a8\"],[0.3333333333333333,\"#9c179e\"],[0.4444444444444444,\"#bd3786\"],[0.5555555555555556,\"#d8576b\"],[0.6666666666666666,\"#ed7953\"],[0.7777777777777778,\"#fb9f3a\"],[0.8888888888888888,\"#fdca26\"],[1.0,\"#f0f921\"]]}],\"surface\":[{\"type\":\"surface\",\"colorbar\":{\"outlinewidth\":0,\"ticks\":\"\"},\"colorscale\":[[0.0,\"#0d0887\"],[0.1111111111111111,\"#46039f\"],[0.2222222222222222,\"#7201a8\"],[0.3333333333333333,\"#9c179e\"],[0.4444444444444444,\"#bd3786\"],[0.5555555555555556,\"#d8576b\"],[0.6666666666666666,\"#ed7953\"],[0.7777777777777778,\"#fb9f3a\"],[0.8888888888888888,\"#fdca26\"],[1.0,\"#f0f921\"]]}],\"mesh3d\":[{\"type\":\"mesh3d\",\"colorbar\":{\"outlinewidth\":0,\"ticks\":\"\"}}],\"scatter\":[{\"fillpattern\":{\"fillmode\":\"overlay\",\"size\":10,\"solidity\":0.2},\"type\":\"scatter\"}],\"parcoords\":[{\"type\":\"parcoords\",\"line\":{\"colorbar\":{\"outlinewidth\":0,\"ticks\":\"\"}}}],\"scatterpolargl\":[{\"type\":\"scatterpolargl\",\"marker\":{\"colorbar\":{\"outlinewidth\":0,\"ticks\":\"\"}}}],\"bar\":[{\"error_x\":{\"color\":\"#2a3f5f\"},\"error_y\":{\"color\":\"#2a3f5f\"},\"marker\":{\"line\":{\"color\":\"#E5ECF6\",\"width\":0.5},\"pattern\":{\"fillmode\":\"overlay\",\"size\":10,\"solidity\":0.2}},\"type\":\"bar\"}],\"scattergeo\":[{\"type\":\"scattergeo\",\"marker\":{\"colorbar\":{\"outlinewidth\":0,\"ticks\":\"\"}}}],\"scatterpolar\":[{\"type\":\"scatterpolar\",\"marker\":{\"colorbar\":{\"outlinewidth\":0,\"ticks\":\"\"}}}],\"histogram\":[{\"marker\":{\"pattern\":{\"fillmode\":\"overlay\",\"size\":10,\"solidity\":0.2}},\"type\":\"histogram\"}],\"scattergl\":[{\"type\":\"scattergl\",\"marker\":{\"colorbar\":{\"outlinewidth\":0,\"ticks\":\"\"}}}],\"scatter3d\":[{\"type\":\"scatter3d\",\"line\":{\"colorbar\":{\"outlinewidth\":0,\"ticks\":\"\"}},\"marker\":{\"colorbar\":{\"outlinewidth\":0,\"ticks\":\"\"}}}],\"scattermapbox\":[{\"type\":\"scattermapbox\",\"marker\":{\"colorbar\":{\"outlinewidth\":0,\"ticks\":\"\"}}}],\"scatterternary\":[{\"type\":\"scatterternary\",\"marker\":{\"colorbar\":{\"outlinewidth\":0,\"ticks\":\"\"}}}],\"scattercarpet\":[{\"type\":\"scattercarpet\",\"marker\":{\"colorbar\":{\"outlinewidth\":0,\"ticks\":\"\"}}}],\"carpet\":[{\"aaxis\":{\"endlinecolor\":\"#2a3f5f\",\"gridcolor\":\"white\",\"linecolor\":\"white\",\"minorgridcolor\":\"white\",\"startlinecolor\":\"#2a3f5f\"},\"baxis\":{\"endlinecolor\":\"#2a3f5f\",\"gridcolor\":\"white\",\"linecolor\":\"white\",\"minorgridcolor\":\"white\",\"startlinecolor\":\"#2a3f5f\"},\"type\":\"carpet\"}],\"table\":[{\"cells\":{\"fill\":{\"color\":\"#EBF0F8\"},\"line\":{\"color\":\"white\"}},\"header\":{\"fill\":{\"color\":\"#C8D4E3\"},\"line\":{\"color\":\"white\"}},\"type\":\"table\"}],\"barpolar\":[{\"marker\":{\"line\":{\"color\":\"#E5ECF6\",\"width\":0.5},\"pattern\":{\"fillmode\":\"overlay\",\"size\":10,\"solidity\":0.2}},\"type\":\"barpolar\"}],\"pie\":[{\"automargin\":true,\"type\":\"pie\"}]},\"layout\":{\"autotypenumbers\":\"strict\",\"colorway\":[\"#636efa\",\"#EF553B\",\"#00cc96\",\"#ab63fa\",\"#FFA15A\",\"#19d3f3\",\"#FF6692\",\"#B6E880\",\"#FF97FF\",\"#FECB52\"],\"font\":{\"color\":\"#2a3f5f\"},\"hovermode\":\"closest\",\"hoverlabel\":{\"align\":\"left\"},\"paper_bgcolor\":\"white\",\"plot_bgcolor\":\"#E5ECF6\",\"polar\":{\"bgcolor\":\"#E5ECF6\",\"angularaxis\":{\"gridcolor\":\"white\",\"linecolor\":\"white\",\"ticks\":\"\"},\"radialaxis\":{\"gridcolor\":\"white\",\"linecolor\":\"white\",\"ticks\":\"\"}},\"ternary\":{\"bgcolor\":\"#E5ECF6\",\"aaxis\":{\"gridcolor\":\"white\",\"linecolor\":\"white\",\"ticks\":\"\"},\"baxis\":{\"gridcolor\":\"white\",\"linecolor\":\"white\",\"ticks\":\"\"},\"caxis\":{\"gridcolor\":\"white\",\"linecolor\":\"white\",\"ticks\":\"\"}},\"coloraxis\":{\"colorbar\":{\"outlinewidth\":0,\"ticks\":\"\"}},\"colorscale\":{\"sequential\":[[0.0,\"#0d0887\"],[0.1111111111111111,\"#46039f\"],[0.2222222222222222,\"#7201a8\"],[0.3333333333333333,\"#9c179e\"],[0.4444444444444444,\"#bd3786\"],[0.5555555555555556,\"#d8576b\"],[0.6666666666666666,\"#ed7953\"],[0.7777777777777778,\"#fb9f3a\"],[0.8888888888888888,\"#fdca26\"],[1.0,\"#f0f921\"]],\"sequentialminus\":[[0.0,\"#0d0887\"],[0.1111111111111111,\"#46039f\"],[0.2222222222222222,\"#7201a8\"],[0.3333333333333333,\"#9c179e\"],[0.4444444444444444,\"#bd3786\"],[0.5555555555555556,\"#d8576b\"],[0.6666666666666666,\"#ed7953\"],[0.7777777777777778,\"#fb9f3a\"],[0.8888888888888888,\"#fdca26\"],[1.0,\"#f0f921\"]],\"diverging\":[[0,\"#8e0152\"],[0.1,\"#c51b7d\"],[0.2,\"#de77ae\"],[0.3,\"#f1b6da\"],[0.4,\"#fde0ef\"],[0.5,\"#f7f7f7\"],[0.6,\"#e6f5d0\"],[0.7,\"#b8e186\"],[0.8,\"#7fbc41\"],[0.9,\"#4d9221\"],[1,\"#276419\"]]},\"xaxis\":{\"gridcolor\":\"white\",\"linecolor\":\"white\",\"ticks\":\"\",\"title\":{\"standoff\":15},\"zerolinecolor\":\"white\",\"automargin\":true,\"zerolinewidth\":2},\"yaxis\":{\"gridcolor\":\"white\",\"linecolor\":\"white\",\"ticks\":\"\",\"title\":{\"standoff\":15},\"zerolinecolor\":\"white\",\"automargin\":true,\"zerolinewidth\":2},\"scene\":{\"xaxis\":{\"backgroundcolor\":\"#E5ECF6\",\"gridcolor\":\"white\",\"linecolor\":\"white\",\"showbackground\":true,\"ticks\":\"\",\"zerolinecolor\":\"white\",\"gridwidth\":2},\"yaxis\":{\"backgroundcolor\":\"#E5ECF6\",\"gridcolor\":\"white\",\"linecolor\":\"white\",\"showbackground\":true,\"ticks\":\"\",\"zerolinecolor\":\"white\",\"gridwidth\":2},\"zaxis\":{\"backgroundcolor\":\"#E5ECF6\",\"gridcolor\":\"white\",\"linecolor\":\"white\",\"showbackground\":true,\"ticks\":\"\",\"zerolinecolor\":\"white\",\"gridwidth\":2}},\"shapedefaults\":{\"line\":{\"color\":\"#2a3f5f\"}},\"annotationdefaults\":{\"arrowcolor\":\"#2a3f5f\",\"arrowhead\":0,\"arrowwidth\":1},\"geo\":{\"bgcolor\":\"white\",\"landcolor\":\"#E5ECF6\",\"subunitcolor\":\"white\",\"showland\":true,\"showlakes\":true,\"lakecolor\":\"white\"},\"title\":{\"x\":0.05},\"mapbox\":{\"style\":\"light\"}}}},                        {\"responsive\": true}                    ).then(function(){\n",
              "                            \n",
              "var gd = document.getElementById('e14ef796-f45b-427b-a03d-99762a782f5a');\n",
              "var x = new MutationObserver(function (mutations, observer) {{\n",
              "        var display = window.getComputedStyle(gd).display;\n",
              "        if (!display || display === 'none') {{\n",
              "            console.log([gd, 'removed!']);\n",
              "            Plotly.purge(gd);\n",
              "            observer.disconnect();\n",
              "        }}\n",
              "}});\n",
              "\n",
              "// Listen for the removal of the full notebook cells\n",
              "var notebookContainer = gd.closest('#notebook-container');\n",
              "if (notebookContainer) {{\n",
              "    x.observe(notebookContainer, {childList: true});\n",
              "}}\n",
              "\n",
              "// Listen for the clearing of the current output cell\n",
              "var outputEl = gd.closest('.output');\n",
              "if (outputEl) {{\n",
              "    x.observe(outputEl, {childList: true});\n",
              "}}\n",
              "\n",
              "                        })                };                            </script>        </div>\n",
              "</body>\n",
              "</html>"
            ]
          },
          "metadata": {}
        }
      ]
    },
    {
      "cell_type": "code",
      "source": [
        "import plotly.figure_factory as ff\n",
        "\n",
        "corr_matrix = df[[\"price_sq_m\", \"green_zone_part\", \"industrial_part\", \"ttk_km\", \"trc_count\"]].corr()\n",
        "\n",
        "fig = ff.create_annotated_heatmap(\n",
        "    z=corr_matrix.values,\n",
        "    x=corr_matrix.columns.tolist(),\n",
        "    y=corr_matrix.columns.tolist(),\n",
        "    colorscale=\"Viridis\",\n",
        "    showscale=True,\n",
        ")\n",
        "fig.show()"
      ],
      "metadata": {
        "colab": {
          "base_uri": "https://localhost:8080/",
          "height": 562
        },
        "id": "tYJMjiD8yl7N",
        "outputId": "baa042ca-302d-4278-8ec4-58ddf97eff41"
      },
      "execution_count": 164,
      "outputs": [
        {
          "output_type": "display_data",
          "data": {
            "text/html": [
              "<html>\n",
              "<head><meta charset=\"utf-8\" /></head>\n",
              "<body>\n",
              "    <div>            <script src=\"https://cdnjs.cloudflare.com/ajax/libs/mathjax/2.7.5/MathJax.js?config=TeX-AMS-MML_SVG\"></script><script type=\"text/javascript\">if (window.MathJax && window.MathJax.Hub && window.MathJax.Hub.Config) {window.MathJax.Hub.Config({SVG: {font: \"STIX-Web\"}});}</script>                <script type=\"text/javascript\">window.PlotlyConfig = {MathJaxConfig: 'local'};</script>\n",
              "        <script charset=\"utf-8\" src=\"https://cdn.plot.ly/plotly-2.35.2.min.js\"></script>                <div id=\"d2cd3ac5-4d5b-42c7-8681-b1116bf210bd\" class=\"plotly-graph-div\" style=\"height:525px; width:100%;\"></div>            <script type=\"text/javascript\">                                    window.PLOTLYENV=window.PLOTLYENV || {};                                    if (document.getElementById(\"d2cd3ac5-4d5b-42c7-8681-b1116bf210bd\")) {                    Plotly.newPlot(                        \"d2cd3ac5-4d5b-42c7-8681-b1116bf210bd\",                        [{\"colorscale\":[[0.0,\"#440154\"],[0.1111111111111111,\"#482878\"],[0.2222222222222222,\"#3e4989\"],[0.3333333333333333,\"#31688e\"],[0.4444444444444444,\"#26828e\"],[0.5555555555555556,\"#1f9e89\"],[0.6666666666666666,\"#35b779\"],[0.7777777777777778,\"#6ece58\"],[0.8888888888888888,\"#b5de2b\"],[1.0,\"#fde725\"]],\"reversescale\":false,\"showscale\":true,\"x\":[\"price_sq_m\",\"green_zone_part\",\"industrial_part\",\"ttk_km\",\"trc_count\"],\"y\":[\"price_sq_m\",\"green_zone_part\",\"industrial_part\",\"ttk_km\",\"trc_count\"],\"z\":[[1.0,0.5110180645668272,-0.5714486969675099,-0.6147979481766448,0.5124746980236117],[0.5110180645668272,1.0,-0.3355124377378169,-0.5296498104126349,0.4083957652116111],[-0.5714486969675099,-0.3355124377378169,1.0,0.35950185168425164,-0.25748715008678413],[-0.6147979481766448,-0.5296498104126349,0.35950185168425164,1.0,-0.9340342758392419],[0.5124746980236117,0.4083957652116111,-0.25748715008678413,-0.9340342758392419,1.0]],\"type\":\"heatmap\"}],                        {\"annotations\":[{\"font\":{\"color\":\"#000000\"},\"showarrow\":false,\"text\":\"1.0\",\"x\":\"price_sq_m\",\"xref\":\"x\",\"y\":\"price_sq_m\",\"yref\":\"y\"},{\"font\":{\"color\":\"#000000\"},\"showarrow\":false,\"text\":\"0.5110180645668272\",\"x\":\"green_zone_part\",\"xref\":\"x\",\"y\":\"price_sq_m\",\"yref\":\"y\"},{\"font\":{\"color\":\"#FFFFFF\"},\"showarrow\":false,\"text\":\"-0.5714486969675099\",\"x\":\"industrial_part\",\"xref\":\"x\",\"y\":\"price_sq_m\",\"yref\":\"y\"},{\"font\":{\"color\":\"#FFFFFF\"},\"showarrow\":false,\"text\":\"-0.6147979481766448\",\"x\":\"ttk_km\",\"xref\":\"x\",\"y\":\"price_sq_m\",\"yref\":\"y\"},{\"font\":{\"color\":\"#000000\"},\"showarrow\":false,\"text\":\"0.5124746980236117\",\"x\":\"trc_count\",\"xref\":\"x\",\"y\":\"price_sq_m\",\"yref\":\"y\"},{\"font\":{\"color\":\"#000000\"},\"showarrow\":false,\"text\":\"0.5110180645668272\",\"x\":\"price_sq_m\",\"xref\":\"x\",\"y\":\"green_zone_part\",\"yref\":\"y\"},{\"font\":{\"color\":\"#000000\"},\"showarrow\":false,\"text\":\"1.0\",\"x\":\"green_zone_part\",\"xref\":\"x\",\"y\":\"green_zone_part\",\"yref\":\"y\"},{\"font\":{\"color\":\"#FFFFFF\"},\"showarrow\":false,\"text\":\"-0.3355124377378169\",\"x\":\"industrial_part\",\"xref\":\"x\",\"y\":\"green_zone_part\",\"yref\":\"y\"},{\"font\":{\"color\":\"#FFFFFF\"},\"showarrow\":false,\"text\":\"-0.5296498104126349\",\"x\":\"ttk_km\",\"xref\":\"x\",\"y\":\"green_zone_part\",\"yref\":\"y\"},{\"font\":{\"color\":\"#000000\"},\"showarrow\":false,\"text\":\"0.4083957652116111\",\"x\":\"trc_count\",\"xref\":\"x\",\"y\":\"green_zone_part\",\"yref\":\"y\"},{\"font\":{\"color\":\"#FFFFFF\"},\"showarrow\":false,\"text\":\"-0.5714486969675099\",\"x\":\"price_sq_m\",\"xref\":\"x\",\"y\":\"industrial_part\",\"yref\":\"y\"},{\"font\":{\"color\":\"#FFFFFF\"},\"showarrow\":false,\"text\":\"-0.3355124377378169\",\"x\":\"green_zone_part\",\"xref\":\"x\",\"y\":\"industrial_part\",\"yref\":\"y\"},{\"font\":{\"color\":\"#000000\"},\"showarrow\":false,\"text\":\"1.0\",\"x\":\"industrial_part\",\"xref\":\"x\",\"y\":\"industrial_part\",\"yref\":\"y\"},{\"font\":{\"color\":\"#000000\"},\"showarrow\":false,\"text\":\"0.35950185168425164\",\"x\":\"ttk_km\",\"xref\":\"x\",\"y\":\"industrial_part\",\"yref\":\"y\"},{\"font\":{\"color\":\"#FFFFFF\"},\"showarrow\":false,\"text\":\"-0.25748715008678413\",\"x\":\"trc_count\",\"xref\":\"x\",\"y\":\"industrial_part\",\"yref\":\"y\"},{\"font\":{\"color\":\"#FFFFFF\"},\"showarrow\":false,\"text\":\"-0.6147979481766448\",\"x\":\"price_sq_m\",\"xref\":\"x\",\"y\":\"ttk_km\",\"yref\":\"y\"},{\"font\":{\"color\":\"#FFFFFF\"},\"showarrow\":false,\"text\":\"-0.5296498104126349\",\"x\":\"green_zone_part\",\"xref\":\"x\",\"y\":\"ttk_km\",\"yref\":\"y\"},{\"font\":{\"color\":\"#000000\"},\"showarrow\":false,\"text\":\"0.35950185168425164\",\"x\":\"industrial_part\",\"xref\":\"x\",\"y\":\"ttk_km\",\"yref\":\"y\"},{\"font\":{\"color\":\"#000000\"},\"showarrow\":false,\"text\":\"1.0\",\"x\":\"ttk_km\",\"xref\":\"x\",\"y\":\"ttk_km\",\"yref\":\"y\"},{\"font\":{\"color\":\"#FFFFFF\"},\"showarrow\":false,\"text\":\"-0.9340342758392419\",\"x\":\"trc_count\",\"xref\":\"x\",\"y\":\"ttk_km\",\"yref\":\"y\"},{\"font\":{\"color\":\"#000000\"},\"showarrow\":false,\"text\":\"0.5124746980236117\",\"x\":\"price_sq_m\",\"xref\":\"x\",\"y\":\"trc_count\",\"yref\":\"y\"},{\"font\":{\"color\":\"#000000\"},\"showarrow\":false,\"text\":\"0.4083957652116111\",\"x\":\"green_zone_part\",\"xref\":\"x\",\"y\":\"trc_count\",\"yref\":\"y\"},{\"font\":{\"color\":\"#FFFFFF\"},\"showarrow\":false,\"text\":\"-0.25748715008678413\",\"x\":\"industrial_part\",\"xref\":\"x\",\"y\":\"trc_count\",\"yref\":\"y\"},{\"font\":{\"color\":\"#FFFFFF\"},\"showarrow\":false,\"text\":\"-0.9340342758392419\",\"x\":\"ttk_km\",\"xref\":\"x\",\"y\":\"trc_count\",\"yref\":\"y\"},{\"font\":{\"color\":\"#000000\"},\"showarrow\":false,\"text\":\"1.0\",\"x\":\"trc_count\",\"xref\":\"x\",\"y\":\"trc_count\",\"yref\":\"y\"}],\"xaxis\":{\"dtick\":1,\"gridcolor\":\"rgb(0, 0, 0)\",\"side\":\"top\",\"ticks\":\"\"},\"yaxis\":{\"dtick\":1,\"ticks\":\"\",\"ticksuffix\":\"  \"},\"template\":{\"data\":{\"histogram2dcontour\":[{\"type\":\"histogram2dcontour\",\"colorbar\":{\"outlinewidth\":0,\"ticks\":\"\"},\"colorscale\":[[0.0,\"#0d0887\"],[0.1111111111111111,\"#46039f\"],[0.2222222222222222,\"#7201a8\"],[0.3333333333333333,\"#9c179e\"],[0.4444444444444444,\"#bd3786\"],[0.5555555555555556,\"#d8576b\"],[0.6666666666666666,\"#ed7953\"],[0.7777777777777778,\"#fb9f3a\"],[0.8888888888888888,\"#fdca26\"],[1.0,\"#f0f921\"]]}],\"choropleth\":[{\"type\":\"choropleth\",\"colorbar\":{\"outlinewidth\":0,\"ticks\":\"\"}}],\"histogram2d\":[{\"type\":\"histogram2d\",\"colorbar\":{\"outlinewidth\":0,\"ticks\":\"\"},\"colorscale\":[[0.0,\"#0d0887\"],[0.1111111111111111,\"#46039f\"],[0.2222222222222222,\"#7201a8\"],[0.3333333333333333,\"#9c179e\"],[0.4444444444444444,\"#bd3786\"],[0.5555555555555556,\"#d8576b\"],[0.6666666666666666,\"#ed7953\"],[0.7777777777777778,\"#fb9f3a\"],[0.8888888888888888,\"#fdca26\"],[1.0,\"#f0f921\"]]}],\"heatmap\":[{\"type\":\"heatmap\",\"colorbar\":{\"outlinewidth\":0,\"ticks\":\"\"},\"colorscale\":[[0.0,\"#0d0887\"],[0.1111111111111111,\"#46039f\"],[0.2222222222222222,\"#7201a8\"],[0.3333333333333333,\"#9c179e\"],[0.4444444444444444,\"#bd3786\"],[0.5555555555555556,\"#d8576b\"],[0.6666666666666666,\"#ed7953\"],[0.7777777777777778,\"#fb9f3a\"],[0.8888888888888888,\"#fdca26\"],[1.0,\"#f0f921\"]]}],\"heatmapgl\":[{\"type\":\"heatmapgl\",\"colorbar\":{\"outlinewidth\":0,\"ticks\":\"\"},\"colorscale\":[[0.0,\"#0d0887\"],[0.1111111111111111,\"#46039f\"],[0.2222222222222222,\"#7201a8\"],[0.3333333333333333,\"#9c179e\"],[0.4444444444444444,\"#bd3786\"],[0.5555555555555556,\"#d8576b\"],[0.6666666666666666,\"#ed7953\"],[0.7777777777777778,\"#fb9f3a\"],[0.8888888888888888,\"#fdca26\"],[1.0,\"#f0f921\"]]}],\"contourcarpet\":[{\"type\":\"contourcarpet\",\"colorbar\":{\"outlinewidth\":0,\"ticks\":\"\"}}],\"contour\":[{\"type\":\"contour\",\"colorbar\":{\"outlinewidth\":0,\"ticks\":\"\"},\"colorscale\":[[0.0,\"#0d0887\"],[0.1111111111111111,\"#46039f\"],[0.2222222222222222,\"#7201a8\"],[0.3333333333333333,\"#9c179e\"],[0.4444444444444444,\"#bd3786\"],[0.5555555555555556,\"#d8576b\"],[0.6666666666666666,\"#ed7953\"],[0.7777777777777778,\"#fb9f3a\"],[0.8888888888888888,\"#fdca26\"],[1.0,\"#f0f921\"]]}],\"surface\":[{\"type\":\"surface\",\"colorbar\":{\"outlinewidth\":0,\"ticks\":\"\"},\"colorscale\":[[0.0,\"#0d0887\"],[0.1111111111111111,\"#46039f\"],[0.2222222222222222,\"#7201a8\"],[0.3333333333333333,\"#9c179e\"],[0.4444444444444444,\"#bd3786\"],[0.5555555555555556,\"#d8576b\"],[0.6666666666666666,\"#ed7953\"],[0.7777777777777778,\"#fb9f3a\"],[0.8888888888888888,\"#fdca26\"],[1.0,\"#f0f921\"]]}],\"mesh3d\":[{\"type\":\"mesh3d\",\"colorbar\":{\"outlinewidth\":0,\"ticks\":\"\"}}],\"scatter\":[{\"fillpattern\":{\"fillmode\":\"overlay\",\"size\":10,\"solidity\":0.2},\"type\":\"scatter\"}],\"parcoords\":[{\"type\":\"parcoords\",\"line\":{\"colorbar\":{\"outlinewidth\":0,\"ticks\":\"\"}}}],\"scatterpolargl\":[{\"type\":\"scatterpolargl\",\"marker\":{\"colorbar\":{\"outlinewidth\":0,\"ticks\":\"\"}}}],\"bar\":[{\"error_x\":{\"color\":\"#2a3f5f\"},\"error_y\":{\"color\":\"#2a3f5f\"},\"marker\":{\"line\":{\"color\":\"#E5ECF6\",\"width\":0.5},\"pattern\":{\"fillmode\":\"overlay\",\"size\":10,\"solidity\":0.2}},\"type\":\"bar\"}],\"scattergeo\":[{\"type\":\"scattergeo\",\"marker\":{\"colorbar\":{\"outlinewidth\":0,\"ticks\":\"\"}}}],\"scatterpolar\":[{\"type\":\"scatterpolar\",\"marker\":{\"colorbar\":{\"outlinewidth\":0,\"ticks\":\"\"}}}],\"histogram\":[{\"marker\":{\"pattern\":{\"fillmode\":\"overlay\",\"size\":10,\"solidity\":0.2}},\"type\":\"histogram\"}],\"scattergl\":[{\"type\":\"scattergl\",\"marker\":{\"colorbar\":{\"outlinewidth\":0,\"ticks\":\"\"}}}],\"scatter3d\":[{\"type\":\"scatter3d\",\"line\":{\"colorbar\":{\"outlinewidth\":0,\"ticks\":\"\"}},\"marker\":{\"colorbar\":{\"outlinewidth\":0,\"ticks\":\"\"}}}],\"scattermapbox\":[{\"type\":\"scattermapbox\",\"marker\":{\"colorbar\":{\"outlinewidth\":0,\"ticks\":\"\"}}}],\"scatterternary\":[{\"type\":\"scatterternary\",\"marker\":{\"colorbar\":{\"outlinewidth\":0,\"ticks\":\"\"}}}],\"scattercarpet\":[{\"type\":\"scattercarpet\",\"marker\":{\"colorbar\":{\"outlinewidth\":0,\"ticks\":\"\"}}}],\"carpet\":[{\"aaxis\":{\"endlinecolor\":\"#2a3f5f\",\"gridcolor\":\"white\",\"linecolor\":\"white\",\"minorgridcolor\":\"white\",\"startlinecolor\":\"#2a3f5f\"},\"baxis\":{\"endlinecolor\":\"#2a3f5f\",\"gridcolor\":\"white\",\"linecolor\":\"white\",\"minorgridcolor\":\"white\",\"startlinecolor\":\"#2a3f5f\"},\"type\":\"carpet\"}],\"table\":[{\"cells\":{\"fill\":{\"color\":\"#EBF0F8\"},\"line\":{\"color\":\"white\"}},\"header\":{\"fill\":{\"color\":\"#C8D4E3\"},\"line\":{\"color\":\"white\"}},\"type\":\"table\"}],\"barpolar\":[{\"marker\":{\"line\":{\"color\":\"#E5ECF6\",\"width\":0.5},\"pattern\":{\"fillmode\":\"overlay\",\"size\":10,\"solidity\":0.2}},\"type\":\"barpolar\"}],\"pie\":[{\"automargin\":true,\"type\":\"pie\"}]},\"layout\":{\"autotypenumbers\":\"strict\",\"colorway\":[\"#636efa\",\"#EF553B\",\"#00cc96\",\"#ab63fa\",\"#FFA15A\",\"#19d3f3\",\"#FF6692\",\"#B6E880\",\"#FF97FF\",\"#FECB52\"],\"font\":{\"color\":\"#2a3f5f\"},\"hovermode\":\"closest\",\"hoverlabel\":{\"align\":\"left\"},\"paper_bgcolor\":\"white\",\"plot_bgcolor\":\"#E5ECF6\",\"polar\":{\"bgcolor\":\"#E5ECF6\",\"angularaxis\":{\"gridcolor\":\"white\",\"linecolor\":\"white\",\"ticks\":\"\"},\"radialaxis\":{\"gridcolor\":\"white\",\"linecolor\":\"white\",\"ticks\":\"\"}},\"ternary\":{\"bgcolor\":\"#E5ECF6\",\"aaxis\":{\"gridcolor\":\"white\",\"linecolor\":\"white\",\"ticks\":\"\"},\"baxis\":{\"gridcolor\":\"white\",\"linecolor\":\"white\",\"ticks\":\"\"},\"caxis\":{\"gridcolor\":\"white\",\"linecolor\":\"white\",\"ticks\":\"\"}},\"coloraxis\":{\"colorbar\":{\"outlinewidth\":0,\"ticks\":\"\"}},\"colorscale\":{\"sequential\":[[0.0,\"#0d0887\"],[0.1111111111111111,\"#46039f\"],[0.2222222222222222,\"#7201a8\"],[0.3333333333333333,\"#9c179e\"],[0.4444444444444444,\"#bd3786\"],[0.5555555555555556,\"#d8576b\"],[0.6666666666666666,\"#ed7953\"],[0.7777777777777778,\"#fb9f3a\"],[0.8888888888888888,\"#fdca26\"],[1.0,\"#f0f921\"]],\"sequentialminus\":[[0.0,\"#0d0887\"],[0.1111111111111111,\"#46039f\"],[0.2222222222222222,\"#7201a8\"],[0.3333333333333333,\"#9c179e\"],[0.4444444444444444,\"#bd3786\"],[0.5555555555555556,\"#d8576b\"],[0.6666666666666666,\"#ed7953\"],[0.7777777777777778,\"#fb9f3a\"],[0.8888888888888888,\"#fdca26\"],[1.0,\"#f0f921\"]],\"diverging\":[[0,\"#8e0152\"],[0.1,\"#c51b7d\"],[0.2,\"#de77ae\"],[0.3,\"#f1b6da\"],[0.4,\"#fde0ef\"],[0.5,\"#f7f7f7\"],[0.6,\"#e6f5d0\"],[0.7,\"#b8e186\"],[0.8,\"#7fbc41\"],[0.9,\"#4d9221\"],[1,\"#276419\"]]},\"xaxis\":{\"gridcolor\":\"white\",\"linecolor\":\"white\",\"ticks\":\"\",\"title\":{\"standoff\":15},\"zerolinecolor\":\"white\",\"automargin\":true,\"zerolinewidth\":2},\"yaxis\":{\"gridcolor\":\"white\",\"linecolor\":\"white\",\"ticks\":\"\",\"title\":{\"standoff\":15},\"zerolinecolor\":\"white\",\"automargin\":true,\"zerolinewidth\":2},\"scene\":{\"xaxis\":{\"backgroundcolor\":\"#E5ECF6\",\"gridcolor\":\"white\",\"linecolor\":\"white\",\"showbackground\":true,\"ticks\":\"\",\"zerolinecolor\":\"white\",\"gridwidth\":2},\"yaxis\":{\"backgroundcolor\":\"#E5ECF6\",\"gridcolor\":\"white\",\"linecolor\":\"white\",\"showbackground\":true,\"ticks\":\"\",\"zerolinecolor\":\"white\",\"gridwidth\":2},\"zaxis\":{\"backgroundcolor\":\"#E5ECF6\",\"gridcolor\":\"white\",\"linecolor\":\"white\",\"showbackground\":true,\"ticks\":\"\",\"zerolinecolor\":\"white\",\"gridwidth\":2}},\"shapedefaults\":{\"line\":{\"color\":\"#2a3f5f\"}},\"annotationdefaults\":{\"arrowcolor\":\"#2a3f5f\",\"arrowhead\":0,\"arrowwidth\":1},\"geo\":{\"bgcolor\":\"white\",\"landcolor\":\"#E5ECF6\",\"subunitcolor\":\"white\",\"showland\":true,\"showlakes\":true,\"lakecolor\":\"white\"},\"title\":{\"x\":0.05},\"mapbox\":{\"style\":\"light\"}}}},                        {\"responsive\": true}                    ).then(function(){\n",
              "                            \n",
              "var gd = document.getElementById('d2cd3ac5-4d5b-42c7-8681-b1116bf210bd');\n",
              "var x = new MutationObserver(function (mutations, observer) {{\n",
              "        var display = window.getComputedStyle(gd).display;\n",
              "        if (!display || display === 'none') {{\n",
              "            console.log([gd, 'removed!']);\n",
              "            Plotly.purge(gd);\n",
              "            observer.disconnect();\n",
              "        }}\n",
              "}});\n",
              "\n",
              "// Listen for the removal of the full notebook cells\n",
              "var notebookContainer = gd.closest('#notebook-container');\n",
              "if (notebookContainer) {{\n",
              "    x.observe(notebookContainer, {childList: true});\n",
              "}}\n",
              "\n",
              "// Listen for the clearing of the current output cell\n",
              "var outputEl = gd.closest('.output');\n",
              "if (outputEl) {{\n",
              "    x.observe(outputEl, {childList: true});\n",
              "}}\n",
              "\n",
              "                        })                };                            </script>        </div>\n",
              "</body>\n",
              "</html>"
            ]
          },
          "metadata": {}
        }
      ]
    },
    {
      "cell_type": "code",
      "source": [
        "import plotly.express as px\n",
        "\n",
        "fig = px.scatter_matrix(\n",
        "    df,\n",
        "    dimensions=[\"price_sq_m\", \"green_zone_part\", \"industrial_part\", \"ttk_km\"],\n",
        "    color=\"material_monolit\",\n",
        "    title=\"Scatter Matrix ключевых признаков\",\n",
        "    labels={\"material_monolit\": \"Тип здания (монолит)\"}\n",
        "  )\n",
        "\n",
        "fig.show()"
      ],
      "metadata": {
        "colab": {
          "base_uri": "https://localhost:8080/",
          "height": 562
        },
        "id": "2XIJO4_j8MX6",
        "outputId": "7ec9a173-bfab-4425-fd3a-e9a8fdad7fa7"
      },
      "execution_count": 170,
      "outputs": [
        {
          "output_type": "display_data",
          "data": {
            "text/html": [
              "<html>\n",
              "<head><meta charset=\"utf-8\" /></head>\n",
              "<body>\n",
              "    <div>            <script src=\"https://cdnjs.cloudflare.com/ajax/libs/mathjax/2.7.5/MathJax.js?config=TeX-AMS-MML_SVG\"></script><script type=\"text/javascript\">if (window.MathJax && window.MathJax.Hub && window.MathJax.Hub.Config) {window.MathJax.Hub.Config({SVG: {font: \"STIX-Web\"}});}</script>                <script type=\"text/javascript\">window.PlotlyConfig = {MathJaxConfig: 'local'};</script>\n",
              "        <script charset=\"utf-8\" src=\"https://cdn.plot.ly/plotly-2.35.2.min.js\"></script>                <div id=\"592622a7-90af-4da2-9e04-5695aa002af1\" class=\"plotly-graph-div\" style=\"height:525px; width:100%;\"></div>            <script type=\"text/javascript\">                                    window.PLOTLYENV=window.PLOTLYENV || {};                                    if (document.getElementById(\"592622a7-90af-4da2-9e04-5695aa002af1\")) {                    Plotly.newPlot(                        \"592622a7-90af-4da2-9e04-5695aa002af1\",                        [{\"dimensions\":[{\"axis\":{\"matches\":true},\"label\":\"price_sq_m\",\"values\":[150980.392156863,200000.0,204225.352112676,181818.181818182,196153.846153846,196969.696969697,158139.534883721,169047.619047619,184210.526315789,152702.702702703,152173.913043478,126923.076923077,125000.0,151136.363636364,226923.076923077,180851.063829787,138888.888888889,164383.561643836,141509.433962264,166101.694915254,117045.454545455,123333.333333333,184375.0,140000.0,160344.827586207,168918.918918919,122972.972972973,194736.842105263,209090.909090909,189726.02739726,118822.033898305,132407.407407407,194444.444444444,177027.027027027,132075.471698113,137804.878048781,145945.945945946,231666.666666667,103448.275862069,215254.237288136,185714.285714286,134426.666666667,180921.052631579,155263.157894737,186486.486486486,143103.448275862,67435.8974358974,93333.3333333333,188888.888888889,150000.0,161538.461538462,187179.487179487,88203.05,136842.105263158,162162.162162162,157384.615384615,195353.421052632,146666.666666667,215789.473684211,84826.0,128947.368421053,138297.872340426,206666.666666667,135294.117647059,148780.487804878,202702.702702703,223684.210526316,151111.111111111,161428.571428571,195238.095238095,195945.945945946,207500.0,142105.263157895,127358.490566038,155000.0,93108.1081081081,138157.894736842,136666.666666667,222222.222222222,128205.128205128,176666.666666667,178125.0,195522.388059701,134210.526315789,178787.878787879,146385.542168675,137837.837837838,183333.333333333,152631.578947368,179032.258064516,195679.012345679,46163.6363636364,162500.0,185294.117647059,205263.157894737,210909.090909091,206185.567010309,155637.72,266666.666666667,168637.5,54842.1052631579,144358.974358974,124528.301886792,217142.857142857,164383.561643836,178461.538461538,160606.060606061,144901.639344262,158064.516129032,129629.62962963,158730.158730159,166051.648351648,212500.0,162222.222222222,154054.054054054,168181.818181818,123529.411764706,112837.837837838,156756.756756757,195111.111111111,158181.818181818,197058.823529412,135365.853658537,202020.202020202,155172.413793103,222222.222222222,203125.0,169230.769230769,138043.47826087,193037.833333333,228000.0,197368.421052632,140000.0,159367.76119403,153658.536585366,176115.384615385,167434.2,205479.452054795,185365.853658537,159332.727272727,167434.2,152500.0,163178.181818182,170754.716981132,121794.871794872,113049.176470588,119000.0,222368.421052632,132130.476190476,175000.0,260377.358490566,219607.843137255,125438.596491228,150201.388888889,154716.981132075,121818.181818182,153731.343283582,178048.780487805,183653.846153846,131578.947368421,149206.349206349,169230.769230769,150000.0,163418.181818182,155263.157894737,165307.352941176,234210.526315789,148888.888888889,218493.150684932,133333.333333333,159721.333333333,154716.981132075,200000.0,238805.970149254,155000.0,216216.216216216,178431.37254902,148571.428571429,142307.692307692,173747.727272727,200000.0,168504.0,160465.11627907,109375.0,223809.523809524,158860.759493671,205263.157894737,152631.578947368,162245.066666667,143902.43902439,177500.0,161066.666666667,166666.666666667,142857.142857143,189473.684210526,133280.428571429,201351.351351351,212987.012987013,164444.444444444,168043.75,133750.0,233333.333333333,204819.277108434,194594.594594595,203947.368421053,137096.774193548,139516.129032258,140425.531914894,153846.153846154,174635.205479452,157894.736842105,176045.138888889,168877.333333333,255405.405405405,125000.0,179032.258064516,178333.333333333,132258.064516129,147500.0,46163.6363636364,130741.379310345,105822.64,185294.117647059,285714.285714286,213409.090909091,137037.037037037,153947.368421053,216216.216216216,138000.0,156603.773584906,170588.235294118,162773.333333333,136585.365853659,115254.237288136,200000.0,162834.545454545,225000.0,178313.253012048,144318.181818182,126984.126984127,182352.941176471,203703.703703704,134146.341463415,131707.317073171,211320.754716981,128048.780487805,167510.6,133962.264150943,141176.470588235,170175.438596491,177448.732394366,130985.915492958,155263.157894737,130120.481927711,156060.606060606,176315.789473684,88219.5873015873,124074.074074074,163284.112149533,172720.0,85869.5652173913,177702.702702703,174137.931034483,135849.056603774,163157.894736842,88702.9836065574,133962.264150943,121710.526315789,151587.301587302,181272.727272727,147368.421052632,222077.922077922,87119.5737704918,197727.272727273,163513.513513514,155555.555555556,135526.315789474,157894.736842105,156329.113924051,142307.692307692,156097.56097561,153571.428571429,82176.3896103896,172946.666666667,88440.4262295082,150000.0,162962.962962963,88879.7049180328,89351.0,82354.0,125396.825396825,172946.666666667,145714.285714286,139726.02739726,79066.3780487805,80972.0,174000.0,94000.0,154054.054054054,207894.736842105,77300.0,208181.818181818,158490.566037736,87555.8196721312,164473.684210526,81703.0,161743.076923077,191250.0,150740.0,134939.759036145,216216.216216216,90701.0,87927.0,81763.1948051948,177922.077922078,165860.869565217,92695.8852459016,160000.0,264929.203539823,229508.196721311,125000.0,253521.126760563,197777.777777778,85682.974025974,140740.740740741,200000.0,253947.368421053,92783.737704918,160975.609756098,90398.5081967213,97845.25,134210.526315789,153846.153846154,70715.9090909091,178033.333333333,154716.981132075,118461.538461538,139534.88372093,90824.0158730159,85292.0,148113.20754717,148780.487804878,133333.333333333,162790.697674419,93149.3606557377,142000.0,201351.351351351,118644.06779661,196078.431372549,138888.888888889,156410.256410256,84450.253164557,161764.705882353,255405.405405405,171610.526315789,89929.5409836066,223529.411764706,84584.7831325301,168750.0,88740.873015873,119565.217391304,138750.0,92556.5245901639,161741.862745098,91302.5081967213,86972.1392405063,251923.076923077,128947.368421053,175153.50877193,234545.454545455,257333.333333333,220270.27027027,194210.526315789,197368.421052632,200000.0,214814.814814815,148333.333333333,134090.909090909,88440.4262295082,87108.1807228916,180474.418604651,194736.842105263,92962.6393442623,130769.230769231,150000.0,132258.064516129,184210.526315789,92328.5967741936,214285.714285714,197674.418604651,225000.0,161842.105263158,220338.983050847,202702.702702703,100903.196078431,232142.857142857,205405.405405405,151136.363636364,160526.315789474,148484.848484848,171428.571428571,209322.033898305,166356.164383562,207894.736842105,150000.0,91094.7301587302,162500.0,242105.263157895,129333.333333333,152307.692307692,227884.615384615,216216.216216216,99420.2884615385,129069.76744186,154545.454545455,86368.1012658228,86797.1898734177,86365.0886075949,211290.322580645,83717.4050632911,215625.0,246153.846153846,240740.740740741,100412.980769231,99608.6666666667,86194.6582278481,92065.0,90539.2222222222,173964.0,141414.141414141,92697.9016393443,146551.724137931,141613.636363636,98625.7307692308,211392.405063291,250000.0,184375.0,93534.6774193548,218750.0,181705.263157895,101408.039215686,214814.814814815,242727.272727273,147500.0,200000.0,254716.981132075,132467.532467532,207475.227272727,191463.414634146,168421.052631579,144186.046511628,232500.0,220370.37037037,166666.666666667,142553.191489362,230952.380952381,100416.480769231,86540.7215189873,169230.769230769,127687.212389381,94339.6226415094,144318.181818182,107890.875,93393.9841269841,93209.2380952381,150632.911392405,94657.131147541,97402.5974025974,137777.777777778,184523.80952381,158045.977011494,91911.3492063492,84964.7951807229,175000.0,160000.0,119780.21978022,186034.931506849,152631.578947368,142622.950819672,113750.0,180495.753424658,195614.035087719,91437.5873015873,157812.5,92211.1639344262,130000.0,144067.79661017,101219.269230769,251923.076923077,163636.363636364,141176.470588235,210256.41025641,228571.428571429,173134.328358209,166037.735849057,94968.7580645161,171880.909090909,91884.984375,224561.403508772,130612.244897959,143589.743589744,139772.727272727,255357.142857143,144444.444444444,162500.0,71428.5714285714,93271.296875,212121.212121212,226000.0,170731.707317073,227500.0,197297.297297297,223684.210526316,162857.142857143,212962.962962963,274509.803921569,216666.666666667,86158.8214285714,131395.348837209,183606.557377049,132203.389830508,123333.333333333,142105.263157895,127083.333333333,135714.285714286,86418.9036144578,167500.0,178738.636363636,151851.851851852,185937.5,183720.930232558,192105.263157895,157777.777777778,138461.538461538,164062.5,170588.235294118,164444.444444444,228000.0,194736.842105263,177631.578947368,136507.936507937,160000.0,197368.421052632,116666.666666667,157746.478873239,225000.0,193518.518518519,214285.714285714,249295.774647887,225641.025641026,184347.826086957,93690.234375,168000.0,194736.842105263,166955.283018868,105793.051282051,172593.220338983,153061.224489796,162222.222222222,194117.647058824,204347.826086957,218571.428571429,171350.46728972,169736.842105263,197222.222222222,178048.780487805,229245.283018868,239622.641509434,206666.666666667,226436.781609195,177027.027027027,151428.571428571,166666.666666667,178435.135135135,173333.333333333,158536.585365854,196774.193548387,167283.733333333,181441.391304348,182142.857142857,175757.575757576,212500.0,159210.526315789,133720.930232558,173076.923076923,180421.962616822,179861.111111111,93775.765625,164705.882352941,228571.428571429,167305.866666667,217948.717948718,160526.315789474,209589.04109589,264197.368421053,170238.095238095,207236.842105263,168421.052631579,207475.227272727,214473.684210526,136363.636363636,202631.578947368,157575.757575758,141509.433962264,159482.75862069,100150.358974359,155844.155844156,86891.0833333333,150000.0,132031.25,95575.515625,202631.578947368,172222.222222222,168750.0,98495.4358974359,278750.0,148979.591836735,138888.888888889,130681.818181818,150500.0,93858.0158730159,274155.76,169491.525423729,244871.794871795,181578.947368421,152777.777777778,89209.1265822785,156779.661016949,97579.8333333333,95802.2131147541,160526.315789474,202380.952380952,225490.196078431,143103.448275862,201886.79245283,150000.0,114285.714285714,145370.37037037,235245.901639344,182876.712328767,119268.647058824,86082.2151898734,169491.525423729,165000.0,266153.846153846,92801.84375,194915.254237288,92797.578125,170212.765957447,50761.2444444444,190322.580645161,93391.0634920635,122641.509433962,179104.47761194,109079.419354839,264102.564102564,187500.0,165277.777777778,140487.804878049,153409.090909091,143939.393939394,256578.947368421,243396.226415094,182432.432432432,138461.538461538,116749.529411765,171951.219512195,250000.0,94292.796875,230000.0,209090.909090909,192105.263157895,151388.888888889,100517.161764706,131203.007518797,235576.923076923,135714.285714286,206250.0,154098.360655738,107142.857142857,120318.085106383,186111.111111111,138461.538461538,201388.888888889,171337.333333333,115305.173076923,122413.793103448,144444.444444444,103184.205128205,172727.272727273,171817.954545455,184615.384615385,257500.0,250000.0,120401.469387755,93189.4736842105,169811.320754717,173584.905660377,141509.433962264,135135.135135135,87188.1904761905,191666.666666667,133756.7,141250.0,155056.179775281,160526.315789474,233333.333333333,94352.6935483871,190681.818181818,201250.0,126218.212389381,168571.428571429,169333.333333333,125113.45,175757.575757576,184615.384615385,75540.5405405406,100104.892857143,200000.0,156818.181818182,271028.037383178,250000.0,177631.578947368,159782.608695652,250000.0,142031.953488372,176271.186440678,205714.285714286,224074.074074074,138983.050847458,118798.538461538,165789.473684211,135416.666666667,185000.0,108108.108108108,241891.891891892,227027.027027027,250943.396226415,170000.0,243636.363636364,165789.473684211,189510.638297872,251470.588235294,124590.163934426,210526.315789474,138125.175,160000.0,221052.631578947,157500.0,134319.35,187671.232876712,46222.7537313433,247169.811320755,164444.444444444,132926.829268293,118379.301369863,196004.545454545,86551.724137931,155263.157894737,172549.019607843,235294.117647059,156363.636363636,240180.681818182,104673.774193548,116696.240506329,173684.210526316,168750.0,197297.297297297,166666.666666667,144736.842105263,148483.333333333,190000.0,202272.727272727,106005.888888889,182894.736842105,200000.0,205263.157894737,151162.790697674,266666.666666667,156250.0,180000.0,168750.0,196004.545454545,144318.181818182,179487.17948718,180645.161290323,188235.294117647,158536.585365854,228947.368421053,237037.037037037,135165.673913044,218181.818181818,206779.661016949,138666.666666667,171052.631578947,239726.02739726,207692.307692308,146226.41509434,279411.764705882,180952.380952381,193421.052631579,95890.4109589041,172058.823529412,210526.315789474,156818.181818182,147692.307692308,160526.315789474,177924.528301887,103131.612903226,230985.915492958,217741.935483871,182432.432432432,95664.8192771084,200363.636363636,161904.761904762,255263.157894737,99000.8961038961,118694.671875,219298.245614035,247368.421052632,161971.830985916,155813.953488372,122495.803278689,173052.054794521,103005.903225806,126470.588235294,152631.578947368,151072.0,153225.806451613,124615.384615385,101612.09375,216666.666666667,190277.777777778,133894.736842105,110735.961538462,218918.918918919,121570.211267606,151428.571428571,168674.698795181,227272.727272727,100945.790322581,142203.389830508,211864.406779661,230188.679245283,160526.315789474,128888.888888889,145333.333333333,115921.052631579,169317.27027027,175000.0,132467.532467532,172669.230769231,232456.140350877,104038.258064516,104191.229508197,176470.588235294,111088.607594937,207894.736842105,100285.171875,97265.2682926829,147000.0,123327.868852459,122837.524590164,96496.6329113924,241083.333333333,106079.901639344,149607.037037037,105424.225806452,135135.135135135,129629.62962963,146511.627906977,250000.0,165625.0,154718.666666667,228378.378378378,151298.701298701,172107.102040816,233333.333333333,103436.163934426,210526.315789474,213985.890410959,150657.0,127883.096153846,226973.684210526,97948.275862069,104925.721311475,181503.271028037,112025.615384615,221052.631578947,168421.052631579,98780.890625,147000.0,155263.157894737,175471.698113208,213157.894736842,144157.236842105,148113.20754717,99583.1875,104745.126984127,100285.171875,100383.873239437,95790.1898734177,99583.1875,178947.368421053,113311.62745098]},{\"axis\":{\"matches\":true},\"label\":\"green_zone_part\",\"values\":[0.083809588,0.169625419,0.297166335,0.069670879,0.070662054,0.069670879,0.069670879,0.133372781,0.070662054,0.083809588,0.069670879,0.058543047,0.083809588,0.133372781,0.199430788,0.133372781,0.058543047,0.169625419,0.083809588,0.169625419,0.083809588,0.058543047,0.133372781,0.083809588,0.070662054,0.083809588,0.083809588,0.297166335,0.199430788,0.297166335,0.169625419,0.058543047,0.169625419,0.070662054,0.070662054,0.058543047,0.083809588,0.297166335,0.069670879,0.169625419,0.069670879,0.133372781,0.070662054,0.083809588,0.083809588,0.083809588,0.083809588,0.169625419,0.070662054,0.069670879,0.169625419,0.169625419,0.069670879,0.069670879,0.083809588,0.133372781,0.133372781,0.083809588,0.169625419,0.133372781,0.070662054,0.070662054,0.169625419,0.069670879,0.069670879,0.169625419,0.297166335,0.133372781,0.058543047,0.070662054,0.070662054,0.070662054,0.083809588,0.083809588,0.133372781,0.058543047,0.058543047,0.069670879,0.297166335,0.070662054,0.069670879,0.133372781,0.070662054,0.058543047,0.069670879,0.070662054,0.058543047,0.133372781,0.133372781,0.070662054,0.070662054,0.169625419,0.069670879,0.070662054,0.070662054,0.199430788,0.070662054,0.169625419,0.199430788,0.169625419,0.070662054,0.058543047,0.058543047,0.169625419,0.070662054,0.169625419,0.169625419,0.133372781,0.133372781,0.058543047,0.083809588,0.169625419,0.169625419,0.069670879,0.083809588,0.069670879,0.058543047,0.058543047,0.083809588,0.070662054,0.070662054,0.070662054,0.083809588,0.297166335,0.069670879,0.297166335,0.070662054,0.069670879,0.133372781,0.169625419,0.297166335,0.297166335,0.058543047,0.169625419,0.069670879,0.169625419,0.169625419,0.169625419,0.070662054,0.169625419,0.169625419,0.069670879,0.169625419,0.133372781,0.083809588,0.058543047,0.083809588,0.297166335,0.058543047,0.070662054,0.169625419,0.297166335,0.058543047,0.169625419,0.058543047,0.069670879,0.133372781,0.070662054,0.169625419,0.058543047,0.083809588,0.133372781,0.083809588,0.169625419,0.083809588,0.169625419,0.070662054,0.133372781,0.169625419,0.133372781,0.169625419,0.058543047,0.169625419,0.199430788,0.069670879,0.297166335,0.083809588,0.069670879,0.058543047,0.169625419,0.169625419,0.169625419,0.069670879,0.133372781,0.070662054,0.058543047,0.297166335,0.058543047,0.169625419,0.083809588,0.133372781,0.169625419,0.083809588,0.058543047,0.169625419,0.058543047,0.169625419,0.297166335,0.133372781,0.169625419,0.058543047,0.169625419,0.297166335,0.070662054,0.069670879,0.133372781,0.058543047,0.069670879,0.070662054,0.169625419,0.058543047,0.169625419,0.169625419,0.297166335,0.083809588,0.070662054,0.069670879,0.058543047,0.083809588,0.169625419,0.069670879,0.133372781,0.169625419,0.169625419,0.070662054,0.058543047,0.058543047,0.297166335,0.069670879,0.058543047,0.069670879,0.169625419,0.058543047,0.083809588,0.070662054,0.169625419,0.169625419,0.297166335,0.083809588,0.169625419,0.070662054,0.297166335,0.058543047,0.169625419,0.297166335,0.083809588,0.169625419,0.058543047,0.058543047,0.070662054,0.169625419,0.069670879,0.083809588,0.058543047,0.133372781,0.070662054,0.083809588,0.083809588,0.169625419,0.169625419,0.083809588,0.297166335,0.133372781,0.083809588,0.133372781,0.083809588,0.058543047,0.083809588,0.133372781,0.133372781,0.058543047,0.297166335,0.083809588,0.070662054,0.083809588,0.058543047,0.058543047,0.058543047,0.133372781,0.083809588,0.133372781,0.133372781,0.083809588,0.169625419,0.083809588,0.083809588,0.069670879,0.083809588,0.083809588,0.083809588,0.083809588,0.169625419,0.058543047,0.069670879,0.083809588,0.083809588,0.133372781,0.058543047,0.083809588,0.083809588,0.083809588,0.169625419,0.070662054,0.083809588,0.133372781,0.083809588,0.169625419,0.133372781,0.169625419,0.058543047,0.070662054,0.083809588,0.083809588,0.083809588,0.169625419,0.070662054,0.083809588,0.069670879,0.169625419,0.199430788,0.058543047,0.199430788,0.169625419,0.083809588,0.083809588,0.070662054,0.169625419,0.083809588,0.133372781,0.083809588,0.083809588,0.083809588,0.070662054,0.070662054,0.169625419,0.058543047,0.069670879,0.069670879,0.083809588,0.083809588,0.058543047,0.069670879,0.069670879,0.070662054,0.083809588,0.069670879,0.169625419,0.083809588,0.169625419,0.058543047,0.069670879,0.083809588,0.069670879,0.169625419,0.169625419,0.083809588,0.169625419,0.083809588,0.133372781,0.083809588,0.083809588,0.058543047,0.083809588,0.169625419,0.083809588,0.083809588,0.199430788,0.083809588,0.070662054,0.169625419,0.199430788,0.070662054,0.069670879,0.297166335,0.169625419,0.133372781,0.133372781,0.133372781,0.083809588,0.083809588,0.199430788,0.297166335,0.083809588,0.058543047,0.133372781,0.058543047,0.133372781,0.083809588,0.169625419,0.070662054,0.169625419,0.083809588,0.169625419,0.069670879,0.083809588,0.070662054,0.070662054,0.083809588,0.083809588,0.070662054,0.070662054,0.070662054,0.169625419,0.297166335,0.083809588,0.083809588,0.133372781,0.297166335,0.058543047,0.133372781,0.297166335,0.297166335,0.083809588,0.069670879,0.083809588,0.083809588,0.083809588,0.083809588,0.069670879,0.083809588,0.169625419,0.070662054,0.169625419,0.083809588,0.083809588,0.083809588,0.083809588,0.083809588,0.169625419,0.083809588,0.083809588,0.069670879,0.133372781,0.083809588,0.070662054,0.169625419,0.070662054,0.058543047,0.297166335,0.169625419,0.083809588,0.199430788,0.199430788,0.083809588,0.070662054,0.297166335,0.058543047,0.169625419,0.069670879,0.083809588,0.133372781,0.070662054,0.169625419,0.083809588,0.069670879,0.133372781,0.083809588,0.083809588,0.133372781,0.169625419,0.083809588,0.083809588,0.133372781,0.083809588,0.083809588,0.069670879,0.083809588,0.133372781,0.133372781,0.070662054,0.133372781,0.083809588,0.083809588,0.069670879,0.169625419,0.069670879,0.169625419,0.058543047,0.058543047,0.058543047,0.169625419,0.133372781,0.083809588,0.133372781,0.083809588,0.058543047,0.133372781,0.083809588,0.199430788,0.069670879,0.058543047,0.169625419,0.169625419,0.070662054,0.069670879,0.083809588,0.169625419,0.083809588,0.169625419,0.083809588,0.083809588,0.070662054,0.199430788,0.070662054,0.133372781,0.169625419,0.083809588,0.169625419,0.169625419,0.069670879,0.070662054,0.070662054,0.169625419,0.069670879,0.169625419,0.069670879,0.070662054,0.083809588,0.070662054,0.070662054,0.133372781,0.083809588,0.133372781,0.133372781,0.058543047,0.083809588,0.069670879,0.169625419,0.058543047,0.133372781,0.069670879,0.070662054,0.069670879,0.083809588,0.070662054,0.069670879,0.133372781,0.169625419,0.133372781,0.070662054,0.058543047,0.133372781,0.297166335,0.083809588,0.069670879,0.169625419,0.070662054,0.297166335,0.169625419,0.169625419,0.133372781,0.083809588,0.069670879,0.070662054,0.169625419,0.133372781,0.169625419,0.070662054,0.069670879,0.070662054,0.070662054,0.169625419,0.169625419,0.133372781,0.070662054,0.069670879,0.297166335,0.297166335,0.169625419,0.070662054,0.069670879,0.133372781,0.083809588,0.169625419,0.069670879,0.069670879,0.169625419,0.169625419,0.169625419,0.133372781,0.133372781,0.070662054,0.058543047,0.070662054,0.133372781,0.169625419,0.169625419,0.083809588,0.058543047,0.199430788,0.169625419,0.169625419,0.133372781,0.297166335,0.199430788,0.070662054,0.169625419,0.069670879,0.169625419,0.070662054,0.069670879,0.169625419,0.133372781,0.058543047,0.070662054,0.133372781,0.083809588,0.083809588,0.069670879,0.058543047,0.083809588,0.169625419,0.069670879,0.133372781,0.133372781,0.199430788,0.069670879,0.058543047,0.070662054,0.133372781,0.083809588,0.169625419,0.133372781,0.169625419,0.133372781,0.069670879,0.083809588,0.133372781,0.133372781,0.083809588,0.083809588,0.169625419,0.297166335,0.069670879,0.169625419,0.083809588,0.083809588,0.058543047,0.169625419,0.169625419,0.133372781,0.083809588,0.069670879,0.069670879,0.169625419,0.083809588,0.169625419,0.083809588,0.133372781,0.133372781,0.070662054,0.083809588,0.169625419,0.169625419,0.083809588,0.297166335,0.133372781,0.070662054,0.058543047,0.083809588,0.133372781,0.297166335,0.297166335,0.133372781,0.069670879,0.133372781,0.070662054,0.199430788,0.083809588,0.169625419,0.133372781,0.133372781,0.069670879,0.058543047,0.083809588,0.169625419,0.133372781,0.169625419,0.083809588,0.070662054,0.133372781,0.069670879,0.083809588,0.133372781,0.169625419,0.083809588,0.069670879,0.069670879,0.133372781,0.069670879,0.169625419,0.133372781,0.297166335,0.297166335,0.133372781,0.070662054,0.069670879,0.070662054,0.058543047,0.058543047,0.083809588,0.169625419,0.083809588,0.083809588,0.133372781,0.083809588,0.297166335,0.083809588,0.133372781,0.169625419,0.133372781,0.069670879,0.169625419,0.083809588,0.133372781,0.069670879,0.069670879,0.083809588,0.069670879,0.070662054,0.297166335,0.169625419,0.069670879,0.069670879,0.169625419,0.058543047,0.070662054,0.070662054,0.297166335,0.058543047,0.083809588,0.083809588,0.133372781,0.069670879,0.069670879,0.297166335,0.297166335,0.069670879,0.133372781,0.169625419,0.069670879,0.069670879,0.199430788,0.058543047,0.169625419,0.083809588,0.133372781,0.169625419,0.058543047,0.083809588,0.069670879,0.133372781,0.297166335,0.069670879,0.058543047,0.133372781,0.169625419,0.133372781,0.083809588,0.083809588,0.169625419,0.070662054,0.169625419,0.083809588,0.133372781,0.083809588,0.133372781,0.070662054,0.133372781,0.083809588,0.169625419,0.069670879,0.069670879,0.083809588,0.133372781,0.069670879,0.070662054,0.133372781,0.169625419,0.070662054,0.133372781,0.133372781,0.169625419,0.083809588,0.083809588,0.069670879,0.069670879,0.069670879,0.297166335,0.169625419,0.133372781,0.169625419,0.199430788,0.058543047,0.133372781,0.297166335,0.070662054,0.083809588,0.199430788,0.133372781,0.297166335,0.069670879,0.297166335,0.297166335,0.133372781,0.069670879,0.083809588,0.069670879,0.083809588,0.297166335,0.069670879,0.070662054,0.083809588,0.169625419,0.133372781,0.169625419,0.058543047,0.083809588,0.169625419,0.169625419,0.083809588,0.133372781,0.083809588,0.169625419,0.083809588,0.083809588,0.058543047,0.297166335,0.133372781,0.133372781,0.083809588,0.069670879,0.169625419,0.083809588,0.083809588,0.070662054,0.133372781,0.133372781,0.069670879,0.169625419,0.083809588,0.083809588,0.169625419,0.169625419,0.083809588,0.069670879,0.058543047,0.083809588,0.297166335,0.070662054,0.133372781,0.169625419,0.133372781,0.083809588,0.083809588,0.069670879,0.083809588,0.169625419,0.083809588,0.083809588,0.297166335,0.083809588,0.083809588,0.083809588,0.297166335,0.083809588,0.297166335,0.083809588,0.083809588,0.083809588,0.069670879,0.070662054,0.069670879,0.297166335,0.169625419,0.069670879,0.169625419,0.169625419,0.083809588,0.070662054,0.169625419,0.297166335,0.083809588,0.297166335,0.133372781,0.083809588,0.169625419,0.083809588,0.070662054,0.069670879,0.083809588,0.297166335,0.058543047,0.133372781,0.169625419,0.133372781,0.058543047,0.083809588,0.083809588,0.083809588,0.133372781,0.083809588,0.083809588,0.133372781,0.083809588]},{\"axis\":{\"matches\":true},\"label\":\"industrial_part\",\"values\":[0.371148999,0.019508796,0.0,0.130617806,0.035145267,0.130617806,0.130617806,0.309479124,0.035145267,0.371148999,0.130617806,0.025609157,0.371148999,0.309479124,0.081943463,0.309479124,0.025609157,0.019508796,0.371148999,0.019508796,0.371148999,0.025609157,0.309479124,0.371148999,0.035145267,0.371148999,0.371148999,0.0,0.081943463,0.0,0.019508796,0.025609157,0.019508796,0.035145267,0.035145267,0.025609157,0.371148999,0.0,0.130617806,0.019508796,0.130617806,0.309479124,0.035145267,0.371148999,0.371148999,0.371148999,0.371148999,0.019508796,0.035145267,0.130617806,0.019508796,0.019508796,0.130617806,0.130617806,0.371148999,0.309479124,0.309479124,0.371148999,0.019508796,0.309479124,0.035145267,0.035145267,0.019508796,0.130617806,0.130617806,0.019508796,0.0,0.309479124,0.025609157,0.035145267,0.035145267,0.035145267,0.371148999,0.371148999,0.309479124,0.025609157,0.025609157,0.130617806,0.0,0.035145267,0.130617806,0.309479124,0.035145267,0.025609157,0.130617806,0.035145267,0.025609157,0.309479124,0.309479124,0.035145267,0.035145267,0.019508796,0.130617806,0.035145267,0.035145267,0.081943463,0.035145267,0.019508796,0.081943463,0.019508796,0.035145267,0.025609157,0.025609157,0.019508796,0.035145267,0.019508796,0.019508796,0.309479124,0.309479124,0.025609157,0.371148999,0.019508796,0.019508796,0.130617806,0.371148999,0.130617806,0.025609157,0.025609157,0.371148999,0.035145267,0.035145267,0.035145267,0.371148999,0.0,0.130617806,0.0,0.035145267,0.130617806,0.309479124,0.019508796,0.0,0.0,0.025609157,0.019508796,0.130617806,0.019508796,0.019508796,0.019508796,0.035145267,0.019508796,0.019508796,0.130617806,0.019508796,0.309479124,0.371148999,0.025609157,0.371148999,0.0,0.025609157,0.035145267,0.019508796,0.0,0.025609157,0.019508796,0.025609157,0.130617806,0.309479124,0.035145267,0.019508796,0.025609157,0.371148999,0.309479124,0.371148999,0.019508796,0.371148999,0.019508796,0.035145267,0.309479124,0.019508796,0.309479124,0.019508796,0.025609157,0.019508796,0.081943463,0.130617806,0.0,0.371148999,0.130617806,0.025609157,0.019508796,0.019508796,0.019508796,0.130617806,0.309479124,0.035145267,0.025609157,0.0,0.025609157,0.019508796,0.371148999,0.309479124,0.019508796,0.371148999,0.025609157,0.019508796,0.025609157,0.019508796,0.0,0.309479124,0.019508796,0.025609157,0.019508796,0.0,0.035145267,0.130617806,0.309479124,0.025609157,0.130617806,0.035145267,0.019508796,0.025609157,0.019508796,0.019508796,0.0,0.371148999,0.035145267,0.130617806,0.025609157,0.371148999,0.019508796,0.130617806,0.309479124,0.019508796,0.019508796,0.035145267,0.025609157,0.025609157,0.0,0.130617806,0.025609157,0.130617806,0.019508796,0.025609157,0.371148999,0.035145267,0.019508796,0.019508796,0.0,0.371148999,0.019508796,0.035145267,0.0,0.025609157,0.019508796,0.0,0.371148999,0.019508796,0.025609157,0.025609157,0.035145267,0.019508796,0.130617806,0.371148999,0.025609157,0.309479124,0.035145267,0.371148999,0.371148999,0.019508796,0.019508796,0.371148999,0.0,0.309479124,0.371148999,0.309479124,0.371148999,0.025609157,0.371148999,0.309479124,0.309479124,0.025609157,0.0,0.371148999,0.035145267,0.371148999,0.025609157,0.025609157,0.025609157,0.309479124,0.371148999,0.309479124,0.309479124,0.371148999,0.019508796,0.371148999,0.371148999,0.130617806,0.371148999,0.371148999,0.371148999,0.371148999,0.019508796,0.025609157,0.130617806,0.371148999,0.371148999,0.309479124,0.025609157,0.371148999,0.371148999,0.371148999,0.019508796,0.035145267,0.371148999,0.309479124,0.371148999,0.019508796,0.309479124,0.019508796,0.025609157,0.035145267,0.371148999,0.371148999,0.371148999,0.019508796,0.035145267,0.371148999,0.130617806,0.019508796,0.081943463,0.025609157,0.081943463,0.019508796,0.371148999,0.371148999,0.035145267,0.019508796,0.371148999,0.309479124,0.371148999,0.371148999,0.371148999,0.035145267,0.035145267,0.019508796,0.025609157,0.130617806,0.130617806,0.371148999,0.371148999,0.025609157,0.130617806,0.130617806,0.035145267,0.371148999,0.130617806,0.019508796,0.371148999,0.019508796,0.025609157,0.130617806,0.371148999,0.130617806,0.019508796,0.019508796,0.371148999,0.019508796,0.371148999,0.309479124,0.371148999,0.371148999,0.025609157,0.371148999,0.019508796,0.371148999,0.371148999,0.081943463,0.371148999,0.035145267,0.019508796,0.081943463,0.035145267,0.130617806,0.0,0.019508796,0.309479124,0.309479124,0.309479124,0.371148999,0.371148999,0.081943463,0.0,0.371148999,0.025609157,0.309479124,0.025609157,0.309479124,0.371148999,0.019508796,0.035145267,0.019508796,0.371148999,0.019508796,0.130617806,0.371148999,0.035145267,0.035145267,0.371148999,0.371148999,0.035145267,0.035145267,0.035145267,0.019508796,0.0,0.371148999,0.371148999,0.309479124,0.0,0.025609157,0.309479124,0.0,0.0,0.371148999,0.130617806,0.371148999,0.371148999,0.371148999,0.371148999,0.130617806,0.371148999,0.019508796,0.035145267,0.019508796,0.371148999,0.371148999,0.371148999,0.371148999,0.371148999,0.019508796,0.371148999,0.371148999,0.130617806,0.309479124,0.371148999,0.035145267,0.019508796,0.035145267,0.025609157,0.0,0.019508796,0.371148999,0.081943463,0.081943463,0.371148999,0.035145267,0.0,0.025609157,0.019508796,0.130617806,0.371148999,0.309479124,0.035145267,0.019508796,0.371148999,0.130617806,0.309479124,0.371148999,0.371148999,0.309479124,0.019508796,0.371148999,0.371148999,0.309479124,0.371148999,0.371148999,0.130617806,0.371148999,0.309479124,0.309479124,0.035145267,0.309479124,0.371148999,0.371148999,0.130617806,0.019508796,0.130617806,0.019508796,0.025609157,0.025609157,0.025609157,0.019508796,0.309479124,0.371148999,0.309479124,0.371148999,0.025609157,0.309479124,0.371148999,0.081943463,0.130617806,0.025609157,0.019508796,0.019508796,0.035145267,0.130617806,0.371148999,0.019508796,0.371148999,0.019508796,0.371148999,0.371148999,0.035145267,0.081943463,0.035145267,0.309479124,0.019508796,0.371148999,0.019508796,0.019508796,0.130617806,0.035145267,0.035145267,0.019508796,0.130617806,0.019508796,0.130617806,0.035145267,0.371148999,0.035145267,0.035145267,0.309479124,0.371148999,0.309479124,0.309479124,0.025609157,0.371148999,0.130617806,0.019508796,0.025609157,0.309479124,0.130617806,0.035145267,0.130617806,0.371148999,0.035145267,0.130617806,0.309479124,0.019508796,0.309479124,0.035145267,0.025609157,0.309479124,0.0,0.371148999,0.130617806,0.019508796,0.035145267,0.0,0.019508796,0.019508796,0.309479124,0.371148999,0.130617806,0.035145267,0.019508796,0.309479124,0.019508796,0.035145267,0.130617806,0.035145267,0.035145267,0.019508796,0.019508796,0.309479124,0.035145267,0.130617806,0.0,0.0,0.019508796,0.035145267,0.130617806,0.309479124,0.371148999,0.019508796,0.130617806,0.130617806,0.019508796,0.019508796,0.019508796,0.309479124,0.309479124,0.035145267,0.025609157,0.035145267,0.309479124,0.019508796,0.019508796,0.371148999,0.025609157,0.081943463,0.019508796,0.019508796,0.309479124,0.0,0.081943463,0.035145267,0.019508796,0.130617806,0.019508796,0.035145267,0.130617806,0.019508796,0.309479124,0.025609157,0.035145267,0.309479124,0.371148999,0.371148999,0.130617806,0.025609157,0.371148999,0.019508796,0.130617806,0.309479124,0.309479124,0.081943463,0.130617806,0.025609157,0.035145267,0.309479124,0.371148999,0.019508796,0.309479124,0.019508796,0.309479124,0.130617806,0.371148999,0.309479124,0.309479124,0.371148999,0.371148999,0.019508796,0.0,0.130617806,0.019508796,0.371148999,0.371148999,0.025609157,0.019508796,0.019508796,0.309479124,0.371148999,0.130617806,0.130617806,0.019508796,0.371148999,0.019508796,0.371148999,0.309479124,0.309479124,0.035145267,0.371148999,0.019508796,0.019508796,0.371148999,0.0,0.309479124,0.035145267,0.025609157,0.371148999,0.309479124,0.0,0.0,0.309479124,0.130617806,0.309479124,0.035145267,0.081943463,0.371148999,0.019508796,0.309479124,0.309479124,0.130617806,0.025609157,0.371148999,0.019508796,0.309479124,0.019508796,0.371148999,0.035145267,0.309479124,0.130617806,0.371148999,0.309479124,0.019508796,0.371148999,0.130617806,0.130617806,0.309479124,0.130617806,0.019508796,0.309479124,0.0,0.0,0.309479124,0.035145267,0.130617806,0.035145267,0.025609157,0.025609157,0.371148999,0.019508796,0.371148999,0.371148999,0.309479124,0.371148999,0.0,0.371148999,0.309479124,0.019508796,0.309479124,0.130617806,0.019508796,0.371148999,0.309479124,0.130617806,0.130617806,0.371148999,0.130617806,0.035145267,0.0,0.019508796,0.130617806,0.130617806,0.019508796,0.025609157,0.035145267,0.035145267,0.0,0.025609157,0.371148999,0.371148999,0.309479124,0.130617806,0.130617806,0.0,0.0,0.130617806,0.309479124,0.019508796,0.130617806,0.130617806,0.081943463,0.025609157,0.019508796,0.371148999,0.309479124,0.019508796,0.025609157,0.371148999,0.130617806,0.309479124,0.0,0.130617806,0.025609157,0.309479124,0.019508796,0.309479124,0.371148999,0.371148999,0.019508796,0.035145267,0.019508796,0.371148999,0.309479124,0.371148999,0.309479124,0.035145267,0.309479124,0.371148999,0.019508796,0.130617806,0.130617806,0.371148999,0.309479124,0.130617806,0.035145267,0.309479124,0.019508796,0.035145267,0.309479124,0.309479124,0.019508796,0.371148999,0.371148999,0.130617806,0.130617806,0.130617806,0.0,0.019508796,0.309479124,0.019508796,0.081943463,0.025609157,0.309479124,0.0,0.035145267,0.371148999,0.081943463,0.309479124,0.0,0.130617806,0.0,0.0,0.309479124,0.130617806,0.371148999,0.130617806,0.371148999,0.0,0.130617806,0.035145267,0.371148999,0.019508796,0.309479124,0.019508796,0.025609157,0.371148999,0.019508796,0.019508796,0.371148999,0.309479124,0.371148999,0.019508796,0.371148999,0.371148999,0.025609157,0.0,0.309479124,0.309479124,0.371148999,0.130617806,0.019508796,0.371148999,0.371148999,0.035145267,0.309479124,0.309479124,0.130617806,0.019508796,0.371148999,0.371148999,0.019508796,0.019508796,0.371148999,0.130617806,0.025609157,0.371148999,0.0,0.035145267,0.309479124,0.019508796,0.309479124,0.371148999,0.371148999,0.130617806,0.371148999,0.019508796,0.371148999,0.371148999,0.0,0.371148999,0.371148999,0.371148999,0.0,0.371148999,0.0,0.371148999,0.371148999,0.371148999,0.130617806,0.035145267,0.130617806,0.0,0.019508796,0.130617806,0.019508796,0.019508796,0.371148999,0.035145267,0.019508796,0.0,0.371148999,0.0,0.309479124,0.371148999,0.019508796,0.371148999,0.035145267,0.130617806,0.371148999,0.0,0.025609157,0.309479124,0.019508796,0.309479124,0.025609157,0.371148999,0.371148999,0.371148999,0.309479124,0.371148999,0.371148999,0.309479124,0.371148999]},{\"axis\":{\"matches\":true},\"label\":\"ttk_km\",\"values\":[12.75509186,1.80085356,6.828562624,6.006676769,8.955545043,7.259686273,8.921792263,5.720875677,7.69690768,11.22848159,8.681830509,15.01827723,12.13484997,7.535063791,0.956949879,8.270963228,14.79303403,4.844004735,12.37418025,4.76304239,12.71586221,15.71568412,5.042811469,12.53227255,7.69690768,11.41013722,12.6055929,9.825659541,1.045146113,8.024270474,3.861552271,16.28523864,4.857984875,7.374381974,6.935044366,14.631503,12.18526699,7.910572905,8.63247155,4.709308586,7.171472518,6.335110391,7.69690768,12.19876562,12.4226634,13.19587598,12.6055929,3.759125033,7.957367957,6.583466571,4.683903087,1.842771518,7.583216978,9.098259725,12.4226634,8.056846193,6.397490417,11.51522709,1.392683182,9.625238462,7.21856072,7.521241126,5.312046323,8.693427517,8.7504248,0.804315255,7.620542923,4.870810941,15.49395385,7.369948943,6.565661756,7.145251555,11.99526534,11.22848159,4.985571764,15.49395385,15.55210985,9.537234197,7.971365077,7.21856072,9.625592216,5.266349228,6.439412566,15.82323544,6.343764814,11.38249774,15.97225298,5.496998655,5.485983907,7.968353861,6.948325015,1.827734252,7.372574671,7.131757638,7.702870235,0.820754809,6.10440877,3.662458577,0.557775492,6.035625615,6.804285745,15.65334034,15.42997878,1.25027792,6.44666631,3.342798691,4.796017687,6.810398073,4.889675891,14.79303403,12.4226634,6.154473769,1.475277033,6.753705005,13.0287749,8.454981832,14.198621,16.18206195,12.0132408,7.259919475,8.31973407,6.010414424,12.4058684,7.993044592,9.045166111,7.764621462,8.955545043,6.941005324,6.48695381,4.66349667,7.231331108,7.379864223,15.35400673,6.154473769,7.883206624,6.154473769,6.154473769,1.508487413,7.982183305,6.154473769,6.154473769,9.197727599,6.035625615,4.83047934,11.99526534,15.63336544,13.32601103,7.673622428,15.63336544,8.009093042,3.792005768,7.361599119,15.34224003,6.154473769,16.03001731,9.44309323,5.381208214,7.385160604,0.110483486,15.01297058,12.28532836,7.859823299,11.41013722,6.154473769,12.34307139,6.154473769,5.997223353,8.437609413,5.115276595,5.445536376,6.154473769,15.49395385,5.21786657,0.932237924,8.02458667,7.27091791,11.41013722,9.315843211,15.62460506,6.035625615,5.468580111,6.154473769,7.889070323,6.48695381,11.28453528,15.62460506,7.525104818,15.9681008,6.154473769,12.17137516,7.859823299,6.154473769,11.22848159,15.62460506,4.924894681,15.63336544,1.392683182,7.133850338,5.445536376,6.154473769,15.01827723,4.141989898,7.909311706,7.11080269,9.729141828,6.628104378,16.19941188,9.625592216,7.28522545,6.118916969,16.05010608,6.154473769,6.154473769,7.319460286,13.0771056,7.968353861,6.564695874,15.4939505,12.17137516,1.827734252,8.213257943,6.524656096,1.642786607,3.759125033,6.033860065,16.03001731,15.65722217,7.824093584,7.665054189,15.7828433,8.345842543,6.154473769,15.56432479,11.75040938,8.045943035,6.154473769,3.726225908,6.828562624,12.59762003,1.303955949,7.131757638,7.659779851,15.4939505,0.518167516,7.717085981,11.22848159,6.154473769,15.40315297,14.1742066,8.751416012,6.154473769,8.957202583,12.6055929,15.62460506,4.926846155,7.666224777,12.21383392,13.1579499,6.154473769,6.154473769,11.79273625,7.971365077,8.39007493,11.22848159,7.615372107,12.21383392,16.19941188,11.22848159,8.010201314,7.652660693,15.62460506,8.041532275,12.21383392,7.76529025,12.75509186,15.41071546,16.10211589,16.26852529,6.794335225,11.84106506,5.886557839,6.810398073,12.21383392,6.154473769,12.21383392,12.96927829,6.013762019,12.21383392,12.21383392,12.21383392,13.54667187,6.154473769,15.49360439,9.582706465,12.21383392,12.21383392,5.266349228,15.49360439,13.0287749,12.6055929,12.21383392,1.842771518,7.760019169,12.21383392,4.711308333,12.21383392,6.154473769,7.950914368,6.035625615,15.37423326,8.150944596,12.21383392,12.21383392,12.21383392,3.438806272,7.406068196,12.21383392,8.00041997,1.133245768,0.932237924,15.84409193,0.311307815,5.142207101,12.21383392,11.41013722,7.11080269,3.761919232,12.21383392,7.652660693,12.21383392,12.21383392,12.77253713,7.966311075,7.948037676,6.154473769,15.49395385,8.893146023,7.835703496,12.21383392,12.21383392,15.81565594,9.487880635,8.649855295,8.389921604,12.21383392,9.381137785,4.877465748,14.34686273,3.792005768,15.55847175,8.893146023,12.21383392,9.241843729,1.433294231,6.154473769,12.21383392,5.468580111,12.21383392,8.593443792,12.21383392,12.61630765,15.36165773,12.21383392,6.154473769,12.21383392,12.21383392,0.92941425,12.25049194,7.21856072,3.761919232,0.820754809,7.374381974,6.069918014,7.76670048,0.375749318,5.266349228,4.813462485,5.381208214,12.21383392,12.21383392,0.466070959,7.660835671,12.21383392,15.48369303,8.536873914,16.19941188,7.482074011,12.21383392,1.416578399,6.589063013,3.489349645,10.4012047,2.820693135,7.698728419,12.21383392,7.623267455,7.342813735,13.54667187,11.94407278,7.84971161,6.723172345,6.739375013,5.011800889,7.949026807,12.22352138,12.21383392,8.286874635,7.686183292,16.05010608,7.347838608,8.324556755,7.74691532,12.21383392,9.447809528,11.75040938,12.21383392,12.21383392,12.21383392,8.703836745,12.21383392,4.683903087,6.214909823,2.016443567,12.21383392,12.21383392,12.21383392,12.21383392,12.21383392,6.154473769,11.94719098,12.21383392,8.542714016,7.270806613,12.21383392,6.948325015,4.141989898,7.860028548,15.63336544,7.379864223,6.035625615,12.21383392,0.305479103,0.589073107,11.22848159,7.548441298,7.348526304,14.79303403,6.154473769,7.118438942,11.91657884,8.279377508,6.739375013,1.392683182,11.41013722,7.665054189,4.912127151,12.21383392,12.21383392,5.720875677,1.133245768,12.6055929,11.55512931,9.625238462,12.21383392,12.21383392,9.474968575,12.21383392,6.402155445,5.755842851,6.209425176,7.809134614,12.21383392,12.21383392,9.314930893,2.820693135,8.723532746,3.454707348,16.27988909,15.4939505,15.76222852,6.154473769,5.381208214,12.21383392,7.185447768,12.21383392,14.79303403,7.992471329,12.21383392,0.92941425,8.681830509,15.81565594,3.191768139,2.169614848,7.926073969,9.314930893,12.21383392,6.154473769,12.21383392,4.876481525,13.11689216,12.6055929,11.37830669,1.110084361,7.560277291,7.918771698,2.016443567,12.21383392,2.276903966,4.996830213,8.553429655,6.09673828,7.11080269,3.456929988,7.682205484,5.403596879,7.698728419,6.985684689,12.21383392,6.980486544,8.03525132,5.381208214,10.8364474,6.377432247,7.185447768,15.62460506,12.21383392,8.154889945,6.154473769,15.49395385,5.485983907,6.25970457,7.017418182,6.711791454,14.31018897,7.666224777,8.970154641,4.985571764,5.312046323,7.102665284,7.616027095,15.56432479,4.372431339,7.224195307,10.14641162,8.471251053,4.857984875,7.28522545,7.606303308,3.931447085,4.015570776,7.694609772,12.21383392,9.582706465,7.546227941,6.035625615,9.625238462,6.154473769,6.890390696,7.13084987,7.379164259,7.76529025,2.590268434,6.118916969,8.4801566,6.565661756,7.47502084,7.688487584,7.262471105,0.382970758,8.25721618,8.489533224,6.417898179,12.6055929,6.035625615,8.035841381,8.21508627,1.80085356,6.154473769,3.496785637,4.195798397,5.445536376,7.369948943,14.1742066,7.920041546,4.123256754,6.118916969,2.169614848,12.21383392,16.05010608,0.808179258,6.154473769,1.416916517,7.686576626,7.824093584,0.67431856,7.913335116,1.043393161,8.231639358,6.154473769,6.668419382,6.687381669,5.21786657,7.876114618,15.4939505,7.970241321,9.625238462,12.17515804,12.21383392,8.162793288,15.88333445,12.21383392,3.411965845,9.007223178,5.793314213,9.625238462,1.157392678,8.723945516,14.79303403,11.32327492,7.976897184,12.21383392,3.65442902,5.042811469,2.991453512,5.381208214,9.082348275,12.21383392,5.755842851,4.870810941,12.21383392,11.95429072,2.743785034,7.610203513,7.171472518,2.016443567,12.33870612,12.53227255,16.20676125,4.709308586,6.144236956,9.625238462,12.21383392,6.473685317,8.957202583,3.726225908,12.21383392,5.312046323,12.21383392,4.276034205,9.472029027,7.304998932,12.21383392,4.04404091,4.66349667,12.21383392,8.03355071,5.381208214,5.885973152,15.56432479,12.39060745,4.133144155,7.885869915,7.717085981,4.83047934,9.352829266,9.625238462,7.385160604,0.926143637,12.21383392,4.709308586,4.889675891,7.686576626,6.600983459,15.49360439,11.85916249,1.870733573,6.58925192,0.804315255,11.99526534,8.081364405,9.625238462,6.642778699,11.85811177,6.736122832,6.154473769,12.21383392,8.585340461,7.171472518,9.625238462,9.096148566,6.035625615,8.171456812,8.244213683,7.174104844,9.625238462,6.407681647,6.890267969,7.245916285,15.84409193,16.18206195,12.21383392,1.642786607,12.21383392,13.45710449,8.330363033,12.88418876,7.195976091,12.21383392,5.779966716,6.154473769,9.625238462,8.39602016,6.011396813,12.21383392,5.381208214,9.06204835,8.835285566,12.21383392,8.489533224,8.244271256,7.506243236,3.456929988,8.893146023,9.007223178,2.920507751,15.63336544,6.033860065,6.661875257,7.82623748,15.38704468,12.21383392,12.6531925,6.881040681,7.456904533,8.835285566,6.634921921,7.224195307,8.703836745,6.487170361,3.793109457,8.231639358,7.596427469,1.219621712,15.97323541,5.312046323,12.21383392,4.072861957,1.572572701,14.93939229,12.21383392,7.682205484,9.472029027,7.357557881,9.625592216,14.5255244,9.625238462,6.154473769,4.072861957,12.17515804,11.41013722,4.876481525,8.208270889,6.154473769,12.21383392,9.625238462,11.87131346,8.205229471,6.565661756,7.185447768,12.57077429,4.188863692,6.473614086,7.865754018,12.21383392,6.377432247,7.698728419,7.374381974,8.286874635,3.726225908,5.912238997,5.707329758,5.266349228,6.035625615,14.48179325,13.54667187,6.484776201,7.64992391,8.21508627,7.76670048,4.857984875,9.625238462,2.169614848,0.771708066,14.23547125,7.119912552,7.885869915,7.702824434,11.22848159,0.364728443,4.206099294,7.793476956,8.835285566,7.949026807,7.174104844,5.793314213,8.522378319,12.25049194,8.035098028,12.21383392,7.885869915,6.695076664,7.479911743,12.21383392,6.154473769,5.755842851,4.272133025,15.63336544,12.21383392,4.876481525,4.817237569,11.85916249,8.242082249,12.21383392,6.154473769,12.21383392,12.00149925,15.92492528,10.00126577,7.680350731,8.026467586,12.21383392,8.70296754,5.158423175,13.30132289,12.21383392,7.323310536,9.625238462,5.381208214,8.471251053,4.644122877,12.21383392,12.53227255,4.858598283,4.801643367,12.47389484,8.949474412,14.79303403,13.30132289,5.08191814,6.219004939,7.872473572,3.978784999,4.072861957,12.21383392,12.21383392,9.471465129,13.30132289,5.034388981,12.21383392,12.21383392,10.00126577,13.30132289,12.21383392,12.21383392,7.793476956,12.21383392,10.00126577,12.21383392,11.22848159,11.22848159,8.166506866,7.017418182,6.484776201,10.00126577,1.003488187,8.324400003,6.154473769,0.718253469,12.21383392,6.55245246,6.154473769,10.00126577,12.21383392,7.606303308,4.072861957,12.21383392,6.154473769,12.21383392,7.548441298,7.489354093,12.21383392,9.825659541,15.13001875,6.377432247,5.004019769,9.625238462,15.33113948,12.21383392,12.21383392,12.21383392,9.625238462,12.21383392,12.21383392,5.925895983,12.21383392]}],\"hovertemplate\":\"%{xaxis.title.text}=%{x}\\u003cbr\\u003e%{yaxis.title.text}=%{y}\\u003cbr\\u003eТип здания (монолит)=%{marker.color}\\u003cextra\\u003e\\u003c\\u002fextra\\u003e\",\"legendgroup\":\"\",\"marker\":{\"color\":[0,0,0,0,0,0,0,0,0,0,0,0,0,0,0,1,0,0,0,0,0,0,0,0,0,0,0,0,0,0,1,0,0,0,0,0,0,0,0,0,0,0,0,0,0,0,1,0,0,0,0,0,0,0,0,0,0,0,0,0,0,0,0,0,0,0,0,0,0,0,0,0,0,0,0,0,0,0,0,1,0,0,1,0,0,0,0,0,0,0,0,1,0,0,0,0,0,0,0,1,1,0,0,0,0,0,0,0,0,0,0,0,0,0,0,0,0,0,0,0,0,0,0,0,0,0,0,0,0,1,0,0,0,0,0,0,0,0,0,1,0,0,1,0,0,0,0,0,0,0,0,0,0,0,0,0,0,0,0,0,0,0,0,0,0,1,0,0,0,0,1,0,0,0,0,0,0,0,0,0,0,0,0,0,0,0,0,0,0,0,0,1,0,0,0,0,0,0,0,0,0,0,0,0,1,0,0,0,0,1,0,0,0,0,0,0,0,0,0,1,0,0,0,1,0,0,0,0,0,0,0,0,0,0,0,0,0,0,0,1,0,0,0,0,0,0,0,0,0,0,0,0,0,0,0,0,0,0,0,1,0,0,0,0,0,0,0,0,0,0,0,0,0,0,0,0,0,0,0,0,0,0,0,0,0,0,0,0,0,0,0,0,0,0,0,0,0,1,0,0,0,0,0,0,0,0,0,0,0,0,0,0,0,0,0,0,0,0,1,0,0,0,0,0,0,0,1,0,0,0,0,0,0,1,0,0,0,0,0,0,0,0,0,0,0,0,0,0,1,0,0,0,0,0,0,0,0,0,0,0,0,0,0,0,0,0,0,0,1,1,0,0,0,0,0,0,0,0,0,0,0,0,0,0,0,0,0,0,0,0,0,0,0,0,0,1,0,0,0,0,0,0,0,0,0,0,0,0,0,0,0,0,0,0,0,0,0,0,1,0,0,0,0,0,0,0,0,1,0,0,0,0,0,0,0,0,0,0,0,0,0,0,0,0,0,0,0,0,0,0,0,0,0,0,0,1,0,0,0,0,0,0,0,0,0,0,0,0,0,0,0,0,0,0,0,0,1,0,0,0,0,0,0,0,0,0,0,1,0,0,0,0,0,0,0,0,0,0,0,0,0,0,0,0,0,0,0,0,0,0,0,0,0,0,0,0,0,0,0,0,0,0,0,0,0,0,0,0,0,0,0,0,0,0,0,0,0,1,0,0,0,0,0,0,0,0,0,0,1,0,0,0,0,0,0,0,0,0,0,0,0,0,1,0,0,0,0,0,0,0,0,0,1,1,0,0,0,0,1,0,0,0,0,0,0,1,0,0,0,0,0,0,0,0,0,0,0,0,0,0,0,0,0,0,0,0,0,0,0,0,0,0,0,0,0,0,0,0,0,0,0,1,0,0,0,0,0,0,0,0,0,0,0,0,0,0,0,0,0,0,0,0,0,0,0,0,0,0,0,0,0,0,0,0,0,1,0,0,0,0,0,0,0,0,0,0,0,0,0,0,0,0,0,0,0,0,0,0,0,0,0,0,0,0,0,0,0,0,0,0,1,0,0,0,0,1,0,0,0,0,0,0,0,0,0,0,0,0,0,0,0,0,0,0,0,0,0,0,0,0,0,0,0,0,0,0,0,0,0,0,0,0,0,0,0,0,0,1,0,0,0,0,0,0,0,0,0,0,0,0,0,0,0,0,0,0,0,0,0,0,0,0,0,0,0,0,0,0,0,0,1,0,0,0,0,0,0,0,0,0,0,0,0,0,0,0,0,0,0,0,0,0,0,0,0,0,0,0,0,0,0,0,0,0,0,0,0,0,0,0,0,0,0,0,0,0,0,0,0,0,0,0,0,1,0,0,0,0,0,0,1,0,0,0,0,0,1,0,0,0,0,0,0,0,0,0,0,0,0,0,0,1,0,0,0,0,0,0,0,0,1,0,0,0,0,0,0,0,0,0,0,0,0,0,0,0,1,0,0,0,0,1,0,0,0,0,0,0,0,0,0,0,0,0,0,0,0,0,0,0,0,0,0,0,1],\"coloraxis\":\"coloraxis\",\"symbol\":\"circle\"},\"name\":\"\",\"showlegend\":false,\"type\":\"splom\"}],                        {\"template\":{\"data\":{\"histogram2dcontour\":[{\"type\":\"histogram2dcontour\",\"colorbar\":{\"outlinewidth\":0,\"ticks\":\"\"},\"colorscale\":[[0.0,\"#0d0887\"],[0.1111111111111111,\"#46039f\"],[0.2222222222222222,\"#7201a8\"],[0.3333333333333333,\"#9c179e\"],[0.4444444444444444,\"#bd3786\"],[0.5555555555555556,\"#d8576b\"],[0.6666666666666666,\"#ed7953\"],[0.7777777777777778,\"#fb9f3a\"],[0.8888888888888888,\"#fdca26\"],[1.0,\"#f0f921\"]]}],\"choropleth\":[{\"type\":\"choropleth\",\"colorbar\":{\"outlinewidth\":0,\"ticks\":\"\"}}],\"histogram2d\":[{\"type\":\"histogram2d\",\"colorbar\":{\"outlinewidth\":0,\"ticks\":\"\"},\"colorscale\":[[0.0,\"#0d0887\"],[0.1111111111111111,\"#46039f\"],[0.2222222222222222,\"#7201a8\"],[0.3333333333333333,\"#9c179e\"],[0.4444444444444444,\"#bd3786\"],[0.5555555555555556,\"#d8576b\"],[0.6666666666666666,\"#ed7953\"],[0.7777777777777778,\"#fb9f3a\"],[0.8888888888888888,\"#fdca26\"],[1.0,\"#f0f921\"]]}],\"heatmap\":[{\"type\":\"heatmap\",\"colorbar\":{\"outlinewidth\":0,\"ticks\":\"\"},\"colorscale\":[[0.0,\"#0d0887\"],[0.1111111111111111,\"#46039f\"],[0.2222222222222222,\"#7201a8\"],[0.3333333333333333,\"#9c179e\"],[0.4444444444444444,\"#bd3786\"],[0.5555555555555556,\"#d8576b\"],[0.6666666666666666,\"#ed7953\"],[0.7777777777777778,\"#fb9f3a\"],[0.8888888888888888,\"#fdca26\"],[1.0,\"#f0f921\"]]}],\"heatmapgl\":[{\"type\":\"heatmapgl\",\"colorbar\":{\"outlinewidth\":0,\"ticks\":\"\"},\"colorscale\":[[0.0,\"#0d0887\"],[0.1111111111111111,\"#46039f\"],[0.2222222222222222,\"#7201a8\"],[0.3333333333333333,\"#9c179e\"],[0.4444444444444444,\"#bd3786\"],[0.5555555555555556,\"#d8576b\"],[0.6666666666666666,\"#ed7953\"],[0.7777777777777778,\"#fb9f3a\"],[0.8888888888888888,\"#fdca26\"],[1.0,\"#f0f921\"]]}],\"contourcarpet\":[{\"type\":\"contourcarpet\",\"colorbar\":{\"outlinewidth\":0,\"ticks\":\"\"}}],\"contour\":[{\"type\":\"contour\",\"colorbar\":{\"outlinewidth\":0,\"ticks\":\"\"},\"colorscale\":[[0.0,\"#0d0887\"],[0.1111111111111111,\"#46039f\"],[0.2222222222222222,\"#7201a8\"],[0.3333333333333333,\"#9c179e\"],[0.4444444444444444,\"#bd3786\"],[0.5555555555555556,\"#d8576b\"],[0.6666666666666666,\"#ed7953\"],[0.7777777777777778,\"#fb9f3a\"],[0.8888888888888888,\"#fdca26\"],[1.0,\"#f0f921\"]]}],\"surface\":[{\"type\":\"surface\",\"colorbar\":{\"outlinewidth\":0,\"ticks\":\"\"},\"colorscale\":[[0.0,\"#0d0887\"],[0.1111111111111111,\"#46039f\"],[0.2222222222222222,\"#7201a8\"],[0.3333333333333333,\"#9c179e\"],[0.4444444444444444,\"#bd3786\"],[0.5555555555555556,\"#d8576b\"],[0.6666666666666666,\"#ed7953\"],[0.7777777777777778,\"#fb9f3a\"],[0.8888888888888888,\"#fdca26\"],[1.0,\"#f0f921\"]]}],\"mesh3d\":[{\"type\":\"mesh3d\",\"colorbar\":{\"outlinewidth\":0,\"ticks\":\"\"}}],\"scatter\":[{\"fillpattern\":{\"fillmode\":\"overlay\",\"size\":10,\"solidity\":0.2},\"type\":\"scatter\"}],\"parcoords\":[{\"type\":\"parcoords\",\"line\":{\"colorbar\":{\"outlinewidth\":0,\"ticks\":\"\"}}}],\"scatterpolargl\":[{\"type\":\"scatterpolargl\",\"marker\":{\"colorbar\":{\"outlinewidth\":0,\"ticks\":\"\"}}}],\"bar\":[{\"error_x\":{\"color\":\"#2a3f5f\"},\"error_y\":{\"color\":\"#2a3f5f\"},\"marker\":{\"line\":{\"color\":\"#E5ECF6\",\"width\":0.5},\"pattern\":{\"fillmode\":\"overlay\",\"size\":10,\"solidity\":0.2}},\"type\":\"bar\"}],\"scattergeo\":[{\"type\":\"scattergeo\",\"marker\":{\"colorbar\":{\"outlinewidth\":0,\"ticks\":\"\"}}}],\"scatterpolar\":[{\"type\":\"scatterpolar\",\"marker\":{\"colorbar\":{\"outlinewidth\":0,\"ticks\":\"\"}}}],\"histogram\":[{\"marker\":{\"pattern\":{\"fillmode\":\"overlay\",\"size\":10,\"solidity\":0.2}},\"type\":\"histogram\"}],\"scattergl\":[{\"type\":\"scattergl\",\"marker\":{\"colorbar\":{\"outlinewidth\":0,\"ticks\":\"\"}}}],\"scatter3d\":[{\"type\":\"scatter3d\",\"line\":{\"colorbar\":{\"outlinewidth\":0,\"ticks\":\"\"}},\"marker\":{\"colorbar\":{\"outlinewidth\":0,\"ticks\":\"\"}}}],\"scattermapbox\":[{\"type\":\"scattermapbox\",\"marker\":{\"colorbar\":{\"outlinewidth\":0,\"ticks\":\"\"}}}],\"scatterternary\":[{\"type\":\"scatterternary\",\"marker\":{\"colorbar\":{\"outlinewidth\":0,\"ticks\":\"\"}}}],\"scattercarpet\":[{\"type\":\"scattercarpet\",\"marker\":{\"colorbar\":{\"outlinewidth\":0,\"ticks\":\"\"}}}],\"carpet\":[{\"aaxis\":{\"endlinecolor\":\"#2a3f5f\",\"gridcolor\":\"white\",\"linecolor\":\"white\",\"minorgridcolor\":\"white\",\"startlinecolor\":\"#2a3f5f\"},\"baxis\":{\"endlinecolor\":\"#2a3f5f\",\"gridcolor\":\"white\",\"linecolor\":\"white\",\"minorgridcolor\":\"white\",\"startlinecolor\":\"#2a3f5f\"},\"type\":\"carpet\"}],\"table\":[{\"cells\":{\"fill\":{\"color\":\"#EBF0F8\"},\"line\":{\"color\":\"white\"}},\"header\":{\"fill\":{\"color\":\"#C8D4E3\"},\"line\":{\"color\":\"white\"}},\"type\":\"table\"}],\"barpolar\":[{\"marker\":{\"line\":{\"color\":\"#E5ECF6\",\"width\":0.5},\"pattern\":{\"fillmode\":\"overlay\",\"size\":10,\"solidity\":0.2}},\"type\":\"barpolar\"}],\"pie\":[{\"automargin\":true,\"type\":\"pie\"}]},\"layout\":{\"autotypenumbers\":\"strict\",\"colorway\":[\"#636efa\",\"#EF553B\",\"#00cc96\",\"#ab63fa\",\"#FFA15A\",\"#19d3f3\",\"#FF6692\",\"#B6E880\",\"#FF97FF\",\"#FECB52\"],\"font\":{\"color\":\"#2a3f5f\"},\"hovermode\":\"closest\",\"hoverlabel\":{\"align\":\"left\"},\"paper_bgcolor\":\"white\",\"plot_bgcolor\":\"#E5ECF6\",\"polar\":{\"bgcolor\":\"#E5ECF6\",\"angularaxis\":{\"gridcolor\":\"white\",\"linecolor\":\"white\",\"ticks\":\"\"},\"radialaxis\":{\"gridcolor\":\"white\",\"linecolor\":\"white\",\"ticks\":\"\"}},\"ternary\":{\"bgcolor\":\"#E5ECF6\",\"aaxis\":{\"gridcolor\":\"white\",\"linecolor\":\"white\",\"ticks\":\"\"},\"baxis\":{\"gridcolor\":\"white\",\"linecolor\":\"white\",\"ticks\":\"\"},\"caxis\":{\"gridcolor\":\"white\",\"linecolor\":\"white\",\"ticks\":\"\"}},\"coloraxis\":{\"colorbar\":{\"outlinewidth\":0,\"ticks\":\"\"}},\"colorscale\":{\"sequential\":[[0.0,\"#0d0887\"],[0.1111111111111111,\"#46039f\"],[0.2222222222222222,\"#7201a8\"],[0.3333333333333333,\"#9c179e\"],[0.4444444444444444,\"#bd3786\"],[0.5555555555555556,\"#d8576b\"],[0.6666666666666666,\"#ed7953\"],[0.7777777777777778,\"#fb9f3a\"],[0.8888888888888888,\"#fdca26\"],[1.0,\"#f0f921\"]],\"sequentialminus\":[[0.0,\"#0d0887\"],[0.1111111111111111,\"#46039f\"],[0.2222222222222222,\"#7201a8\"],[0.3333333333333333,\"#9c179e\"],[0.4444444444444444,\"#bd3786\"],[0.5555555555555556,\"#d8576b\"],[0.6666666666666666,\"#ed7953\"],[0.7777777777777778,\"#fb9f3a\"],[0.8888888888888888,\"#fdca26\"],[1.0,\"#f0f921\"]],\"diverging\":[[0,\"#8e0152\"],[0.1,\"#c51b7d\"],[0.2,\"#de77ae\"],[0.3,\"#f1b6da\"],[0.4,\"#fde0ef\"],[0.5,\"#f7f7f7\"],[0.6,\"#e6f5d0\"],[0.7,\"#b8e186\"],[0.8,\"#7fbc41\"],[0.9,\"#4d9221\"],[1,\"#276419\"]]},\"xaxis\":{\"gridcolor\":\"white\",\"linecolor\":\"white\",\"ticks\":\"\",\"title\":{\"standoff\":15},\"zerolinecolor\":\"white\",\"automargin\":true,\"zerolinewidth\":2},\"yaxis\":{\"gridcolor\":\"white\",\"linecolor\":\"white\",\"ticks\":\"\",\"title\":{\"standoff\":15},\"zerolinecolor\":\"white\",\"automargin\":true,\"zerolinewidth\":2},\"scene\":{\"xaxis\":{\"backgroundcolor\":\"#E5ECF6\",\"gridcolor\":\"white\",\"linecolor\":\"white\",\"showbackground\":true,\"ticks\":\"\",\"zerolinecolor\":\"white\",\"gridwidth\":2},\"yaxis\":{\"backgroundcolor\":\"#E5ECF6\",\"gridcolor\":\"white\",\"linecolor\":\"white\",\"showbackground\":true,\"ticks\":\"\",\"zerolinecolor\":\"white\",\"gridwidth\":2},\"zaxis\":{\"backgroundcolor\":\"#E5ECF6\",\"gridcolor\":\"white\",\"linecolor\":\"white\",\"showbackground\":true,\"ticks\":\"\",\"zerolinecolor\":\"white\",\"gridwidth\":2}},\"shapedefaults\":{\"line\":{\"color\":\"#2a3f5f\"}},\"annotationdefaults\":{\"arrowcolor\":\"#2a3f5f\",\"arrowhead\":0,\"arrowwidth\":1},\"geo\":{\"bgcolor\":\"white\",\"landcolor\":\"#E5ECF6\",\"subunitcolor\":\"white\",\"showland\":true,\"showlakes\":true,\"lakecolor\":\"white\"},\"title\":{\"x\":0.05},\"mapbox\":{\"style\":\"light\"}}},\"coloraxis\":{\"colorbar\":{\"title\":{\"text\":\"Тип здания (монолит)\"}},\"colorscale\":[[0.0,\"#0d0887\"],[0.1111111111111111,\"#46039f\"],[0.2222222222222222,\"#7201a8\"],[0.3333333333333333,\"#9c179e\"],[0.4444444444444444,\"#bd3786\"],[0.5555555555555556,\"#d8576b\"],[0.6666666666666666,\"#ed7953\"],[0.7777777777777778,\"#fb9f3a\"],[0.8888888888888888,\"#fdca26\"],[1.0,\"#f0f921\"]]},\"legend\":{\"tracegroupgap\":0},\"title\":{\"text\":\"Scatter Matrix ключевых признаков\"},\"dragmode\":\"select\"},                        {\"responsive\": true}                    ).then(function(){\n",
              "                            \n",
              "var gd = document.getElementById('592622a7-90af-4da2-9e04-5695aa002af1');\n",
              "var x = new MutationObserver(function (mutations, observer) {{\n",
              "        var display = window.getComputedStyle(gd).display;\n",
              "        if (!display || display === 'none') {{\n",
              "            console.log([gd, 'removed!']);\n",
              "            Plotly.purge(gd);\n",
              "            observer.disconnect();\n",
              "        }}\n",
              "}});\n",
              "\n",
              "// Listen for the removal of the full notebook cells\n",
              "var notebookContainer = gd.closest('#notebook-container');\n",
              "if (notebookContainer) {{\n",
              "    x.observe(notebookContainer, {childList: true});\n",
              "}}\n",
              "\n",
              "// Listen for the clearing of the current output cell\n",
              "var outputEl = gd.closest('.output');\n",
              "if (outputEl) {{\n",
              "    x.observe(outputEl, {childList: true});\n",
              "}}\n",
              "\n",
              "                        })                };                            </script>        </div>\n",
              "</body>\n",
              "</html>"
            ]
          },
          "metadata": {}
        }
      ]
    },
    {
      "cell_type": "code",
      "source": [
        "fig = px.line(df, x=\"timestamp\", y=\"price_sq_m\",\n",
        "              title=\"Изменение стоимости квадратного метра с течением времени\",\n",
        "              labels={\"timestamp\": \"Дата\", \"price_sq_m\": \"Стоимость квадратного метра\"})\n",
        "fig.show()"
      ],
      "metadata": {
        "colab": {
          "base_uri": "https://localhost:8080/",
          "height": 562
        },
        "id": "QDndyPhT8fHN",
        "outputId": "dfe0b2a1-f64b-484e-d3e8-363166ab59c6"
      },
      "execution_count": 171,
      "outputs": [
        {
          "output_type": "display_data",
          "data": {
            "text/html": [
              "<html>\n",
              "<head><meta charset=\"utf-8\" /></head>\n",
              "<body>\n",
              "    <div>            <script src=\"https://cdnjs.cloudflare.com/ajax/libs/mathjax/2.7.5/MathJax.js?config=TeX-AMS-MML_SVG\"></script><script type=\"text/javascript\">if (window.MathJax && window.MathJax.Hub && window.MathJax.Hub.Config) {window.MathJax.Hub.Config({SVG: {font: \"STIX-Web\"}});}</script>                <script type=\"text/javascript\">window.PlotlyConfig = {MathJaxConfig: 'local'};</script>\n",
              "        <script charset=\"utf-8\" src=\"https://cdn.plot.ly/plotly-2.35.2.min.js\"></script>                <div id=\"0eb1fe39-97de-4ef3-8708-1a233a600260\" class=\"plotly-graph-div\" style=\"height:525px; width:100%;\"></div>            <script type=\"text/javascript\">                                    window.PLOTLYENV=window.PLOTLYENV || {};                                    if (document.getElementById(\"0eb1fe39-97de-4ef3-8708-1a233a600260\")) {                    Plotly.newPlot(                        \"0eb1fe39-97de-4ef3-8708-1a233a600260\",                        [{\"hovertemplate\":\"Дата=%{x}\\u003cbr\\u003eСтоимость квадратного метра=%{y}\\u003cextra\\u003e\\u003c\\u002fextra\\u003e\",\"legendgroup\":\"\",\"line\":{\"color\":\"#636efa\",\"dash\":\"solid\"},\"marker\":{\"symbol\":\"circle\"},\"mode\":\"lines\",\"name\":\"\",\"orientation\":\"v\",\"showlegend\":false,\"x\":[\"2013-06-01T00:00:00\",\"2013-06-07T00:00:00\",\"2013-06-18T00:00:00\",\"2013-06-24T00:00:00\",\"2013-07-01T00:00:00\",\"2013-07-09T00:00:00\",\"2013-07-10T00:00:00\",\"2013-07-10T00:00:00\",\"2013-07-11T00:00:00\",\"2013-07-15T00:00:00\",\"2013-07-17T00:00:00\",\"2013-07-24T00:00:00\",\"2013-07-31T00:00:00\",\"2013-08-02T00:00:00\",\"2013-08-02T00:00:00\",\"2013-08-06T00:00:00\",\"2013-08-07T00:00:00\",\"2013-08-10T00:00:00\",\"2013-08-12T00:00:00\",\"2013-08-12T00:00:00\",\"2013-08-12T00:00:00\",\"2013-08-15T00:00:00\",\"2013-08-15T00:00:00\",\"2013-08-16T00:00:00\",\"2013-08-16T00:00:00\",\"2013-08-22T00:00:00\",\"2013-08-22T00:00:00\",\"2013-08-23T00:00:00\",\"2013-08-26T00:00:00\",\"2013-08-28T00:00:00\",\"2013-08-30T00:00:00\",\"2013-09-02T00:00:00\",\"2013-09-06T00:00:00\",\"2013-09-06T00:00:00\",\"2013-09-06T00:00:00\",\"2013-09-11T00:00:00\",\"2013-09-12T00:00:00\",\"2013-09-12T00:00:00\",\"2013-09-13T00:00:00\",\"2013-09-17T00:00:00\",\"2013-09-17T00:00:00\",\"2013-09-17T00:00:00\",\"2013-09-17T00:00:00\",\"2013-09-19T00:00:00\",\"2013-09-19T00:00:00\",\"2013-09-20T00:00:00\",\"2013-09-20T00:00:00\",\"2013-09-20T00:00:00\",\"2013-09-21T00:00:00\",\"2013-09-24T00:00:00\",\"2013-09-24T00:00:00\",\"2013-09-25T00:00:00\",\"2013-09-27T00:00:00\",\"2013-09-27T00:00:00\",\"2013-09-30T00:00:00\",\"2013-10-02T00:00:00\",\"2013-10-03T00:00:00\",\"2013-10-04T00:00:00\",\"2013-10-05T00:00:00\",\"2013-10-07T00:00:00\",\"2013-10-09T00:00:00\",\"2013-10-09T00:00:00\",\"2013-10-10T00:00:00\",\"2013-10-11T00:00:00\",\"2013-10-11T00:00:00\",\"2013-10-11T00:00:00\",\"2013-10-11T00:00:00\",\"2013-10-14T00:00:00\",\"2013-10-16T00:00:00\",\"2013-10-18T00:00:00\",\"2013-10-19T00:00:00\",\"2013-10-22T00:00:00\",\"2013-10-22T00:00:00\",\"2013-10-25T00:00:00\",\"2013-10-25T00:00:00\",\"2013-10-28T00:00:00\",\"2013-10-29T00:00:00\",\"2013-10-29T00:00:00\",\"2013-10-31T00:00:00\",\"2013-11-05T00:00:00\",\"2013-11-05T00:00:00\",\"2013-11-05T00:00:00\",\"2013-11-05T00:00:00\",\"2013-11-06T00:00:00\",\"2013-11-06T00:00:00\",\"2013-11-06T00:00:00\",\"2013-11-07T00:00:00\",\"2013-11-08T00:00:00\",\"2013-11-08T00:00:00\",\"2013-11-11T00:00:00\",\"2013-11-11T00:00:00\",\"2013-11-12T00:00:00\",\"2013-11-12T00:00:00\",\"2013-11-12T00:00:00\",\"2013-11-12T00:00:00\",\"2013-11-12T00:00:00\",\"2013-11-13T00:00:00\",\"2013-11-14T00:00:00\",\"2013-11-14T00:00:00\",\"2013-11-14T00:00:00\",\"2013-11-15T00:00:00\",\"2013-11-18T00:00:00\",\"2013-11-18T00:00:00\",\"2013-11-18T00:00:00\",\"2013-11-20T00:00:00\",\"2013-11-20T00:00:00\",\"2013-11-21T00:00:00\",\"2013-11-21T00:00:00\",\"2013-11-22T00:00:00\",\"2013-11-25T00:00:00\",\"2013-11-25T00:00:00\",\"2013-11-26T00:00:00\",\"2013-11-26T00:00:00\",\"2013-11-27T00:00:00\",\"2013-11-27T00:00:00\",\"2013-11-27T00:00:00\",\"2013-11-27T00:00:00\",\"2013-11-28T00:00:00\",\"2013-11-29T00:00:00\",\"2013-12-02T00:00:00\",\"2013-12-03T00:00:00\",\"2013-12-03T00:00:00\",\"2013-12-03T00:00:00\",\"2013-12-03T00:00:00\",\"2013-12-04T00:00:00\",\"2013-12-04T00:00:00\",\"2013-12-05T00:00:00\",\"2013-12-06T00:00:00\",\"2013-12-06T00:00:00\",\"2013-12-06T00:00:00\",\"2013-12-09T00:00:00\",\"2013-12-09T00:00:00\",\"2013-12-09T00:00:00\",\"2013-12-09T00:00:00\",\"2013-12-11T00:00:00\",\"2013-12-11T00:00:00\",\"2013-12-12T00:00:00\",\"2013-12-12T00:00:00\",\"2013-12-12T00:00:00\",\"2013-12-13T00:00:00\",\"2013-12-13T00:00:00\",\"2013-12-14T00:00:00\",\"2013-12-16T00:00:00\",\"2013-12-17T00:00:00\",\"2013-12-18T00:00:00\",\"2013-12-18T00:00:00\",\"2013-12-19T00:00:00\",\"2013-12-20T00:00:00\",\"2013-12-20T00:00:00\",\"2013-12-21T00:00:00\",\"2013-12-21T00:00:00\",\"2013-12-23T00:00:00\",\"2013-12-23T00:00:00\",\"2013-12-24T00:00:00\",\"2013-12-24T00:00:00\",\"2013-12-25T00:00:00\",\"2013-12-26T00:00:00\",\"2013-12-26T00:00:00\",\"2013-12-26T00:00:00\",\"2013-12-27T00:00:00\",\"2013-12-27T00:00:00\",\"2013-12-27T00:00:00\",\"2013-12-30T00:00:00\",\"2013-12-30T00:00:00\",\"2013-12-31T00:00:00\",\"2014-01-09T00:00:00\",\"2014-01-10T00:00:00\",\"2014-01-10T00:00:00\",\"2014-01-10T00:00:00\",\"2014-01-10T00:00:00\",\"2014-01-10T00:00:00\",\"2014-01-11T00:00:00\",\"2014-01-13T00:00:00\",\"2014-01-14T00:00:00\",\"2014-01-14T00:00:00\",\"2014-01-15T00:00:00\",\"2014-01-15T00:00:00\",\"2014-01-16T00:00:00\",\"2014-01-18T00:00:00\",\"2014-01-20T00:00:00\",\"2014-01-21T00:00:00\",\"2014-01-21T00:00:00\",\"2014-01-22T00:00:00\",\"2014-01-22T00:00:00\",\"2014-01-22T00:00:00\",\"2014-01-23T00:00:00\",\"2014-01-24T00:00:00\",\"2014-01-24T00:00:00\",\"2014-01-24T00:00:00\",\"2014-01-27T00:00:00\",\"2014-01-28T00:00:00\",\"2014-01-28T00:00:00\",\"2014-01-28T00:00:00\",\"2014-01-28T00:00:00\",\"2014-01-29T00:00:00\",\"2014-01-30T00:00:00\",\"2014-01-31T00:00:00\",\"2014-02-03T00:00:00\",\"2014-02-03T00:00:00\",\"2014-02-04T00:00:00\",\"2014-02-04T00:00:00\",\"2014-02-05T00:00:00\",\"2014-02-05T00:00:00\",\"2014-02-05T00:00:00\",\"2014-02-05T00:00:00\",\"2014-02-06T00:00:00\",\"2014-02-06T00:00:00\",\"2014-02-06T00:00:00\",\"2014-02-06T00:00:00\",\"2014-02-06T00:00:00\",\"2014-02-06T00:00:00\",\"2014-02-07T00:00:00\",\"2014-02-07T00:00:00\",\"2014-02-07T00:00:00\",\"2014-02-07T00:00:00\",\"2014-02-07T00:00:00\",\"2014-02-08T00:00:00\",\"2014-02-08T00:00:00\",\"2014-02-10T00:00:00\",\"2014-02-11T00:00:00\",\"2014-02-11T00:00:00\",\"2014-02-11T00:00:00\",\"2014-02-11T00:00:00\",\"2014-02-12T00:00:00\",\"2014-02-12T00:00:00\",\"2014-02-12T00:00:00\",\"2014-02-13T00:00:00\",\"2014-02-13T00:00:00\",\"2014-02-13T00:00:00\",\"2014-02-14T00:00:00\",\"2014-02-14T00:00:00\",\"2014-02-14T00:00:00\",\"2014-02-15T00:00:00\",\"2014-02-15T00:00:00\",\"2014-02-15T00:00:00\",\"2014-02-17T00:00:00\",\"2014-02-17T00:00:00\",\"2014-02-17T00:00:00\",\"2014-02-17T00:00:00\",\"2014-02-17T00:00:00\",\"2014-02-18T00:00:00\",\"2014-02-20T00:00:00\",\"2014-02-20T00:00:00\",\"2014-02-21T00:00:00\",\"2014-02-22T00:00:00\",\"2014-02-22T00:00:00\",\"2014-02-24T00:00:00\",\"2014-02-24T00:00:00\",\"2014-02-24T00:00:00\",\"2014-02-24T00:00:00\",\"2014-02-25T00:00:00\",\"2014-02-25T00:00:00\",\"2014-02-25T00:00:00\",\"2014-02-25T00:00:00\",\"2014-02-26T00:00:00\",\"2014-02-26T00:00:00\",\"2014-02-26T00:00:00\",\"2014-02-26T00:00:00\",\"2014-02-27T00:00:00\",\"2014-02-28T00:00:00\",\"2014-02-28T00:00:00\",\"2014-03-01T00:00:00\",\"2014-03-03T00:00:00\",\"2014-03-04T00:00:00\",\"2014-03-04T00:00:00\",\"2014-03-04T00:00:00\",\"2014-03-05T00:00:00\",\"2014-03-05T00:00:00\",\"2014-03-05T00:00:00\",\"2014-03-06T00:00:00\",\"2014-03-07T00:00:00\",\"2014-03-07T00:00:00\",\"2014-03-07T00:00:00\",\"2014-03-10T00:00:00\",\"2014-03-10T00:00:00\",\"2014-03-11T00:00:00\",\"2014-03-11T00:00:00\",\"2014-03-11T00:00:00\",\"2014-03-12T00:00:00\",\"2014-03-13T00:00:00\",\"2014-03-13T00:00:00\",\"2014-03-13T00:00:00\",\"2014-03-14T00:00:00\",\"2014-03-15T00:00:00\",\"2014-03-17T00:00:00\",\"2014-03-17T00:00:00\",\"2014-03-17T00:00:00\",\"2014-03-17T00:00:00\",\"2014-03-18T00:00:00\",\"2014-03-18T00:00:00\",\"2014-03-18T00:00:00\",\"2014-03-18T00:00:00\",\"2014-03-18T00:00:00\",\"2014-03-19T00:00:00\",\"2014-03-19T00:00:00\",\"2014-03-19T00:00:00\",\"2014-03-19T00:00:00\",\"2014-03-20T00:00:00\",\"2014-03-21T00:00:00\",\"2014-03-21T00:00:00\",\"2014-03-21T00:00:00\",\"2014-03-22T00:00:00\",\"2014-03-24T00:00:00\",\"2014-03-25T00:00:00\",\"2014-03-25T00:00:00\",\"2014-03-25T00:00:00\",\"2014-03-25T00:00:00\",\"2014-03-25T00:00:00\",\"2014-03-25T00:00:00\",\"2014-03-25T00:00:00\",\"2014-03-26T00:00:00\",\"2014-03-26T00:00:00\",\"2014-03-26T00:00:00\",\"2014-03-27T00:00:00\",\"2014-03-27T00:00:00\",\"2014-03-27T00:00:00\",\"2014-03-28T00:00:00\",\"2014-03-29T00:00:00\",\"2014-03-31T00:00:00\",\"2014-04-01T00:00:00\",\"2014-04-02T00:00:00\",\"2014-04-02T00:00:00\",\"2014-04-02T00:00:00\",\"2014-04-03T00:00:00\",\"2014-04-03T00:00:00\",\"2014-04-03T00:00:00\",\"2014-04-03T00:00:00\",\"2014-04-03T00:00:00\",\"2014-04-04T00:00:00\",\"2014-04-04T00:00:00\",\"2014-04-04T00:00:00\",\"2014-04-04T00:00:00\",\"2014-04-04T00:00:00\",\"2014-04-04T00:00:00\",\"2014-04-04T00:00:00\",\"2014-04-04T00:00:00\",\"2014-04-04T00:00:00\",\"2014-04-05T00:00:00\",\"2014-04-05T00:00:00\",\"2014-04-05T00:00:00\",\"2014-04-05T00:00:00\",\"2014-04-07T00:00:00\",\"2014-04-07T00:00:00\",\"2014-04-07T00:00:00\",\"2014-04-07T00:00:00\",\"2014-04-07T00:00:00\",\"2014-04-08T00:00:00\",\"2014-04-08T00:00:00\",\"2014-04-09T00:00:00\",\"2014-04-09T00:00:00\",\"2014-04-09T00:00:00\",\"2014-04-09T00:00:00\",\"2014-04-09T00:00:00\",\"2014-04-10T00:00:00\",\"2014-04-10T00:00:00\",\"2014-04-10T00:00:00\",\"2014-04-10T00:00:00\",\"2014-04-11T00:00:00\",\"2014-04-11T00:00:00\",\"2014-04-11T00:00:00\",\"2014-04-11T00:00:00\",\"2014-04-12T00:00:00\",\"2014-04-14T00:00:00\",\"2014-04-14T00:00:00\",\"2014-04-14T00:00:00\",\"2014-04-15T00:00:00\",\"2014-04-15T00:00:00\",\"2014-04-15T00:00:00\",\"2014-04-15T00:00:00\",\"2014-04-16T00:00:00\",\"2014-04-16T00:00:00\",\"2014-04-17T00:00:00\",\"2014-04-17T00:00:00\",\"2014-04-18T00:00:00\",\"2014-04-21T00:00:00\",\"2014-04-21T00:00:00\",\"2014-04-21T00:00:00\",\"2014-04-21T00:00:00\",\"2014-04-21T00:00:00\",\"2014-04-22T00:00:00\",\"2014-04-22T00:00:00\",\"2014-04-22T00:00:00\",\"2014-04-23T00:00:00\",\"2014-04-23T00:00:00\",\"2014-04-23T00:00:00\",\"2014-04-23T00:00:00\",\"2014-04-23T00:00:00\",\"2014-04-24T00:00:00\",\"2014-04-24T00:00:00\",\"2014-04-24T00:00:00\",\"2014-04-25T00:00:00\",\"2014-04-25T00:00:00\",\"2014-04-25T00:00:00\",\"2014-04-26T00:00:00\",\"2014-04-28T00:00:00\",\"2014-04-28T00:00:00\",\"2014-04-29T00:00:00\",\"2014-04-29T00:00:00\",\"2014-04-29T00:00:00\",\"2014-04-29T00:00:00\",\"2014-04-30T00:00:00\",\"2014-04-30T00:00:00\",\"2014-04-30T00:00:00\",\"2014-05-04T00:00:00\",\"2014-05-05T00:00:00\",\"2014-05-05T00:00:00\",\"2014-05-06T00:00:00\",\"2014-05-06T00:00:00\",\"2014-05-07T00:00:00\",\"2014-05-07T00:00:00\",\"2014-05-08T00:00:00\",\"2014-05-08T00:00:00\",\"2014-05-08T00:00:00\",\"2014-05-08T00:00:00\",\"2014-05-11T00:00:00\",\"2014-05-11T00:00:00\",\"2014-05-11T00:00:00\",\"2014-05-12T00:00:00\",\"2014-05-12T00:00:00\",\"2014-05-13T00:00:00\",\"2014-05-13T00:00:00\",\"2014-05-13T00:00:00\",\"2014-05-14T00:00:00\",\"2014-05-14T00:00:00\",\"2014-05-14T00:00:00\",\"2014-05-14T00:00:00\",\"2014-05-14T00:00:00\",\"2014-05-15T00:00:00\",\"2014-05-16T00:00:00\",\"2014-05-16T00:00:00\",\"2014-05-19T00:00:00\",\"2014-05-19T00:00:00\",\"2014-05-20T00:00:00\",\"2014-05-20T00:00:00\",\"2014-05-20T00:00:00\",\"2014-05-20T00:00:00\",\"2014-05-20T00:00:00\",\"2014-05-20T00:00:00\",\"2014-05-21T00:00:00\",\"2014-05-21T00:00:00\",\"2014-05-21T00:00:00\",\"2014-05-21T00:00:00\",\"2014-05-22T00:00:00\",\"2014-05-22T00:00:00\",\"2014-05-22T00:00:00\",\"2014-05-23T00:00:00\",\"2014-05-23T00:00:00\",\"2014-05-23T00:00:00\",\"2014-05-26T00:00:00\",\"2014-05-27T00:00:00\",\"2014-05-27T00:00:00\",\"2014-05-27T00:00:00\",\"2014-05-28T00:00:00\",\"2014-05-28T00:00:00\",\"2014-05-30T00:00:00\",\"2014-05-30T00:00:00\",\"2014-05-31T00:00:00\",\"2014-05-31T00:00:00\",\"2014-06-02T00:00:00\",\"2014-06-02T00:00:00\",\"2014-06-02T00:00:00\",\"2014-06-04T00:00:00\",\"2014-06-05T00:00:00\",\"2014-06-05T00:00:00\",\"2014-06-05T00:00:00\",\"2014-06-06T00:00:00\",\"2014-06-06T00:00:00\",\"2014-06-06T00:00:00\",\"2014-06-09T00:00:00\",\"2014-06-09T00:00:00\",\"2014-06-10T00:00:00\",\"2014-06-14T00:00:00\",\"2014-06-14T00:00:00\",\"2014-06-16T00:00:00\",\"2014-06-17T00:00:00\",\"2014-06-17T00:00:00\",\"2014-06-17T00:00:00\",\"2014-06-17T00:00:00\",\"2014-06-18T00:00:00\",\"2014-06-18T00:00:00\",\"2014-06-18T00:00:00\",\"2014-06-19T00:00:00\",\"2014-06-20T00:00:00\",\"2014-06-20T00:00:00\",\"2014-06-20T00:00:00\",\"2014-06-20T00:00:00\",\"2014-06-23T00:00:00\",\"2014-06-23T00:00:00\",\"2014-06-23T00:00:00\",\"2014-06-23T00:00:00\",\"2014-06-24T00:00:00\",\"2014-06-24T00:00:00\",\"2014-06-24T00:00:00\",\"2014-06-25T00:00:00\",\"2014-06-25T00:00:00\",\"2014-06-25T00:00:00\",\"2014-06-26T00:00:00\",\"2014-06-26T00:00:00\",\"2014-06-26T00:00:00\",\"2014-06-27T00:00:00\",\"2014-06-27T00:00:00\",\"2014-06-27T00:00:00\",\"2014-06-27T00:00:00\",\"2014-06-27T00:00:00\",\"2014-06-28T00:00:00\",\"2014-06-28T00:00:00\",\"2014-06-28T00:00:00\",\"2014-06-30T00:00:00\",\"2014-06-30T00:00:00\",\"2014-06-30T00:00:00\",\"2014-06-30T00:00:00\",\"2014-06-30T00:00:00\",\"2014-06-30T00:00:00\",\"2014-06-30T00:00:00\",\"2014-07-01T00:00:00\",\"2014-07-01T00:00:00\",\"2014-07-01T00:00:00\",\"2014-07-03T00:00:00\",\"2014-07-04T00:00:00\",\"2014-07-05T00:00:00\",\"2014-07-07T00:00:00\",\"2014-07-08T00:00:00\",\"2014-07-08T00:00:00\",\"2014-07-09T00:00:00\",\"2014-07-11T00:00:00\",\"2014-07-14T00:00:00\",\"2014-07-15T00:00:00\",\"2014-07-15T00:00:00\",\"2014-07-15T00:00:00\",\"2014-07-18T00:00:00\",\"2014-07-22T00:00:00\",\"2014-07-23T00:00:00\",\"2014-07-24T00:00:00\",\"2014-07-24T00:00:00\",\"2014-07-25T00:00:00\",\"2014-07-28T00:00:00\",\"2014-07-29T00:00:00\",\"2014-07-30T00:00:00\",\"2014-07-30T00:00:00\",\"2014-08-01T00:00:00\",\"2014-08-02T00:00:00\",\"2014-08-04T00:00:00\",\"2014-08-06T00:00:00\",\"2014-08-06T00:00:00\",\"2014-08-06T00:00:00\",\"2014-08-07T00:00:00\",\"2014-08-08T00:00:00\",\"2014-08-08T00:00:00\",\"2014-08-08T00:00:00\",\"2014-08-08T00:00:00\",\"2014-08-08T00:00:00\",\"2014-08-12T00:00:00\",\"2014-08-12T00:00:00\",\"2014-08-12T00:00:00\",\"2014-08-13T00:00:00\",\"2014-08-14T00:00:00\",\"2014-08-16T00:00:00\",\"2014-08-20T00:00:00\",\"2014-08-20T00:00:00\",\"2014-08-21T00:00:00\",\"2014-08-23T00:00:00\",\"2014-08-23T00:00:00\",\"2014-08-25T00:00:00\",\"2014-08-25T00:00:00\",\"2014-08-25T00:00:00\",\"2014-08-25T00:00:00\",\"2014-08-25T00:00:00\",\"2014-08-27T00:00:00\",\"2014-08-27T00:00:00\",\"2014-08-28T00:00:00\",\"2014-09-01T00:00:00\",\"2014-09-01T00:00:00\",\"2014-09-02T00:00:00\",\"2014-09-02T00:00:00\",\"2014-09-02T00:00:00\",\"2014-09-04T00:00:00\",\"2014-09-04T00:00:00\",\"2014-09-06T00:00:00\",\"2014-09-09T00:00:00\",\"2014-09-09T00:00:00\",\"2014-09-09T00:00:00\",\"2014-09-09T00:00:00\",\"2014-09-12T00:00:00\",\"2014-09-15T00:00:00\",\"2014-09-16T00:00:00\",\"2014-09-16T00:00:00\",\"2014-09-20T00:00:00\",\"2014-09-22T00:00:00\",\"2014-09-23T00:00:00\",\"2014-09-24T00:00:00\",\"2014-09-24T00:00:00\",\"2014-09-25T00:00:00\",\"2014-09-27T00:00:00\",\"2014-09-29T00:00:00\",\"2014-09-29T00:00:00\",\"2014-09-29T00:00:00\",\"2014-09-30T00:00:00\",\"2014-09-30T00:00:00\",\"2014-09-30T00:00:00\",\"2014-09-30T00:00:00\",\"2014-10-01T00:00:00\",\"2014-10-06T00:00:00\",\"2014-10-08T00:00:00\",\"2014-10-08T00:00:00\",\"2014-10-08T00:00:00\",\"2014-10-09T00:00:00\",\"2014-10-09T00:00:00\",\"2014-10-09T00:00:00\",\"2014-10-09T00:00:00\",\"2014-10-10T00:00:00\",\"2014-10-13T00:00:00\",\"2014-10-13T00:00:00\",\"2014-10-14T00:00:00\",\"2014-10-14T00:00:00\",\"2014-10-16T00:00:00\",\"2014-10-16T00:00:00\",\"2014-10-16T00:00:00\",\"2014-10-18T00:00:00\",\"2014-10-20T00:00:00\",\"2014-10-20T00:00:00\",\"2014-10-20T00:00:00\",\"2014-10-21T00:00:00\",\"2014-10-22T00:00:00\",\"2014-10-22T00:00:00\",\"2014-10-23T00:00:00\",\"2014-10-25T00:00:00\",\"2014-10-27T00:00:00\",\"2014-10-27T00:00:00\",\"2014-10-28T00:00:00\",\"2014-10-28T00:00:00\",\"2014-10-28T00:00:00\",\"2014-10-29T00:00:00\",\"2014-10-29T00:00:00\",\"2014-10-29T00:00:00\",\"2014-10-30T00:00:00\",\"2014-10-30T00:00:00\",\"2014-10-30T00:00:00\",\"2014-10-30T00:00:00\",\"2014-10-31T00:00:00\",\"2014-11-06T00:00:00\",\"2014-11-06T00:00:00\",\"2014-11-06T00:00:00\",\"2014-11-07T00:00:00\",\"2014-11-07T00:00:00\",\"2014-11-08T00:00:00\",\"2014-11-08T00:00:00\",\"2014-11-10T00:00:00\",\"2014-11-11T00:00:00\",\"2014-11-11T00:00:00\",\"2014-11-11T00:00:00\",\"2014-11-11T00:00:00\",\"2014-11-11T00:00:00\",\"2014-11-12T00:00:00\",\"2014-11-13T00:00:00\",\"2014-11-13T00:00:00\",\"2014-11-14T00:00:00\",\"2014-11-14T00:00:00\",\"2014-11-14T00:00:00\",\"2014-11-15T00:00:00\",\"2014-11-17T00:00:00\",\"2014-11-18T00:00:00\",\"2014-11-18T00:00:00\",\"2014-11-18T00:00:00\",\"2014-11-19T00:00:00\",\"2014-11-20T00:00:00\",\"2014-11-21T00:00:00\",\"2014-11-21T00:00:00\",\"2014-11-22T00:00:00\",\"2014-11-24T00:00:00\",\"2014-11-24T00:00:00\",\"2014-11-25T00:00:00\",\"2014-11-26T00:00:00\",\"2014-11-26T00:00:00\",\"2014-11-26T00:00:00\",\"2014-11-26T00:00:00\",\"2014-11-27T00:00:00\",\"2014-11-27T00:00:00\",\"2014-11-27T00:00:00\",\"2014-11-27T00:00:00\",\"2014-11-27T00:00:00\",\"2014-11-28T00:00:00\",\"2014-11-28T00:00:00\",\"2014-11-29T00:00:00\",\"2014-11-29T00:00:00\",\"2014-12-01T00:00:00\",\"2014-12-01T00:00:00\",\"2014-12-01T00:00:00\",\"2014-12-01T00:00:00\",\"2014-12-01T00:00:00\",\"2014-12-01T00:00:00\",\"2014-12-02T00:00:00\",\"2014-12-02T00:00:00\",\"2014-12-02T00:00:00\",\"2014-12-02T00:00:00\",\"2014-12-03T00:00:00\",\"2014-12-03T00:00:00\",\"2014-12-05T00:00:00\",\"2014-12-05T00:00:00\",\"2014-12-05T00:00:00\",\"2014-12-06T00:00:00\",\"2014-12-06T00:00:00\",\"2014-12-08T00:00:00\",\"2014-12-08T00:00:00\",\"2014-12-08T00:00:00\",\"2014-12-09T00:00:00\",\"2014-12-09T00:00:00\",\"2014-12-09T00:00:00\",\"2014-12-09T00:00:00\",\"2014-12-09T00:00:00\",\"2014-12-10T00:00:00\",\"2014-12-11T00:00:00\",\"2014-12-11T00:00:00\",\"2014-12-11T00:00:00\",\"2014-12-12T00:00:00\",\"2014-12-12T00:00:00\",\"2014-12-15T00:00:00\",\"2014-12-15T00:00:00\",\"2014-12-15T00:00:00\",\"2014-12-15T00:00:00\",\"2014-12-15T00:00:00\",\"2014-12-15T00:00:00\",\"2014-12-16T00:00:00\",\"2014-12-16T00:00:00\",\"2014-12-16T00:00:00\",\"2014-12-16T00:00:00\",\"2014-12-17T00:00:00\",\"2014-12-17T00:00:00\",\"2014-12-17T00:00:00\",\"2014-12-17T00:00:00\",\"2014-12-17T00:00:00\",\"2014-12-18T00:00:00\",\"2014-12-18T00:00:00\",\"2014-12-18T00:00:00\",\"2014-12-18T00:00:00\",\"2014-12-18T00:00:00\",\"2014-12-18T00:00:00\",\"2014-12-18T00:00:00\",\"2014-12-19T00:00:00\",\"2014-12-20T00:00:00\",\"2014-12-20T00:00:00\",\"2014-12-22T00:00:00\",\"2014-12-23T00:00:00\",\"2014-12-23T00:00:00\",\"2014-12-23T00:00:00\",\"2014-12-24T00:00:00\",\"2014-12-24T00:00:00\",\"2014-12-24T00:00:00\",\"2014-12-25T00:00:00\",\"2014-12-26T00:00:00\",\"2014-12-29T00:00:00\",\"2014-12-29T00:00:00\",\"2014-12-29T00:00:00\",\"2014-12-30T00:00:00\",\"2014-12-31T00:00:00\",\"2015-01-13T00:00:00\",\"2015-01-15T00:00:00\",\"2015-01-15T00:00:00\",\"2015-01-17T00:00:00\",\"2015-01-19T00:00:00\",\"2015-01-19T00:00:00\",\"2015-01-20T00:00:00\",\"2015-01-20T00:00:00\",\"2015-01-20T00:00:00\",\"2015-01-21T00:00:00\",\"2015-01-21T00:00:00\",\"2015-01-22T00:00:00\",\"2015-01-22T00:00:00\",\"2015-01-23T00:00:00\",\"2015-01-23T00:00:00\",\"2015-01-23T00:00:00\",\"2015-01-23T00:00:00\",\"2015-01-26T00:00:00\",\"2015-01-26T00:00:00\",\"2015-01-27T00:00:00\",\"2015-01-28T00:00:00\",\"2015-01-28T00:00:00\",\"2015-01-29T00:00:00\",\"2015-02-02T00:00:00\",\"2015-02-02T00:00:00\",\"2015-02-02T00:00:00\",\"2015-02-02T00:00:00\",\"2015-02-03T00:00:00\",\"2015-02-03T00:00:00\",\"2015-02-04T00:00:00\",\"2015-02-05T00:00:00\",\"2015-02-05T00:00:00\",\"2015-02-11T00:00:00\",\"2015-02-12T00:00:00\",\"2015-02-13T00:00:00\",\"2015-02-14T00:00:00\",\"2015-02-16T00:00:00\",\"2015-02-20T00:00:00\",\"2015-02-21T00:00:00\",\"2015-02-24T00:00:00\",\"2015-02-24T00:00:00\",\"2015-02-26T00:00:00\",\"2015-02-28T00:00:00\",\"2015-03-03T00:00:00\",\"2015-03-04T00:00:00\",\"2015-03-04T00:00:00\",\"2015-03-05T00:00:00\",\"2015-03-06T00:00:00\",\"2015-03-06T00:00:00\",\"2015-03-10T00:00:00\",\"2015-03-10T00:00:00\",\"2015-03-13T00:00:00\",\"2015-03-13T00:00:00\",\"2015-03-17T00:00:00\",\"2015-03-18T00:00:00\",\"2015-03-18T00:00:00\",\"2015-03-19T00:00:00\",\"2015-03-19T00:00:00\",\"2015-03-23T00:00:00\",\"2015-03-23T00:00:00\",\"2015-03-26T00:00:00\",\"2015-03-27T00:00:00\",\"2015-03-30T00:00:00\",\"2015-03-30T00:00:00\",\"2015-03-31T00:00:00\",\"2015-04-01T00:00:00\",\"2015-04-01T00:00:00\",\"2015-04-02T00:00:00\",\"2015-04-02T00:00:00\",\"2015-04-02T00:00:00\",\"2015-04-02T00:00:00\",\"2015-04-02T00:00:00\",\"2015-04-04T00:00:00\",\"2015-04-07T00:00:00\",\"2015-04-09T00:00:00\",\"2015-04-10T00:00:00\",\"2015-04-13T00:00:00\",\"2015-04-14T00:00:00\",\"2015-04-16T00:00:00\",\"2015-04-16T00:00:00\",\"2015-04-17T00:00:00\",\"2015-04-17T00:00:00\",\"2015-04-17T00:00:00\",\"2015-04-18T00:00:00\",\"2015-04-20T00:00:00\",\"2015-04-20T00:00:00\",\"2015-04-20T00:00:00\",\"2015-04-20T00:00:00\",\"2015-04-21T00:00:00\",\"2015-04-22T00:00:00\",\"2015-04-22T00:00:00\",\"2015-04-22T00:00:00\",\"2015-04-28T00:00:00\",\"2015-04-28T00:00:00\",\"2015-04-28T00:00:00\",\"2015-04-28T00:00:00\",\"2015-04-29T00:00:00\",\"2015-04-30T00:00:00\",\"2015-05-05T00:00:00\",\"2015-05-07T00:00:00\",\"2015-05-07T00:00:00\",\"2015-05-12T00:00:00\",\"2015-05-14T00:00:00\",\"2015-05-15T00:00:00\",\"2015-05-16T00:00:00\",\"2015-05-18T00:00:00\",\"2015-05-18T00:00:00\",\"2015-05-19T00:00:00\",\"2015-05-19T00:00:00\",\"2015-05-19T00:00:00\",\"2015-05-20T00:00:00\",\"2015-05-20T00:00:00\",\"2015-05-20T00:00:00\",\"2015-05-21T00:00:00\",\"2015-05-21T00:00:00\",\"2015-05-22T00:00:00\",\"2015-05-22T00:00:00\",\"2015-05-22T00:00:00\",\"2015-05-26T00:00:00\",\"2015-05-26T00:00:00\",\"2015-05-26T00:00:00\",\"2015-05-27T00:00:00\",\"2015-05-27T00:00:00\",\"2015-05-28T00:00:00\",\"2015-05-28T00:00:00\",\"2015-05-28T00:00:00\",\"2015-05-29T00:00:00\",\"2015-05-29T00:00:00\",\"2015-06-02T00:00:00\",\"2015-06-03T00:00:00\",\"2015-06-03T00:00:00\",\"2015-06-05T00:00:00\",\"2015-06-05T00:00:00\",\"2015-06-08T00:00:00\",\"2015-06-16T00:00:00\",\"2015-06-17T00:00:00\",\"2015-06-18T00:00:00\",\"2015-06-20T00:00:00\",\"2015-06-20T00:00:00\",\"2015-06-20T00:00:00\",\"2015-06-23T00:00:00\",\"2015-06-23T00:00:00\",\"2015-06-23T00:00:00\",\"2015-06-23T00:00:00\",\"2015-06-24T00:00:00\",\"2015-06-25T00:00:00\",\"2015-06-26T00:00:00\",\"2015-06-27T00:00:00\",\"2015-06-27T00:00:00\",\"2015-06-29T00:00:00\",\"2015-06-29T00:00:00\"],\"xaxis\":\"x\",\"y\":[150980.392156863,200000.0,204225.352112676,181818.181818182,196153.846153846,196969.696969697,158139.534883721,169047.619047619,184210.526315789,152702.702702703,152173.913043478,126923.076923077,125000.0,151136.363636364,226923.076923077,180851.063829787,138888.888888889,164383.561643836,141509.433962264,166101.694915254,117045.454545455,123333.333333333,184375.0,140000.0,160344.827586207,168918.918918919,122972.972972973,194736.842105263,209090.909090909,189726.02739726,118822.033898305,132407.407407407,194444.444444444,177027.027027027,132075.471698113,137804.878048781,145945.945945946,231666.666666667,103448.275862069,215254.237288136,185714.285714286,134426.666666667,180921.052631579,155263.157894737,186486.486486486,143103.448275862,67435.8974358974,93333.3333333333,188888.888888889,150000.0,161538.461538462,187179.487179487,88203.05,136842.105263158,162162.162162162,157384.615384615,195353.421052632,146666.666666667,215789.473684211,84826.0,128947.368421053,138297.872340426,206666.666666667,135294.117647059,148780.487804878,202702.702702703,223684.210526316,151111.111111111,161428.571428571,195238.095238095,195945.945945946,207500.0,142105.263157895,127358.490566038,155000.0,93108.1081081081,138157.894736842,136666.666666667,222222.222222222,128205.128205128,176666.666666667,178125.0,195522.388059701,134210.526315789,178787.878787879,146385.542168675,137837.837837838,183333.333333333,152631.578947368,179032.258064516,195679.012345679,46163.6363636364,162500.0,185294.117647059,205263.157894737,210909.090909091,206185.567010309,155637.72,266666.666666667,168637.5,54842.1052631579,144358.974358974,124528.301886792,217142.857142857,164383.561643836,178461.538461538,160606.060606061,144901.639344262,158064.516129032,129629.62962963,158730.158730159,166051.648351648,212500.0,162222.222222222,154054.054054054,168181.818181818,123529.411764706,112837.837837838,156756.756756757,195111.111111111,158181.818181818,197058.823529412,135365.853658537,202020.202020202,155172.413793103,222222.222222222,203125.0,169230.769230769,138043.47826087,193037.833333333,228000.0,197368.421052632,140000.0,159367.76119403,153658.536585366,176115.384615385,167434.2,205479.452054795,185365.853658537,159332.727272727,167434.2,152500.0,163178.181818182,170754.716981132,121794.871794872,113049.176470588,119000.0,222368.421052632,132130.476190476,175000.0,260377.358490566,219607.843137255,125438.596491228,150201.388888889,154716.981132075,121818.181818182,153731.343283582,178048.780487805,183653.846153846,131578.947368421,149206.349206349,169230.769230769,150000.0,163418.181818182,155263.157894737,165307.352941176,234210.526315789,148888.888888889,218493.150684932,133333.333333333,159721.333333333,154716.981132075,200000.0,238805.970149254,155000.0,216216.216216216,178431.37254902,148571.428571429,142307.692307692,173747.727272727,200000.0,168504.0,160465.11627907,109375.0,223809.523809524,158860.759493671,205263.157894737,152631.578947368,162245.066666667,143902.43902439,177500.0,161066.666666667,166666.666666667,142857.142857143,189473.684210526,133280.428571429,201351.351351351,212987.012987013,164444.444444444,168043.75,133750.0,233333.333333333,204819.277108434,194594.594594595,203947.368421053,137096.774193548,139516.129032258,140425.531914894,153846.153846154,174635.205479452,157894.736842105,176045.138888889,168877.333333333,255405.405405405,125000.0,179032.258064516,178333.333333333,132258.064516129,147500.0,46163.6363636364,130741.379310345,105822.64,185294.117647059,285714.285714286,213409.090909091,137037.037037037,153947.368421053,216216.216216216,138000.0,156603.773584906,170588.235294118,162773.333333333,136585.365853659,115254.237288136,200000.0,162834.545454545,225000.0,178313.253012048,144318.181818182,126984.126984127,182352.941176471,203703.703703704,134146.341463415,131707.317073171,211320.754716981,128048.780487805,167510.6,133962.264150943,141176.470588235,170175.438596491,177448.732394366,130985.915492958,155263.157894737,130120.481927711,156060.606060606,176315.789473684,88219.5873015873,124074.074074074,163284.112149533,172720.0,85869.5652173913,177702.702702703,174137.931034483,135849.056603774,163157.894736842,88702.9836065574,133962.264150943,121710.526315789,151587.301587302,181272.727272727,147368.421052632,222077.922077922,87119.5737704918,197727.272727273,163513.513513514,155555.555555556,135526.315789474,157894.736842105,156329.113924051,142307.692307692,156097.56097561,153571.428571429,82176.3896103896,172946.666666667,88440.4262295082,150000.0,162962.962962963,88879.7049180328,89351.0,82354.0,125396.825396825,172946.666666667,145714.285714286,139726.02739726,79066.3780487805,80972.0,174000.0,94000.0,154054.054054054,207894.736842105,77300.0,208181.818181818,158490.566037736,87555.8196721312,164473.684210526,81703.0,161743.076923077,191250.0,150740.0,134939.759036145,216216.216216216,90701.0,87927.0,81763.1948051948,177922.077922078,165860.869565217,92695.8852459016,160000.0,264929.203539823,229508.196721311,125000.0,253521.126760563,197777.777777778,85682.974025974,140740.740740741,200000.0,253947.368421053,92783.737704918,160975.609756098,90398.5081967213,97845.25,134210.526315789,153846.153846154,70715.9090909091,178033.333333333,154716.981132075,118461.538461538,139534.88372093,90824.0158730159,85292.0,148113.20754717,148780.487804878,133333.333333333,162790.697674419,93149.3606557377,142000.0,201351.351351351,118644.06779661,196078.431372549,138888.888888889,156410.256410256,84450.253164557,161764.705882353,255405.405405405,171610.526315789,89929.5409836066,223529.411764706,84584.7831325301,168750.0,88740.873015873,119565.217391304,138750.0,92556.5245901639,161741.862745098,91302.5081967213,86972.1392405063,251923.076923077,128947.368421053,175153.50877193,234545.454545455,257333.333333333,220270.27027027,194210.526315789,197368.421052632,200000.0,214814.814814815,148333.333333333,134090.909090909,88440.4262295082,87108.1807228916,180474.418604651,194736.842105263,92962.6393442623,130769.230769231,150000.0,132258.064516129,184210.526315789,92328.5967741936,214285.714285714,197674.418604651,225000.0,161842.105263158,220338.983050847,202702.702702703,100903.196078431,232142.857142857,205405.405405405,151136.363636364,160526.315789474,148484.848484848,171428.571428571,209322.033898305,166356.164383562,207894.736842105,150000.0,91094.7301587302,162500.0,242105.263157895,129333.333333333,152307.692307692,227884.615384615,216216.216216216,99420.2884615385,129069.76744186,154545.454545455,86368.1012658228,86797.1898734177,86365.0886075949,211290.322580645,83717.4050632911,215625.0,246153.846153846,240740.740740741,100412.980769231,99608.6666666667,86194.6582278481,92065.0,90539.2222222222,173964.0,141414.141414141,92697.9016393443,146551.724137931,141613.636363636,98625.7307692308,211392.405063291,250000.0,184375.0,93534.6774193548,218750.0,181705.263157895,101408.039215686,214814.814814815,242727.272727273,147500.0,200000.0,254716.981132075,132467.532467532,207475.227272727,191463.414634146,168421.052631579,144186.046511628,232500.0,220370.37037037,166666.666666667,142553.191489362,230952.380952381,100416.480769231,86540.7215189873,169230.769230769,127687.212389381,94339.6226415094,144318.181818182,107890.875,93393.9841269841,93209.2380952381,150632.911392405,94657.131147541,97402.5974025974,137777.777777778,184523.80952381,158045.977011494,91911.3492063492,84964.7951807229,175000.0,160000.0,119780.21978022,186034.931506849,152631.578947368,142622.950819672,113750.0,180495.753424658,195614.035087719,91437.5873015873,157812.5,92211.1639344262,130000.0,144067.79661017,101219.269230769,251923.076923077,163636.363636364,141176.470588235,210256.41025641,228571.428571429,173134.328358209,166037.735849057,94968.7580645161,171880.909090909,91884.984375,224561.403508772,130612.244897959,143589.743589744,139772.727272727,255357.142857143,144444.444444444,162500.0,71428.5714285714,93271.296875,212121.212121212,226000.0,170731.707317073,227500.0,197297.297297297,223684.210526316,162857.142857143,212962.962962963,274509.803921569,216666.666666667,86158.8214285714,131395.348837209,183606.557377049,132203.389830508,123333.333333333,142105.263157895,127083.333333333,135714.285714286,86418.9036144578,167500.0,178738.636363636,151851.851851852,185937.5,183720.930232558,192105.263157895,157777.777777778,138461.538461538,164062.5,170588.235294118,164444.444444444,228000.0,194736.842105263,177631.578947368,136507.936507937,160000.0,197368.421052632,116666.666666667,157746.478873239,225000.0,193518.518518519,214285.714285714,249295.774647887,225641.025641026,184347.826086957,93690.234375,168000.0,194736.842105263,166955.283018868,105793.051282051,172593.220338983,153061.224489796,162222.222222222,194117.647058824,204347.826086957,218571.428571429,171350.46728972,169736.842105263,197222.222222222,178048.780487805,229245.283018868,239622.641509434,206666.666666667,226436.781609195,177027.027027027,151428.571428571,166666.666666667,178435.135135135,173333.333333333,158536.585365854,196774.193548387,167283.733333333,181441.391304348,182142.857142857,175757.575757576,212500.0,159210.526315789,133720.930232558,173076.923076923,180421.962616822,179861.111111111,93775.765625,164705.882352941,228571.428571429,167305.866666667,217948.717948718,160526.315789474,209589.04109589,264197.368421053,170238.095238095,207236.842105263,168421.052631579,207475.227272727,214473.684210526,136363.636363636,202631.578947368,157575.757575758,141509.433962264,159482.75862069,100150.358974359,155844.155844156,86891.0833333333,150000.0,132031.25,95575.515625,202631.578947368,172222.222222222,168750.0,98495.4358974359,278750.0,148979.591836735,138888.888888889,130681.818181818,150500.0,93858.0158730159,274155.76,169491.525423729,244871.794871795,181578.947368421,152777.777777778,89209.1265822785,156779.661016949,97579.8333333333,95802.2131147541,160526.315789474,202380.952380952,225490.196078431,143103.448275862,201886.79245283,150000.0,114285.714285714,145370.37037037,235245.901639344,182876.712328767,119268.647058824,86082.2151898734,169491.525423729,165000.0,266153.846153846,92801.84375,194915.254237288,92797.578125,170212.765957447,50761.2444444444,190322.580645161,93391.0634920635,122641.509433962,179104.47761194,109079.419354839,264102.564102564,187500.0,165277.777777778,140487.804878049,153409.090909091,143939.393939394,256578.947368421,243396.226415094,182432.432432432,138461.538461538,116749.529411765,171951.219512195,250000.0,94292.796875,230000.0,209090.909090909,192105.263157895,151388.888888889,100517.161764706,131203.007518797,235576.923076923,135714.285714286,206250.0,154098.360655738,107142.857142857,120318.085106383,186111.111111111,138461.538461538,201388.888888889,171337.333333333,115305.173076923,122413.793103448,144444.444444444,103184.205128205,172727.272727273,171817.954545455,184615.384615385,257500.0,250000.0,120401.469387755,93189.4736842105,169811.320754717,173584.905660377,141509.433962264,135135.135135135,87188.1904761905,191666.666666667,133756.7,141250.0,155056.179775281,160526.315789474,233333.333333333,94352.6935483871,190681.818181818,201250.0,126218.212389381,168571.428571429,169333.333333333,125113.45,175757.575757576,184615.384615385,75540.5405405406,100104.892857143,200000.0,156818.181818182,271028.037383178,250000.0,177631.578947368,159782.608695652,250000.0,142031.953488372,176271.186440678,205714.285714286,224074.074074074,138983.050847458,118798.538461538,165789.473684211,135416.666666667,185000.0,108108.108108108,241891.891891892,227027.027027027,250943.396226415,170000.0,243636.363636364,165789.473684211,189510.638297872,251470.588235294,124590.163934426,210526.315789474,138125.175,160000.0,221052.631578947,157500.0,134319.35,187671.232876712,46222.7537313433,247169.811320755,164444.444444444,132926.829268293,118379.301369863,196004.545454545,86551.724137931,155263.157894737,172549.019607843,235294.117647059,156363.636363636,240180.681818182,104673.774193548,116696.240506329,173684.210526316,168750.0,197297.297297297,166666.666666667,144736.842105263,148483.333333333,190000.0,202272.727272727,106005.888888889,182894.736842105,200000.0,205263.157894737,151162.790697674,266666.666666667,156250.0,180000.0,168750.0,196004.545454545,144318.181818182,179487.17948718,180645.161290323,188235.294117647,158536.585365854,228947.368421053,237037.037037037,135165.673913044,218181.818181818,206779.661016949,138666.666666667,171052.631578947,239726.02739726,207692.307692308,146226.41509434,279411.764705882,180952.380952381,193421.052631579,95890.4109589041,172058.823529412,210526.315789474,156818.181818182,147692.307692308,160526.315789474,177924.528301887,103131.612903226,230985.915492958,217741.935483871,182432.432432432,95664.8192771084,200363.636363636,161904.761904762,255263.157894737,99000.8961038961,118694.671875,219298.245614035,247368.421052632,161971.830985916,155813.953488372,122495.803278689,173052.054794521,103005.903225806,126470.588235294,152631.578947368,151072.0,153225.806451613,124615.384615385,101612.09375,216666.666666667,190277.777777778,133894.736842105,110735.961538462,218918.918918919,121570.211267606,151428.571428571,168674.698795181,227272.727272727,100945.790322581,142203.389830508,211864.406779661,230188.679245283,160526.315789474,128888.888888889,145333.333333333,115921.052631579,169317.27027027,175000.0,132467.532467532,172669.230769231,232456.140350877,104038.258064516,104191.229508197,176470.588235294,111088.607594937,207894.736842105,100285.171875,97265.2682926829,147000.0,123327.868852459,122837.524590164,96496.6329113924,241083.333333333,106079.901639344,149607.037037037,105424.225806452,135135.135135135,129629.62962963,146511.627906977,250000.0,165625.0,154718.666666667,228378.378378378,151298.701298701,172107.102040816,233333.333333333,103436.163934426,210526.315789474,213985.890410959,150657.0,127883.096153846,226973.684210526,97948.275862069,104925.721311475,181503.271028037,112025.615384615,221052.631578947,168421.052631579,98780.890625,147000.0,155263.157894737,175471.698113208,213157.894736842,144157.236842105,148113.20754717,99583.1875,104745.126984127,100285.171875,100383.873239437,95790.1898734177,99583.1875,178947.368421053,113311.62745098],\"yaxis\":\"y\",\"type\":\"scatter\"}],                        {\"template\":{\"data\":{\"histogram2dcontour\":[{\"type\":\"histogram2dcontour\",\"colorbar\":{\"outlinewidth\":0,\"ticks\":\"\"},\"colorscale\":[[0.0,\"#0d0887\"],[0.1111111111111111,\"#46039f\"],[0.2222222222222222,\"#7201a8\"],[0.3333333333333333,\"#9c179e\"],[0.4444444444444444,\"#bd3786\"],[0.5555555555555556,\"#d8576b\"],[0.6666666666666666,\"#ed7953\"],[0.7777777777777778,\"#fb9f3a\"],[0.8888888888888888,\"#fdca26\"],[1.0,\"#f0f921\"]]}],\"choropleth\":[{\"type\":\"choropleth\",\"colorbar\":{\"outlinewidth\":0,\"ticks\":\"\"}}],\"histogram2d\":[{\"type\":\"histogram2d\",\"colorbar\":{\"outlinewidth\":0,\"ticks\":\"\"},\"colorscale\":[[0.0,\"#0d0887\"],[0.1111111111111111,\"#46039f\"],[0.2222222222222222,\"#7201a8\"],[0.3333333333333333,\"#9c179e\"],[0.4444444444444444,\"#bd3786\"],[0.5555555555555556,\"#d8576b\"],[0.6666666666666666,\"#ed7953\"],[0.7777777777777778,\"#fb9f3a\"],[0.8888888888888888,\"#fdca26\"],[1.0,\"#f0f921\"]]}],\"heatmap\":[{\"type\":\"heatmap\",\"colorbar\":{\"outlinewidth\":0,\"ticks\":\"\"},\"colorscale\":[[0.0,\"#0d0887\"],[0.1111111111111111,\"#46039f\"],[0.2222222222222222,\"#7201a8\"],[0.3333333333333333,\"#9c179e\"],[0.4444444444444444,\"#bd3786\"],[0.5555555555555556,\"#d8576b\"],[0.6666666666666666,\"#ed7953\"],[0.7777777777777778,\"#fb9f3a\"],[0.8888888888888888,\"#fdca26\"],[1.0,\"#f0f921\"]]}],\"heatmapgl\":[{\"type\":\"heatmapgl\",\"colorbar\":{\"outlinewidth\":0,\"ticks\":\"\"},\"colorscale\":[[0.0,\"#0d0887\"],[0.1111111111111111,\"#46039f\"],[0.2222222222222222,\"#7201a8\"],[0.3333333333333333,\"#9c179e\"],[0.4444444444444444,\"#bd3786\"],[0.5555555555555556,\"#d8576b\"],[0.6666666666666666,\"#ed7953\"],[0.7777777777777778,\"#fb9f3a\"],[0.8888888888888888,\"#fdca26\"],[1.0,\"#f0f921\"]]}],\"contourcarpet\":[{\"type\":\"contourcarpet\",\"colorbar\":{\"outlinewidth\":0,\"ticks\":\"\"}}],\"contour\":[{\"type\":\"contour\",\"colorbar\":{\"outlinewidth\":0,\"ticks\":\"\"},\"colorscale\":[[0.0,\"#0d0887\"],[0.1111111111111111,\"#46039f\"],[0.2222222222222222,\"#7201a8\"],[0.3333333333333333,\"#9c179e\"],[0.4444444444444444,\"#bd3786\"],[0.5555555555555556,\"#d8576b\"],[0.6666666666666666,\"#ed7953\"],[0.7777777777777778,\"#fb9f3a\"],[0.8888888888888888,\"#fdca26\"],[1.0,\"#f0f921\"]]}],\"surface\":[{\"type\":\"surface\",\"colorbar\":{\"outlinewidth\":0,\"ticks\":\"\"},\"colorscale\":[[0.0,\"#0d0887\"],[0.1111111111111111,\"#46039f\"],[0.2222222222222222,\"#7201a8\"],[0.3333333333333333,\"#9c179e\"],[0.4444444444444444,\"#bd3786\"],[0.5555555555555556,\"#d8576b\"],[0.6666666666666666,\"#ed7953\"],[0.7777777777777778,\"#fb9f3a\"],[0.8888888888888888,\"#fdca26\"],[1.0,\"#f0f921\"]]}],\"mesh3d\":[{\"type\":\"mesh3d\",\"colorbar\":{\"outlinewidth\":0,\"ticks\":\"\"}}],\"scatter\":[{\"fillpattern\":{\"fillmode\":\"overlay\",\"size\":10,\"solidity\":0.2},\"type\":\"scatter\"}],\"parcoords\":[{\"type\":\"parcoords\",\"line\":{\"colorbar\":{\"outlinewidth\":0,\"ticks\":\"\"}}}],\"scatterpolargl\":[{\"type\":\"scatterpolargl\",\"marker\":{\"colorbar\":{\"outlinewidth\":0,\"ticks\":\"\"}}}],\"bar\":[{\"error_x\":{\"color\":\"#2a3f5f\"},\"error_y\":{\"color\":\"#2a3f5f\"},\"marker\":{\"line\":{\"color\":\"#E5ECF6\",\"width\":0.5},\"pattern\":{\"fillmode\":\"overlay\",\"size\":10,\"solidity\":0.2}},\"type\":\"bar\"}],\"scattergeo\":[{\"type\":\"scattergeo\",\"marker\":{\"colorbar\":{\"outlinewidth\":0,\"ticks\":\"\"}}}],\"scatterpolar\":[{\"type\":\"scatterpolar\",\"marker\":{\"colorbar\":{\"outlinewidth\":0,\"ticks\":\"\"}}}],\"histogram\":[{\"marker\":{\"pattern\":{\"fillmode\":\"overlay\",\"size\":10,\"solidity\":0.2}},\"type\":\"histogram\"}],\"scattergl\":[{\"type\":\"scattergl\",\"marker\":{\"colorbar\":{\"outlinewidth\":0,\"ticks\":\"\"}}}],\"scatter3d\":[{\"type\":\"scatter3d\",\"line\":{\"colorbar\":{\"outlinewidth\":0,\"ticks\":\"\"}},\"marker\":{\"colorbar\":{\"outlinewidth\":0,\"ticks\":\"\"}}}],\"scattermapbox\":[{\"type\":\"scattermapbox\",\"marker\":{\"colorbar\":{\"outlinewidth\":0,\"ticks\":\"\"}}}],\"scatterternary\":[{\"type\":\"scatterternary\",\"marker\":{\"colorbar\":{\"outlinewidth\":0,\"ticks\":\"\"}}}],\"scattercarpet\":[{\"type\":\"scattercarpet\",\"marker\":{\"colorbar\":{\"outlinewidth\":0,\"ticks\":\"\"}}}],\"carpet\":[{\"aaxis\":{\"endlinecolor\":\"#2a3f5f\",\"gridcolor\":\"white\",\"linecolor\":\"white\",\"minorgridcolor\":\"white\",\"startlinecolor\":\"#2a3f5f\"},\"baxis\":{\"endlinecolor\":\"#2a3f5f\",\"gridcolor\":\"white\",\"linecolor\":\"white\",\"minorgridcolor\":\"white\",\"startlinecolor\":\"#2a3f5f\"},\"type\":\"carpet\"}],\"table\":[{\"cells\":{\"fill\":{\"color\":\"#EBF0F8\"},\"line\":{\"color\":\"white\"}},\"header\":{\"fill\":{\"color\":\"#C8D4E3\"},\"line\":{\"color\":\"white\"}},\"type\":\"table\"}],\"barpolar\":[{\"marker\":{\"line\":{\"color\":\"#E5ECF6\",\"width\":0.5},\"pattern\":{\"fillmode\":\"overlay\",\"size\":10,\"solidity\":0.2}},\"type\":\"barpolar\"}],\"pie\":[{\"automargin\":true,\"type\":\"pie\"}]},\"layout\":{\"autotypenumbers\":\"strict\",\"colorway\":[\"#636efa\",\"#EF553B\",\"#00cc96\",\"#ab63fa\",\"#FFA15A\",\"#19d3f3\",\"#FF6692\",\"#B6E880\",\"#FF97FF\",\"#FECB52\"],\"font\":{\"color\":\"#2a3f5f\"},\"hovermode\":\"closest\",\"hoverlabel\":{\"align\":\"left\"},\"paper_bgcolor\":\"white\",\"plot_bgcolor\":\"#E5ECF6\",\"polar\":{\"bgcolor\":\"#E5ECF6\",\"angularaxis\":{\"gridcolor\":\"white\",\"linecolor\":\"white\",\"ticks\":\"\"},\"radialaxis\":{\"gridcolor\":\"white\",\"linecolor\":\"white\",\"ticks\":\"\"}},\"ternary\":{\"bgcolor\":\"#E5ECF6\",\"aaxis\":{\"gridcolor\":\"white\",\"linecolor\":\"white\",\"ticks\":\"\"},\"baxis\":{\"gridcolor\":\"white\",\"linecolor\":\"white\",\"ticks\":\"\"},\"caxis\":{\"gridcolor\":\"white\",\"linecolor\":\"white\",\"ticks\":\"\"}},\"coloraxis\":{\"colorbar\":{\"outlinewidth\":0,\"ticks\":\"\"}},\"colorscale\":{\"sequential\":[[0.0,\"#0d0887\"],[0.1111111111111111,\"#46039f\"],[0.2222222222222222,\"#7201a8\"],[0.3333333333333333,\"#9c179e\"],[0.4444444444444444,\"#bd3786\"],[0.5555555555555556,\"#d8576b\"],[0.6666666666666666,\"#ed7953\"],[0.7777777777777778,\"#fb9f3a\"],[0.8888888888888888,\"#fdca26\"],[1.0,\"#f0f921\"]],\"sequentialminus\":[[0.0,\"#0d0887\"],[0.1111111111111111,\"#46039f\"],[0.2222222222222222,\"#7201a8\"],[0.3333333333333333,\"#9c179e\"],[0.4444444444444444,\"#bd3786\"],[0.5555555555555556,\"#d8576b\"],[0.6666666666666666,\"#ed7953\"],[0.7777777777777778,\"#fb9f3a\"],[0.8888888888888888,\"#fdca26\"],[1.0,\"#f0f921\"]],\"diverging\":[[0,\"#8e0152\"],[0.1,\"#c51b7d\"],[0.2,\"#de77ae\"],[0.3,\"#f1b6da\"],[0.4,\"#fde0ef\"],[0.5,\"#f7f7f7\"],[0.6,\"#e6f5d0\"],[0.7,\"#b8e186\"],[0.8,\"#7fbc41\"],[0.9,\"#4d9221\"],[1,\"#276419\"]]},\"xaxis\":{\"gridcolor\":\"white\",\"linecolor\":\"white\",\"ticks\":\"\",\"title\":{\"standoff\":15},\"zerolinecolor\":\"white\",\"automargin\":true,\"zerolinewidth\":2},\"yaxis\":{\"gridcolor\":\"white\",\"linecolor\":\"white\",\"ticks\":\"\",\"title\":{\"standoff\":15},\"zerolinecolor\":\"white\",\"automargin\":true,\"zerolinewidth\":2},\"scene\":{\"xaxis\":{\"backgroundcolor\":\"#E5ECF6\",\"gridcolor\":\"white\",\"linecolor\":\"white\",\"showbackground\":true,\"ticks\":\"\",\"zerolinecolor\":\"white\",\"gridwidth\":2},\"yaxis\":{\"backgroundcolor\":\"#E5ECF6\",\"gridcolor\":\"white\",\"linecolor\":\"white\",\"showbackground\":true,\"ticks\":\"\",\"zerolinecolor\":\"white\",\"gridwidth\":2},\"zaxis\":{\"backgroundcolor\":\"#E5ECF6\",\"gridcolor\":\"white\",\"linecolor\":\"white\",\"showbackground\":true,\"ticks\":\"\",\"zerolinecolor\":\"white\",\"gridwidth\":2}},\"shapedefaults\":{\"line\":{\"color\":\"#2a3f5f\"}},\"annotationdefaults\":{\"arrowcolor\":\"#2a3f5f\",\"arrowhead\":0,\"arrowwidth\":1},\"geo\":{\"bgcolor\":\"white\",\"landcolor\":\"#E5ECF6\",\"subunitcolor\":\"white\",\"showland\":true,\"showlakes\":true,\"lakecolor\":\"white\"},\"title\":{\"x\":0.05},\"mapbox\":{\"style\":\"light\"}}},\"xaxis\":{\"anchor\":\"y\",\"domain\":[0.0,1.0],\"title\":{\"text\":\"Дата\"}},\"yaxis\":{\"anchor\":\"x\",\"domain\":[0.0,1.0],\"title\":{\"text\":\"Стоимость квадратного метра\"}},\"legend\":{\"tracegroupgap\":0},\"title\":{\"text\":\"Изменение стоимости квадратного метра с течением времени\"}},                        {\"responsive\": true}                    ).then(function(){\n",
              "                            \n",
              "var gd = document.getElementById('0eb1fe39-97de-4ef3-8708-1a233a600260');\n",
              "var x = new MutationObserver(function (mutations, observer) {{\n",
              "        var display = window.getComputedStyle(gd).display;\n",
              "        if (!display || display === 'none') {{\n",
              "            console.log([gd, 'removed!']);\n",
              "            Plotly.purge(gd);\n",
              "            observer.disconnect();\n",
              "        }}\n",
              "}});\n",
              "\n",
              "// Listen for the removal of the full notebook cells\n",
              "var notebookContainer = gd.closest('#notebook-container');\n",
              "if (notebookContainer) {{\n",
              "    x.observe(notebookContainer, {childList: true});\n",
              "}}\n",
              "\n",
              "// Listen for the clearing of the current output cell\n",
              "var outputEl = gd.closest('.output');\n",
              "if (outputEl) {{\n",
              "    x.observe(outputEl, {childList: true});\n",
              "}}\n",
              "\n",
              "                        })                };                            </script>        </div>\n",
              "</body>\n",
              "</html>"
            ]
          },
          "metadata": {}
        }
      ]
    }
  ]
}