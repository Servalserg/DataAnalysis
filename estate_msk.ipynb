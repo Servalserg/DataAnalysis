{
  "nbformat": 4,
  "nbformat_minor": 0,
  "metadata": {
    "colab": {
      "provenance": []
    },
    "kernelspec": {
      "name": "python3",
      "display_name": "Python 3"
    },
    "language_info": {
      "name": "python"
    }
  },
  "cells": [
    {
      "cell_type": "markdown",
      "source": [
        "# Исследовательский вопрос + данные"
      ],
      "metadata": {
        "id": "qcELvQIfwQ-r"
      }
    },
    {
      "cell_type": "markdown",
      "source": [
        "Исходный набор данных был взят с ресурса [kaggle](https://www.kaggle.com/c/sberbank-russian-housing-market)\n",
        "\n",
        "Данные содержат информацию о стоимости недвижимости в России, а также различных факторах, которые характеризуют эту недвижимость.\n",
        "\n",
        "Всего строк: 996     \n",
        "Всего столбцов: 9\n",
        "\n",
        "Описание столбцов:\n",
        "- id — идентификатор объекта (не участвует в анализе),\n",
        "- timestamp — временная метка (для анализа времени преобразуем в формат даты и времени, чтобы извлечь год, месяц или тренды),\n",
        "- price_sq_m — цена за квадратный метр (числовая, непрерывная переменная),\n",
        "- material_monolit — бинарный признак, указывающий, построено ли здание из монолита (1) или нет (0) (бинарная, категориальная, номинальная переменная),\n",
        "- green_zone_part — доля зеленой зоны в окружающем районе (числовая, непрерывная переменная),\n",
        "- industrial_part — доля промышленных зон (числовая, непрерывная переменная),\n",
        "- ttk_km — расстояние до ТТК (в километрах) (числовая, непрерывная переменная),\n",
        "- trc_count — количество торгово-развлекательных центров поблизости (числовая, дискретная переменная)."
      ],
      "metadata": {
        "id": "-TFsRIRTyEP6"
      }
    },
    {
      "cell_type": "markdown",
      "source": [
        "Исходя из представленный данных сформулируем исследовательский вопрос: *Как различные факторы (доля зеленой зоны, промышленных зон, расстояние до ТТК и количество ТРЦ) влияют на цену за квадратный метр?*"
      ],
      "metadata": {
        "id": "aqCxONkH3Lwv"
      }
    },
    {
      "cell_type": "code",
      "source": [
        "import pandas as pd\n",
        "\n",
        "df = pd.read_csv('data.csv')\n",
        "df.head()"
      ],
      "metadata": {
        "colab": {
          "base_uri": "https://localhost:8080/",
          "height": 206
        },
        "id": "pWxBU6-37tKZ",
        "outputId": "ed978147-3a5d-4062-f226-cd00a0aa321d"
      },
      "execution_count": 2,
      "outputs": [
        {
          "output_type": "execute_result",
          "data": {
            "text/plain": [
              "     id  timestamp     price_sq_m  material_monolit  green_zone_part  \\\n",
              "0  8285   6/1/2013  150980.392157                 0         0.083810   \n",
              "1  8394   6/7/2013  200000.000000                 0         0.169625   \n",
              "2  8560  6/18/2013  204225.352113                 0         0.297166   \n",
              "3  8642  6/24/2013  181818.181818                 0         0.069671   \n",
              "4  8814   7/1/2013  196153.846154                 0         0.070662   \n",
              "\n",
              "   industrial_part     ttk_km  trc_count  \n",
              "0         0.371149  12.755092         15  \n",
              "1         0.019509   1.800854         39  \n",
              "2         0.000000   6.828563         24  \n",
              "3         0.130618   6.006677         33  \n",
              "4         0.035145   8.955545         23  "
            ],
            "text/html": [
              "\n",
              "  <div id=\"df-bbe65752-dabd-4bdf-a8b1-94d328e75d1e\" class=\"colab-df-container\">\n",
              "    <div>\n",
              "<style scoped>\n",
              "    .dataframe tbody tr th:only-of-type {\n",
              "        vertical-align: middle;\n",
              "    }\n",
              "\n",
              "    .dataframe tbody tr th {\n",
              "        vertical-align: top;\n",
              "    }\n",
              "\n",
              "    .dataframe thead th {\n",
              "        text-align: right;\n",
              "    }\n",
              "</style>\n",
              "<table border=\"1\" class=\"dataframe\">\n",
              "  <thead>\n",
              "    <tr style=\"text-align: right;\">\n",
              "      <th></th>\n",
              "      <th>id</th>\n",
              "      <th>timestamp</th>\n",
              "      <th>price_sq_m</th>\n",
              "      <th>material_monolit</th>\n",
              "      <th>green_zone_part</th>\n",
              "      <th>industrial_part</th>\n",
              "      <th>ttk_km</th>\n",
              "      <th>trc_count</th>\n",
              "    </tr>\n",
              "  </thead>\n",
              "  <tbody>\n",
              "    <tr>\n",
              "      <th>0</th>\n",
              "      <td>8285</td>\n",
              "      <td>6/1/2013</td>\n",
              "      <td>150980.392157</td>\n",
              "      <td>0</td>\n",
              "      <td>0.083810</td>\n",
              "      <td>0.371149</td>\n",
              "      <td>12.755092</td>\n",
              "      <td>15</td>\n",
              "    </tr>\n",
              "    <tr>\n",
              "      <th>1</th>\n",
              "      <td>8394</td>\n",
              "      <td>6/7/2013</td>\n",
              "      <td>200000.000000</td>\n",
              "      <td>0</td>\n",
              "      <td>0.169625</td>\n",
              "      <td>0.019509</td>\n",
              "      <td>1.800854</td>\n",
              "      <td>39</td>\n",
              "    </tr>\n",
              "    <tr>\n",
              "      <th>2</th>\n",
              "      <td>8560</td>\n",
              "      <td>6/18/2013</td>\n",
              "      <td>204225.352113</td>\n",
              "      <td>0</td>\n",
              "      <td>0.297166</td>\n",
              "      <td>0.000000</td>\n",
              "      <td>6.828563</td>\n",
              "      <td>24</td>\n",
              "    </tr>\n",
              "    <tr>\n",
              "      <th>3</th>\n",
              "      <td>8642</td>\n",
              "      <td>6/24/2013</td>\n",
              "      <td>181818.181818</td>\n",
              "      <td>0</td>\n",
              "      <td>0.069671</td>\n",
              "      <td>0.130618</td>\n",
              "      <td>6.006677</td>\n",
              "      <td>33</td>\n",
              "    </tr>\n",
              "    <tr>\n",
              "      <th>4</th>\n",
              "      <td>8814</td>\n",
              "      <td>7/1/2013</td>\n",
              "      <td>196153.846154</td>\n",
              "      <td>0</td>\n",
              "      <td>0.070662</td>\n",
              "      <td>0.035145</td>\n",
              "      <td>8.955545</td>\n",
              "      <td>23</td>\n",
              "    </tr>\n",
              "  </tbody>\n",
              "</table>\n",
              "</div>\n",
              "    <div class=\"colab-df-buttons\">\n",
              "\n",
              "  <div class=\"colab-df-container\">\n",
              "    <button class=\"colab-df-convert\" onclick=\"convertToInteractive('df-bbe65752-dabd-4bdf-a8b1-94d328e75d1e')\"\n",
              "            title=\"Convert this dataframe to an interactive table.\"\n",
              "            style=\"display:none;\">\n",
              "\n",
              "  <svg xmlns=\"http://www.w3.org/2000/svg\" height=\"24px\" viewBox=\"0 -960 960 960\">\n",
              "    <path d=\"M120-120v-720h720v720H120Zm60-500h600v-160H180v160Zm220 220h160v-160H400v160Zm0 220h160v-160H400v160ZM180-400h160v-160H180v160Zm440 0h160v-160H620v160ZM180-180h160v-160H180v160Zm440 0h160v-160H620v160Z\"/>\n",
              "  </svg>\n",
              "    </button>\n",
              "\n",
              "  <style>\n",
              "    .colab-df-container {\n",
              "      display:flex;\n",
              "      gap: 12px;\n",
              "    }\n",
              "\n",
              "    .colab-df-convert {\n",
              "      background-color: #E8F0FE;\n",
              "      border: none;\n",
              "      border-radius: 50%;\n",
              "      cursor: pointer;\n",
              "      display: none;\n",
              "      fill: #1967D2;\n",
              "      height: 32px;\n",
              "      padding: 0 0 0 0;\n",
              "      width: 32px;\n",
              "    }\n",
              "\n",
              "    .colab-df-convert:hover {\n",
              "      background-color: #E2EBFA;\n",
              "      box-shadow: 0px 1px 2px rgba(60, 64, 67, 0.3), 0px 1px 3px 1px rgba(60, 64, 67, 0.15);\n",
              "      fill: #174EA6;\n",
              "    }\n",
              "\n",
              "    .colab-df-buttons div {\n",
              "      margin-bottom: 4px;\n",
              "    }\n",
              "\n",
              "    [theme=dark] .colab-df-convert {\n",
              "      background-color: #3B4455;\n",
              "      fill: #D2E3FC;\n",
              "    }\n",
              "\n",
              "    [theme=dark] .colab-df-convert:hover {\n",
              "      background-color: #434B5C;\n",
              "      box-shadow: 0px 1px 3px 1px rgba(0, 0, 0, 0.15);\n",
              "      filter: drop-shadow(0px 1px 2px rgba(0, 0, 0, 0.3));\n",
              "      fill: #FFFFFF;\n",
              "    }\n",
              "  </style>\n",
              "\n",
              "    <script>\n",
              "      const buttonEl =\n",
              "        document.querySelector('#df-bbe65752-dabd-4bdf-a8b1-94d328e75d1e button.colab-df-convert');\n",
              "      buttonEl.style.display =\n",
              "        google.colab.kernel.accessAllowed ? 'block' : 'none';\n",
              "\n",
              "      async function convertToInteractive(key) {\n",
              "        const element = document.querySelector('#df-bbe65752-dabd-4bdf-a8b1-94d328e75d1e');\n",
              "        const dataTable =\n",
              "          await google.colab.kernel.invokeFunction('convertToInteractive',\n",
              "                                                    [key], {});\n",
              "        if (!dataTable) return;\n",
              "\n",
              "        const docLinkHtml = 'Like what you see? Visit the ' +\n",
              "          '<a target=\"_blank\" href=https://colab.research.google.com/notebooks/data_table.ipynb>data table notebook</a>'\n",
              "          + ' to learn more about interactive tables.';\n",
              "        element.innerHTML = '';\n",
              "        dataTable['output_type'] = 'display_data';\n",
              "        await google.colab.output.renderOutput(dataTable, element);\n",
              "        const docLink = document.createElement('div');\n",
              "        docLink.innerHTML = docLinkHtml;\n",
              "        element.appendChild(docLink);\n",
              "      }\n",
              "    </script>\n",
              "  </div>\n",
              "\n",
              "\n",
              "<div id=\"df-d80dad5a-d3ed-4c79-bfb0-503f6e484e3d\">\n",
              "  <button class=\"colab-df-quickchart\" onclick=\"quickchart('df-d80dad5a-d3ed-4c79-bfb0-503f6e484e3d')\"\n",
              "            title=\"Suggest charts\"\n",
              "            style=\"display:none;\">\n",
              "\n",
              "<svg xmlns=\"http://www.w3.org/2000/svg\" height=\"24px\"viewBox=\"0 0 24 24\"\n",
              "     width=\"24px\">\n",
              "    <g>\n",
              "        <path d=\"M19 3H5c-1.1 0-2 .9-2 2v14c0 1.1.9 2 2 2h14c1.1 0 2-.9 2-2V5c0-1.1-.9-2-2-2zM9 17H7v-7h2v7zm4 0h-2V7h2v10zm4 0h-2v-4h2v4z\"/>\n",
              "    </g>\n",
              "</svg>\n",
              "  </button>\n",
              "\n",
              "<style>\n",
              "  .colab-df-quickchart {\n",
              "      --bg-color: #E8F0FE;\n",
              "      --fill-color: #1967D2;\n",
              "      --hover-bg-color: #E2EBFA;\n",
              "      --hover-fill-color: #174EA6;\n",
              "      --disabled-fill-color: #AAA;\n",
              "      --disabled-bg-color: #DDD;\n",
              "  }\n",
              "\n",
              "  [theme=dark] .colab-df-quickchart {\n",
              "      --bg-color: #3B4455;\n",
              "      --fill-color: #D2E3FC;\n",
              "      --hover-bg-color: #434B5C;\n",
              "      --hover-fill-color: #FFFFFF;\n",
              "      --disabled-bg-color: #3B4455;\n",
              "      --disabled-fill-color: #666;\n",
              "  }\n",
              "\n",
              "  .colab-df-quickchart {\n",
              "    background-color: var(--bg-color);\n",
              "    border: none;\n",
              "    border-radius: 50%;\n",
              "    cursor: pointer;\n",
              "    display: none;\n",
              "    fill: var(--fill-color);\n",
              "    height: 32px;\n",
              "    padding: 0;\n",
              "    width: 32px;\n",
              "  }\n",
              "\n",
              "  .colab-df-quickchart:hover {\n",
              "    background-color: var(--hover-bg-color);\n",
              "    box-shadow: 0 1px 2px rgba(60, 64, 67, 0.3), 0 1px 3px 1px rgba(60, 64, 67, 0.15);\n",
              "    fill: var(--button-hover-fill-color);\n",
              "  }\n",
              "\n",
              "  .colab-df-quickchart-complete:disabled,\n",
              "  .colab-df-quickchart-complete:disabled:hover {\n",
              "    background-color: var(--disabled-bg-color);\n",
              "    fill: var(--disabled-fill-color);\n",
              "    box-shadow: none;\n",
              "  }\n",
              "\n",
              "  .colab-df-spinner {\n",
              "    border: 2px solid var(--fill-color);\n",
              "    border-color: transparent;\n",
              "    border-bottom-color: var(--fill-color);\n",
              "    animation:\n",
              "      spin 1s steps(1) infinite;\n",
              "  }\n",
              "\n",
              "  @keyframes spin {\n",
              "    0% {\n",
              "      border-color: transparent;\n",
              "      border-bottom-color: var(--fill-color);\n",
              "      border-left-color: var(--fill-color);\n",
              "    }\n",
              "    20% {\n",
              "      border-color: transparent;\n",
              "      border-left-color: var(--fill-color);\n",
              "      border-top-color: var(--fill-color);\n",
              "    }\n",
              "    30% {\n",
              "      border-color: transparent;\n",
              "      border-left-color: var(--fill-color);\n",
              "      border-top-color: var(--fill-color);\n",
              "      border-right-color: var(--fill-color);\n",
              "    }\n",
              "    40% {\n",
              "      border-color: transparent;\n",
              "      border-right-color: var(--fill-color);\n",
              "      border-top-color: var(--fill-color);\n",
              "    }\n",
              "    60% {\n",
              "      border-color: transparent;\n",
              "      border-right-color: var(--fill-color);\n",
              "    }\n",
              "    80% {\n",
              "      border-color: transparent;\n",
              "      border-right-color: var(--fill-color);\n",
              "      border-bottom-color: var(--fill-color);\n",
              "    }\n",
              "    90% {\n",
              "      border-color: transparent;\n",
              "      border-bottom-color: var(--fill-color);\n",
              "    }\n",
              "  }\n",
              "</style>\n",
              "\n",
              "  <script>\n",
              "    async function quickchart(key) {\n",
              "      const quickchartButtonEl =\n",
              "        document.querySelector('#' + key + ' button');\n",
              "      quickchartButtonEl.disabled = true;  // To prevent multiple clicks.\n",
              "      quickchartButtonEl.classList.add('colab-df-spinner');\n",
              "      try {\n",
              "        const charts = await google.colab.kernel.invokeFunction(\n",
              "            'suggestCharts', [key], {});\n",
              "      } catch (error) {\n",
              "        console.error('Error during call to suggestCharts:', error);\n",
              "      }\n",
              "      quickchartButtonEl.classList.remove('colab-df-spinner');\n",
              "      quickchartButtonEl.classList.add('colab-df-quickchart-complete');\n",
              "    }\n",
              "    (() => {\n",
              "      let quickchartButtonEl =\n",
              "        document.querySelector('#df-d80dad5a-d3ed-4c79-bfb0-503f6e484e3d button');\n",
              "      quickchartButtonEl.style.display =\n",
              "        google.colab.kernel.accessAllowed ? 'block' : 'none';\n",
              "    })();\n",
              "  </script>\n",
              "</div>\n",
              "    </div>\n",
              "  </div>\n"
            ],
            "application/vnd.google.colaboratory.intrinsic+json": {
              "type": "dataframe",
              "variable_name": "df",
              "summary": "{\n  \"name\": \"df\",\n  \"rows\": 996,\n  \"fields\": [\n    {\n      \"column\": \"id\",\n      \"properties\": {\n        \"dtype\": \"number\",\n        \"std\": 6073,\n        \"min\": 8285,\n        \"max\": 30462,\n        \"num_unique_values\": 996,\n        \"samples\": [\n          27372,\n          30024,\n          11958\n        ],\n        \"semantic_type\": \"\",\n        \"description\": \"\"\n      }\n    },\n    {\n      \"column\": \"timestamp\",\n      \"properties\": {\n        \"dtype\": \"object\",\n        \"num_unique_values\": 440,\n        \"samples\": [\n          \"9/2/2014\",\n          \"12/9/2013\",\n          \"12/29/2014\"\n        ],\n        \"semantic_type\": \"\",\n        \"description\": \"\"\n      }\n    },\n    {\n      \"column\": \"price_sq_m\",\n      \"properties\": {\n        \"dtype\": \"number\",\n        \"std\": 47098.97948282824,\n        \"min\": 46163.6363636364,\n        \"max\": 435483.870967742,\n        \"num_unique_values\": 829,\n        \"samples\": [\n          179104.47761194,\n          144067.79661017,\n          139726.02739726\n        ],\n        \"semantic_type\": \"\",\n        \"description\": \"\"\n      }\n    },\n    {\n      \"column\": \"material_monolit\",\n      \"properties\": {\n        \"dtype\": \"number\",\n        \"std\": 0,\n        \"min\": 0,\n        \"max\": 1,\n        \"num_unique_values\": 2,\n        \"samples\": [\n          1,\n          0\n        ],\n        \"semantic_type\": \"\",\n        \"description\": \"\"\n      }\n    },\n    {\n      \"column\": \"green_zone_part\",\n      \"properties\": {\n        \"dtype\": \"number\",\n        \"std\": 0.08377933243290389,\n        \"min\": 0.058543047,\n        \"max\": 0.331075802,\n        \"num_unique_values\": 9,\n        \"samples\": [\n          0.331075802,\n          0.169625419\n        ],\n        \"semantic_type\": \"\",\n        \"description\": \"\"\n      }\n    },\n    {\n      \"column\": \"industrial_part\",\n      \"properties\": {\n        \"dtype\": \"number\",\n        \"std\": 0.15099484664509738,\n        \"min\": 0.0,\n        \"max\": 0.371148999,\n        \"num_unique_values\": 9,\n        \"samples\": [\n          0.000991,\n          0.019508796\n        ],\n        \"semantic_type\": \"\",\n        \"description\": \"\"\n      }\n    },\n    {\n      \"column\": \"ttk_km\",\n      \"properties\": {\n        \"dtype\": \"number\",\n        \"std\": 3.7444190306635616,\n        \"min\": 0.110483486,\n        \"max\": 16.28523864,\n        \"num_unique_values\": 572,\n        \"samples\": [\n          4.188863692,\n          7.369948943\n        ],\n        \"semantic_type\": \"\",\n        \"description\": \"\"\n      }\n    },\n    {\n      \"column\": \"trc_count\",\n      \"properties\": {\n        \"dtype\": \"number\",\n        \"std\": 12,\n        \"min\": 7,\n        \"max\": 78,\n        \"num_unique_values\": 56,\n        \"samples\": [\n          15,\n          27\n        ],\n        \"semantic_type\": \"\",\n        \"description\": \"\"\n      }\n    }\n  ]\n}"
            }
          },
          "metadata": {},
          "execution_count": 2
        }
      ]
    },
    {
      "cell_type": "markdown",
      "source": [
        "# Обработка пропусков и выбросов"
      ],
      "metadata": {
        "id": "wOF0twi67a2u"
      }
    },
    {
      "cell_type": "markdown",
      "source": [
        "Преобразуем timestamp в формат даты и времени для корректного дальнейшего анализа и удобства изучения года, месяца и дня в случае необходимости"
      ],
      "metadata": {
        "id": "kWI7ULXm7ezm"
      }
    },
    {
      "cell_type": "code",
      "execution_count": 3,
      "metadata": {
        "id": "M7fllzcbv3--"
      },
      "outputs": [],
      "source": [
        "df['timestamp'] = pd.to_datetime(df['timestamp'])"
      ]
    },
    {
      "cell_type": "code",
      "source": [
        "df.head()"
      ],
      "metadata": {
        "colab": {
          "base_uri": "https://localhost:8080/",
          "height": 206
        },
        "id": "69hh4Ao88H2s",
        "outputId": "3faf0581-0cd5-43dd-a262-c94bb6437c8c"
      },
      "execution_count": 4,
      "outputs": [
        {
          "output_type": "execute_result",
          "data": {
            "text/plain": [
              "     id  timestamp     price_sq_m  material_monolit  green_zone_part  \\\n",
              "0  8285 2013-06-01  150980.392157                 0         0.083810   \n",
              "1  8394 2013-06-07  200000.000000                 0         0.169625   \n",
              "2  8560 2013-06-18  204225.352113                 0         0.297166   \n",
              "3  8642 2013-06-24  181818.181818                 0         0.069671   \n",
              "4  8814 2013-07-01  196153.846154                 0         0.070662   \n",
              "\n",
              "   industrial_part     ttk_km  trc_count  \n",
              "0         0.371149  12.755092         15  \n",
              "1         0.019509   1.800854         39  \n",
              "2         0.000000   6.828563         24  \n",
              "3         0.130618   6.006677         33  \n",
              "4         0.035145   8.955545         23  "
            ],
            "text/html": [
              "\n",
              "  <div id=\"df-bc6fbaf0-1122-40aa-b6a4-585a9871f9a5\" class=\"colab-df-container\">\n",
              "    <div>\n",
              "<style scoped>\n",
              "    .dataframe tbody tr th:only-of-type {\n",
              "        vertical-align: middle;\n",
              "    }\n",
              "\n",
              "    .dataframe tbody tr th {\n",
              "        vertical-align: top;\n",
              "    }\n",
              "\n",
              "    .dataframe thead th {\n",
              "        text-align: right;\n",
              "    }\n",
              "</style>\n",
              "<table border=\"1\" class=\"dataframe\">\n",
              "  <thead>\n",
              "    <tr style=\"text-align: right;\">\n",
              "      <th></th>\n",
              "      <th>id</th>\n",
              "      <th>timestamp</th>\n",
              "      <th>price_sq_m</th>\n",
              "      <th>material_monolit</th>\n",
              "      <th>green_zone_part</th>\n",
              "      <th>industrial_part</th>\n",
              "      <th>ttk_km</th>\n",
              "      <th>trc_count</th>\n",
              "    </tr>\n",
              "  </thead>\n",
              "  <tbody>\n",
              "    <tr>\n",
              "      <th>0</th>\n",
              "      <td>8285</td>\n",
              "      <td>2013-06-01</td>\n",
              "      <td>150980.392157</td>\n",
              "      <td>0</td>\n",
              "      <td>0.083810</td>\n",
              "      <td>0.371149</td>\n",
              "      <td>12.755092</td>\n",
              "      <td>15</td>\n",
              "    </tr>\n",
              "    <tr>\n",
              "      <th>1</th>\n",
              "      <td>8394</td>\n",
              "      <td>2013-06-07</td>\n",
              "      <td>200000.000000</td>\n",
              "      <td>0</td>\n",
              "      <td>0.169625</td>\n",
              "      <td>0.019509</td>\n",
              "      <td>1.800854</td>\n",
              "      <td>39</td>\n",
              "    </tr>\n",
              "    <tr>\n",
              "      <th>2</th>\n",
              "      <td>8560</td>\n",
              "      <td>2013-06-18</td>\n",
              "      <td>204225.352113</td>\n",
              "      <td>0</td>\n",
              "      <td>0.297166</td>\n",
              "      <td>0.000000</td>\n",
              "      <td>6.828563</td>\n",
              "      <td>24</td>\n",
              "    </tr>\n",
              "    <tr>\n",
              "      <th>3</th>\n",
              "      <td>8642</td>\n",
              "      <td>2013-06-24</td>\n",
              "      <td>181818.181818</td>\n",
              "      <td>0</td>\n",
              "      <td>0.069671</td>\n",
              "      <td>0.130618</td>\n",
              "      <td>6.006677</td>\n",
              "      <td>33</td>\n",
              "    </tr>\n",
              "    <tr>\n",
              "      <th>4</th>\n",
              "      <td>8814</td>\n",
              "      <td>2013-07-01</td>\n",
              "      <td>196153.846154</td>\n",
              "      <td>0</td>\n",
              "      <td>0.070662</td>\n",
              "      <td>0.035145</td>\n",
              "      <td>8.955545</td>\n",
              "      <td>23</td>\n",
              "    </tr>\n",
              "  </tbody>\n",
              "</table>\n",
              "</div>\n",
              "    <div class=\"colab-df-buttons\">\n",
              "\n",
              "  <div class=\"colab-df-container\">\n",
              "    <button class=\"colab-df-convert\" onclick=\"convertToInteractive('df-bc6fbaf0-1122-40aa-b6a4-585a9871f9a5')\"\n",
              "            title=\"Convert this dataframe to an interactive table.\"\n",
              "            style=\"display:none;\">\n",
              "\n",
              "  <svg xmlns=\"http://www.w3.org/2000/svg\" height=\"24px\" viewBox=\"0 -960 960 960\">\n",
              "    <path d=\"M120-120v-720h720v720H120Zm60-500h600v-160H180v160Zm220 220h160v-160H400v160Zm0 220h160v-160H400v160ZM180-400h160v-160H180v160Zm440 0h160v-160H620v160ZM180-180h160v-160H180v160Zm440 0h160v-160H620v160Z\"/>\n",
              "  </svg>\n",
              "    </button>\n",
              "\n",
              "  <style>\n",
              "    .colab-df-container {\n",
              "      display:flex;\n",
              "      gap: 12px;\n",
              "    }\n",
              "\n",
              "    .colab-df-convert {\n",
              "      background-color: #E8F0FE;\n",
              "      border: none;\n",
              "      border-radius: 50%;\n",
              "      cursor: pointer;\n",
              "      display: none;\n",
              "      fill: #1967D2;\n",
              "      height: 32px;\n",
              "      padding: 0 0 0 0;\n",
              "      width: 32px;\n",
              "    }\n",
              "\n",
              "    .colab-df-convert:hover {\n",
              "      background-color: #E2EBFA;\n",
              "      box-shadow: 0px 1px 2px rgba(60, 64, 67, 0.3), 0px 1px 3px 1px rgba(60, 64, 67, 0.15);\n",
              "      fill: #174EA6;\n",
              "    }\n",
              "\n",
              "    .colab-df-buttons div {\n",
              "      margin-bottom: 4px;\n",
              "    }\n",
              "\n",
              "    [theme=dark] .colab-df-convert {\n",
              "      background-color: #3B4455;\n",
              "      fill: #D2E3FC;\n",
              "    }\n",
              "\n",
              "    [theme=dark] .colab-df-convert:hover {\n",
              "      background-color: #434B5C;\n",
              "      box-shadow: 0px 1px 3px 1px rgba(0, 0, 0, 0.15);\n",
              "      filter: drop-shadow(0px 1px 2px rgba(0, 0, 0, 0.3));\n",
              "      fill: #FFFFFF;\n",
              "    }\n",
              "  </style>\n",
              "\n",
              "    <script>\n",
              "      const buttonEl =\n",
              "        document.querySelector('#df-bc6fbaf0-1122-40aa-b6a4-585a9871f9a5 button.colab-df-convert');\n",
              "      buttonEl.style.display =\n",
              "        google.colab.kernel.accessAllowed ? 'block' : 'none';\n",
              "\n",
              "      async function convertToInteractive(key) {\n",
              "        const element = document.querySelector('#df-bc6fbaf0-1122-40aa-b6a4-585a9871f9a5');\n",
              "        const dataTable =\n",
              "          await google.colab.kernel.invokeFunction('convertToInteractive',\n",
              "                                                    [key], {});\n",
              "        if (!dataTable) return;\n",
              "\n",
              "        const docLinkHtml = 'Like what you see? Visit the ' +\n",
              "          '<a target=\"_blank\" href=https://colab.research.google.com/notebooks/data_table.ipynb>data table notebook</a>'\n",
              "          + ' to learn more about interactive tables.';\n",
              "        element.innerHTML = '';\n",
              "        dataTable['output_type'] = 'display_data';\n",
              "        await google.colab.output.renderOutput(dataTable, element);\n",
              "        const docLink = document.createElement('div');\n",
              "        docLink.innerHTML = docLinkHtml;\n",
              "        element.appendChild(docLink);\n",
              "      }\n",
              "    </script>\n",
              "  </div>\n",
              "\n",
              "\n",
              "<div id=\"df-389f27f8-f4d6-4cf5-8965-da6503712580\">\n",
              "  <button class=\"colab-df-quickchart\" onclick=\"quickchart('df-389f27f8-f4d6-4cf5-8965-da6503712580')\"\n",
              "            title=\"Suggest charts\"\n",
              "            style=\"display:none;\">\n",
              "\n",
              "<svg xmlns=\"http://www.w3.org/2000/svg\" height=\"24px\"viewBox=\"0 0 24 24\"\n",
              "     width=\"24px\">\n",
              "    <g>\n",
              "        <path d=\"M19 3H5c-1.1 0-2 .9-2 2v14c0 1.1.9 2 2 2h14c1.1 0 2-.9 2-2V5c0-1.1-.9-2-2-2zM9 17H7v-7h2v7zm4 0h-2V7h2v10zm4 0h-2v-4h2v4z\"/>\n",
              "    </g>\n",
              "</svg>\n",
              "  </button>\n",
              "\n",
              "<style>\n",
              "  .colab-df-quickchart {\n",
              "      --bg-color: #E8F0FE;\n",
              "      --fill-color: #1967D2;\n",
              "      --hover-bg-color: #E2EBFA;\n",
              "      --hover-fill-color: #174EA6;\n",
              "      --disabled-fill-color: #AAA;\n",
              "      --disabled-bg-color: #DDD;\n",
              "  }\n",
              "\n",
              "  [theme=dark] .colab-df-quickchart {\n",
              "      --bg-color: #3B4455;\n",
              "      --fill-color: #D2E3FC;\n",
              "      --hover-bg-color: #434B5C;\n",
              "      --hover-fill-color: #FFFFFF;\n",
              "      --disabled-bg-color: #3B4455;\n",
              "      --disabled-fill-color: #666;\n",
              "  }\n",
              "\n",
              "  .colab-df-quickchart {\n",
              "    background-color: var(--bg-color);\n",
              "    border: none;\n",
              "    border-radius: 50%;\n",
              "    cursor: pointer;\n",
              "    display: none;\n",
              "    fill: var(--fill-color);\n",
              "    height: 32px;\n",
              "    padding: 0;\n",
              "    width: 32px;\n",
              "  }\n",
              "\n",
              "  .colab-df-quickchart:hover {\n",
              "    background-color: var(--hover-bg-color);\n",
              "    box-shadow: 0 1px 2px rgba(60, 64, 67, 0.3), 0 1px 3px 1px rgba(60, 64, 67, 0.15);\n",
              "    fill: var(--button-hover-fill-color);\n",
              "  }\n",
              "\n",
              "  .colab-df-quickchart-complete:disabled,\n",
              "  .colab-df-quickchart-complete:disabled:hover {\n",
              "    background-color: var(--disabled-bg-color);\n",
              "    fill: var(--disabled-fill-color);\n",
              "    box-shadow: none;\n",
              "  }\n",
              "\n",
              "  .colab-df-spinner {\n",
              "    border: 2px solid var(--fill-color);\n",
              "    border-color: transparent;\n",
              "    border-bottom-color: var(--fill-color);\n",
              "    animation:\n",
              "      spin 1s steps(1) infinite;\n",
              "  }\n",
              "\n",
              "  @keyframes spin {\n",
              "    0% {\n",
              "      border-color: transparent;\n",
              "      border-bottom-color: var(--fill-color);\n",
              "      border-left-color: var(--fill-color);\n",
              "    }\n",
              "    20% {\n",
              "      border-color: transparent;\n",
              "      border-left-color: var(--fill-color);\n",
              "      border-top-color: var(--fill-color);\n",
              "    }\n",
              "    30% {\n",
              "      border-color: transparent;\n",
              "      border-left-color: var(--fill-color);\n",
              "      border-top-color: var(--fill-color);\n",
              "      border-right-color: var(--fill-color);\n",
              "    }\n",
              "    40% {\n",
              "      border-color: transparent;\n",
              "      border-right-color: var(--fill-color);\n",
              "      border-top-color: var(--fill-color);\n",
              "    }\n",
              "    60% {\n",
              "      border-color: transparent;\n",
              "      border-right-color: var(--fill-color);\n",
              "    }\n",
              "    80% {\n",
              "      border-color: transparent;\n",
              "      border-right-color: var(--fill-color);\n",
              "      border-bottom-color: var(--fill-color);\n",
              "    }\n",
              "    90% {\n",
              "      border-color: transparent;\n",
              "      border-bottom-color: var(--fill-color);\n",
              "    }\n",
              "  }\n",
              "</style>\n",
              "\n",
              "  <script>\n",
              "    async function quickchart(key) {\n",
              "      const quickchartButtonEl =\n",
              "        document.querySelector('#' + key + ' button');\n",
              "      quickchartButtonEl.disabled = true;  // To prevent multiple clicks.\n",
              "      quickchartButtonEl.classList.add('colab-df-spinner');\n",
              "      try {\n",
              "        const charts = await google.colab.kernel.invokeFunction(\n",
              "            'suggestCharts', [key], {});\n",
              "      } catch (error) {\n",
              "        console.error('Error during call to suggestCharts:', error);\n",
              "      }\n",
              "      quickchartButtonEl.classList.remove('colab-df-spinner');\n",
              "      quickchartButtonEl.classList.add('colab-df-quickchart-complete');\n",
              "    }\n",
              "    (() => {\n",
              "      let quickchartButtonEl =\n",
              "        document.querySelector('#df-389f27f8-f4d6-4cf5-8965-da6503712580 button');\n",
              "      quickchartButtonEl.style.display =\n",
              "        google.colab.kernel.accessAllowed ? 'block' : 'none';\n",
              "    })();\n",
              "  </script>\n",
              "</div>\n",
              "    </div>\n",
              "  </div>\n"
            ],
            "application/vnd.google.colaboratory.intrinsic+json": {
              "type": "dataframe",
              "variable_name": "df",
              "summary": "{\n  \"name\": \"df\",\n  \"rows\": 996,\n  \"fields\": [\n    {\n      \"column\": \"id\",\n      \"properties\": {\n        \"dtype\": \"number\",\n        \"std\": 6073,\n        \"min\": 8285,\n        \"max\": 30462,\n        \"num_unique_values\": 996,\n        \"samples\": [\n          27372,\n          30024,\n          11958\n        ],\n        \"semantic_type\": \"\",\n        \"description\": \"\"\n      }\n    },\n    {\n      \"column\": \"timestamp\",\n      \"properties\": {\n        \"dtype\": \"date\",\n        \"min\": \"2013-06-01 00:00:00\",\n        \"max\": \"2015-06-29 00:00:00\",\n        \"num_unique_values\": 440,\n        \"samples\": [\n          \"2014-09-02 00:00:00\",\n          \"2013-12-09 00:00:00\",\n          \"2014-12-29 00:00:00\"\n        ],\n        \"semantic_type\": \"\",\n        \"description\": \"\"\n      }\n    },\n    {\n      \"column\": \"price_sq_m\",\n      \"properties\": {\n        \"dtype\": \"number\",\n        \"std\": 47098.97948282824,\n        \"min\": 46163.6363636364,\n        \"max\": 435483.870967742,\n        \"num_unique_values\": 829,\n        \"samples\": [\n          179104.47761194,\n          144067.79661017,\n          139726.02739726\n        ],\n        \"semantic_type\": \"\",\n        \"description\": \"\"\n      }\n    },\n    {\n      \"column\": \"material_monolit\",\n      \"properties\": {\n        \"dtype\": \"number\",\n        \"std\": 0,\n        \"min\": 0,\n        \"max\": 1,\n        \"num_unique_values\": 2,\n        \"samples\": [\n          1,\n          0\n        ],\n        \"semantic_type\": \"\",\n        \"description\": \"\"\n      }\n    },\n    {\n      \"column\": \"green_zone_part\",\n      \"properties\": {\n        \"dtype\": \"number\",\n        \"std\": 0.08377933243290389,\n        \"min\": 0.058543047,\n        \"max\": 0.331075802,\n        \"num_unique_values\": 9,\n        \"samples\": [\n          0.331075802,\n          0.169625419\n        ],\n        \"semantic_type\": \"\",\n        \"description\": \"\"\n      }\n    },\n    {\n      \"column\": \"industrial_part\",\n      \"properties\": {\n        \"dtype\": \"number\",\n        \"std\": 0.15099484664509738,\n        \"min\": 0.0,\n        \"max\": 0.371148999,\n        \"num_unique_values\": 9,\n        \"samples\": [\n          0.000991,\n          0.019508796\n        ],\n        \"semantic_type\": \"\",\n        \"description\": \"\"\n      }\n    },\n    {\n      \"column\": \"ttk_km\",\n      \"properties\": {\n        \"dtype\": \"number\",\n        \"std\": 3.7444190306635616,\n        \"min\": 0.110483486,\n        \"max\": 16.28523864,\n        \"num_unique_values\": 572,\n        \"samples\": [\n          4.188863692,\n          7.369948943\n        ],\n        \"semantic_type\": \"\",\n        \"description\": \"\"\n      }\n    },\n    {\n      \"column\": \"trc_count\",\n      \"properties\": {\n        \"dtype\": \"number\",\n        \"std\": 12,\n        \"min\": 7,\n        \"max\": 78,\n        \"num_unique_values\": 56,\n        \"samples\": [\n          15,\n          27\n        ],\n        \"semantic_type\": \"\",\n        \"description\": \"\"\n      }\n    }\n  ]\n}"
            }
          },
          "metadata": {},
          "execution_count": 4
        }
      ]
    },
    {
      "cell_type": "markdown",
      "source": [
        "Посмотрим на количество пропусков в данных"
      ],
      "metadata": {
        "id": "3ZCc4tSx8Q2Z"
      }
    },
    {
      "cell_type": "code",
      "source": [
        "for i in df.columns:\n",
        "  print(f'В столбце {i} - {df[i].isna().sum()} пропусков')"
      ],
      "metadata": {
        "colab": {
          "base_uri": "https://localhost:8080/"
        },
        "id": "RLbvLb648I38",
        "outputId": "905d6856-8a0d-4194-80bc-59c2cffce52c"
      },
      "execution_count": 5,
      "outputs": [
        {
          "output_type": "stream",
          "name": "stdout",
          "text": [
            "В столбце id - 0 пропусков\n",
            "В столбце timestamp - 0 пропусков\n",
            "В столбце price_sq_m - 0 пропусков\n",
            "В столбце material_monolit - 0 пропусков\n",
            "В столбце green_zone_part - 0 пропусков\n",
            "В столбце industrial_part - 0 пропусков\n",
            "В столбце ttk_km - 0 пропусков\n",
            "В столбце trc_count - 0 пропусков\n"
          ]
        }
      ]
    },
    {
      "cell_type": "markdown",
      "source": [
        "Наблюдаем, что в исходном наборе данных отсутствуют пропуски    \n",
        "Если бы пропуски в данных присутствовали, то их дальнейшая обработка зависела бы от их количества. Если пропусков мало (менее 5%), то их можно просто удалить, так как их исключение не внесет большой вклад в изменение основных описательных статистик (`df[df['column_name'].notna()`). Если пропусков много, то будем их заменять на среднее / медиану в заивисмости от их распределения (`df['column_name'].fillna(df['column_name'].mean(), inplace=True)`)"
      ],
      "metadata": {
        "id": "BkDr3JaM8fQl"
      }
    },
    {
      "cell_type": "markdown",
      "source": [
        "Построим боксплоты для тех признаков, по которым логично искать выбросы, а именно:\n",
        "- price_sq_m\n",
        "- green_zone_part\n",
        "- industrial_part\n",
        "- ttk_km\n",
        "- trc_count"
      ],
      "metadata": {
        "id": "kx6CN0Eq8jLw"
      }
    },
    {
      "cell_type": "code",
      "source": [
        "df['price_sq_m'].plot(kind='box')"
      ],
      "metadata": {
        "colab": {
          "base_uri": "https://localhost:8080/",
          "height": 449
        },
        "id": "wEsrzHcm8eU2",
        "outputId": "2dc82f65-3fbb-4ea5-f72d-590dd77ab655"
      },
      "execution_count": 7,
      "outputs": [
        {
          "output_type": "execute_result",
          "data": {
            "text/plain": [
              "<Axes: >"
            ]
          },
          "metadata": {},
          "execution_count": 7
        },
        {
          "output_type": "display_data",
          "data": {
            "text/plain": [
              "<Figure size 640x480 with 1 Axes>"
            ],
            "image/png": "[encoded data removed]"
          },
          "metadata": {}
        }
      ]
    },
    {
      "cell_type": "code",
      "source": [
        "df['green_zone_part'].plot(kind='box')"
      ],
      "metadata": {
        "colab": {
          "base_uri": "https://localhost:8080/",
          "height": 448
        },
        "id": "aD7llrfm-Sbw",
        "outputId": "9f42ad2a-a8f1-4287-90ae-462933c2768f"
      },
      "execution_count": 8,
      "outputs": [
        {
          "output_type": "execute_result",
          "data": {
            "text/plain": [
              "<Axes: >"
            ]
          },
          "metadata": {},
          "execution_count": 8
        },
        {
          "output_type": "display_data",
          "data": {
            "text/plain": [
              "<Figure size 640x480 with 1 Axes>"
            ],
            "image/png": "[encoded data removed]"
          },
          "metadata": {}
        }
      ]
    },
    {
      "cell_type": "code",
      "source": [
        "df['industrial_part'].plot(kind='box')"
      ],
      "metadata": {
        "colab": {
          "base_uri": "https://localhost:8080/",
          "height": 448
        },
        "id": "d_lpdCDN-amf",
        "outputId": "28a60289-e790-4cb3-c18e-13f65e0e319b"
      },
      "execution_count": 9,
      "outputs": [
        {
          "output_type": "execute_result",
          "data": {
            "text/plain": [
              "<Axes: >"
            ]
          },
          "metadata": {},
          "execution_count": 9
        },
        {
          "output_type": "display_data",
          "data": {
            "text/plain": [
              "<Figure size 640x480 with 1 Axes>"
            ],
            "image/png": "[encoded data removed]"
          },
          "metadata": {}
        }
      ]
    },
    {
      "cell_type": "code",
      "source": [
        "df['ttk_km'].plot(kind='box')"
      ],
      "metadata": {
        "colab": {
          "base_uri": "https://localhost:8080/",
          "height": 448
        },
        "id": "uAShO_Vz-eSL",
        "outputId": "34211000-13c3-4f73-f735-2a133b8df4bd"
      },
      "execution_count": 10,
      "outputs": [
        {
          "output_type": "execute_result",
          "data": {
            "text/plain": [
              "<Axes: >"
            ]
          },
          "metadata": {},
          "execution_count": 10
        },
        {
          "output_type": "display_data",
          "data": {
            "text/plain": [
              "<Figure size 640x480 with 1 Axes>"
            ],
            "image/png": "[encoded data removed]"
          },
          "metadata": {}
        }
      ]
    },
    {
      "cell_type": "code",
      "source": [
        "df['trc_count'].plot(kind='box')"
      ],
      "metadata": {
        "colab": {
          "base_uri": "https://localhost:8080/",
          "height": 448
        },
        "id": "LFhiCbH6-eBd",
        "outputId": "088d71da-4547-4606-95f1-6fcebae65e86"
      },
      "execution_count": 11,
      "outputs": [
        {
          "output_type": "execute_result",
          "data": {
            "text/plain": [
              "<Axes: >"
            ]
          },
          "metadata": {},
          "execution_count": 11
        },
        {
          "output_type": "display_data",
          "data": {
            "text/plain": [
              "<Figure size 640x480 with 1 Axes>"
            ],
            "image/png": "[encoded data removed]"
          },
          "metadata": {}
        }
      ]
    },
    {
      "cell_type": "markdown",
      "source": [
        "Наблюдаем, что выбросы есть в переменных: price_sq_m, green_zone_part, trc_count\n",
        "\n",
        "Вычислим их количество при помощи IQR"
      ],
      "metadata": {
        "id": "8WlrOsGh-o58"
      }
    },
    {
      "cell_type": "code",
      "source": [
        "q1 = df['price_sq_m'].quantile(0.25)\n",
        "q3 = df['price_sq_m'].quantile(0.75)\n",
        "\n",
        "iqr = q3 - q1\n",
        "\n",
        "df[(df['price_sq_m'] > q3 + 1.5*iqr) | (df['price_sq_m'] < q1 - 1.5*iqr)].shape[0]"
      ],
      "metadata": {
        "colab": {
          "base_uri": "https://localhost:8080/"
        },
        "id": "7rVlHBu--lSk",
        "outputId": "052b15a7-7498-447e-cfbe-cc093d51f10c"
      },
      "execution_count": 12,
      "outputs": [
        {
          "output_type": "execute_result",
          "data": {
            "text/plain": [
              "6"
            ]
          },
          "metadata": {},
          "execution_count": 12
        }
      ]
    },
    {
      "cell_type": "code",
      "source": [
        "q1 = df['green_zone_part'].quantile(0.25)\n",
        "q3 = df['green_zone_part'].quantile(0.75)\n",
        "\n",
        "iqr = q3 - q1\n",
        "\n",
        "df[(df['green_zone_part'] > q3 + 1.5*iqr) | (df['green_zone_part'] < q1 - 1.5*iqr)].shape[0]"
      ],
      "metadata": {
        "colab": {
          "base_uri": "https://localhost:8080/"
        },
        "id": "1M4ReWRg_IYP",
        "outputId": "da70e918-100a-463f-d42b-5723389583e8"
      },
      "execution_count": 13,
      "outputs": [
        {
          "output_type": "execute_result",
          "data": {
            "text/plain": [
              "78"
            ]
          },
          "metadata": {},
          "execution_count": 13
        }
      ]
    },
    {
      "cell_type": "code",
      "source": [
        "q1 = df['trc_count'].quantile(0.25)\n",
        "q3 = df['trc_count'].quantile(0.75)\n",
        "\n",
        "iqr = q3 - q1\n",
        "\n",
        "df[(df['trc_count'] > q3 + 1.5*iqr) | (df['trc_count'] < q1 - 1.5*iqr)].shape[0]"
      ],
      "metadata": {
        "colab": {
          "base_uri": "https://localhost:8080/"
        },
        "id": "zSWT1iLY_P9r",
        "outputId": "cca80773-e3ec-4366-efc7-a33f1b6db038"
      },
      "execution_count": 14,
      "outputs": [
        {
          "output_type": "execute_result",
          "data": {
            "text/plain": [
              "12"
            ]
          },
          "metadata": {},
          "execution_count": 14
        }
      ]
    },
    {
      "cell_type": "markdown",
      "source": [
        "Удалим все выбросы в данных"
      ],
      "metadata": {
        "id": "_2LUJpy3_S_W"
      }
    },
    {
      "cell_type": "code",
      "source": [
        "q1 = df['price_sq_m'].quantile(0.25)\n",
        "q3 = df['price_sq_m'].quantile(0.75)\n",
        "\n",
        "iqr = q3 - q1\n",
        "\n",
        "df = df[(df['price_sq_m'] <= q3 + 1.5*iqr) & (df['price_sq_m'] >= q1 - 1.5*iqr)]"
      ],
      "metadata": {
        "id": "y4Z5vj1G_NHH"
      },
      "execution_count": 19,
      "outputs": []
    },
    {
      "cell_type": "code",
      "source": [
        "q1 = df['green_zone_part'].quantile(0.25)\n",
        "q3 = df['green_zone_part'].quantile(0.75)\n",
        "\n",
        "iqr = q3 - q1\n",
        "\n",
        "df = df[(df['green_zone_part'] <= q3 + 1.5*iqr) & (df['green_zone_part'] >= q1 - 1.5*iqr)]"
      ],
      "metadata": {
        "id": "qNFAtL1B_s9h"
      },
      "execution_count": 20,
      "outputs": []
    },
    {
      "cell_type": "code",
      "source": [
        "q1 = df['trc_count'].quantile(0.25)\n",
        "q3 = df['trc_count'].quantile(0.75)\n",
        "\n",
        "iqr = q3 - q1\n",
        "\n",
        "df = df[(df['trc_count'] <= q3 + 1.5*iqr) & (df['trc_count'] >= q1 - 1.5*iqr)]"
      ],
      "metadata": {
        "id": "d1ka-O41_yk5"
      },
      "execution_count": 21,
      "outputs": []
    },
    {
      "cell_type": "markdown",
      "source": [
        "Убедимся, что выбросы пропали"
      ],
      "metadata": {
        "id": "mITt_WGX_6R1"
      }
    },
    {
      "cell_type": "code",
      "source": [
        "for i in ['price_sq_m', 'green_zone_part', 'trc_count']:\n",
        "  q1 = df[i].quantile(0.25)\n",
        "  q3 = df[i].quantile(0.75)\n",
        "\n",
        "  iqr = q3 - q1\n",
        "\n",
        "  print(f'Столбец: {i}. Пропусков: {df[(df[i] > q3 + 1.5*iqr) | (df[i] < q1 - 1.5*iqr)].shape[0]}')"
      ],
      "metadata": {
        "colab": {
          "base_uri": "https://localhost:8080/"
        },
        "id": "mfx6_WFY_3wL",
        "outputId": "a0286028-cd68-4f1f-9712-7894062ca6b1"
      },
      "execution_count": 22,
      "outputs": [
        {
          "output_type": "stream",
          "name": "stdout",
          "text": [
            "Столбец: price_sq_m. Пропусков: 0\n",
            "Столбец: green_zone_part. Пропусков: 0\n",
            "Столбец: trc_count. Пропусков: 0\n"
          ]
        }
      ]
    },
    {
      "cell_type": "markdown",
      "source": [
        "# Описательные статистики"
      ],
      "metadata": {
        "id": "ixXkfPkLAamZ"
      }
    },
    {
      "cell_type": "markdown",
      "source": [
        "Перед рассчетом статистик разделим дату на год, месяц, день для вычисления мод в соответствующих категориях (по месяцу и году)"
      ],
      "metadata": {
        "id": "d0_mUDiKAetH"
      }
    },
    {
      "cell_type": "code",
      "source": [
        "df['year'] = df['timestamp'].dt.year\n",
        "df['month'] = df['timestamp'].dt.month\n",
        "df['day'] = df['timestamp'].dt.day\n",
        "df.head()"
      ],
      "metadata": {
        "colab": {
          "base_uri": "https://localhost:8080/",
          "height": 206
        },
        "id": "WGjq5e9oARDF",
        "outputId": "b4be4a1c-434f-4bad-dd52-af8b9991fe93"
      },
      "execution_count": 23,
      "outputs": [
        {
          "output_type": "execute_result",
          "data": {
            "text/plain": [
              "     id  timestamp     price_sq_m  material_monolit  green_zone_part  \\\n",
              "0  8285 2013-06-01  150980.392157                 0         0.083810   \n",
              "1  8394 2013-06-07  200000.000000                 0         0.169625   \n",
              "2  8560 2013-06-18  204225.352113                 0         0.297166   \n",
              "3  8642 2013-06-24  181818.181818                 0         0.069671   \n",
              "4  8814 2013-07-01  196153.846154                 0         0.070662   \n",
              "\n",
              "   industrial_part     ttk_km  trc_count  year  month  day  \n",
              "0         0.371149  12.755092         15  2013      6    1  \n",
              "1         0.019509   1.800854         39  2013      6    7  \n",
              "2         0.000000   6.828563         24  2013      6   18  \n",
              "3         0.130618   6.006677         33  2013      6   24  \n",
              "4         0.035145   8.955545         23  2013      7    1  "
            ],
            "text/html": [
              "\n",
              "  <div id=\"df-9ff914e8-96cd-4770-b446-c1a56617a361\" class=\"colab-df-container\">\n",
              "    <div>\n",
              "<style scoped>\n",
              "    .dataframe tbody tr th:only-of-type {\n",
              "        vertical-align: middle;\n",
              "    }\n",
              "\n",
              "    .dataframe tbody tr th {\n",
              "        vertical-align: top;\n",
              "    }\n",
              "\n",
              "    .dataframe thead th {\n",
              "        text-align: right;\n",
              "    }\n",
              "</style>\n",
              "<table border=\"1\" class=\"dataframe\">\n",
              "  <thead>\n",
              "    <tr style=\"text-align: right;\">\n",
              "      <th></th>\n",
              "      <th>id</th>\n",
              "      <th>timestamp</th>\n",
              "      <th>price_sq_m</th>\n",
              "      <th>material_monolit</th>\n",
              "      <th>green_zone_part</th>\n",
              "      <th>industrial_part</th>\n",
              "      <th>ttk_km</th>\n",
              "      <th>trc_count</th>\n",
              "      <th>year</th>\n",
              "      <th>month</th>\n",
              "      <th>day</th>\n",
              "    </tr>\n",
              "  </thead>\n",
              "  <tbody>\n",
              "    <tr>\n",
              "      <th>0</th>\n",
              "      <td>8285</td>\n",
              "      <td>2013-06-01</td>\n",
              "      <td>150980.392157</td>\n",
              "      <td>0</td>\n",
              "      <td>0.083810</td>\n",
              "      <td>0.371149</td>\n",
              "      <td>12.755092</td>\n",
              "      <td>15</td>\n",
              "      <td>2013</td>\n",
              "      <td>6</td>\n",
              "      <td>1</td>\n",
              "    </tr>\n",
              "    <tr>\n",
              "      <th>1</th>\n",
              "      <td>8394</td>\n",
              "      <td>2013-06-07</td>\n",
              "      <td>200000.000000</td>\n",
              "      <td>0</td>\n",
              "      <td>0.169625</td>\n",
              "      <td>0.019509</td>\n",
              "      <td>1.800854</td>\n",
              "      <td>39</td>\n",
              "      <td>2013</td>\n",
              "      <td>6</td>\n",
              "      <td>7</td>\n",
              "    </tr>\n",
              "    <tr>\n",
              "      <th>2</th>\n",
              "      <td>8560</td>\n",
              "      <td>2013-06-18</td>\n",
              "      <td>204225.352113</td>\n",
              "      <td>0</td>\n",
              "      <td>0.297166</td>\n",
              "      <td>0.000000</td>\n",
              "      <td>6.828563</td>\n",
              "      <td>24</td>\n",
              "      <td>2013</td>\n",
              "      <td>6</td>\n",
              "      <td>18</td>\n",
              "    </tr>\n",
              "    <tr>\n",
              "      <th>3</th>\n",
              "      <td>8642</td>\n",
              "      <td>2013-06-24</td>\n",
              "      <td>181818.181818</td>\n",
              "      <td>0</td>\n",
              "      <td>0.069671</td>\n",
              "      <td>0.130618</td>\n",
              "      <td>6.006677</td>\n",
              "      <td>33</td>\n",
              "      <td>2013</td>\n",
              "      <td>6</td>\n",
              "      <td>24</td>\n",
              "    </tr>\n",
              "    <tr>\n",
              "      <th>4</th>\n",
              "      <td>8814</td>\n",
              "      <td>2013-07-01</td>\n",
              "      <td>196153.846154</td>\n",
              "      <td>0</td>\n",
              "      <td>0.070662</td>\n",
              "      <td>0.035145</td>\n",
              "      <td>8.955545</td>\n",
              "      <td>23</td>\n",
              "      <td>2013</td>\n",
              "      <td>7</td>\n",
              "      <td>1</td>\n",
              "    </tr>\n",
              "  </tbody>\n",
              "</table>\n",
              "</div>\n",
              "    <div class=\"colab-df-buttons\">\n",
              "\n",
              "  <div class=\"colab-df-container\">\n",
              "    <button class=\"colab-df-convert\" onclick=\"convertToInteractive('df-9ff914e8-96cd-4770-b446-c1a56617a361')\"\n",
              "            title=\"Convert this dataframe to an interactive table.\"\n",
              "            style=\"display:none;\">\n",
              "\n",
              "  <svg xmlns=\"http://www.w3.org/2000/svg\" height=\"24px\" viewBox=\"0 -960 960 960\">\n",
              "    <path d=\"M120-120v-720h720v720H120Zm60-500h600v-160H180v160Zm220 220h160v-160H400v160Zm0 220h160v-160H400v160ZM180-400h160v-160H180v160Zm440 0h160v-160H620v160ZM180-180h160v-160H180v160Zm440 0h160v-160H620v160Z\"/>\n",
              "  </svg>\n",
              "    </button>\n",
              "\n",
              "  <style>\n",
              "    .colab-df-container {\n",
              "      display:flex;\n",
              "      gap: 12px;\n",
              "    }\n",
              "\n",
              "    .colab-df-convert {\n",
              "      background-color: #E8F0FE;\n",
              "      border: none;\n",
              "      border-radius: 50%;\n",
              "      cursor: pointer;\n",
              "      display: none;\n",
              "      fill: #1967D2;\n",
              "      height: 32px;\n",
              "      padding: 0 0 0 0;\n",
              "      width: 32px;\n",
              "    }\n",
              "\n",
              "    .colab-df-convert:hover {\n",
              "      background-color: #E2EBFA;\n",
              "      box-shadow: 0px 1px 2px rgba(60, 64, 67, 0.3), 0px 1px 3px 1px rgba(60, 64, 67, 0.15);\n",
              "      fill: #174EA6;\n",
              "    }\n",
              "\n",
              "    .colab-df-buttons div {\n",
              "      margin-bottom: 4px;\n",
              "    }\n",
              "\n",
              "    [theme=dark] .colab-df-convert {\n",
              "      background-color: #3B4455;\n",
              "      fill: #D2E3FC;\n",
              "    }\n",
              "\n",
              "    [theme=dark] .colab-df-convert:hover {\n",
              "      background-color: #434B5C;\n",
              "      box-shadow: 0px 1px 3px 1px rgba(0, 0, 0, 0.15);\n",
              "      filter: drop-shadow(0px 1px 2px rgba(0, 0, 0, 0.3));\n",
              "      fill: #FFFFFF;\n",
              "    }\n",
              "  </style>\n",
              "\n",
              "    <script>\n",
              "      const buttonEl =\n",
              "        document.querySelector('#df-9ff914e8-96cd-4770-b446-c1a56617a361 button.colab-df-convert');\n",
              "      buttonEl.style.display =\n",
              "        google.colab.kernel.accessAllowed ? 'block' : 'none';\n",
              "\n",
              "      async function convertToInteractive(key) {\n",
              "        const element = document.querySelector('#df-9ff914e8-96cd-4770-b446-c1a56617a361');\n",
              "        const dataTable =\n",
              "          await google.colab.kernel.invokeFunction('convertToInteractive',\n",
              "                                                    [key], {});\n",
              "        if (!dataTable) return;\n",
              "\n",
              "        const docLinkHtml = 'Like what you see? Visit the ' +\n",
              "          '<a target=\"_blank\" href=https://colab.research.google.com/notebooks/data_table.ipynb>data table notebook</a>'\n",
              "          + ' to learn more about interactive tables.';\n",
              "        element.innerHTML = '';\n",
              "        dataTable['output_type'] = 'display_data';\n",
              "        await google.colab.output.renderOutput(dataTable, element);\n",
              "        const docLink = document.createElement('div');\n",
              "        docLink.innerHTML = docLinkHtml;\n",
              "        element.appendChild(docLink);\n",
              "      }\n",
              "    </script>\n",
              "  </div>\n",
              "\n",
              "\n",
              "<div id=\"df-2c1d2810-6eaa-45df-994e-a915f38e4b5c\">\n",
              "  <button class=\"colab-df-quickchart\" onclick=\"quickchart('df-2c1d2810-6eaa-45df-994e-a915f38e4b5c')\"\n",
              "            title=\"Suggest charts\"\n",
              "            style=\"display:none;\">\n",
              "\n",
              "<svg xmlns=\"http://www.w3.org/2000/svg\" height=\"24px\"viewBox=\"0 0 24 24\"\n",
              "     width=\"24px\">\n",
              "    <g>\n",
              "        <path d=\"M19 3H5c-1.1 0-2 .9-2 2v14c0 1.1.9 2 2 2h14c1.1 0 2-.9 2-2V5c0-1.1-.9-2-2-2zM9 17H7v-7h2v7zm4 0h-2V7h2v10zm4 0h-2v-4h2v4z\"/>\n",
              "    </g>\n",
              "</svg>\n",
              "  </button>\n",
              "\n",
              "<style>\n",
              "  .colab-df-quickchart {\n",
              "      --bg-color: #E8F0FE;\n",
              "      --fill-color: #1967D2;\n",
              "      --hover-bg-color: #E2EBFA;\n",
              "      --hover-fill-color: #174EA6;\n",
              "      --disabled-fill-color: #AAA;\n",
              "      --disabled-bg-color: #DDD;\n",
              "  }\n",
              "\n",
              "  [theme=dark] .colab-df-quickchart {\n",
              "      --bg-color: #3B4455;\n",
              "      --fill-color: #D2E3FC;\n",
              "      --hover-bg-color: #434B5C;\n",
              "      --hover-fill-color: #FFFFFF;\n",
              "      --disabled-bg-color: #3B4455;\n",
              "      --disabled-fill-color: #666;\n",
              "  }\n",
              "\n",
              "  .colab-df-quickchart {\n",
              "    background-color: var(--bg-color);\n",
              "    border: none;\n",
              "    border-radius: 50%;\n",
              "    cursor: pointer;\n",
              "    display: none;\n",
              "    fill: var(--fill-color);\n",
              "    height: 32px;\n",
              "    padding: 0;\n",
              "    width: 32px;\n",
              "  }\n",
              "\n",
              "  .colab-df-quickchart:hover {\n",
              "    background-color: var(--hover-bg-color);\n",
              "    box-shadow: 0 1px 2px rgba(60, 64, 67, 0.3), 0 1px 3px 1px rgba(60, 64, 67, 0.15);\n",
              "    fill: var(--button-hover-fill-color);\n",
              "  }\n",
              "\n",
              "  .colab-df-quickchart-complete:disabled,\n",
              "  .colab-df-quickchart-complete:disabled:hover {\n",
              "    background-color: var(--disabled-bg-color);\n",
              "    fill: var(--disabled-fill-color);\n",
              "    box-shadow: none;\n",
              "  }\n",
              "\n",
              "  .colab-df-spinner {\n",
              "    border: 2px solid var(--fill-color);\n",
              "    border-color: transparent;\n",
              "    border-bottom-color: var(--fill-color);\n",
              "    animation:\n",
              "      spin 1s steps(1) infinite;\n",
              "  }\n",
              "\n",
              "  @keyframes spin {\n",
              "    0% {\n",
              "      border-color: transparent;\n",
              "      border-bottom-color: var(--fill-color);\n",
              "      border-left-color: var(--fill-color);\n",
              "    }\n",
              "    20% {\n",
              "      border-color: transparent;\n",
              "      border-left-color: var(--fill-color);\n",
              "      border-top-color: var(--fill-color);\n",
              "    }\n",
              "    30% {\n",
              "      border-color: transparent;\n",
              "      border-left-color: var(--fill-color);\n",
              "      border-top-color: var(--fill-color);\n",
              "      border-right-color: var(--fill-color);\n",
              "    }\n",
              "    40% {\n",
              "      border-color: transparent;\n",
              "      border-right-color: var(--fill-color);\n",
              "      border-top-color: var(--fill-color);\n",
              "    }\n",
              "    60% {\n",
              "      border-color: transparent;\n",
              "      border-right-color: var(--fill-color);\n",
              "    }\n",
              "    80% {\n",
              "      border-color: transparent;\n",
              "      border-right-color: var(--fill-color);\n",
              "      border-bottom-color: var(--fill-color);\n",
              "    }\n",
              "    90% {\n",
              "      border-color: transparent;\n",
              "      border-bottom-color: var(--fill-color);\n",
              "    }\n",
              "  }\n",
              "</style>\n",
              "\n",
              "  <script>\n",
              "    async function quickchart(key) {\n",
              "      const quickchartButtonEl =\n",
              "        document.querySelector('#' + key + ' button');\n",
              "      quickchartButtonEl.disabled = true;  // To prevent multiple clicks.\n",
              "      quickchartButtonEl.classList.add('colab-df-spinner');\n",
              "      try {\n",
              "        const charts = await google.colab.kernel.invokeFunction(\n",
              "            'suggestCharts', [key], {});\n",
              "      } catch (error) {\n",
              "        console.error('Error during call to suggestCharts:', error);\n",
              "      }\n",
              "      quickchartButtonEl.classList.remove('colab-df-spinner');\n",
              "      quickchartButtonEl.classList.add('colab-df-quickchart-complete');\n",
              "    }\n",
              "    (() => {\n",
              "      let quickchartButtonEl =\n",
              "        document.querySelector('#df-2c1d2810-6eaa-45df-994e-a915f38e4b5c button');\n",
              "      quickchartButtonEl.style.display =\n",
              "        google.colab.kernel.accessAllowed ? 'block' : 'none';\n",
              "    })();\n",
              "  </script>\n",
              "</div>\n",
              "    </div>\n",
              "  </div>\n"
            ],
            "application/vnd.google.colaboratory.intrinsic+json": {
              "type": "dataframe",
              "variable_name": "df",
              "summary": "{\n  \"name\": \"df\",\n  \"rows\": 905,\n  \"fields\": [\n    {\n      \"column\": \"id\",\n      \"properties\": {\n        \"dtype\": \"number\",\n        \"std\": 6077,\n        \"min\": 8285,\n        \"max\": 30462,\n        \"num_unique_values\": 905,\n        \"samples\": [\n          11363,\n          19205,\n          14808\n        ],\n        \"semantic_type\": \"\",\n        \"description\": \"\"\n      }\n    },\n    {\n      \"column\": \"timestamp\",\n      \"properties\": {\n        \"dtype\": \"date\",\n        \"min\": \"2013-06-01 00:00:00\",\n        \"max\": \"2015-06-29 00:00:00\",\n        \"num_unique_values\": 425,\n        \"samples\": [\n          \"2015-06-18 00:00:00\",\n          \"2013-12-05 00:00:00\",\n          \"2014-04-21 00:00:00\"\n        ],\n        \"semantic_type\": \"\",\n        \"description\": \"\"\n      }\n    },\n    {\n      \"column\": \"price_sq_m\",\n      \"properties\": {\n        \"dtype\": \"number\",\n        \"std\": 45169.99283031548,\n        \"min\": 46163.6363636364,\n        \"max\": 285714.285714286,\n        \"num_unique_values\": 755,\n        \"samples\": [\n          264929.203539823,\n          97579.8333333333,\n          215254.237288136\n        ],\n        \"semantic_type\": \"\",\n        \"description\": \"\"\n      }\n    },\n    {\n      \"column\": \"material_monolit\",\n      \"properties\": {\n        \"dtype\": \"number\",\n        \"std\": 0,\n        \"min\": 0,\n        \"max\": 1,\n        \"num_unique_values\": 2,\n        \"samples\": [\n          1,\n          0\n        ],\n        \"semantic_type\": \"\",\n        \"description\": \"\"\n      }\n    },\n    {\n      \"column\": \"green_zone_part\",\n      \"properties\": {\n        \"dtype\": \"number\",\n        \"std\": 0.06402427792724108,\n        \"min\": 0.058543047,\n        \"max\": 0.297166335,\n        \"num_unique_values\": 8,\n        \"samples\": [\n          0.169625419,\n          0.133372781\n        ],\n        \"semantic_type\": \"\",\n        \"description\": \"\"\n      }\n    },\n    {\n      \"column\": \"industrial_part\",\n      \"properties\": {\n        \"dtype\": \"number\",\n        \"std\": 0.15169995665267602,\n        \"min\": 0.0,\n        \"max\": 0.371148999,\n        \"num_unique_values\": 8,\n        \"samples\": [\n          0.019508796,\n          0.309479124\n        ],\n        \"semantic_type\": \"\",\n        \"description\": \"\"\n      }\n    },\n    {\n      \"column\": \"ttk_km\",\n      \"properties\": {\n        \"dtype\": \"number\",\n        \"std\": 3.834470199358094,\n        \"min\": 0.110483486,\n        \"max\": 16.28523864,\n        \"num_unique_values\": 509,\n        \"samples\": [\n          15.97225298,\n          7.560277291\n        ],\n        \"semantic_type\": \"\",\n        \"description\": \"\"\n      }\n    },\n    {\n      \"column\": \"trc_count\",\n      \"properties\": {\n        \"dtype\": \"number\",\n        \"std\": 10,\n        \"min\": 7,\n        \"max\": 64,\n        \"num_unique_values\": 48,\n        \"samples\": [\n          41,\n          47\n        ],\n        \"semantic_type\": \"\",\n        \"description\": \"\"\n      }\n    },\n    {\n      \"column\": \"year\",\n      \"properties\": {\n        \"dtype\": \"int32\",\n        \"num_unique_values\": 3,\n        \"samples\": [\n          2013,\n          2014\n        ],\n        \"semantic_type\": \"\",\n        \"description\": \"\"\n      }\n    },\n    {\n      \"column\": \"month\",\n      \"properties\": {\n        \"dtype\": \"int32\",\n        \"num_unique_values\": 12,\n        \"samples\": [\n          4,\n          3\n        ],\n        \"semantic_type\": \"\",\n        \"description\": \"\"\n      }\n    },\n    {\n      \"column\": \"day\",\n      \"properties\": {\n        \"dtype\": \"int32\",\n        \"num_unique_values\": 31,\n        \"samples\": [\n          5,\n          23\n        ],\n        \"semantic_type\": \"\",\n        \"description\": \"\"\n      }\n    }\n  ]\n}"
            }
          },
          "metadata": {},
          "execution_count": 23
        }
      ]
    },
    {
      "cell_type": "code",
      "source": [
        "print(f'Среднее по price_sq_m:', df['price_sq_m'].mean())\n",
        "print(f'Медиана по price_sq_m:', df['price_sq_m'].median())\n",
        "print(f'Размах по price_sq_m:', df['price_sq_m'].max() - df['price_sq_m'].min())"
      ],
      "metadata": {
        "colab": {
          "base_uri": "https://localhost:8080/"
        },
        "id": "toQ2CngoA1TC",
        "outputId": "649e41fa-6405-47a2-80c9-bfb1e5aa4252"
      },
      "execution_count": 25,
      "outputs": [
        {
          "output_type": "stream",
          "name": "stdout",
          "text": [
            "Среднее по price_sq_m: 161803.23575207475\n",
            "Медиана по price_sq_m: 160526.315789474\n",
            "Размах по price_sq_m: 239550.64935064956\n"
          ]
        }
      ]
    },
    {
      "cell_type": "markdown",
      "source": [
        "Цены за квадратный метр в данных относительно стабильны, так как среднее и медиана близки друг к другу. Размах показывает широкий разброс цен, что может быть связано с различиями в характеристиках объектов (например, местоположение, тип здания)."
      ],
      "metadata": {
        "id": "yuuMZhEFBf2A"
      }
    },
    {
      "cell_type": "code",
      "source": [
        "print(f'Среднее по green_zone_part:', df['green_zone_part'].mean())\n",
        "print(f'Медиана по green_zone_part:', df['green_zone_part'].median())\n",
        "print(f'Размах по green_zone_part:', df['green_zone_part'].max() - df['green_zone_part'].min())"
      ],
      "metadata": {
        "colab": {
          "base_uri": "https://localhost:8080/"
        },
        "id": "12YczQEnBMcK",
        "outputId": "0c97f045-8489-4c7d-cb0a-8c2522f11335"
      },
      "execution_count": 26,
      "outputs": [
        {
          "output_type": "stream",
          "name": "stdout",
          "text": [
            "Среднее по green_zone_part: 0.11910600385082874\n",
            "Медиана по green_zone_part: 0.083809588\n",
            "Размах по green_zone_part: 0.238623288\n"
          ]
        }
      ]
    },
    {
      "cell_type": "markdown",
      "source": [
        "Распределение доли зеленой зоны, скорее всего, асимметрично, с уклоном в сторону районов с небольшой зеленой зоной, но с отдельными районами с большой долей зеленых территорий. Размах подтверждает разнообразие районов: они варьируются от почти лишенных зелени до достаточно зеленых. Разница между средним и медианой предполагает наличие нескольких \"зелёных\" районов, которые сильно поднимают среднее значение."
      ],
      "metadata": {
        "id": "Ye6Y5EqsB3GQ"
      }
    },
    {
      "cell_type": "code",
      "source": [
        "print(f'Среднее по industrial_part:', df['industrial_part'].mean())\n",
        "print(f'Медиана по industrial_part:', df['industrial_part'].median())\n",
        "print(f'Размах по industrial_part:', df['industrial_part'].max() - df['industrial_part'].min())"
      ],
      "metadata": {
        "colab": {
          "base_uri": "https://localhost:8080/"
        },
        "id": "HJN9h6izBs4C",
        "outputId": "134f466b-063b-4358-83d8-2b9b69dd07c6"
      },
      "execution_count": 27,
      "outputs": [
        {
          "output_type": "stream",
          "name": "stdout",
          "text": [
            "Среднее по industrial_part: 0.16045896894364642\n",
            "Медиана по industrial_part: 0.130617806\n",
            "Размах по industrial_part: 0.371148999\n"
          ]
        }
      ]
    },
    {
      "cell_type": "markdown",
      "source": [
        "Распределение асимметрично, с уклоном в сторону меньших значений (большинство районов имеют относительно небольшую долю промышленности, но есть некоторые районы с высокой долей). Большой размах указывает на значительное разнообразие: есть как районы практически без промышленности, так и районы с очень высокой концентрацией"
      ],
      "metadata": {
        "id": "xlxtJO3XCkdw"
      }
    },
    {
      "cell_type": "code",
      "source": [
        "print(f'Среднее по ttk_km:', df['ttk_km'].mean())\n",
        "print(f'Медиана по ttk_km:', df['ttk_km'].median())\n",
        "print(f'Размах по ttk_km:', df['ttk_km'].max() - df['ttk_km'].min())"
      ],
      "metadata": {
        "colab": {
          "base_uri": "https://localhost:8080/"
        },
        "id": "LOuP_rzMCfIl",
        "outputId": "8a34741c-b45b-4508-f22b-abdcfd46cbce"
      },
      "execution_count": 31,
      "outputs": [
        {
          "output_type": "stream",
          "name": "stdout",
          "text": [
            "Среднее по ttk_km: 8.61755450319558\n",
            "Медиана по ttk_km: 7.913335116\n",
            "Размах по ttk_km: 16.174755154\n"
          ]
        }
      ]
    },
    {
      "cell_type": "markdown",
      "source": [
        "Распределение расстояний несимметрично, с уклоном в сторону меньших значений (многие объекты находятся ближе к ТТК). Большой размах подчеркивает разнообразие объектов: включены как центральные, так и периферийные районы. Среднее значение может быть смещено вверх из-за нескольких удаленных объектов, поэтому медиана лучше отражает \"типичное\" расстояние"
      ],
      "metadata": {
        "id": "YkITr6r2C_Dd"
      }
    },
    {
      "cell_type": "code",
      "source": [
        "df['material_monolit'].mode()"
      ],
      "metadata": {
        "colab": {
          "base_uri": "https://localhost:8080/",
          "height": 115
        },
        "id": "qySrYZIABwS5",
        "outputId": "19ff8d56-39fc-43e1-8535-11089dc84af9"
      },
      "execution_count": 29,
      "outputs": [
        {
          "output_type": "execute_result",
          "data": {
            "text/plain": [
              "0    0\n",
              "Name: material_monolit, dtype: int64"
            ],
            "text/html": [
              "<div>\n",
              "<style scoped>\n",
              "    .dataframe tbody tr th:only-of-type {\n",
              "        vertical-align: middle;\n",
              "    }\n",
              "\n",
              "    .dataframe tbody tr th {\n",
              "        vertical-align: top;\n",
              "    }\n",
              "\n",
              "    .dataframe thead th {\n",
              "        text-align: right;\n",
              "    }\n",
              "</style>\n",
              "<table border=\"1\" class=\"dataframe\">\n",
              "  <thead>\n",
              "    <tr style=\"text-align: right;\">\n",
              "      <th></th>\n",
              "      <th>material_monolit</th>\n",
              "    </tr>\n",
              "  </thead>\n",
              "  <tbody>\n",
              "    <tr>\n",
              "      <th>0</th>\n",
              "      <td>0</td>\n",
              "    </tr>\n",
              "  </tbody>\n",
              "</table>\n",
              "</div><br><label><b>dtype:</b> int64</label>"
            ]
          },
          "metadata": {},
          "execution_count": 29
        }
      ]
    },
    {
      "cell_type": "code",
      "source": [
        "df['material_monolit'].value_counts()"
      ],
      "metadata": {
        "colab": {
          "base_uri": "https://localhost:8080/",
          "height": 178
        },
        "id": "ikw3YwoWCY8O",
        "outputId": "c6905471-a5c8-4c6a-c9c2-d2d76aefc3fc"
      },
      "execution_count": 30,
      "outputs": [
        {
          "output_type": "execute_result",
          "data": {
            "text/plain": [
              "material_monolit\n",
              "0    851\n",
              "1     54\n",
              "Name: count, dtype: int64"
            ],
            "text/html": [
              "<div>\n",
              "<style scoped>\n",
              "    .dataframe tbody tr th:only-of-type {\n",
              "        vertical-align: middle;\n",
              "    }\n",
              "\n",
              "    .dataframe tbody tr th {\n",
              "        vertical-align: top;\n",
              "    }\n",
              "\n",
              "    .dataframe thead th {\n",
              "        text-align: right;\n",
              "    }\n",
              "</style>\n",
              "<table border=\"1\" class=\"dataframe\">\n",
              "  <thead>\n",
              "    <tr style=\"text-align: right;\">\n",
              "      <th></th>\n",
              "      <th>count</th>\n",
              "    </tr>\n",
              "    <tr>\n",
              "      <th>material_monolit</th>\n",
              "      <th></th>\n",
              "    </tr>\n",
              "  </thead>\n",
              "  <tbody>\n",
              "    <tr>\n",
              "      <th>0</th>\n",
              "      <td>851</td>\n",
              "    </tr>\n",
              "    <tr>\n",
              "      <th>1</th>\n",
              "      <td>54</td>\n",
              "    </tr>\n",
              "  </tbody>\n",
              "</table>\n",
              "</div><br><label><b>dtype:</b> int64</label>"
            ]
          },
          "metadata": {},
          "execution_count": 30
        }
      ]
    },
    {
      "cell_type": "markdown",
      "source": [
        "Чаще всего встречаются не монолитные дома"
      ],
      "metadata": {
        "id": "pYPTlTgTCSfb"
      }
    },
    {
      "cell_type": "code",
      "source": [
        "print(f'Среднее по trc_count:', df['trc_count'].mean())\n",
        "print(f'Медиана по trc_count:', df['trc_count'].median())\n",
        "print(f'Мода по trc_count:', df['trc_count'].mode()[0])"
      ],
      "metadata": {
        "colab": {
          "base_uri": "https://localhost:8080/"
        },
        "id": "Nb8f6RCvCQRa",
        "outputId": "86c97b92-8e3e-4943-cfc6-d5621c364df3"
      },
      "execution_count": 32,
      "outputs": [
        {
          "output_type": "stream",
          "name": "stdout",
          "text": [
            "Среднее по trc_count: 25.678453038674032\n",
            "Медиана по trc_count: 27.0\n",
            "Мода по trc_count: 15\n"
          ]
        }
      ]
    },
    {
      "cell_type": "code",
      "source": [
        "df['year'].mode()[0]"
      ],
      "metadata": {
        "colab": {
          "base_uri": "https://localhost:8080/"
        },
        "id": "8r9LqzcGDErH",
        "outputId": "eacf1aca-094f-4f4a-de47-11e5fbaf84a6"
      },
      "execution_count": 33,
      "outputs": [
        {
          "output_type": "execute_result",
          "data": {
            "text/plain": [
              "2014"
            ]
          },
          "metadata": {},
          "execution_count": 33
        }
      ]
    },
    {
      "cell_type": "code",
      "source": [
        "df['year'].value_counts()"
      ],
      "metadata": {
        "colab": {
          "base_uri": "https://localhost:8080/",
          "height": 210
        },
        "id": "ReQ_bJmbDLgT",
        "outputId": "1815d7d2-0264-4d21-b7ef-4ab95a55e857"
      },
      "execution_count": 35,
      "outputs": [
        {
          "output_type": "execute_result",
          "data": {
            "text/plain": [
              "year\n",
              "2014    589\n",
              "2013    165\n",
              "2015    151\n",
              "Name: count, dtype: int64"
            ],
            "text/html": [
              "<div>\n",
              "<style scoped>\n",
              "    .dataframe tbody tr th:only-of-type {\n",
              "        vertical-align: middle;\n",
              "    }\n",
              "\n",
              "    .dataframe tbody tr th {\n",
              "        vertical-align: top;\n",
              "    }\n",
              "\n",
              "    .dataframe thead th {\n",
              "        text-align: right;\n",
              "    }\n",
              "</style>\n",
              "<table border=\"1\" class=\"dataframe\">\n",
              "  <thead>\n",
              "    <tr style=\"text-align: right;\">\n",
              "      <th></th>\n",
              "      <th>count</th>\n",
              "    </tr>\n",
              "    <tr>\n",
              "      <th>year</th>\n",
              "      <th></th>\n",
              "    </tr>\n",
              "  </thead>\n",
              "  <tbody>\n",
              "    <tr>\n",
              "      <th>2014</th>\n",
              "      <td>589</td>\n",
              "    </tr>\n",
              "    <tr>\n",
              "      <th>2013</th>\n",
              "      <td>165</td>\n",
              "    </tr>\n",
              "    <tr>\n",
              "      <th>2015</th>\n",
              "      <td>151</td>\n",
              "    </tr>\n",
              "  </tbody>\n",
              "</table>\n",
              "</div><br><label><b>dtype:</b> int64</label>"
            ]
          },
          "metadata": {},
          "execution_count": 35
        }
      ]
    },
    {
      "cell_type": "code",
      "source": [
        "df['month'].mode()[0]"
      ],
      "metadata": {
        "colab": {
          "base_uri": "https://localhost:8080/"
        },
        "id": "Pekr2GCCC4qN",
        "outputId": "57578d2c-2927-44aa-b632-7b7637ef4f0c"
      },
      "execution_count": 34,
      "outputs": [
        {
          "output_type": "execute_result",
          "data": {
            "text/plain": [
              "4"
            ]
          },
          "metadata": {},
          "execution_count": 34
        }
      ]
    },
    {
      "cell_type": "code",
      "source": [
        "df['month'].value_counts()"
      ],
      "metadata": {
        "colab": {
          "base_uri": "https://localhost:8080/",
          "height": 492
        },
        "id": "W9xSF88zDOaT",
        "outputId": "2e5008cc-22fe-46b3-d42e-2725ef6e7e8a"
      },
      "execution_count": 36,
      "outputs": [
        {
          "output_type": "execute_result",
          "data": {
            "text/plain": [
              "month\n",
              "4     117\n",
              "12    116\n",
              "11     85\n",
              "5      85\n",
              "2      84\n",
              "6      83\n",
              "3      80\n",
              "10     63\n",
              "1      55\n",
              "9      54\n",
              "8      49\n",
              "7      34\n",
              "Name: count, dtype: int64"
            ],
            "text/html": [
              "<div>\n",
              "<style scoped>\n",
              "    .dataframe tbody tr th:only-of-type {\n",
              "        vertical-align: middle;\n",
              "    }\n",
              "\n",
              "    .dataframe tbody tr th {\n",
              "        vertical-align: top;\n",
              "    }\n",
              "\n",
              "    .dataframe thead th {\n",
              "        text-align: right;\n",
              "    }\n",
              "</style>\n",
              "<table border=\"1\" class=\"dataframe\">\n",
              "  <thead>\n",
              "    <tr style=\"text-align: right;\">\n",
              "      <th></th>\n",
              "      <th>count</th>\n",
              "    </tr>\n",
              "    <tr>\n",
              "      <th>month</th>\n",
              "      <th></th>\n",
              "    </tr>\n",
              "  </thead>\n",
              "  <tbody>\n",
              "    <tr>\n",
              "      <th>4</th>\n",
              "      <td>117</td>\n",
              "    </tr>\n",
              "    <tr>\n",
              "      <th>12</th>\n",
              "      <td>116</td>\n",
              "    </tr>\n",
              "    <tr>\n",
              "      <th>11</th>\n",
              "      <td>85</td>\n",
              "    </tr>\n",
              "    <tr>\n",
              "      <th>5</th>\n",
              "      <td>85</td>\n",
              "    </tr>\n",
              "    <tr>\n",
              "      <th>2</th>\n",
              "      <td>84</td>\n",
              "    </tr>\n",
              "    <tr>\n",
              "      <th>6</th>\n",
              "      <td>83</td>\n",
              "    </tr>\n",
              "    <tr>\n",
              "      <th>3</th>\n",
              "      <td>80</td>\n",
              "    </tr>\n",
              "    <tr>\n",
              "      <th>10</th>\n",
              "      <td>63</td>\n",
              "    </tr>\n",
              "    <tr>\n",
              "      <th>1</th>\n",
              "      <td>55</td>\n",
              "    </tr>\n",
              "    <tr>\n",
              "      <th>9</th>\n",
              "      <td>54</td>\n",
              "    </tr>\n",
              "    <tr>\n",
              "      <th>8</th>\n",
              "      <td>49</td>\n",
              "    </tr>\n",
              "    <tr>\n",
              "      <th>7</th>\n",
              "      <td>34</td>\n",
              "    </tr>\n",
              "  </tbody>\n",
              "</table>\n",
              "</div><br><label><b>dtype:</b> int64</label>"
            ]
          },
          "metadata": {},
          "execution_count": 36
        }
      ]
    },
    {
      "cell_type": "code",
      "source": [
        "df['day'].mode()[0]"
      ],
      "metadata": {
        "colab": {
          "base_uri": "https://localhost:8080/"
        },
        "id": "M79GXpGkDJ_V",
        "outputId": "c8a87fa6-18f3-4c2d-92f8-c43bcc9fba6e"
      },
      "execution_count": 37,
      "outputs": [
        {
          "output_type": "execute_result",
          "data": {
            "text/plain": [
              "20"
            ]
          },
          "metadata": {},
          "execution_count": 37
        }
      ]
    },
    {
      "cell_type": "code",
      "source": [
        "df['day'].value_counts()"
      ],
      "metadata": {
        "colab": {
          "base_uri": "https://localhost:8080/",
          "height": 1000
        },
        "id": "bej-uBRfDSnY",
        "outputId": "f4e42f97-bab4-413f-cca2-1a34238df5fc"
      },
      "execution_count": 38,
      "outputs": [
        {
          "output_type": "execute_result",
          "data": {
            "text/plain": [
              "day\n",
              "20    44\n",
              "27    38\n",
              "18    36\n",
              "11    35\n",
              "25    34\n",
              "28    34\n",
              "23    34\n",
              "6     34\n",
              "17    33\n",
              "5     32\n",
              "24    32\n",
              "14    31\n",
              "22    31\n",
              "26    31\n",
              "30    31\n",
              "21    30\n",
              "9     30\n",
              "15    29\n",
              "2     29\n",
              "12    29\n",
              "4     27\n",
              "29    27\n",
              "8     26\n",
              "7     26\n",
              "16    25\n",
              "13    24\n",
              "10    23\n",
              "3     21\n",
              "19    20\n",
              "1     19\n",
              "31    10\n",
              "Name: count, dtype: int64"
            ],
            "text/html": [
              "<div>\n",
              "<style scoped>\n",
              "    .dataframe tbody tr th:only-of-type {\n",
              "        vertical-align: middle;\n",
              "    }\n",
              "\n",
              "    .dataframe tbody tr th {\n",
              "        vertical-align: top;\n",
              "    }\n",
              "\n",
              "    .dataframe thead th {\n",
              "        text-align: right;\n",
              "    }\n",
              "</style>\n",
              "<table border=\"1\" class=\"dataframe\">\n",
              "  <thead>\n",
              "    <tr style=\"text-align: right;\">\n",
              "      <th></th>\n",
              "      <th>count</th>\n",
              "    </tr>\n",
              "    <tr>\n",
              "      <th>day</th>\n",
              "      <th></th>\n",
              "    </tr>\n",
              "  </thead>\n",
              "  <tbody>\n",
              "    <tr>\n",
              "      <th>20</th>\n",
              "      <td>44</td>\n",
              "    </tr>\n",
              "    <tr>\n",
              "      <th>27</th>\n",
              "      <td>38</td>\n",
              "    </tr>\n",
              "    <tr>\n",
              "      <th>18</th>\n",
              "      <td>36</td>\n",
              "    </tr>\n",
              "    <tr>\n",
              "      <th>11</th>\n",
              "      <td>35</td>\n",
              "    </tr>\n",
              "    <tr>\n",
              "      <th>25</th>\n",
              "      <td>34</td>\n",
              "    </tr>\n",
              "    <tr>\n",
              "      <th>28</th>\n",
              "      <td>34</td>\n",
              "    </tr>\n",
              "    <tr>\n",
              "      <th>23</th>\n",
              "      <td>34</td>\n",
              "    </tr>\n",
              "    <tr>\n",
              "      <th>6</th>\n",
              "      <td>34</td>\n",
              "    </tr>\n",
              "    <tr>\n",
              "      <th>17</th>\n",
              "      <td>33</td>\n",
              "    </tr>\n",
              "    <tr>\n",
              "      <th>5</th>\n",
              "      <td>32</td>\n",
              "    </tr>\n",
              "    <tr>\n",
              "      <th>24</th>\n",
              "      <td>32</td>\n",
              "    </tr>\n",
              "    <tr>\n",
              "      <th>14</th>\n",
              "      <td>31</td>\n",
              "    </tr>\n",
              "    <tr>\n",
              "      <th>22</th>\n",
              "      <td>31</td>\n",
              "    </tr>\n",
              "    <tr>\n",
              "      <th>26</th>\n",
              "      <td>31</td>\n",
              "    </tr>\n",
              "    <tr>\n",
              "      <th>30</th>\n",
              "      <td>31</td>\n",
              "    </tr>\n",
              "    <tr>\n",
              "      <th>21</th>\n",
              "      <td>30</td>\n",
              "    </tr>\n",
              "    <tr>\n",
              "      <th>9</th>\n",
              "      <td>30</td>\n",
              "    </tr>\n",
              "    <tr>\n",
              "      <th>15</th>\n",
              "      <td>29</td>\n",
              "    </tr>\n",
              "    <tr>\n",
              "      <th>2</th>\n",
              "      <td>29</td>\n",
              "    </tr>\n",
              "    <tr>\n",
              "      <th>12</th>\n",
              "      <td>29</td>\n",
              "    </tr>\n",
              "    <tr>\n",
              "      <th>4</th>\n",
              "      <td>27</td>\n",
              "    </tr>\n",
              "    <tr>\n",
              "      <th>29</th>\n",
              "      <td>27</td>\n",
              "    </tr>\n",
              "    <tr>\n",
              "      <th>8</th>\n",
              "      <td>26</td>\n",
              "    </tr>\n",
              "    <tr>\n",
              "      <th>7</th>\n",
              "      <td>26</td>\n",
              "    </tr>\n",
              "    <tr>\n",
              "      <th>16</th>\n",
              "      <td>25</td>\n",
              "    </tr>\n",
              "    <tr>\n",
              "      <th>13</th>\n",
              "      <td>24</td>\n",
              "    </tr>\n",
              "    <tr>\n",
              "      <th>10</th>\n",
              "      <td>23</td>\n",
              "    </tr>\n",
              "    <tr>\n",
              "      <th>3</th>\n",
              "      <td>21</td>\n",
              "    </tr>\n",
              "    <tr>\n",
              "      <th>19</th>\n",
              "      <td>20</td>\n",
              "    </tr>\n",
              "    <tr>\n",
              "      <th>1</th>\n",
              "      <td>19</td>\n",
              "    </tr>\n",
              "    <tr>\n",
              "      <th>31</th>\n",
              "      <td>10</td>\n",
              "    </tr>\n",
              "  </tbody>\n",
              "</table>\n",
              "</div><br><label><b>dtype:</b> int64</label>"
            ]
          },
          "metadata": {},
          "execution_count": 38
        }
      ]
    }
  ]
}